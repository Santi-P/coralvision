{
  "nbformat": 4,
  "nbformat_minor": 0,
  "metadata": {
    "colab": {
      "name": "CoralVision.ipynb",
      "provenance": [],
      "collapsed_sections": [],
      "include_colab_link": true
    },
    "kernelspec": {
      "name": "python3",
      "display_name": "Python 3"
    },
    "language_info": {
      "name": "python"
    },
    "accelerator": "GPU"
  },
  "cells": [
    {
      "cell_type": "markdown",
      "metadata": {
        "id": "view-in-github",
        "colab_type": "text"
      },
      "source": [
        "<a href=\"https://colab.research.google.com/github/Santi-P/coralvision/blob/main/CoralVision.ipynb\" target=\"_parent\"><img src=\"https://colab.research.google.com/assets/colab-badge.svg\" alt=\"Open In Colab\"/></a>"
      ]
    },
    {
      "cell_type": "markdown",
      "source": [
        "#Coral Classification\n",
        "### Santi Pornavalai\n",
        "### CSE 455 Project Winter 2022"
      ],
      "metadata": {
        "id": "TgJAiIrw3E5I"
      }
    },
    {
      "cell_type": "code",
      "execution_count": 1,
      "metadata": {
        "id": "sQyGr1nvgyS_"
      },
      "outputs": [],
      "source": [
        "import os\n",
        "import numpy as np\n",
        "import torch\n",
        "import torch.utils.data\n",
        "from PIL import Image\n",
        "import matplotlib.pyplot as plt\n",
        "import pandas as pd\n",
        "from torchvision import transforms, io\n",
        "from torchvision.utils import save_image\n",
        "from tqdm import tqdm\n",
        "from torch.utils.data import DataLoader, Dataset, random_split\n",
        "import glob\n",
        "import torch.nn.functional as F\n",
        "import torch.nn as nn\n",
        "\n",
        "import torch.optim as optim\n",
        "from sklearn.metrics import classification_report, confusion_matrix\n",
        "import seaborn as sns"
      ]
    },
    {
      "cell_type": "code",
      "source": [
        "device = torch.device(\"cuda:0\" if torch.cuda.is_available() else \"cpu\")\n",
        "torch.manual_seed(0)\n",
        "print(\"Using device: \", device)"
      ],
      "metadata": {
        "id": "s1Q0zHCt3sPx",
        "colab": {
          "base_uri": "https://localhost:8080/"
        },
        "outputId": "b16f8032-8569-4db2-f275-b0129a4a642e"
      },
      "execution_count": 2,
      "outputs": [
        {
          "output_type": "stream",
          "name": "stdout",
          "text": [
            "Using device:  cuda:0\n"
          ]
        }
      ]
    },
    {
      "cell_type": "markdown",
      "source": [
        "Load the proprocessed Moorea Labeled Corals dataset from Googledrive"
      ],
      "metadata": {
        "id": "hzDPWu6n3SSx"
      }
    },
    {
      "cell_type": "code",
      "source": [
        "# Mount drive\n",
        "# Only for my data\n",
        "from google.colab import drive\n",
        "drive.mount('/content/drive')\n"
      ],
      "metadata": {
        "colab": {
          "base_uri": "https://localhost:8080/"
        },
        "id": "XMcuGK2YF4WU",
        "outputId": "7308e77f-f416-4dc5-e7f8-25bbf20389b9"
      },
      "execution_count": 3,
      "outputs": [
        {
          "output_type": "stream",
          "name": "stdout",
          "text": [
            "Mounted at /content/drive\n"
          ]
        }
      ]
    },
    {
      "cell_type": "code",
      "source": [
        "!wget -O coral_data.tar.gz 'https://www.dropbox.com/s/uz8np9m3jw2m6xf/coral_data.tar.gz?dl=0'"
      ],
      "metadata": {
        "colab": {
          "base_uri": "https://localhost:8080/"
        },
        "id": "jt3G1fTVqUzY",
        "outputId": "90b2219d-ba18-46d2-dd0e-d81fb63eb5b9"
      },
      "execution_count": 18,
      "outputs": [
        {
          "output_type": "stream",
          "name": "stdout",
          "text": [
            "--2022-03-15 03:40:48--  https://www.dropbox.com/s/uz8np9m3jw2m6xf/coral_data.tar.gz?dl=0\n",
            "Resolving www.dropbox.com (www.dropbox.com)... 162.125.1.18, 2620:100:6016:18::a27d:112\n",
            "Connecting to www.dropbox.com (www.dropbox.com)|162.125.1.18|:443... connected.\n",
            "HTTP request sent, awaiting response... 301 Moved Permanently\n",
            "Location: /s/raw/uz8np9m3jw2m6xf/coral_data.tar.gz [following]\n",
            "--2022-03-15 03:40:48--  https://www.dropbox.com/s/raw/uz8np9m3jw2m6xf/coral_data.tar.gz\n",
            "Reusing existing connection to www.dropbox.com:443.\n",
            "HTTP request sent, awaiting response... 302 Found\n",
            "Location: https://uc467cf80547f79bdcacb719c5fb.dl.dropboxusercontent.com/cd/0/inline/Bhf-HI-jQ_OqWoPW5-bOm0MisVNbNV7gdEv_J6Vuk7B4jX8Kz9WB2HyTcNIYbF2j7Rgx36jJQVMhEjMYo_V2Yvzt3K1Nt1_eWg47rLwlhXPav0DhWDHq-O7Zjgg_xd2VJdgIm26Rm121NFsv45vOT9l7Vj614V5BzfRimBJghmMgcg/file# [following]\n",
            "--2022-03-15 03:40:48--  https://uc467cf80547f79bdcacb719c5fb.dl.dropboxusercontent.com/cd/0/inline/Bhf-HI-jQ_OqWoPW5-bOm0MisVNbNV7gdEv_J6Vuk7B4jX8Kz9WB2HyTcNIYbF2j7Rgx36jJQVMhEjMYo_V2Yvzt3K1Nt1_eWg47rLwlhXPav0DhWDHq-O7Zjgg_xd2VJdgIm26Rm121NFsv45vOT9l7Vj614V5BzfRimBJghmMgcg/file\n",
            "Resolving uc467cf80547f79bdcacb719c5fb.dl.dropboxusercontent.com (uc467cf80547f79bdcacb719c5fb.dl.dropboxusercontent.com)... 162.125.1.15, 2620:100:6016:15::a27d:10f\n",
            "Connecting to uc467cf80547f79bdcacb719c5fb.dl.dropboxusercontent.com (uc467cf80547f79bdcacb719c5fb.dl.dropboxusercontent.com)|162.125.1.15|:443... connected.\n",
            "HTTP request sent, awaiting response... 302 Found\n",
            "Location: /cd/0/inline2/Bhd0mtCeIV_S64hy8fVKDuZGEzvdCQugLT21LMMZsUXtg54waoSa-G03q_ljOQXs6iE5-0_0KH1RDrZ-VetG722cOtFvvD2pRm8LoUfNhtzd3w6PIHeo6rlRr1S91LAM3mS_VzsEsZOI3zkoDPXrYN6gfzMqf0kR0_pU8dVCVBRFWAqdC8yUbPV7O20vUV8IdVO2hNsx4eunT7W-8lAJOO3KRuM1AVl3HThl48VmBaI6tUw9Acqym8Suw061tzQR5NwjGdjwWw1JqoMpysYDQZFWVq9LPjVUwcav1DBZKYu0NYsbCik9gAlAIDcukF7VgEzn2SdF9LJyoJn29K-N5nYxrQOwEzNqXPp7S5pbhGl8fglZqAa1pN7JBywW-SBDVv4PDrQPB4RGfk5xpsDMPok855ALU4N_HPZeVBkfYOaldg/file [following]\n",
            "--2022-03-15 03:40:49--  https://uc467cf80547f79bdcacb719c5fb.dl.dropboxusercontent.com/cd/0/inline2/Bhd0mtCeIV_S64hy8fVKDuZGEzvdCQugLT21LMMZsUXtg54waoSa-G03q_ljOQXs6iE5-0_0KH1RDrZ-VetG722cOtFvvD2pRm8LoUfNhtzd3w6PIHeo6rlRr1S91LAM3mS_VzsEsZOI3zkoDPXrYN6gfzMqf0kR0_pU8dVCVBRFWAqdC8yUbPV7O20vUV8IdVO2hNsx4eunT7W-8lAJOO3KRuM1AVl3HThl48VmBaI6tUw9Acqym8Suw061tzQR5NwjGdjwWw1JqoMpysYDQZFWVq9LPjVUwcav1DBZKYu0NYsbCik9gAlAIDcukF7VgEzn2SdF9LJyoJn29K-N5nYxrQOwEzNqXPp7S5pbhGl8fglZqAa1pN7JBywW-SBDVv4PDrQPB4RGfk5xpsDMPok855ALU4N_HPZeVBkfYOaldg/file\n",
            "Reusing existing connection to uc467cf80547f79bdcacb719c5fb.dl.dropboxusercontent.com:443.\n",
            "HTTP request sent, awaiting response... 200 OK\n",
            "Length: 685955848 (654M) [application/octet-stream]\n",
            "Saving to: ‘coral_data.tar.gz’\n",
            "\n",
            "coral_data.tar.gz   100%[===================>] 654.18M  38.7MB/s    in 17s     \n",
            "\n",
            "2022-03-15 03:41:07 (38.2 MB/s) - ‘coral_data.tar.gz’ saved [685955848/685955848]\n",
            "\n"
          ]
        }
      ]
    },
    {
      "cell_type": "code",
      "source": [
        "#Unzip data\n",
        "%%shell\n",
        "tar -xvf coral_data.tar.gz"
      ],
      "metadata": {
        "colab": {
          "base_uri": "https://localhost:8080/"
        },
        "id": "OrXmMdQ7gzwt",
        "outputId": "09736248-c8e4-4437-85fe-0d1948711a4f"
      },
      "execution_count": 19,
      "outputs": [
        {
          "output_type": "stream",
          "name": "stdout",
          "text": [
            "\u001b[1;30;43mStreaming output truncated to the last 5000 lines.\u001b[0m\n",
            "coral_patches_2009/12330.jpeg\n",
            "coral_patches_2009/4521.jpeg\n",
            "coral_patches_2009/63416.jpeg\n",
            "coral_patches_2009/48741.jpeg\n",
            "coral_patches_2009/59836.jpeg\n",
            "coral_patches_2009/44417.jpeg\n",
            "coral_patches_2009/58306.jpeg\n",
            "coral_patches_2009/69902.jpeg\n",
            "coral_patches_2009/14428.jpeg\n",
            "coral_patches_2009/8225.jpeg\n",
            "coral_patches_2009/5880.jpeg\n",
            "coral_patches_2009/44694.jpeg\n",
            "coral_patches_2009/24485.jpeg\n",
            "coral_patches_2009/50193.jpeg\n",
            "coral_patches_2009/32658.jpeg\n",
            "coral_patches_2009/37085.jpeg\n",
            "coral_patches_2009/55732.jpeg\n",
            "coral_patches_2009/71615.jpeg\n",
            "coral_patches_2009/64287.jpeg\n",
            "coral_patches_2009/14684.jpeg\n",
            "coral_patches_2009/26715.jpeg\n",
            "coral_patches_2009/42764.jpeg\n",
            "coral_patches_2009/70462.jpeg\n",
            "coral_patches_2009/7897.jpeg\n",
            "coral_patches_2009/64728.jpeg\n",
            "coral_patches_2009/3252.jpeg\n",
            "coral_patches_2009/3510.jpeg\n",
            "coral_patches_2009/61451.jpeg\n",
            "coral_patches_2009/33805.jpeg\n",
            "coral_patches_2009/13843.jpeg\n",
            "coral_patches_2009/17494.jpeg\n",
            "coral_patches_2009/46766.jpeg\n",
            "coral_patches_2009/36058.jpeg\n",
            "coral_patches_2009/33240.jpeg\n",
            "coral_patches_2009/21061.jpeg\n",
            "coral_patches_2009/51529.jpeg\n",
            "coral_patches_2009/29716.jpeg\n",
            "coral_patches_2009/25773.jpeg\n",
            "coral_patches_2009/69933.jpeg\n",
            "coral_patches_2009/2836.jpeg\n",
            "coral_patches_2009/9959.jpeg\n",
            "coral_patches_2009/17073.jpeg\n",
            "coral_patches_2009/3109.jpeg\n",
            "coral_patches_2009/15023.jpeg\n",
            "coral_patches_2009/62074.jpeg\n",
            "coral_patches_2009/12931.jpeg\n",
            "coral_patches_2009/61591.jpeg\n",
            "coral_patches_2009/1255.jpeg\n",
            "coral_patches_2009/18749.jpeg\n",
            "coral_patches_2009/26244.jpeg\n",
            "coral_patches_2009/45658.jpeg\n",
            "coral_patches_2009/7266.jpeg\n",
            "coral_patches_2009/34741.jpeg\n",
            "coral_patches_2009/66899.jpeg\n",
            "coral_patches_2009/40469.jpeg\n",
            "coral_patches_2009/4801.jpeg\n",
            "coral_patches_2009/39150.jpeg\n",
            "coral_patches_2009/31035.jpeg\n",
            "coral_patches_2009/40829.jpeg\n",
            "coral_patches_2009/8267.jpeg\n",
            "coral_patches_2009/61400.jpeg\n",
            "coral_patches_2009/34337.jpeg\n",
            "coral_patches_2009/61011.jpeg\n",
            "coral_patches_2009/10528.jpeg\n",
            "coral_patches_2009/17016.jpeg\n",
            "coral_patches_2009/50400.jpeg\n",
            "coral_patches_2009/5613.jpeg\n",
            "coral_patches_2009/15727.jpeg\n",
            "coral_patches_2009/17931.jpeg\n",
            "coral_patches_2009/22208.jpeg\n",
            "coral_patches_2009/18233.jpeg\n",
            "coral_patches_2009/30156.jpeg\n",
            "coral_patches_2009/27031.jpeg\n",
            "coral_patches_2009/63581.jpeg\n",
            "coral_patches_2009/24670.jpeg\n",
            "coral_patches_2009/53914.jpeg\n",
            "coral_patches_2009/34700.jpeg\n",
            "coral_patches_2009/42654.jpeg\n",
            "coral_patches_2009/41867.jpeg\n",
            "coral_patches_2009/62683.jpeg\n",
            "coral_patches_2009/27570.jpeg\n",
            "coral_patches_2009/53280.jpeg\n",
            "coral_patches_2009/49178.jpeg\n",
            "coral_patches_2009/63433.jpeg\n",
            "coral_patches_2009/41451.jpeg\n",
            "coral_patches_2009/44264.jpeg\n",
            "coral_patches_2009/35834.jpeg\n",
            "coral_patches_2009/60240.jpeg\n",
            "coral_patches_2009/36330.jpeg\n",
            "coral_patches_2009/19444.jpeg\n",
            "coral_patches_2009/26702.jpeg\n",
            "coral_patches_2009/3576.jpeg\n",
            "coral_patches_2009/42237.jpeg\n",
            "coral_patches_2009/37144.jpeg\n",
            "coral_patches_2009/9178.jpeg\n",
            "coral_patches_2009/59924.jpeg\n",
            "coral_patches_2009/1406.jpeg\n",
            "coral_patches_2009/57011.jpeg\n",
            "coral_patches_2009/38011.jpeg\n",
            "coral_patches_2009/69840.jpeg\n",
            "coral_patches_2009/30941.jpeg\n",
            "coral_patches_2009/33838.jpeg\n",
            "coral_patches_2009/36250.jpeg\n",
            "coral_patches_2009/49087.jpeg\n",
            "coral_patches_2009/24998.jpeg\n",
            "coral_patches_2009/6967.jpeg\n",
            "coral_patches_2009/40207.jpeg\n",
            "coral_patches_2009/64310.jpeg\n",
            "coral_patches_2009/11813.jpeg\n",
            "coral_patches_2009/9046.jpeg\n",
            "coral_patches_2009/39636.jpeg\n",
            "coral_patches_2009/62434.jpeg\n",
            "coral_patches_2009/20120.jpeg\n",
            "coral_patches_2009/31329.jpeg\n",
            "coral_patches_2009/48123.jpeg\n",
            "coral_patches_2009/6663.jpeg\n",
            "coral_patches_2009/17842.jpeg\n",
            "coral_patches_2009/39684.jpeg\n",
            "coral_patches_2009/24506.jpeg\n",
            "coral_patches_2009/69860.jpeg\n",
            "coral_patches_2009/40777.jpeg\n",
            "coral_patches_2009/28195.jpeg\n",
            "coral_patches_2009/22937.jpeg\n",
            "coral_patches_2009/28319.jpeg\n",
            "coral_patches_2009/39392.jpeg\n",
            "coral_patches_2009/66621.jpeg\n",
            "coral_patches_2009/25602.jpeg\n",
            "coral_patches_2009/47611.jpeg\n",
            "coral_patches_2009/28344.jpeg\n",
            "coral_patches_2009/51271.jpeg\n",
            "coral_patches_2009/16214.jpeg\n",
            "coral_patches_2009/9393.jpeg\n",
            "coral_patches_2009/21078.jpeg\n",
            "coral_patches_2009/59260.jpeg\n",
            "coral_patches_2009/12016.jpeg\n",
            "coral_patches_2009/50290.jpeg\n",
            "coral_patches_2009/29542.jpeg\n",
            "coral_patches_2009/22110.jpeg\n",
            "coral_patches_2009/50615.jpeg\n",
            "coral_patches_2009/62712.jpeg\n",
            "coral_patches_2009/51982.jpeg\n",
            "coral_patches_2009/40594.jpeg\n",
            "coral_patches_2009/40698.jpeg\n",
            "coral_patches_2009/4892.jpeg\n",
            "coral_patches_2009/40312.jpeg\n",
            "coral_patches_2009/22444.jpeg\n",
            "coral_patches_2009/19519.jpeg\n",
            "coral_patches_2009/70664.jpeg\n",
            "coral_patches_2009/35396.jpeg\n",
            "coral_patches_2009/47028.jpeg\n",
            "coral_patches_2009/52258.jpeg\n",
            "coral_patches_2009/58520.jpeg\n",
            "coral_patches_2009/68199.jpeg\n",
            "coral_patches_2009/7849.jpeg\n",
            "coral_patches_2009/57633.jpeg\n",
            "coral_patches_2009/42683.jpeg\n",
            "coral_patches_2009/17470.jpeg\n",
            "coral_patches_2009/44486.jpeg\n",
            "coral_patches_2009/38359.jpeg\n",
            "coral_patches_2009/39038.jpeg\n",
            "coral_patches_2009/36750.jpeg\n",
            "coral_patches_2009/13861.jpeg\n",
            "coral_patches_2009/9456.jpeg\n",
            "coral_patches_2009/14296.jpeg\n",
            "coral_patches_2009/678.jpeg\n",
            "coral_patches_2009/57219.jpeg\n",
            "coral_patches_2009/25765.jpeg\n",
            "coral_patches_2009/25587.jpeg\n",
            "coral_patches_2009/67810.jpeg\n",
            "coral_patches_2009/11188.jpeg\n",
            "coral_patches_2009/67433.jpeg\n",
            "coral_patches_2009/11659.jpeg\n",
            "coral_patches_2009/38190.jpeg\n",
            "coral_patches_2009/41850.jpeg\n",
            "coral_patches_2009/58683.jpeg\n",
            "coral_patches_2009/44324.jpeg\n",
            "coral_patches_2009/44463.jpeg\n",
            "coral_patches_2009/51202.jpeg\n",
            "coral_patches_2009/57677.jpeg\n",
            "coral_patches_2009/18751.jpeg\n",
            "coral_patches_2009/27394.jpeg\n",
            "coral_patches_2009/56716.jpeg\n",
            "coral_patches_2009/34999.jpeg\n",
            "coral_patches_2009/49873.jpeg\n",
            "coral_patches_2009/18845.jpeg\n",
            "coral_patches_2009/37839.jpeg\n",
            "coral_patches_2009/49847.jpeg\n",
            "coral_patches_2009/16338.jpeg\n",
            "coral_patches_2009/22649.jpeg\n",
            "coral_patches_2009/32909.jpeg\n",
            "coral_patches_2009/26127.jpeg\n",
            "coral_patches_2009/24262.jpeg\n",
            "coral_patches_2009/57934.jpeg\n",
            "coral_patches_2009/60611.jpeg\n",
            "coral_patches_2009/37805.jpeg\n",
            "coral_patches_2009/41445.jpeg\n",
            "coral_patches_2009/7235.jpeg\n",
            "coral_patches_2009/53829.jpeg\n",
            "coral_patches_2009/61429.jpeg\n",
            "coral_patches_2009/33494.jpeg\n",
            "coral_patches_2009/37664.jpeg\n",
            "coral_patches_2009/27962.jpeg\n",
            "coral_patches_2009/4854.jpeg\n",
            "coral_patches_2009/19125.jpeg\n",
            "coral_patches_2009/42369.jpeg\n",
            "coral_patches_2009/39139.jpeg\n",
            "coral_patches_2009/7980.jpeg\n",
            "coral_patches_2009/29473.jpeg\n",
            "coral_patches_2009/17237.jpeg\n",
            "coral_patches_2009/7640.jpeg\n",
            "coral_patches_2009/34699.jpeg\n",
            "coral_patches_2009/21806.jpeg\n",
            "coral_patches_2009/65625.jpeg\n",
            "coral_patches_2009/58967.jpeg\n",
            "coral_patches_2009/46522.jpeg\n",
            "coral_patches_2009/40420.jpeg\n",
            "coral_patches_2009/4313.jpeg\n",
            "coral_patches_2009/52885.jpeg\n",
            "coral_patches_2009/20616.jpeg\n",
            "coral_patches_2009/34516.jpeg\n",
            "coral_patches_2009/59982.jpeg\n",
            "coral_patches_2009/66817.jpeg\n",
            "coral_patches_2009/25660.jpeg\n",
            "coral_patches_2009/15658.jpeg\n",
            "coral_patches_2009/58917.jpeg\n",
            "coral_patches_2009/57962.jpeg\n",
            "coral_patches_2009/36270.jpeg\n",
            "coral_patches_2009/44226.jpeg\n",
            "coral_patches_2009/42657.jpeg\n",
            "coral_patches_2009/26568.jpeg\n",
            "coral_patches_2009/9449.jpeg\n",
            "coral_patches_2009/52384.jpeg\n",
            "coral_patches_2009/7325.jpeg\n",
            "coral_patches_2009/23496.jpeg\n",
            "coral_patches_2009/40729.jpeg\n",
            "coral_patches_2009/58271.jpeg\n",
            "coral_patches_2009/70073.jpeg\n",
            "coral_patches_2009/24158.jpeg\n",
            "coral_patches_2009/20880.jpeg\n",
            "coral_patches_2009/56731.jpeg\n",
            "coral_patches_2009/43577.jpeg\n",
            "coral_patches_2009/19876.jpeg\n",
            "coral_patches_2009/57264.jpeg\n",
            "coral_patches_2009/30053.jpeg\n",
            "coral_patches_2009/61053.jpeg\n",
            "coral_patches_2009/27282.jpeg\n",
            "coral_patches_2009/23386.jpeg\n",
            "coral_patches_2009/32801.jpeg\n",
            "coral_patches_2009/20374.jpeg\n",
            "coral_patches_2009/46662.jpeg\n",
            "coral_patches_2009/30002.jpeg\n",
            "coral_patches_2009/52055.jpeg\n",
            "coral_patches_2009/62993.jpeg\n",
            "coral_patches_2009/24453.jpeg\n",
            "coral_patches_2009/67335.jpeg\n",
            "coral_patches_2009/677.jpeg\n",
            "coral_patches_2009/20135.jpeg\n",
            "coral_patches_2009/65568.jpeg\n",
            "coral_patches_2009/44053.jpeg\n",
            "coral_patches_2009/55126.jpeg\n",
            "coral_patches_2009/60909.jpeg\n",
            "coral_patches_2009/9210.jpeg\n",
            "coral_patches_2009/7241.jpeg\n",
            "coral_patches_2009/56983.jpeg\n",
            "coral_patches_2009/19147.jpeg\n",
            "coral_patches_2009/48310.jpeg\n",
            "coral_patches_2009/22711.jpeg\n",
            "coral_patches_2009/59791.jpeg\n",
            "coral_patches_2009/61713.jpeg\n",
            "coral_patches_2009/60580.jpeg\n",
            "coral_patches_2009/19181.jpeg\n",
            "coral_patches_2009/13587.jpeg\n",
            "coral_patches_2009/4926.jpeg\n",
            "coral_patches_2009/42806.jpeg\n",
            "coral_patches_2009/4305.jpeg\n",
            "coral_patches_2009/61259.jpeg\n",
            "coral_patches_2009/54191.jpeg\n",
            "coral_patches_2009/30820.jpeg\n",
            "coral_patches_2009/56819.jpeg\n",
            "coral_patches_2009/23908.jpeg\n",
            "coral_patches_2009/71059.jpeg\n",
            "coral_patches_2009/14481.jpeg\n",
            "coral_patches_2009/47615.jpeg\n",
            "coral_patches_2009/38391.jpeg\n",
            "coral_patches_2009/3344.jpeg\n",
            "coral_patches_2009/25370.jpeg\n",
            "coral_patches_2009/488.jpeg\n",
            "coral_patches_2009/2714.jpeg\n",
            "coral_patches_2009/64573.jpeg\n",
            "coral_patches_2009/55171.jpeg\n",
            "coral_patches_2009/29996.jpeg\n",
            "coral_patches_2009/70284.jpeg\n",
            "coral_patches_2009/18849.jpeg\n",
            "coral_patches_2009/16635.jpeg\n",
            "coral_patches_2009/71114.jpeg\n",
            "coral_patches_2009/65227.jpeg\n",
            "coral_patches_2009/48858.jpeg\n",
            "coral_patches_2009/64176.jpeg\n",
            "coral_patches_2009/15884.jpeg\n",
            "coral_patches_2009/16273.jpeg\n",
            "coral_patches_2009/41485.jpeg\n",
            "coral_patches_2009/57872.jpeg\n",
            "coral_patches_2009/51434.jpeg\n",
            "coral_patches_2009/59753.jpeg\n",
            "coral_patches_2009/35751.jpeg\n",
            "coral_patches_2009/45963.jpeg\n",
            "coral_patches_2009/43527.jpeg\n",
            "coral_patches_2009/14700.jpeg\n",
            "coral_patches_2009/69290.jpeg\n",
            "coral_patches_2009/64546.jpeg\n",
            "coral_patches_2009/685.jpeg\n",
            "coral_patches_2009/70179.jpeg\n",
            "coral_patches_2009/63862.jpeg\n",
            "coral_patches_2009/27738.jpeg\n",
            "coral_patches_2009/54048.jpeg\n",
            "coral_patches_2009/52067.jpeg\n",
            "coral_patches_2009/36861.jpeg\n",
            "coral_patches_2009/44108.jpeg\n",
            "coral_patches_2009/13100.jpeg\n",
            "coral_patches_2009/40049.jpeg\n",
            "coral_patches_2009/38415.jpeg\n",
            "coral_patches_2009/39274.jpeg\n",
            "coral_patches_2009/34426.jpeg\n",
            "coral_patches_2009/53936.jpeg\n",
            "coral_patches_2009/24807.jpeg\n",
            "coral_patches_2009/38500.jpeg\n",
            "coral_patches_2009/11825.jpeg\n",
            "coral_patches_2009/2189.jpeg\n",
            "coral_patches_2009/35862.jpeg\n",
            "coral_patches_2009/9930.jpeg\n",
            "coral_patches_2009/48199.jpeg\n",
            "coral_patches_2009/41854.jpeg\n",
            "coral_patches_2009/100.jpeg\n",
            "coral_patches_2009/33010.jpeg\n",
            "coral_patches_2009/56837.jpeg\n",
            "coral_patches_2009/3864.jpeg\n",
            "coral_patches_2009/41783.jpeg\n",
            "coral_patches_2009/58439.jpeg\n",
            "coral_patches_2009/49203.jpeg\n",
            "coral_patches_2009/54353.jpeg\n",
            "coral_patches_2009/42979.jpeg\n",
            "coral_patches_2009/37620.jpeg\n",
            "coral_patches_2009/54976.jpeg\n",
            "coral_patches_2009/67150.jpeg\n",
            "coral_patches_2009/64804.jpeg\n",
            "coral_patches_2009/61570.jpeg\n",
            "coral_patches_2009/37926.jpeg\n",
            "coral_patches_2009/37405.jpeg\n",
            "coral_patches_2009/33724.jpeg\n",
            "coral_patches_2009/49496.jpeg\n",
            "coral_patches_2009/8551.jpeg\n",
            "coral_patches_2009/66378.jpeg\n",
            "coral_patches_2009/64775.jpeg\n",
            "coral_patches_2009/65370.jpeg\n",
            "coral_patches_2009/27138.jpeg\n",
            "coral_patches_2009/26755.jpeg\n",
            "coral_patches_2009/35326.jpeg\n",
            "coral_patches_2009/17638.jpeg\n",
            "coral_patches_2009/22709.jpeg\n",
            "coral_patches_2009/54784.jpeg\n",
            "coral_patches_2009/37618.jpeg\n",
            "coral_patches_2009/6545.jpeg\n",
            "coral_patches_2009/36889.jpeg\n",
            "coral_patches_2009/47109.jpeg\n",
            "coral_patches_2009/55755.jpeg\n",
            "coral_patches_2009/22958.jpeg\n",
            "coral_patches_2009/58498.jpeg\n",
            "coral_patches_2009/52781.jpeg\n",
            "coral_patches_2009/47242.jpeg\n",
            "coral_patches_2009/47106.jpeg\n",
            "coral_patches_2009/32284.jpeg\n",
            "coral_patches_2009/36049.jpeg\n",
            "coral_patches_2009/64255.jpeg\n",
            "coral_patches_2009/25146.jpeg\n",
            "coral_patches_2009/39653.jpeg\n",
            "coral_patches_2009/16627.jpeg\n",
            "coral_patches_2009/3493.jpeg\n",
            "coral_patches_2009/17740.jpeg\n",
            "coral_patches_2009/16038.jpeg\n",
            "coral_patches_2009/57460.jpeg\n",
            "coral_patches_2009/42027.jpeg\n",
            "coral_patches_2009/29887.jpeg\n",
            "coral_patches_2009/47065.jpeg\n",
            "coral_patches_2009/21649.jpeg\n",
            "coral_patches_2009/67859.jpeg\n",
            "coral_patches_2009/18728.jpeg\n",
            "coral_patches_2009/16979.jpeg\n",
            "coral_patches_2009/28790.jpeg\n",
            "coral_patches_2009/26354.jpeg\n",
            "coral_patches_2009/52269.jpeg\n",
            "coral_patches_2009/7063.jpeg\n",
            "coral_patches_2009/60432.jpeg\n",
            "coral_patches_2009/60750.jpeg\n",
            "coral_patches_2009/52441.jpeg\n",
            "coral_patches_2009/60445.jpeg\n",
            "coral_patches_2009/61308.jpeg\n",
            "coral_patches_2009/12995.jpeg\n",
            "coral_patches_2009/44020.jpeg\n",
            "coral_patches_2009/8084.jpeg\n",
            "coral_patches_2009/57499.jpeg\n",
            "coral_patches_2009/46274.jpeg\n",
            "coral_patches_2009/9305.jpeg\n",
            "coral_patches_2009/14447.jpeg\n",
            "coral_patches_2009/38227.jpeg\n",
            "coral_patches_2009/32337.jpeg\n",
            "coral_patches_2009/33009.jpeg\n",
            "coral_patches_2009/26250.jpeg\n",
            "coral_patches_2009/52068.jpeg\n",
            "coral_patches_2009/4907.jpeg\n",
            "coral_patches_2009/21077.jpeg\n",
            "coral_patches_2009/11701.jpeg\n",
            "coral_patches_2009/13822.jpeg\n",
            "coral_patches_2009/41255.jpeg\n",
            "coral_patches_2009/8911.jpeg\n",
            "coral_patches_2009/45024.jpeg\n",
            "coral_patches_2009/35060.jpeg\n",
            "coral_patches_2009/18998.jpeg\n",
            "coral_patches_2009/53237.jpeg\n",
            "coral_patches_2009/68746.jpeg\n",
            "coral_patches_2009/60881.jpeg\n",
            "coral_patches_2009/981.jpeg\n",
            "coral_patches_2009/57068.jpeg\n",
            "coral_patches_2009/57777.jpeg\n",
            "coral_patches_2009/15118.jpeg\n",
            "coral_patches_2009/50567.jpeg\n",
            "coral_patches_2009/50148.jpeg\n",
            "coral_patches_2009/44791.jpeg\n",
            "coral_patches_2009/21320.jpeg\n",
            "coral_patches_2009/6676.jpeg\n",
            "coral_patches_2009/46712.jpeg\n",
            "coral_patches_2009/61334.jpeg\n",
            "coral_patches_2009/13643.jpeg\n",
            "coral_patches_2009/35571.jpeg\n",
            "coral_patches_2009/39240.jpeg\n",
            "coral_patches_2009/54071.jpeg\n",
            "coral_patches_2009/5424.jpeg\n",
            "coral_patches_2009/5718.jpeg\n",
            "coral_patches_2009/61781.jpeg\n",
            "coral_patches_2009/63399.jpeg\n",
            "coral_patches_2009/12923.jpeg\n",
            "coral_patches_2009/3747.jpeg\n",
            "coral_patches_2009/47083.jpeg\n",
            "coral_patches_2009/31204.jpeg\n",
            "coral_patches_2009/51890.jpeg\n",
            "coral_patches_2009/54251.jpeg\n",
            "coral_patches_2009/71313.jpeg\n",
            "coral_patches_2009/40429.jpeg\n",
            "coral_patches_2009/11058.jpeg\n",
            "coral_patches_2009/61183.jpeg\n",
            "coral_patches_2009/35833.jpeg\n",
            "coral_patches_2009/23741.jpeg\n",
            "coral_patches_2009/17909.jpeg\n",
            "coral_patches_2009/44434.jpeg\n",
            "coral_patches_2009/64826.jpeg\n",
            "coral_patches_2009/21162.jpeg\n",
            "coral_patches_2009/59956.jpeg\n",
            "coral_patches_2009/32896.jpeg\n",
            "coral_patches_2009/23567.jpeg\n",
            "coral_patches_2009/69064.jpeg\n",
            "coral_patches_2009/41073.jpeg\n",
            "coral_patches_2009/12684.jpeg\n",
            "coral_patches_2009/2144.jpeg\n",
            "coral_patches_2009/53351.jpeg\n",
            "coral_patches_2009/69604.jpeg\n",
            "coral_patches_2009/4512.jpeg\n",
            "coral_patches_2009/26876.jpeg\n",
            "coral_patches_2009/51643.jpeg\n",
            "coral_patches_2009/65855.jpeg\n",
            "coral_patches_2009/20307.jpeg\n",
            "coral_patches_2009/18438.jpeg\n",
            "coral_patches_2009/6356.jpeg\n",
            "coral_patches_2009/51626.jpeg\n",
            "coral_patches_2009/71414.jpeg\n",
            "coral_patches_2009/44862.jpeg\n",
            "coral_patches_2009/7707.jpeg\n",
            "coral_patches_2009/32080.jpeg\n",
            "coral_patches_2009/15266.jpeg\n",
            "coral_patches_2009/18578.jpeg\n",
            "coral_patches_2009/39179.jpeg\n",
            "coral_patches_2009/5606.jpeg\n",
            "coral_patches_2009/36795.jpeg\n",
            "coral_patches_2009/55676.jpeg\n",
            "coral_patches_2009/68014.jpeg\n",
            "coral_patches_2009/11043.jpeg\n",
            "coral_patches_2009/43749.jpeg\n",
            "coral_patches_2009/16876.jpeg\n",
            "coral_patches_2009/2736.jpeg\n",
            "coral_patches_2009/19154.jpeg\n",
            "coral_patches_2009/193.jpeg\n",
            "coral_patches_2009/24258.jpeg\n",
            "coral_patches_2009/34906.jpeg\n",
            "coral_patches_2009/46700.jpeg\n",
            "coral_patches_2009/61242.jpeg\n",
            "coral_patches_2009/7676.jpeg\n",
            "coral_patches_2009/19190.jpeg\n",
            "coral_patches_2009/36858.jpeg\n",
            "coral_patches_2009/36318.jpeg\n",
            "coral_patches_2009/3485.jpeg\n",
            "coral_patches_2009/36446.jpeg\n",
            "coral_patches_2009/22776.jpeg\n",
            "coral_patches_2009/63835.jpeg\n",
            "coral_patches_2009/65046.jpeg\n",
            "coral_patches_2009/45315.jpeg\n",
            "coral_patches_2009/67826.jpeg\n",
            "coral_patches_2009/67402.jpeg\n",
            "coral_patches_2009/47505.jpeg\n",
            "coral_patches_2009/35437.jpeg\n",
            "coral_patches_2009/13396.jpeg\n",
            "coral_patches_2009/16192.jpeg\n",
            "coral_patches_2009/33302.jpeg\n",
            "coral_patches_2009/48687.jpeg\n",
            "coral_patches_2009/60532.jpeg\n",
            "coral_patches_2009/12230.jpeg\n",
            "coral_patches_2009/5200.jpeg\n",
            "coral_patches_2009/46395.jpeg\n",
            "coral_patches_2009/7447.jpeg\n",
            "coral_patches_2009/63307.jpeg\n",
            "coral_patches_2009/52841.jpeg\n",
            "coral_patches_2009/467.jpeg\n",
            "coral_patches_2009/16034.jpeg\n",
            "coral_patches_2009/4820.jpeg\n",
            "coral_patches_2009/38106.jpeg\n",
            "coral_patches_2009/18891.jpeg\n",
            "coral_patches_2009/7061.jpeg\n",
            "coral_patches_2009/27566.jpeg\n",
            "coral_patches_2009/69510.jpeg\n",
            "coral_patches_2009/33439.jpeg\n",
            "coral_patches_2009/19205.jpeg\n",
            "coral_patches_2009/37162.jpeg\n",
            "coral_patches_2009/51629.jpeg\n",
            "coral_patches_2009/24087.jpeg\n",
            "coral_patches_2009/19305.jpeg\n",
            "coral_patches_2009/13549.jpeg\n",
            "coral_patches_2009/26068.jpeg\n",
            "coral_patches_2009/67973.jpeg\n",
            "coral_patches_2009/7353.jpeg\n",
            "coral_patches_2009/2852.jpeg\n",
            "coral_patches_2009/3127.jpeg\n",
            "coral_patches_2009/57824.jpeg\n",
            "coral_patches_2009/41679.jpeg\n",
            "coral_patches_2009/46771.jpeg\n",
            "coral_patches_2009/69021.jpeg\n",
            "coral_patches_2009/33263.jpeg\n",
            "coral_patches_2009/59888.jpeg\n",
            "coral_patches_2009/70071.jpeg\n",
            "coral_patches_2009/9231.jpeg\n",
            "coral_patches_2009/53326.jpeg\n",
            "coral_patches_2009/34911.jpeg\n",
            "coral_patches_2009/65475.jpeg\n",
            "coral_patches_2009/55086.jpeg\n",
            "coral_patches_2009/67714.jpeg\n",
            "coral_patches_2009/66767.jpeg\n",
            "coral_patches_2009/58834.jpeg\n",
            "coral_patches_2009/32121.jpeg\n",
            "coral_patches_2009/63630.jpeg\n",
            "coral_patches_2009/56510.jpeg\n",
            "coral_patches_2009/46779.jpeg\n",
            "coral_patches_2009/790.jpeg\n",
            "coral_patches_2009/11435.jpeg\n",
            "coral_patches_2009/7766.jpeg\n",
            "coral_patches_2009/60334.jpeg\n",
            "coral_patches_2009/44107.jpeg\n",
            "coral_patches_2009/52697.jpeg\n",
            "coral_patches_2009/7733.jpeg\n",
            "coral_patches_2009/60514.jpeg\n",
            "coral_patches_2009/12260.jpeg\n",
            "coral_patches_2009/58208.jpeg\n",
            "coral_patches_2009/31315.jpeg\n",
            "coral_patches_2009/69506.jpeg\n",
            "coral_patches_2009/42593.jpeg\n",
            "coral_patches_2009/70012.jpeg\n",
            "coral_patches_2009/25994.jpeg\n",
            "coral_patches_2009/50047.jpeg\n",
            "coral_patches_2009/16308.jpeg\n",
            "coral_patches_2009/5794.jpeg\n",
            "coral_patches_2009/1738.jpeg\n",
            "coral_patches_2009/67991.jpeg\n",
            "coral_patches_2009/20951.jpeg\n",
            "coral_patches_2009/71049.jpeg\n",
            "coral_patches_2009/9537.jpeg\n",
            "coral_patches_2009/66744.jpeg\n",
            "coral_patches_2009/23239.jpeg\n",
            "coral_patches_2009/916.jpeg\n",
            "coral_patches_2009/4811.jpeg\n",
            "coral_patches_2009/40470.jpeg\n",
            "coral_patches_2009/66630.jpeg\n",
            "coral_patches_2009/43227.jpeg\n",
            "coral_patches_2009/15365.jpeg\n",
            "coral_patches_2009/29418.jpeg\n",
            "coral_patches_2009/39189.jpeg\n",
            "coral_patches_2009/62088.jpeg\n",
            "coral_patches_2009/19383.jpeg\n",
            "coral_patches_2009/70999.jpeg\n",
            "coral_patches_2009/64621.jpeg\n",
            "coral_patches_2009/51399.jpeg\n",
            "coral_patches_2009/5618.jpeg\n",
            "coral_patches_2009/5185.jpeg\n",
            "coral_patches_2009/34165.jpeg\n",
            "coral_patches_2009/10795.jpeg\n",
            "coral_patches_2009/66411.jpeg\n",
            "coral_patches_2009/50574.jpeg\n",
            "coral_patches_2009/34865.jpeg\n",
            "coral_patches_2009/42856.jpeg\n",
            "coral_patches_2009/51876.jpeg\n",
            "coral_patches_2009/11922.jpeg\n",
            "coral_patches_2009/62635.jpeg\n",
            "coral_patches_2009/68179.jpeg\n",
            "coral_patches_2009/47306.jpeg\n",
            "coral_patches_2009/37604.jpeg\n",
            "coral_patches_2009/39127.jpeg\n",
            "coral_patches_2009/45723.jpeg\n",
            "coral_patches_2009/30553.jpeg\n",
            "coral_patches_2009/58734.jpeg\n",
            "coral_patches_2009/51676.jpeg\n",
            "coral_patches_2009/3161.jpeg\n",
            "coral_patches_2009/29587.jpeg\n",
            "coral_patches_2009/48456.jpeg\n",
            "coral_patches_2009/17851.jpeg\n",
            "coral_patches_2009/22031.jpeg\n",
            "coral_patches_2009/26671.jpeg\n",
            "coral_patches_2009/67853.jpeg\n",
            "coral_patches_2009/25394.jpeg\n",
            "coral_patches_2009/36686.jpeg\n",
            "coral_patches_2009/58426.jpeg\n",
            "coral_patches_2009/37296.jpeg\n",
            "coral_patches_2009/31787.jpeg\n",
            "coral_patches_2009/69298.jpeg\n",
            "coral_patches_2009/16986.jpeg\n",
            "coral_patches_2009/60770.jpeg\n",
            "coral_patches_2009/12544.jpeg\n",
            "coral_patches_2009/20981.jpeg\n",
            "coral_patches_2009/61826.jpeg\n",
            "coral_patches_2009/4168.jpeg\n",
            "coral_patches_2009/47183.jpeg\n",
            "coral_patches_2009/49419.jpeg\n",
            "coral_patches_2009/61004.jpeg\n",
            "coral_patches_2009/46154.jpeg\n",
            "coral_patches_2009/63592.jpeg\n",
            "coral_patches_2009/63676.jpeg\n",
            "coral_patches_2009/55376.jpeg\n",
            "coral_patches_2009/53021.jpeg\n",
            "coral_patches_2009/2268.jpeg\n",
            "coral_patches_2009/56634.jpeg\n",
            "coral_patches_2009/49020.jpeg\n",
            "coral_patches_2009/27283.jpeg\n",
            "coral_patches_2009/46650.jpeg\n",
            "coral_patches_2009/35102.jpeg\n",
            "coral_patches_2009/52139.jpeg\n",
            "coral_patches_2009/69925.jpeg\n",
            "coral_patches_2009/48566.jpeg\n",
            "coral_patches_2009/22519.jpeg\n",
            "coral_patches_2009/40265.jpeg\n",
            "coral_patches_2009/14910.jpeg\n",
            "coral_patches_2009/47803.jpeg\n",
            "coral_patches_2009/58555.jpeg\n",
            "coral_patches_2009/49558.jpeg\n",
            "coral_patches_2009/20681.jpeg\n",
            "coral_patches_2009/61724.jpeg\n",
            "coral_patches_2009/63192.jpeg\n",
            "coral_patches_2009/17453.jpeg\n",
            "coral_patches_2009/34409.jpeg\n",
            "coral_patches_2009/62561.jpeg\n",
            "coral_patches_2009/15786.jpeg\n",
            "coral_patches_2009/15250.jpeg\n",
            "coral_patches_2009/71281.jpeg\n",
            "coral_patches_2009/39991.jpeg\n",
            "coral_patches_2009/63272.jpeg\n",
            "coral_patches_2009/10135.jpeg\n",
            "coral_patches_2009/17905.jpeg\n",
            "coral_patches_2009/49620.jpeg\n",
            "coral_patches_2009/25848.jpeg\n",
            "coral_patches_2009/20794.jpeg\n",
            "coral_patches_2009/65515.jpeg\n",
            "coral_patches_2009/33295.jpeg\n",
            "coral_patches_2009/66030.jpeg\n",
            "coral_patches_2009/38937.jpeg\n",
            "coral_patches_2009/42663.jpeg\n",
            "coral_patches_2009/5724.jpeg\n",
            "coral_patches_2009/27163.jpeg\n",
            "coral_patches_2009/14829.jpeg\n",
            "coral_patches_2009/63933.jpeg\n",
            "coral_patches_2009/20591.jpeg\n",
            "coral_patches_2009/68429.jpeg\n",
            "coral_patches_2009/25323.jpeg\n",
            "coral_patches_2009/40222.jpeg\n",
            "coral_patches_2009/44395.jpeg\n",
            "coral_patches_2009/37351.jpeg\n",
            "coral_patches_2009/27075.jpeg\n",
            "coral_patches_2009/14919.jpeg\n",
            "coral_patches_2009/43795.jpeg\n",
            "coral_patches_2009/14130.jpeg\n",
            "coral_patches_2009/12540.jpeg\n",
            "coral_patches_2009/223.jpeg\n",
            "coral_patches_2009/46173.jpeg\n",
            "coral_patches_2009/23579.jpeg\n",
            "coral_patches_2009/60277.jpeg\n",
            "coral_patches_2009/25160.jpeg\n",
            "coral_patches_2009/58402.jpeg\n",
            "coral_patches_2009/8079.jpeg\n",
            "coral_patches_2009/29061.jpeg\n",
            "coral_patches_2009/49947.jpeg\n",
            "coral_patches_2009/62751.jpeg\n",
            "coral_patches_2009/24070.jpeg\n",
            "coral_patches_2009/39101.jpeg\n",
            "coral_patches_2009/12595.jpeg\n",
            "coral_patches_2009/62474.jpeg\n",
            "coral_patches_2009/4335.jpeg\n",
            "coral_patches_2009/67965.jpeg\n",
            "coral_patches_2009/18559.jpeg\n",
            "coral_patches_2009/50724.jpeg\n",
            "coral_patches_2009/3207.jpeg\n",
            "coral_patches_2009/62880.jpeg\n",
            "coral_patches_2009/23456.jpeg\n",
            "coral_patches_2009/35624.jpeg\n",
            "coral_patches_2009/7169.jpeg\n",
            "coral_patches_2009/57352.jpeg\n",
            "coral_patches_2009/22996.jpeg\n",
            "coral_patches_2009/68520.jpeg\n",
            "coral_patches_2009/2575.jpeg\n",
            "coral_patches_2009/34832.jpeg\n",
            "coral_patches_2009/14811.jpeg\n",
            "coral_patches_2009/56728.jpeg\n",
            "coral_patches_2009/44441.jpeg\n",
            "coral_patches_2009/58222.jpeg\n",
            "coral_patches_2009/19021.jpeg\n",
            "coral_patches_2009/55569.jpeg\n",
            "coral_patches_2009/64718.jpeg\n",
            "coral_patches_2009/40386.jpeg\n",
            "coral_patches_2009/27698.jpeg\n",
            "coral_patches_2009/53184.jpeg\n",
            "coral_patches_2009/9177.jpeg\n",
            "coral_patches_2009/27760.jpeg\n",
            "coral_patches_2009/42586.jpeg\n",
            "coral_patches_2009/61355.jpeg\n",
            "coral_patches_2009/22506.jpeg\n",
            "coral_patches_2009/27413.jpeg\n",
            "coral_patches_2009/21415.jpeg\n",
            "coral_patches_2009/38443.jpeg\n",
            "coral_patches_2009/45544.jpeg\n",
            "coral_patches_2009/65892.jpeg\n",
            "coral_patches_2009/22167.jpeg\n",
            "coral_patches_2009/57030.jpeg\n",
            "coral_patches_2009/33758.jpeg\n",
            "coral_patches_2009/44290.jpeg\n",
            "coral_patches_2009/874.jpeg\n",
            "coral_patches_2009/23880.jpeg\n",
            "coral_patches_2009/16915.jpeg\n",
            "coral_patches_2009/50991.jpeg\n",
            "coral_patches_2009/8803.jpeg\n",
            "coral_patches_2009/66727.jpeg\n",
            "coral_patches_2009/49179.jpeg\n",
            "coral_patches_2009/29783.jpeg\n",
            "coral_patches_2009/34679.jpeg\n",
            "coral_patches_2009/34014.jpeg\n",
            "coral_patches_2009/15383.jpeg\n",
            "coral_patches_2009/25723.jpeg\n",
            "coral_patches_2009/10305.jpeg\n",
            "coral_patches_2009/6431.jpeg\n",
            "coral_patches_2009/54362.jpeg\n",
            "coral_patches_2009/13264.jpeg\n",
            "coral_patches_2009/52029.jpeg\n",
            "coral_patches_2009/29945.jpeg\n",
            "coral_patches_2009/57027.jpeg\n",
            "coral_patches_2009/69341.jpeg\n",
            "coral_patches_2009/19022.jpeg\n",
            "coral_patches_2009/10207.jpeg\n",
            "coral_patches_2009/52147.jpeg\n",
            "coral_patches_2009/33208.jpeg\n",
            "coral_patches_2009/5624.jpeg\n",
            "coral_patches_2009/23379.jpeg\n",
            "coral_patches_2009/35480.jpeg\n",
            "coral_patches_2009/1360.jpeg\n",
            "coral_patches_2009/50863.jpeg\n",
            "coral_patches_2009/49760.jpeg\n",
            "coral_patches_2009/899.jpeg\n",
            "coral_patches_2009/34982.jpeg\n",
            "coral_patches_2009/8651.jpeg\n",
            "coral_patches_2009/1136.jpeg\n",
            "coral_patches_2009/47329.jpeg\n",
            "coral_patches_2009/20953.jpeg\n",
            "coral_patches_2009/11080.jpeg\n",
            "coral_patches_2009/32293.jpeg\n",
            "coral_patches_2009/24504.jpeg\n",
            "coral_patches_2009/44470.jpeg\n",
            "coral_patches_2009/14260.jpeg\n",
            "coral_patches_2009/14899.jpeg\n",
            "coral_patches_2009/28791.jpeg\n",
            "coral_patches_2009/30531.jpeg\n",
            "coral_patches_2009/2288.jpeg\n",
            "coral_patches_2009/50497.jpeg\n",
            "coral_patches_2009/12660.jpeg\n",
            "coral_patches_2009/69695.jpeg\n",
            "coral_patches_2009/4568.jpeg\n",
            "coral_patches_2009/62725.jpeg\n",
            "coral_patches_2009/10980.jpeg\n",
            "coral_patches_2009/27693.jpeg\n",
            "coral_patches_2009/38030.jpeg\n",
            "coral_patches_2009/49126.jpeg\n",
            "coral_patches_2009/6965.jpeg\n",
            "coral_patches_2009/9772.jpeg\n",
            "coral_patches_2009/3572.jpeg\n",
            "coral_patches_2009/25494.jpeg\n",
            "coral_patches_2009/60476.jpeg\n",
            "coral_patches_2009/19745.jpeg\n",
            "coral_patches_2009/28389.jpeg\n",
            "coral_patches_2009/6420.jpeg\n",
            "coral_patches_2009/62328.jpeg\n",
            "coral_patches_2009/27585.jpeg\n",
            "coral_patches_2009/33204.jpeg\n",
            "coral_patches_2009/40868.jpeg\n",
            "coral_patches_2009/50325.jpeg\n",
            "coral_patches_2009/34561.jpeg\n",
            "coral_patches_2009/27250.jpeg\n",
            "coral_patches_2009/52326.jpeg\n",
            "coral_patches_2009/7485.jpeg\n",
            "coral_patches_2009/59653.jpeg\n",
            "coral_patches_2009/16728.jpeg\n",
            "coral_patches_2009/23482.jpeg\n",
            "coral_patches_2009/52555.jpeg\n",
            "coral_patches_2009/24738.jpeg\n",
            "coral_patches_2009/32674.jpeg\n",
            "coral_patches_2009/56145.jpeg\n",
            "coral_patches_2009/69900.jpeg\n",
            "coral_patches_2009/42914.jpeg\n",
            "coral_patches_2009/55770.jpeg\n",
            "coral_patches_2009/37495.jpeg\n",
            "coral_patches_2009/61507.jpeg\n",
            "coral_patches_2009/44966.jpeg\n",
            "coral_patches_2009/70849.jpeg\n",
            "coral_patches_2009/36361.jpeg\n",
            "coral_patches_2009/19723.jpeg\n",
            "coral_patches_2009/69470.jpeg\n",
            "coral_patches_2009/3129.jpeg\n",
            "coral_patches_2009/43518.jpeg\n",
            "coral_patches_2009/8883.jpeg\n",
            "coral_patches_2009/977.jpeg\n",
            "coral_patches_2009/34370.jpeg\n",
            "coral_patches_2009/5041.jpeg\n",
            "coral_patches_2009/47669.jpeg\n",
            "coral_patches_2009/58594.jpeg\n",
            "coral_patches_2009/30729.jpeg\n",
            "coral_patches_2009/6791.jpeg\n",
            "coral_patches_2009/43430.jpeg\n",
            "coral_patches_2009/7617.jpeg\n",
            "coral_patches_2009/71590.jpeg\n",
            "coral_patches_2009/14181.jpeg\n",
            "coral_patches_2009/3116.jpeg\n",
            "coral_patches_2009/42955.jpeg\n",
            "coral_patches_2009/515.jpeg\n",
            "coral_patches_2009/11590.jpeg\n",
            "coral_patches_2009/68814.jpeg\n",
            "coral_patches_2009/56294.jpeg\n",
            "coral_patches_2009/38252.jpeg\n",
            "coral_patches_2009/28320.jpeg\n",
            "coral_patches_2009/5918.jpeg\n",
            "coral_patches_2009/7172.jpeg\n",
            "coral_patches_2009/67225.jpeg\n",
            "coral_patches_2009/60142.jpeg\n",
            "coral_patches_2009/21602.jpeg\n",
            "coral_patches_2009/65834.jpeg\n",
            "coral_patches_2009/57122.jpeg\n",
            "coral_patches_2009/17353.jpeg\n",
            "coral_patches_2009/43098.jpeg\n",
            "coral_patches_2009/28766.jpeg\n",
            "coral_patches_2009/66877.jpeg\n",
            "coral_patches_2009/32982.jpeg\n",
            "coral_patches_2009/68370.jpeg\n",
            "coral_patches_2009/42353.jpeg\n",
            "coral_patches_2009/41457.jpeg\n",
            "coral_patches_2009/4694.jpeg\n",
            "coral_patches_2009/17296.jpeg\n",
            "coral_patches_2009/11111.jpeg\n",
            "coral_patches_2009/29226.jpeg\n",
            "coral_patches_2009/47701.jpeg\n",
            "coral_patches_2009/31597.jpeg\n",
            "coral_patches_2009/10805.jpeg\n",
            "coral_patches_2009/61646.jpeg\n",
            "coral_patches_2009/28059.jpeg\n",
            "coral_patches_2009/48364.jpeg\n",
            "coral_patches_2009/13089.jpeg\n",
            "coral_patches_2009/47896.jpeg\n",
            "coral_patches_2009/52334.jpeg\n",
            "coral_patches_2009/53278.jpeg\n",
            "coral_patches_2009/7213.jpeg\n",
            "coral_patches_2009/8596.jpeg\n",
            "coral_patches_2009/5063.jpeg\n",
            "coral_patches_2009/34406.jpeg\n",
            "coral_patches_2009/57016.jpeg\n",
            "coral_patches_2009/61066.jpeg\n",
            "coral_patches_2009/27927.jpeg\n",
            "coral_patches_2009/3497.jpeg\n",
            "coral_patches_2009/3505.jpeg\n",
            "coral_patches_2009/34415.jpeg\n",
            "coral_patches_2009/69872.jpeg\n",
            "coral_patches_2009/63620.jpeg\n",
            "coral_patches_2009/55570.jpeg\n",
            "coral_patches_2009/51356.jpeg\n",
            "coral_patches_2009/18013.jpeg\n",
            "coral_patches_2009/11797.jpeg\n",
            "coral_patches_2009/38588.jpeg\n",
            "coral_patches_2009/25208.jpeg\n",
            "coral_patches_2009/59449.jpeg\n",
            "coral_patches_2009/65983.jpeg\n",
            "coral_patches_2009/22612.jpeg\n",
            "coral_patches_2009/12814.jpeg\n",
            "coral_patches_2009/37553.jpeg\n",
            "coral_patches_2009/40731.jpeg\n",
            "coral_patches_2009/17965.jpeg\n",
            "coral_patches_2009/68904.jpeg\n",
            "coral_patches_2009/24626.jpeg\n",
            "coral_patches_2009/25857.jpeg\n",
            "coral_patches_2009/66125.jpeg\n",
            "coral_patches_2009/29240.jpeg\n",
            "coral_patches_2009/71288.jpeg\n",
            "coral_patches_2009/10784.jpeg\n",
            "coral_patches_2009/61109.jpeg\n",
            "coral_patches_2009/40627.jpeg\n",
            "coral_patches_2009/53491.jpeg\n",
            "coral_patches_2009/19177.jpeg\n",
            "coral_patches_2009/62418.jpeg\n",
            "coral_patches_2009/8349.jpeg\n",
            "coral_patches_2009/17742.jpeg\n",
            "coral_patches_2009/19943.jpeg\n",
            "coral_patches_2009/50681.jpeg\n",
            "coral_patches_2009/14799.jpeg\n",
            "coral_patches_2009/69862.jpeg\n",
            "coral_patches_2009/6942.jpeg\n",
            "coral_patches_2009/45912.jpeg\n",
            "coral_patches_2009/2914.jpeg\n",
            "coral_patches_2009/50418.jpeg\n",
            "coral_patches_2009/27023.jpeg\n",
            "coral_patches_2009/22092.jpeg\n",
            "coral_patches_2009/1163.jpeg\n",
            "coral_patches_2009/39286.jpeg\n",
            "coral_patches_2009/57631.jpeg\n",
            "coral_patches_2009/24386.jpeg\n",
            "coral_patches_2009/26206.jpeg\n",
            "coral_patches_2009/31215.jpeg\n",
            "coral_patches_2009/9565.jpeg\n",
            "coral_patches_2009/13951.jpeg\n",
            "coral_patches_2009/54843.jpeg\n",
            "coral_patches_2009/69026.jpeg\n",
            "coral_patches_2009/64671.jpeg\n",
            "coral_patches_2009/54135.jpeg\n",
            "coral_patches_2009/13426.jpeg\n",
            "coral_patches_2009/58060.jpeg\n",
            "coral_patches_2009/45659.jpeg\n",
            "coral_patches_2009/11219.jpeg\n",
            "coral_patches_2009/9616.jpeg\n",
            "coral_patches_2009/15657.jpeg\n",
            "coral_patches_2009/7379.jpeg\n",
            "coral_patches_2009/65363.jpeg\n",
            "coral_patches_2009/10457.jpeg\n",
            "coral_patches_2009/88.jpeg\n",
            "coral_patches_2009/15079.jpeg\n",
            "coral_patches_2009/42517.jpeg\n",
            "coral_patches_2009/61883.jpeg\n",
            "coral_patches_2009/3425.jpeg\n",
            "coral_patches_2009/50082.jpeg\n",
            "coral_patches_2009/43083.jpeg\n",
            "coral_patches_2009/49305.jpeg\n",
            "coral_patches_2009/50604.jpeg\n",
            "coral_patches_2009/66175.jpeg\n",
            "coral_patches_2009/17079.jpeg\n",
            "coral_patches_2009/44275.jpeg\n",
            "coral_patches_2009/46355.jpeg\n",
            "coral_patches_2009/48419.jpeg\n",
            "coral_patches_2009/24314.jpeg\n",
            "coral_patches_2009/21336.jpeg\n",
            "coral_patches_2009/59839.jpeg\n",
            "coral_patches_2009/522.jpeg\n",
            "coral_patches_2009/14591.jpeg\n",
            "coral_patches_2009/5159.jpeg\n",
            "coral_patches_2009/60405.jpeg\n",
            "coral_patches_2009/14628.jpeg\n",
            "coral_patches_2009/1366.jpeg\n",
            "coral_patches_2009/13475.jpeg\n",
            "coral_patches_2009/22916.jpeg\n",
            "coral_patches_2009/70481.jpeg\n",
            "coral_patches_2009/47665.jpeg\n",
            "coral_patches_2009/25613.jpeg\n",
            "coral_patches_2009/22534.jpeg\n",
            "coral_patches_2009/5059.jpeg\n",
            "coral_patches_2009/2251.jpeg\n",
            "coral_patches_2009/12417.jpeg\n",
            "coral_patches_2009/4762.jpeg\n",
            "coral_patches_2009/8850.jpeg\n",
            "coral_patches_2009/47743.jpeg\n",
            "coral_patches_2009/60939.jpeg\n",
            "coral_patches_2009/42549.jpeg\n",
            "coral_patches_2009/55850.jpeg\n",
            "coral_patches_2009/13920.jpeg\n",
            "coral_patches_2009/12897.jpeg\n",
            "coral_patches_2009/71022.jpeg\n",
            "coral_patches_2009/35235.jpeg\n",
            "coral_patches_2009/16470.jpeg\n",
            "coral_patches_2009/46202.jpeg\n",
            "coral_patches_2009/23384.jpeg\n",
            "coral_patches_2009/27623.jpeg\n",
            "coral_patches_2009/50768.jpeg\n",
            "coral_patches_2009/64003.jpeg\n",
            "coral_patches_2009/39193.jpeg\n",
            "coral_patches_2009/52744.jpeg\n",
            "coral_patches_2009/982.jpeg\n",
            "coral_patches_2009/7824.jpeg\n",
            "coral_patches_2009/52453.jpeg\n",
            "coral_patches_2009/25975.jpeg\n",
            "coral_patches_2009/1992.jpeg\n",
            "coral_patches_2009/50837.jpeg\n",
            "coral_patches_2009/26319.jpeg\n",
            "coral_patches_2009/38948.jpeg\n",
            "coral_patches_2009/40141.jpeg\n",
            "coral_patches_2009/53384.jpeg\n",
            "coral_patches_2009/33068.jpeg\n",
            "coral_patches_2009/14383.jpeg\n",
            "coral_patches_2009/6056.jpeg\n",
            "coral_patches_2009/55615.jpeg\n",
            "coral_patches_2009/28425.jpeg\n",
            "coral_patches_2009/14320.jpeg\n",
            "coral_patches_2009/27079.jpeg\n",
            "coral_patches_2009/28625.jpeg\n",
            "coral_patches_2009/38661.jpeg\n",
            "coral_patches_2009/18589.jpeg\n",
            "coral_patches_2009/50798.jpeg\n",
            "coral_patches_2009/54107.jpeg\n",
            "coral_patches_2009/38541.jpeg\n",
            "coral_patches_2009/42971.jpeg\n",
            "coral_patches_2009/66380.jpeg\n",
            "coral_patches_2009/15251.jpeg\n",
            "coral_patches_2009/36782.jpeg\n",
            "coral_patches_2009/34697.jpeg\n",
            "coral_patches_2009/38895.jpeg\n",
            "coral_patches_2009/1361.jpeg\n",
            "coral_patches_2009/53467.jpeg\n",
            "coral_patches_2009/57420.jpeg\n",
            "coral_patches_2009/44345.jpeg\n",
            "coral_patches_2009/59148.jpeg\n",
            "coral_patches_2009/1208.jpeg\n",
            "coral_patches_2009/7350.jpeg\n",
            "coral_patches_2009/63529.jpeg\n",
            "coral_patches_2009/20006.jpeg\n",
            "coral_patches_2009/20103.jpeg\n",
            "coral_patches_2009/67511.jpeg\n",
            "coral_patches_2009/13116.jpeg\n",
            "coral_patches_2009/23079.jpeg\n",
            "coral_patches_2009/59952.jpeg\n",
            "coral_patches_2009/708.jpeg\n",
            "coral_patches_2009/35440.jpeg\n",
            "coral_patches_2009/4225.jpeg\n",
            "coral_patches_2009/50547.jpeg\n",
            "coral_patches_2009/67833.jpeg\n",
            "coral_patches_2009/32144.jpeg\n",
            "coral_patches_2009/56916.jpeg\n",
            "coral_patches_2009/53242.jpeg\n",
            "coral_patches_2009/21926.jpeg\n",
            "coral_patches_2009/54407.jpeg\n",
            "coral_patches_2009/70247.jpeg\n",
            "coral_patches_2009/36222.jpeg\n",
            "coral_patches_2009/43378.jpeg\n",
            "coral_patches_2009/60063.jpeg\n",
            "coral_patches_2009/36059.jpeg\n",
            "coral_patches_2009/36385.jpeg\n",
            "coral_patches_2009/39553.jpeg\n",
            "coral_patches_2009/52770.jpeg\n",
            "coral_patches_2009/12878.jpeg\n",
            "coral_patches_2009/65791.jpeg\n",
            "coral_patches_2009/34488.jpeg\n",
            "coral_patches_2009/38513.jpeg\n",
            "coral_patches_2009/29653.jpeg\n",
            "coral_patches_2009/37590.jpeg\n",
            "coral_patches_2009/25454.jpeg\n",
            "coral_patches_2009/30568.jpeg\n",
            "coral_patches_2009/65100.jpeg\n",
            "coral_patches_2009/15476.jpeg\n",
            "coral_patches_2009/31800.jpeg\n",
            "coral_patches_2009/49613.jpeg\n",
            "coral_patches_2009/1683.jpeg\n",
            "coral_patches_2009/584.jpeg\n",
            "coral_patches_2009/6123.jpeg\n",
            "coral_patches_2009/52336.jpeg\n",
            "coral_patches_2009/16923.jpeg\n",
            "coral_patches_2009/35087.jpeg\n",
            "coral_patches_2009/13209.jpeg\n",
            "coral_patches_2009/741.jpeg\n",
            "coral_patches_2009/68826.jpeg\n",
            "coral_patches_2009/7002.jpeg\n",
            "coral_patches_2009/50633.jpeg\n",
            "coral_patches_2009/31699.jpeg\n",
            "coral_patches_2009/33426.jpeg\n",
            "coral_patches_2009/31421.jpeg\n",
            "coral_patches_2009/41131.jpeg\n",
            "coral_patches_2009/17560.jpeg\n",
            "coral_patches_2009/31767.jpeg\n",
            "coral_patches_2009/24287.jpeg\n",
            "coral_patches_2009/21143.jpeg\n",
            "coral_patches_2009/26720.jpeg\n",
            "coral_patches_2009/9562.jpeg\n",
            "coral_patches_2009/26919.jpeg\n",
            "coral_patches_2009/24732.jpeg\n",
            "coral_patches_2009/50791.jpeg\n",
            "coral_patches_2009/60459.jpeg\n",
            "coral_patches_2009/6409.jpeg\n",
            "coral_patches_2009/17857.jpeg\n",
            "coral_patches_2009/57711.jpeg\n",
            "coral_patches_2009/23861.jpeg\n",
            "coral_patches_2009/70369.jpeg\n",
            "coral_patches_2009/36799.jpeg\n",
            "coral_patches_2009/33400.jpeg\n",
            "coral_patches_2009/46860.jpeg\n",
            "coral_patches_2009/46225.jpeg\n",
            "coral_patches_2009/31134.jpeg\n",
            "coral_patches_2009/4257.jpeg\n",
            "coral_patches_2009/60536.jpeg\n",
            "coral_patches_2009/34141.jpeg\n",
            "coral_patches_2009/25378.jpeg\n",
            "coral_patches_2009/9846.jpeg\n",
            "coral_patches_2009/51220.jpeg\n",
            "coral_patches_2009/5359.jpeg\n",
            "coral_patches_2009/35556.jpeg\n",
            "coral_patches_2009/30692.jpeg\n",
            "coral_patches_2009/68213.jpeg\n",
            "coral_patches_2009/46739.jpeg\n",
            "coral_patches_2009/66841.jpeg\n",
            "coral_patches_2009/56073.jpeg\n",
            "coral_patches_2009/53969.jpeg\n",
            "coral_patches_2009/35227.jpeg\n",
            "coral_patches_2009/27295.jpeg\n",
            "coral_patches_2009/51897.jpeg\n",
            "coral_patches_2009/56587.jpeg\n",
            "coral_patches_2009/9161.jpeg\n",
            "coral_patches_2009/51830.jpeg\n",
            "coral_patches_2009/31535.jpeg\n",
            "coral_patches_2009/57638.jpeg\n",
            "coral_patches_2009/69646.jpeg\n",
            "coral_patches_2009/23225.jpeg\n",
            "coral_patches_2009/56619.jpeg\n",
            "coral_patches_2009/38296.jpeg\n",
            "coral_patches_2009/18472.jpeg\n",
            "coral_patches_2009/32703.jpeg\n",
            "coral_patches_2009/33905.jpeg\n",
            "coral_patches_2009/353.jpeg\n",
            "coral_patches_2009/44233.jpeg\n",
            "coral_patches_2009/35717.jpeg\n",
            "coral_patches_2009/27211.jpeg\n",
            "coral_patches_2009/53058.jpeg\n",
            "coral_patches_2009/58546.jpeg\n",
            "coral_patches_2009/8839.jpeg\n",
            "coral_patches_2009/65615.jpeg\n",
            "coral_patches_2009/61660.jpeg\n",
            "coral_patches_2009/46535.jpeg\n",
            "coral_patches_2009/37763.jpeg\n",
            "coral_patches_2009/37208.jpeg\n",
            "coral_patches_2009/62298.jpeg\n",
            "coral_patches_2009/9744.jpeg\n",
            "coral_patches_2009/68434.jpeg\n",
            "coral_patches_2009/23452.jpeg\n",
            "coral_patches_2009/28521.jpeg\n",
            "coral_patches_2009/60159.jpeg\n",
            "coral_patches_2009/5186.jpeg\n",
            "coral_patches_2009/49482.jpeg\n",
            "coral_patches_2009/24007.jpeg\n",
            "coral_patches_2009/66970.jpeg\n",
            "coral_patches_2009/37536.jpeg\n",
            "coral_patches_2009/66813.jpeg\n",
            "coral_patches_2009/58921.jpeg\n",
            "coral_patches_2009/55731.jpeg\n",
            "coral_patches_2009/30965.jpeg\n",
            "coral_patches_2009/53783.jpeg\n",
            "coral_patches_2009/27535.jpeg\n",
            "coral_patches_2009/36846.jpeg\n",
            "coral_patches_2009/8188.jpeg\n",
            "coral_patches_2009/67401.jpeg\n",
            "coral_patches_2009/18802.jpeg\n",
            "coral_patches_2009/65320.jpeg\n",
            "coral_patches_2009/32892.jpeg\n",
            "coral_patches_2009/48483.jpeg\n",
            "coral_patches_2009/28299.jpeg\n",
            "coral_patches_2009/7032.jpeg\n",
            "coral_patches_2009/15011.jpeg\n",
            "coral_patches_2009/43064.jpeg\n",
            "coral_patches_2009/36731.jpeg\n",
            "coral_patches_2009/43762.jpeg\n",
            "coral_patches_2009/2466.jpeg\n",
            "coral_patches_2009/14161.jpeg\n",
            "coral_patches_2009/5600.jpeg\n",
            "coral_patches_2009/28412.jpeg\n",
            "coral_patches_2009/19211.jpeg\n",
            "coral_patches_2009/35059.jpeg\n",
            "coral_patches_2009/41639.jpeg\n",
            "coral_patches_2009/55196.jpeg\n",
            "coral_patches_2009/65661.jpeg\n",
            "coral_patches_2009/2533.jpeg\n",
            "coral_patches_2009/56931.jpeg\n",
            "coral_patches_2009/59524.jpeg\n",
            "coral_patches_2009/8894.jpeg\n",
            "coral_patches_2009/43101.jpeg\n",
            "coral_patches_2009/56864.jpeg\n",
            "coral_patches_2009/47926.jpeg\n",
            "coral_patches_2009/62514.jpeg\n",
            "coral_patches_2009/22466.jpeg\n",
            "coral_patches_2009/3012.jpeg\n",
            "coral_patches_2009/68651.jpeg\n",
            "coral_patches_2009/17337.jpeg\n",
            "coral_patches_2009/33597.jpeg\n",
            "coral_patches_2009/65975.jpeg\n",
            "coral_patches_2009/35197.jpeg\n",
            "coral_patches_2009/35309.jpeg\n",
            "coral_patches_2009/9217.jpeg\n",
            "coral_patches_2009/4331.jpeg\n",
            "coral_patches_2009/8736.jpeg\n",
            "coral_patches_2009/8263.jpeg\n",
            "coral_patches_2009/42903.jpeg\n",
            "coral_patches_2009/49047.jpeg\n",
            "coral_patches_2009/7200.jpeg\n",
            "coral_patches_2009/21683.jpeg\n",
            "coral_patches_2009/8449.jpeg\n",
            "coral_patches_2009/34456.jpeg\n",
            "coral_patches_2009/20622.jpeg\n",
            "coral_patches_2009/30233.jpeg\n",
            "coral_patches_2009/10104.jpeg\n",
            "coral_patches_2009/57387.jpeg\n",
            "coral_patches_2009/32874.jpeg\n",
            "coral_patches_2009/6509.jpeg\n",
            "coral_patches_2009/21619.jpeg\n",
            "coral_patches_2009/68400.jpeg\n",
            "coral_patches_2009/68725.jpeg\n",
            "coral_patches_2009/6681.jpeg\n",
            "coral_patches_2009/27557.jpeg\n",
            "coral_patches_2009/8375.jpeg\n",
            "coral_patches_2009/21401.jpeg\n",
            "coral_patches_2009/68544.jpeg\n",
            "coral_patches_2009/31259.jpeg\n",
            "coral_patches_2009/41928.jpeg\n",
            "coral_patches_2009/8050.jpeg\n",
            "coral_patches_2009/23539.jpeg\n",
            "coral_patches_2009/57701.jpeg\n",
            "coral_patches_2009/24668.jpeg\n",
            "coral_patches_2009/32071.jpeg\n",
            "coral_patches_2009/19728.jpeg\n",
            "coral_patches_2009/53662.jpeg\n",
            "coral_patches_2009/17307.jpeg\n",
            "coral_patches_2009/64340.jpeg\n",
            "coral_patches_2009/35487.jpeg\n",
            "coral_patches_2009/32267.jpeg\n",
            "coral_patches_2009/19310.jpeg\n",
            "coral_patches_2009/57374.jpeg\n",
            "coral_patches_2009/48873.jpeg\n",
            "coral_patches_2009/21521.jpeg\n",
            "coral_patches_2009/7386.jpeg\n",
            "coral_patches_2009/65629.jpeg\n",
            "coral_patches_2009/13716.jpeg\n",
            "coral_patches_2009/40734.jpeg\n",
            "coral_patches_2009/7512.jpeg\n",
            "coral_patches_2009/24152.jpeg\n",
            "coral_patches_2009/19732.jpeg\n",
            "coral_patches_2009/42223.jpeg\n",
            "coral_patches_2009/38216.jpeg\n",
            "coral_patches_2009/34615.jpeg\n",
            "coral_patches_2009/1677.jpeg\n",
            "coral_patches_2009/28674.jpeg\n",
            "coral_patches_2009/7309.jpeg\n",
            "coral_patches_2009/46400.jpeg\n",
            "coral_patches_2009/46306.jpeg\n",
            "coral_patches_2009/12180.jpeg\n",
            "coral_patches_2009/6023.jpeg\n",
            "coral_patches_2009/14303.jpeg\n",
            "coral_patches_2009/32816.jpeg\n",
            "coral_patches_2009/46608.jpeg\n",
            "coral_patches_2009/26126.jpeg\n",
            "coral_patches_2009/2283.jpeg\n",
            "coral_patches_2009/42651.jpeg\n",
            "coral_patches_2009/6235.jpeg\n",
            "coral_patches_2009/3443.jpeg\n",
            "coral_patches_2009/54012.jpeg\n",
            "coral_patches_2009/69981.jpeg\n",
            "coral_patches_2009/59517.jpeg\n",
            "coral_patches_2009/24031.jpeg\n",
            "coral_patches_2009/59676.jpeg\n",
            "coral_patches_2009/58894.jpeg\n",
            "coral_patches_2009/49962.jpeg\n",
            "coral_patches_2009/9366.jpeg\n",
            "coral_patches_2009/67458.jpeg\n",
            "coral_patches_2009/21225.jpeg\n",
            "coral_patches_2009/26969.jpeg\n",
            "coral_patches_2009/8103.jpeg\n",
            "coral_patches_2009/29624.jpeg\n",
            "coral_patches_2009/4829.jpeg\n",
            "coral_patches_2009/60007.jpeg\n",
            "coral_patches_2009/69473.jpeg\n",
            "coral_patches_2009/31961.jpeg\n",
            "coral_patches_2009/43802.jpeg\n",
            "coral_patches_2009/60371.jpeg\n",
            "coral_patches_2009/50525.jpeg\n",
            "coral_patches_2009/68972.jpeg\n",
            "coral_patches_2009/49324.jpeg\n",
            "coral_patches_2009/17150.jpeg\n",
            "coral_patches_2009/36421.jpeg\n",
            "coral_patches_2009/11269.jpeg\n",
            "coral_patches_2009/69022.jpeg\n",
            "coral_patches_2009/44224.jpeg\n",
            "coral_patches_2009/41241.jpeg\n",
            "coral_patches_2009/51198.jpeg\n",
            "coral_patches_2009/22258.jpeg\n",
            "coral_patches_2009/58725.jpeg\n",
            "coral_patches_2009/10210.jpeg\n",
            "coral_patches_2009/63288.jpeg\n",
            "coral_patches_2009/65593.jpeg\n",
            "coral_patches_2009/34047.jpeg\n",
            "coral_patches_2009/40454.jpeg\n",
            "coral_patches_2009/3167.jpeg\n",
            "coral_patches_2009/11210.jpeg\n",
            "coral_patches_2009/25950.jpeg\n",
            "coral_patches_2009/26532.jpeg\n",
            "coral_patches_2009/12669.jpeg\n",
            "coral_patches_2009/52346.jpeg\n",
            "coral_patches_2009/58132.jpeg\n",
            "coral_patches_2009/70724.jpeg\n",
            "coral_patches_2009/10459.jpeg\n",
            "coral_patches_2009/34284.jpeg\n",
            "coral_patches_2009/69746.jpeg\n",
            "coral_patches_2009/66981.jpeg\n",
            "coral_patches_2009/32007.jpeg\n",
            "coral_patches_2009/42790.jpeg\n",
            "coral_patches_2009/44459.jpeg\n",
            "coral_patches_2009/2348.jpeg\n",
            "coral_patches_2009/18429.jpeg\n",
            "coral_patches_2009/74.jpeg\n",
            "coral_patches_2009/31543.jpeg\n",
            "coral_patches_2009/30981.jpeg\n",
            "coral_patches_2009/17902.jpeg\n",
            "coral_patches_2009/17717.jpeg\n",
            "coral_patches_2009/3659.jpeg\n",
            "coral_patches_2009/52580.jpeg\n",
            "coral_patches_2009/64232.jpeg\n",
            "coral_patches_2009/59860.jpeg\n",
            "coral_patches_2009/65945.jpeg\n",
            "coral_patches_2009/16133.jpeg\n",
            "coral_patches_2009/24471.jpeg\n",
            "coral_patches_2009/51284.jpeg\n",
            "coral_patches_2009/25895.jpeg\n",
            "coral_patches_2009/38973.jpeg\n",
            "coral_patches_2009/38307.jpeg\n",
            "coral_patches_2009/22692.jpeg\n",
            "coral_patches_2009/51920.jpeg\n",
            "coral_patches_2009/2355.jpeg\n",
            "coral_patches_2009/58179.jpeg\n",
            "coral_patches_2009/14147.jpeg\n",
            "coral_patches_2009/64501.jpeg\n",
            "coral_patches_2009/21263.jpeg\n",
            "coral_patches_2009/15673.jpeg\n",
            "coral_patches_2009/67038.jpeg\n",
            "coral_patches_2009/2672.jpeg\n",
            "coral_patches_2009/1474.jpeg\n",
            "coral_patches_2009/44435.jpeg\n",
            "coral_patches_2009/58011.jpeg\n",
            "coral_patches_2009/23229.jpeg\n",
            "coral_patches_2009/9244.jpeg\n",
            "coral_patches_2009/7534.jpeg\n",
            "coral_patches_2009/43265.jpeg\n",
            "coral_patches_2009/28545.jpeg\n",
            "coral_patches_2009/61223.jpeg\n",
            "coral_patches_2009/33135.jpeg\n",
            "coral_patches_2009/56771.jpeg\n",
            "coral_patches_2009/60395.jpeg\n",
            "coral_patches_2009/4503.jpeg\n",
            "coral_patches_2009/67020.jpeg\n",
            "coral_patches_2009/12559.jpeg\n",
            "coral_patches_2009/1532.jpeg\n",
            "coral_patches_2009/55109.jpeg\n",
            "coral_patches_2009/15761.jpeg\n",
            "coral_patches_2009/9124.jpeg\n",
            "coral_patches_2009/68207.jpeg\n",
            "coral_patches_2009/4373.jpeg\n",
            "coral_patches_2009/64830.jpeg\n",
            "coral_patches_2009/19962.jpeg\n",
            "coral_patches_2009/39210.jpeg\n",
            "coral_patches_2009/59696.jpeg\n",
            "coral_patches_2009/62427.jpeg\n",
            "coral_patches_2009/65519.jpeg\n",
            "coral_patches_2009/18502.jpeg\n",
            "coral_patches_2009/21475.jpeg\n",
            "coral_patches_2009/69697.jpeg\n",
            "coral_patches_2009/32041.jpeg\n",
            "coral_patches_2009/25261.jpeg\n",
            "coral_patches_2009/35936.jpeg\n",
            "coral_patches_2009/12687.jpeg\n",
            "coral_patches_2009/57873.jpeg\n",
            "coral_patches_2009/41304.jpeg\n",
            "coral_patches_2009/14549.jpeg\n",
            "coral_patches_2009/18251.jpeg\n",
            "coral_patches_2009/36193.jpeg\n",
            "coral_patches_2009/56405.jpeg\n",
            "coral_patches_2009/48087.jpeg\n",
            "coral_patches_2009/19322.jpeg\n",
            "coral_patches_2009/18401.jpeg\n",
            "coral_patches_2009/37862.jpeg\n",
            "coral_patches_2009/20191.jpeg\n",
            "coral_patches_2009/65371.jpeg\n",
            "coral_patches_2009/19123.jpeg\n",
            "coral_patches_2009/50263.jpeg\n",
            "coral_patches_2009/68966.jpeg\n",
            "coral_patches_2009/26992.jpeg\n",
            "coral_patches_2009/60048.jpeg\n",
            "coral_patches_2009/49569.jpeg\n",
            "coral_patches_2009/28797.jpeg\n",
            "coral_patches_2009/47786.jpeg\n",
            "coral_patches_2009/30366.jpeg\n",
            "coral_patches_2009/26972.jpeg\n",
            "coral_patches_2009/27064.jpeg\n",
            "coral_patches_2009/58938.jpeg\n",
            "coral_patches_2009/33867.jpeg\n",
            "coral_patches_2009/57683.jpeg\n",
            "coral_patches_2009/59742.jpeg\n",
            "coral_patches_2009/48088.jpeg\n",
            "coral_patches_2009/5634.jpeg\n",
            "coral_patches_2009/54433.jpeg\n",
            "coral_patches_2009/26655.jpeg\n",
            "coral_patches_2009/13220.jpeg\n",
            "coral_patches_2009/40971.jpeg\n",
            "coral_patches_2009/11633.jpeg\n",
            "coral_patches_2009/28609.jpeg\n",
            "coral_patches_2009/24658.jpeg\n",
            "coral_patches_2009/37081.jpeg\n",
            "coral_patches_2009/29249.jpeg\n",
            "coral_patches_2009/45568.jpeg\n",
            "coral_patches_2009/21137.jpeg\n",
            "coral_patches_2009/27721.jpeg\n",
            "coral_patches_2009/25663.jpeg\n",
            "coral_patches_2009/30807.jpeg\n",
            "coral_patches_2009/23490.jpeg\n",
            "coral_patches_2009/16655.jpeg\n",
            "coral_patches_2009/48349.jpeg\n",
            "coral_patches_2009/52671.jpeg\n",
            "coral_patches_2009/1807.jpeg\n",
            "coral_patches_2009/55794.jpeg\n",
            "coral_patches_2009/67233.jpeg\n",
            "coral_patches_2009/59033.jpeg\n",
            "coral_patches_2009/6816.jpeg\n",
            "coral_patches_2009/26279.jpeg\n",
            "coral_patches_2009/36109.jpeg\n",
            "coral_patches_2009/1544.jpeg\n",
            "coral_patches_2009/47999.jpeg\n",
            "coral_patches_2009/40050.jpeg\n",
            "coral_patches_2009/46146.jpeg\n",
            "coral_patches_2009/42910.jpeg\n",
            "coral_patches_2009/15934.jpeg\n",
            "coral_patches_2009/57084.jpeg\n",
            "coral_patches_2009/12112.jpeg\n",
            "coral_patches_2009/62325.jpeg\n",
            "coral_patches_2009/60329.jpeg\n",
            "coral_patches_2009/46689.jpeg\n",
            "coral_patches_2009/7951.jpeg\n",
            "coral_patches_2009/27445.jpeg\n",
            "coral_patches_2009/25443.jpeg\n",
            "coral_patches_2009/18990.jpeg\n",
            "coral_patches_2009/17075.jpeg\n",
            "coral_patches_2009/44378.jpeg\n",
            "coral_patches_2009/43096.jpeg\n",
            "coral_patches_2009/60203.jpeg\n",
            "coral_patches_2009/19573.jpeg\n",
            "coral_patches_2009/6269.jpeg\n",
            "coral_patches_2009/22682.jpeg\n",
            "coral_patches_2009/52769.jpeg\n",
            "coral_patches_2009/47099.jpeg\n",
            "coral_patches_2009/37255.jpeg\n",
            "coral_patches_2009/68796.jpeg\n",
            "coral_patches_2009/10832.jpeg\n",
            "coral_patches_2009/37938.jpeg\n",
            "coral_patches_2009/53353.jpeg\n",
            "coral_patches_2009/54211.jpeg\n",
            "coral_patches_2009/46888.jpeg\n",
            "coral_patches_2009/49596.jpeg\n",
            "coral_patches_2009/41375.jpeg\n",
            "coral_patches_2009/44554.jpeg\n",
            "coral_patches_2009/57601.jpeg\n",
            "coral_patches_2009/52772.jpeg\n",
            "coral_patches_2009/15399.jpeg\n",
            "coral_patches_2009/19874.jpeg\n",
            "coral_patches_2009/25063.jpeg\n",
            "coral_patches_2009/43492.jpeg\n",
            "coral_patches_2009/67035.jpeg\n",
            "coral_patches_2009/1845.jpeg\n",
            "coral_patches_2009/21006.jpeg\n",
            "coral_patches_2009/3053.jpeg\n",
            "coral_patches_2009/18257.jpeg\n",
            "coral_patches_2009/61349.jpeg\n",
            "coral_patches_2009/17120.jpeg\n",
            "coral_patches_2009/41587.jpeg\n",
            "coral_patches_2009/50621.jpeg\n",
            "coral_patches_2009/30726.jpeg\n",
            "coral_patches_2009/48983.jpeg\n",
            "coral_patches_2009/20661.jpeg\n",
            "coral_patches_2009/53869.jpeg\n",
            "coral_patches_2009/51634.jpeg\n",
            "coral_patches_2009/7807.jpeg\n",
            "coral_patches_2009/8538.jpeg\n",
            "coral_patches_2009/44847.jpeg\n",
            "coral_patches_2009/60566.jpeg\n",
            "coral_patches_2009/60111.jpeg\n",
            "coral_patches_2009/52263.jpeg\n",
            "coral_patches_2009/1898.jpeg\n",
            "coral_patches_2009/52414.jpeg\n",
            "coral_patches_2009/42494.jpeg\n",
            "coral_patches_2009/58722.jpeg\n",
            "coral_patches_2009/50360.jpeg\n",
            "coral_patches_2009/19666.jpeg\n",
            "coral_patches_2009/31544.jpeg\n",
            "coral_patches_2009/19624.jpeg\n",
            "coral_patches_2009/50324.jpeg\n",
            "coral_patches_2009/18959.jpeg\n",
            "coral_patches_2009/67158.jpeg\n",
            "coral_patches_2009/34291.jpeg\n",
            "coral_patches_2009/35256.jpeg\n",
            "coral_patches_2009/67933.jpeg\n",
            "coral_patches_2009/15258.jpeg\n",
            "coral_patches_2009/35376.jpeg\n",
            "coral_patches_2009/14464.jpeg\n",
            "coral_patches_2009/67942.jpeg\n",
            "coral_patches_2009/50479.jpeg\n",
            "coral_patches_2009/25714.jpeg\n",
            "coral_patches_2009/63728.jpeg\n",
            "coral_patches_2009/3376.jpeg\n",
            "coral_patches_2009/9386.jpeg\n",
            "coral_patches_2009/10082.jpeg\n",
            "coral_patches_2009/35607.jpeg\n",
            "coral_patches_2009/32382.jpeg\n",
            "coral_patches_2009/31118.jpeg\n",
            "coral_patches_2009/37509.jpeg\n",
            "coral_patches_2009/2368.jpeg\n",
            "coral_patches_2009/4726.jpeg\n",
            "coral_patches_2009/14308.jpeg\n",
            "coral_patches_2009/55022.jpeg\n",
            "coral_patches_2009/48832.jpeg\n",
            "coral_patches_2009/31161.jpeg\n",
            "coral_patches_2009/36321.jpeg\n",
            "coral_patches_2009/57650.jpeg\n",
            "coral_patches_2009/40251.jpeg\n",
            "coral_patches_2009/70118.jpeg\n",
            "coral_patches_2009/37258.jpeg\n",
            "coral_patches_2009/68463.jpeg\n",
            "coral_patches_2009/30419.jpeg\n",
            "coral_patches_2009/68506.jpeg\n",
            "coral_patches_2009/51091.jpeg\n",
            "coral_patches_2009/63253.jpeg\n",
            "coral_patches_2009/45697.jpeg\n",
            "coral_patches_2009/29220.jpeg\n",
            "coral_patches_2009/10251.jpeg\n",
            "coral_patches_2009/44382.jpeg\n",
            "coral_patches_2009/33067.jpeg\n",
            "coral_patches_2009/47262.jpeg\n",
            "coral_patches_2009/60502.jpeg\n",
            "coral_patches_2009/53178.jpeg\n",
            "coral_patches_2009/8046.jpeg\n",
            "coral_patches_2009/35118.jpeg\n",
            "coral_patches_2009/60425.jpeg\n",
            "coral_patches_2009/37257.jpeg\n",
            "coral_patches_2009/69694.jpeg\n",
            "coral_patches_2009/39769.jpeg\n",
            "coral_patches_2009/62228.jpeg\n",
            "coral_patches_2009/5722.jpeg\n",
            "coral_patches_2009/38962.jpeg\n",
            "coral_patches_2009/28394.jpeg\n",
            "coral_patches_2009/42327.jpeg\n",
            "coral_patches_2009/11827.jpeg\n",
            "coral_patches_2009/68948.jpeg\n",
            "coral_patches_2009/50236.jpeg\n",
            "coral_patches_2009/16638.jpeg\n",
            "coral_patches_2009/695.jpeg\n",
            "coral_patches_2009/60408.jpeg\n",
            "coral_patches_2009/56701.jpeg\n",
            "coral_patches_2009/71075.jpeg\n",
            "coral_patches_2009/61609.jpeg\n",
            "coral_patches_2009/66141.jpeg\n",
            "coral_patches_2009/61879.jpeg\n",
            "coral_patches_2009/17655.jpeg\n",
            "coral_patches_2009/11523.jpeg\n",
            "coral_patches_2009/24946.jpeg\n",
            "coral_patches_2009/24395.jpeg\n",
            "coral_patches_2009/32158.jpeg\n",
            "coral_patches_2009/51457.jpeg\n",
            "coral_patches_2009/54778.jpeg\n",
            "coral_patches_2009/38667.jpeg\n",
            "coral_patches_2009/14322.jpeg\n",
            "coral_patches_2009/46955.jpeg\n",
            "coral_patches_2009/17132.jpeg\n",
            "coral_patches_2009/61093.jpeg\n",
            "coral_patches_2009/12654.jpeg\n",
            "coral_patches_2009/35169.jpeg\n",
            "coral_patches_2009/46016.jpeg\n",
            "coral_patches_2009/15444.jpeg\n",
            "coral_patches_2009/24521.jpeg\n",
            "coral_patches_2009/35732.jpeg\n",
            "coral_patches_2009/27336.jpeg\n",
            "coral_patches_2009/5530.jpeg\n",
            "coral_patches_2009/26544.jpeg\n",
            "coral_patches_2009/3272.jpeg\n",
            "coral_patches_2009/43010.jpeg\n",
            "coral_patches_2009/70472.jpeg\n",
            "coral_patches_2009/19334.jpeg\n",
            "coral_patches_2009/47193.jpeg\n",
            "coral_patches_2009/22201.jpeg\n",
            "coral_patches_2009/57184.jpeg\n",
            "coral_patches_2009/44940.jpeg\n",
            "coral_patches_2009/63441.jpeg\n",
            "coral_patches_2009/51654.jpeg\n",
            "coral_patches_2009/45804.jpeg\n",
            "coral_patches_2009/14888.jpeg\n",
            "coral_patches_2009/64343.jpeg\n",
            "coral_patches_2009/61513.jpeg\n",
            "coral_patches_2009/24391.jpeg\n",
            "coral_patches_2009/15054.jpeg\n",
            "coral_patches_2009/49111.jpeg\n",
            "coral_patches_2009/24211.jpeg\n",
            "coral_patches_2009/18493.jpeg\n",
            "coral_patches_2009/28333.jpeg\n",
            "coral_patches_2009/69466.jpeg\n",
            "coral_patches_2009/71472.jpeg\n",
            "coral_patches_2009/14614.jpeg\n",
            "coral_patches_2009/12071.jpeg\n",
            "coral_patches_2009/20275.jpeg\n",
            "coral_patches_2009/42037.jpeg\n",
            "coral_patches_2009/32424.jpeg\n",
            "coral_patches_2009/47117.jpeg\n",
            "coral_patches_2009/24442.jpeg\n",
            "coral_patches_2009/1041.jpeg\n",
            "coral_patches_2009/59919.jpeg\n",
            "coral_patches_2009/6563.jpeg\n",
            "coral_patches_2009/4991.jpeg\n",
            "coral_patches_2009/56562.jpeg\n",
            "coral_patches_2009/58964.jpeg\n",
            "coral_patches_2009/25238.jpeg\n",
            "coral_patches_2009/35891.jpeg\n",
            "coral_patches_2009/17456.jpeg\n",
            "coral_patches_2009/43060.jpeg\n",
            "coral_patches_2009/17728.jpeg\n",
            "coral_patches_2009/62812.jpeg\n",
            "coral_patches_2009/68825.jpeg\n",
            "coral_patches_2009/27986.jpeg\n",
            "coral_patches_2009/47326.jpeg\n",
            "coral_patches_2009/30704.jpeg\n",
            "coral_patches_2009/26087.jpeg\n",
            "coral_patches_2009/9345.jpeg\n",
            "coral_patches_2009/8945.jpeg\n",
            "coral_patches_2009/44768.jpeg\n",
            "coral_patches_2009/14766.jpeg\n",
            "coral_patches_2009/48814.jpeg\n",
            "coral_patches_2009/28015.jpeg\n",
            "coral_patches_2009/71270.jpeg\n",
            "coral_patches_2009/56686.jpeg\n",
            "coral_patches_2009/894.jpeg\n",
            "coral_patches_2009/57585.jpeg\n",
            "coral_patches_2009/27679.jpeg\n",
            "coral_patches_2009/23794.jpeg\n",
            "coral_patches_2009/17715.jpeg\n",
            "coral_patches_2009/6820.jpeg\n",
            "coral_patches_2009/35847.jpeg\n",
            "coral_patches_2009/57792.jpeg\n",
            "coral_patches_2009/26066.jpeg\n",
            "coral_patches_2009/58381.jpeg\n",
            "coral_patches_2009/42674.jpeg\n",
            "coral_patches_2009/30866.jpeg\n",
            "coral_patches_2009/2176.jpeg\n",
            "coral_patches_2009/14633.jpeg\n",
            "coral_patches_2009/14913.jpeg\n",
            "coral_patches_2009/46160.jpeg\n",
            "coral_patches_2009/40589.jpeg\n",
            "coral_patches_2009/11736.jpeg\n",
            "coral_patches_2009/56391.jpeg\n",
            "coral_patches_2009/63894.jpeg\n",
            "coral_patches_2009/45016.jpeg\n",
            "coral_patches_2009/9243.jpeg\n",
            "coral_patches_2009/2267.jpeg\n",
            "coral_patches_2009/65238.jpeg\n",
            "coral_patches_2009/18112.jpeg\n",
            "coral_patches_2009/33655.jpeg\n",
            "coral_patches_2009/29058.jpeg\n",
            "coral_patches_2009/14882.jpeg\n",
            "coral_patches_2009/28736.jpeg\n",
            "coral_patches_2009/68170.jpeg\n",
            "coral_patches_2009/29725.jpeg\n",
            "coral_patches_2009/64222.jpeg\n",
            "coral_patches_2009/22416.jpeg\n",
            "coral_patches_2009/39446.jpeg\n",
            "coral_patches_2009/2221.jpeg\n",
            "coral_patches_2009/58473.jpeg\n",
            "coral_patches_2009/67320.jpeg\n",
            "coral_patches_2009/68501.jpeg\n",
            "coral_patches_2009/47879.jpeg\n",
            "coral_patches_2009/11389.jpeg\n",
            "coral_patches_2009/6680.jpeg\n",
            "coral_patches_2009/16070.jpeg\n",
            "coral_patches_2009/38989.jpeg\n",
            "coral_patches_2009/39917.jpeg\n",
            "coral_patches_2009/33809.jpeg\n",
            "coral_patches_2009/17546.jpeg\n",
            "coral_patches_2009/51972.jpeg\n",
            "coral_patches_2009/32645.jpeg\n",
            "coral_patches_2009/19855.jpeg\n",
            "coral_patches_2009/67502.jpeg\n",
            "coral_patches_2009/10470.jpeg\n",
            "coral_patches_2009/33150.jpeg\n",
            "coral_patches_2009/55100.jpeg\n",
            "coral_patches_2009/31469.jpeg\n",
            "coral_patches_2009/61181.jpeg\n",
            "coral_patches_2009/65250.jpeg\n",
            "coral_patches_2009/27625.jpeg\n",
            "coral_patches_2009/66000.jpeg\n",
            "coral_patches_2009/60695.jpeg\n",
            "coral_patches_2009/11382.jpeg\n",
            "coral_patches_2009/18632.jpeg\n",
            "coral_patches_2009/44420.jpeg\n",
            "coral_patches_2009/11997.jpeg\n",
            "coral_patches_2009/69671.jpeg\n",
            "coral_patches_2009/48224.jpeg\n",
            "coral_patches_2009/1524.jpeg\n",
            "coral_patches_2009/67592.jpeg\n",
            "coral_patches_2009/41056.jpeg\n",
            "coral_patches_2009/60639.jpeg\n",
            "coral_patches_2009/48466.jpeg\n",
            "coral_patches_2009/69191.jpeg\n",
            "coral_patches_2009/34362.jpeg\n",
            "coral_patches_2009/43181.jpeg\n",
            "coral_patches_2009/59772.jpeg\n",
            "coral_patches_2009/24719.jpeg\n",
            "coral_patches_2009/20819.jpeg\n",
            "coral_patches_2009/38683.jpeg\n",
            "coral_patches_2009/7564.jpeg\n",
            "coral_patches_2009/1448.jpeg\n",
            "coral_patches_2009/2083.jpeg\n",
            "coral_patches_2009/61258.jpeg\n",
            "coral_patches_2009/56631.jpeg\n",
            "coral_patches_2009/15645.jpeg\n",
            "coral_patches_2009/22366.jpeg\n",
            "coral_patches_2009/47957.jpeg\n",
            "coral_patches_2009/34230.jpeg\n",
            "coral_patches_2009/43834.jpeg\n",
            "coral_patches_2009/5657.jpeg\n",
            "coral_patches_2009/57467.jpeg\n",
            "coral_patches_2009/64889.jpeg\n",
            "coral_patches_2009/64450.jpeg\n",
            "coral_patches_2009/55243.jpeg\n",
            "coral_patches_2009/50440.jpeg\n",
            "coral_patches_2009/1453.jpeg\n",
            "coral_patches_2009/69251.jpeg\n",
            "coral_patches_2009/65927.jpeg\n",
            "coral_patches_2009/67610.jpeg\n",
            "coral_patches_2009/30846.jpeg\n",
            "coral_patches_2009/36763.jpeg\n",
            "coral_patches_2009/29241.jpeg\n",
            "coral_patches_2009/68215.jpeg\n",
            "coral_patches_2009/58940.jpeg\n",
            "coral_patches_2009/47322.jpeg\n",
            "coral_patches_2009/58264.jpeg\n",
            "coral_patches_2009/30550.jpeg\n",
            "coral_patches_2009/26611.jpeg\n",
            "coral_patches_2009/26924.jpeg\n",
            "coral_patches_2009/68607.jpeg\n",
            "coral_patches_2009/47059.jpeg\n",
            "coral_patches_2009/53734.jpeg\n",
            "coral_patches_2009/50586.jpeg\n",
            "coral_patches_2009/53923.jpeg\n",
            "coral_patches_2009/13488.jpeg\n",
            "coral_patches_2009/16820.jpeg\n",
            "coral_patches_2009/48841.jpeg\n",
            "coral_patches_2009/9903.jpeg\n",
            "coral_patches_2009/1307.jpeg\n",
            "coral_patches_2009/22240.jpeg\n",
            "coral_patches_2009/59399.jpeg\n",
            "coral_patches_2009/17573.jpeg\n",
            "coral_patches_2009/1269.jpeg\n",
            "coral_patches_2009/57955.jpeg\n",
            "coral_patches_2009/34626.jpeg\n",
            "coral_patches_2009/41908.jpeg\n",
            "coral_patches_2009/3740.jpeg\n",
            "coral_patches_2009/25518.jpeg\n",
            "coral_patches_2009/275.jpeg\n",
            "coral_patches_2009/33275.jpeg\n",
            "coral_patches_2009/36905.jpeg\n",
            "coral_patches_2009/39085.jpeg\n",
            "coral_patches_2009/13317.jpeg\n",
            "coral_patches_2009/5735.jpeg\n",
            "coral_patches_2009/2293.jpeg\n",
            "coral_patches_2009/28028.jpeg\n",
            "coral_patches_2009/13593.jpeg\n",
            "coral_patches_2009/71756.jpeg\n",
            "coral_patches_2009/29495.jpeg\n",
            "coral_patches_2009/22786.jpeg\n",
            "coral_patches_2009/69710.jpeg\n",
            "coral_patches_2009/26710.jpeg\n",
            "coral_patches_2009/39958.jpeg\n",
            "coral_patches_2009/25053.jpeg\n",
            "coral_patches_2009/75.jpeg\n",
            "coral_patches_2009/65956.jpeg\n",
            "coral_patches_2009/46965.jpeg\n",
            "coral_patches_2009/14675.jpeg\n",
            "coral_patches_2009/32652.jpeg\n",
            "coral_patches_2009/48712.jpeg\n",
            "coral_patches_2009/27657.jpeg\n",
            "coral_patches_2009/64448.jpeg\n",
            "coral_patches_2009/24313.jpeg\n",
            "coral_patches_2009/19967.jpeg\n",
            "coral_patches_2009/26577.jpeg\n",
            "coral_patches_2009/34084.jpeg\n",
            "coral_patches_2009/440.jpeg\n",
            "coral_patches_2009/70945.jpeg\n",
            "coral_patches_2009/31351.jpeg\n",
            "coral_patches_2009/23042.jpeg\n",
            "coral_patches_2009/63148.jpeg\n",
            "coral_patches_2009/40678.jpeg\n",
            "coral_patches_2009/35837.jpeg\n",
            "coral_patches_2009/48632.jpeg\n",
            "coral_patches_2009/22696.jpeg\n",
            "coral_patches_2009/57581.jpeg\n",
            "coral_patches_2009/6238.jpeg\n",
            "coral_patches_2009/29134.jpeg\n",
            "coral_patches_2009/17318.jpeg\n",
            "coral_patches_2009/9567.jpeg\n",
            "coral_patches_2009/14558.jpeg\n",
            "coral_patches_2009/56400.jpeg\n",
            "coral_patches_2009/41861.jpeg\n",
            "coral_patches_2009/34309.jpeg\n",
            "coral_patches_2009/8553.jpeg\n",
            "coral_patches_2009/911.jpeg\n",
            "coral_patches_2009/44556.jpeg\n",
            "coral_patches_2009/70985.jpeg\n",
            "coral_patches_2009/38108.jpeg\n",
            "coral_patches_2009/49907.jpeg\n",
            "coral_patches_2009/54188.jpeg\n",
            "coral_patches_2009/39202.jpeg\n",
            "coral_patches_2009/38970.jpeg\n",
            "coral_patches_2009/17872.jpeg\n",
            "coral_patches_2009/959.jpeg\n",
            "coral_patches_2009/18762.jpeg\n",
            "coral_patches_2009/65199.jpeg\n",
            "coral_patches_2009/8477.jpeg\n",
            "coral_patches_2009/28658.jpeg\n",
            "coral_patches_2009/67368.jpeg\n",
            "coral_patches_2009/60936.jpeg\n",
            "coral_patches_2009/50137.jpeg\n",
            "coral_patches_2009/10174.jpeg\n",
            "coral_patches_2009/17877.jpeg\n",
            "coral_patches_2009/31852.jpeg\n",
            "coral_patches_2009/57347.jpeg\n",
            "coral_patches_2009/37908.jpeg\n",
            "coral_patches_2009/7721.jpeg\n",
            "coral_patches_2009/18997.jpeg\n",
            "coral_patches_2009/40690.jpeg\n",
            "coral_patches_2009/15964.jpeg\n",
            "coral_patches_2009/64185.jpeg\n",
            "coral_patches_2009/67940.jpeg\n",
            "coral_patches_2009/18154.jpeg\n",
            "coral_patches_2009/14079.jpeg\n",
            "coral_patches_2009/20348.jpeg\n",
            "coral_patches_2009/6279.jpeg\n",
            "coral_patches_2009/20816.jpeg\n",
            "coral_patches_2009/25409.jpeg\n",
            "coral_patches_2009/41537.jpeg\n",
            "coral_patches_2009/57642.jpeg\n",
            "coral_patches_2009/63654.jpeg\n",
            "coral_patches_2009/9068.jpeg\n",
            "coral_patches_2009/2118.jpeg\n",
            "coral_patches_2009/68988.jpeg\n",
            "coral_patches_2009/27208.jpeg\n",
            "coral_patches_2009/37759.jpeg\n",
            "coral_patches_2009/44754.jpeg\n",
            "coral_patches_2009/55610.jpeg\n",
            "coral_patches_2009/9473.jpeg\n",
            "coral_patches_2009/2771.jpeg\n",
            "coral_patches_2009/42863.jpeg\n",
            "coral_patches_2009/65752.jpeg\n",
            "coral_patches_2009/12454.jpeg\n",
            "coral_patches_2009/58723.jpeg\n",
            "coral_patches_2009/21998.jpeg\n",
            "coral_patches_2009/30826.jpeg\n",
            "coral_patches_2009/12591.jpeg\n",
            "coral_patches_2009/39234.jpeg\n",
            "coral_patches_2009/46845.jpeg\n",
            "coral_patches_2009/41556.jpeg\n",
            "coral_patches_2009/46776.jpeg\n",
            "coral_patches_2009/7820.jpeg\n",
            "coral_patches_2009/58740.jpeg\n",
            "coral_patches_2009/38525.jpeg\n",
            "coral_patches_2009/4021.jpeg\n",
            "coral_patches_2009/25322.jpeg\n",
            "coral_patches_2009/1142.jpeg\n",
            "coral_patches_2009/64701.jpeg\n",
            "coral_patches_2009/56900.jpeg\n",
            "coral_patches_2009/4287.jpeg\n",
            "coral_patches_2009/45710.jpeg\n",
            "coral_patches_2009/27335.jpeg\n",
            "coral_patches_2009/1115.jpeg\n",
            "coral_patches_2009/27973.jpeg\n",
            "coral_patches_2009/22169.jpeg\n",
            "coral_patches_2009/35763.jpeg\n",
            "coral_patches_2009/23705.jpeg\n",
            "coral_patches_2009/44006.jpeg\n",
            "coral_patches_2009/63413.jpeg\n",
            "coral_patches_2009/46316.jpeg\n",
            "coral_patches_2009/19856.jpeg\n",
            "coral_patches_2009/14372.jpeg\n",
            "coral_patches_2009/57545.jpeg\n",
            "coral_patches_2009/22987.jpeg\n",
            "coral_patches_2009/60508.jpeg\n",
            "coral_patches_2009/2924.jpeg\n",
            "coral_patches_2009/36958.jpeg\n",
            "coral_patches_2009/65628.jpeg\n",
            "coral_patches_2009/47537.jpeg\n",
            "coral_patches_2009/56514.jpeg\n",
            "coral_patches_2009/13142.jpeg\n",
            "coral_patches_2009/43917.jpeg\n",
            "coral_patches_2009/55894.jpeg\n",
            "coral_patches_2009/21255.jpeg\n",
            "coral_patches_2009/31310.jpeg\n",
            "coral_patches_2009/5867.jpeg\n",
            "coral_patches_2009/44777.jpeg\n",
            "coral_patches_2009/49612.jpeg\n",
            "coral_patches_2009/40883.jpeg\n",
            "coral_patches_2009/54639.jpeg\n",
            "coral_patches_2009/23107.jpeg\n",
            "coral_patches_2009/14110.jpeg\n",
            "coral_patches_2009/58120.jpeg\n",
            "coral_patches_2009/51688.jpeg\n",
            "coral_patches_2009/16805.jpeg\n",
            "coral_patches_2009/10219.jpeg\n",
            "coral_patches_2009/16697.jpeg\n",
            "coral_patches_2009/38825.jpeg\n",
            "coral_patches_2009/215.jpeg\n",
            "coral_patches_2009/65016.jpeg\n",
            "coral_patches_2009/29813.jpeg\n",
            "coral_patches_2009/12742.jpeg\n",
            "coral_patches_2009/5014.jpeg\n",
            "coral_patches_2009/59131.jpeg\n",
            "coral_patches_2009/66091.jpeg\n",
            "coral_patches_2009/38911.jpeg\n",
            "coral_patches_2009/1519.jpeg\n",
            "coral_patches_2009/70359.jpeg\n",
            "coral_patches_2009/50775.jpeg\n",
            "coral_patches_2009/5595.jpeg\n",
            "coral_patches_2009/60656.jpeg\n",
            "coral_patches_2009/64438.jpeg\n",
            "coral_patches_2009/43049.jpeg\n",
            "coral_patches_2009/32505.jpeg\n",
            "coral_patches_2009/14345.jpeg\n",
            "coral_patches_2009/21310.jpeg\n",
            "coral_patches_2009/53319.jpeg\n",
            "coral_patches_2009/68029.jpeg\n",
            "coral_patches_2009/5334.jpeg\n",
            "coral_patches_2009/64850.jpeg\n",
            "coral_patches_2009/47429.jpeg\n",
            "coral_patches_2009/13384.jpeg\n",
            "coral_patches_2009/48579.jpeg\n",
            "coral_patches_2009/17451.jpeg\n",
            "coral_patches_2009/60427.jpeg\n",
            "coral_patches_2009/47137.jpeg\n",
            "coral_patches_2009/17758.jpeg\n",
            "coral_patches_2009/2401.jpeg\n",
            "coral_patches_2009/32563.jpeg\n",
            "coral_patches_2009/41536.jpeg\n",
            "coral_patches_2009/48622.jpeg\n",
            "coral_patches_2009/67718.jpeg\n",
            "coral_patches_2009/41298.jpeg\n",
            "coral_patches_2009/10076.jpeg\n",
            "coral_patches_2009/26357.jpeg\n",
            "coral_patches_2009/66473.jpeg\n",
            "coral_patches_2009/68504.jpeg\n",
            "coral_patches_2009/17411.jpeg\n",
            "coral_patches_2009/69228.jpeg\n",
            "coral_patches_2009/28358.jpeg\n",
            "coral_patches_2009/32787.jpeg\n",
            "coral_patches_2009/70775.jpeg\n",
            "coral_patches_2009/10147.jpeg\n",
            "coral_patches_2009/57493.jpeg\n",
            "coral_patches_2009/28367.jpeg\n",
            "coral_patches_2009/40165.jpeg\n",
            "coral_patches_2009/47521.jpeg\n",
            "coral_patches_2009/19419.jpeg\n",
            "coral_patches_2009/52640.jpeg\n",
            "coral_patches_2009/56010.jpeg\n",
            "coral_patches_2009/47706.jpeg\n",
            "coral_patches_2009/65492.jpeg\n",
            "coral_patches_2009/66658.jpeg\n",
            "coral_patches_2009/54993.jpeg\n",
            "coral_patches_2009/35884.jpeg\n",
            "coral_patches_2009/16505.jpeg\n",
            "coral_patches_2009/9812.jpeg\n",
            "coral_patches_2009/13015.jpeg\n",
            "coral_patches_2009/30583.jpeg\n",
            "coral_patches_2009/60932.jpeg\n",
            "coral_patches_2009/16824.jpeg\n",
            "coral_patches_2009/11159.jpeg\n",
            "coral_patches_2009/12416.jpeg\n",
            "coral_patches_2009/10450.jpeg\n",
            "coral_patches_2009/15040.jpeg\n",
            "coral_patches_2009/17784.jpeg\n",
            "coral_patches_2009/45905.jpeg\n",
            "coral_patches_2009/38834.jpeg\n",
            "coral_patches_2009/10070.jpeg\n",
            "coral_patches_2009/23941.jpeg\n",
            "coral_patches_2009/884.jpeg\n",
            "coral_patches_2009/14156.jpeg\n",
            "coral_patches_2009/56469.jpeg\n",
            "coral_patches_2009/5401.jpeg\n",
            "coral_patches_2009/48855.jpeg\n",
            "coral_patches_2009/48771.jpeg\n",
            "coral_patches_2009/35543.jpeg\n",
            "coral_patches_2009/1170.jpeg\n",
            "coral_patches_2009/36887.jpeg\n",
            "coral_patches_2009/1942.jpeg\n",
            "coral_patches_2009/64611.jpeg\n",
            "coral_patches_2009/48647.jpeg\n",
            "coral_patches_2009/12629.jpeg\n",
            "coral_patches_2009/60910.jpeg\n",
            "coral_patches_2009/8951.jpeg\n",
            "coral_patches_2009/27466.jpeg\n",
            "coral_patches_2009/6583.jpeg\n",
            "coral_patches_2009/59932.jpeg\n",
            "coral_patches_2009/1995.jpeg\n",
            "coral_patches_2009/28549.jpeg\n",
            "coral_patches_2009/57053.jpeg\n",
            "coral_patches_2009/38749.jpeg\n",
            "coral_patches_2009/71343.jpeg\n",
            "coral_patches_2009/38259.jpeg\n",
            "coral_patches_2009/68640.jpeg\n",
            "coral_patches_2009/68417.jpeg\n",
            "coral_patches_2009/54078.jpeg\n",
            "coral_patches_2009/12747.jpeg\n",
            "coral_patches_2009/48406.jpeg\n",
            "coral_patches_2009/65578.jpeg\n",
            "coral_patches_2009/35688.jpeg\n",
            "coral_patches_2009/1543.jpeg\n",
            "coral_patches_2009/50606.jpeg\n",
            "coral_patches_2009/45563.jpeg\n",
            "coral_patches_2009/8520.jpeg\n",
            "coral_patches_2009/36985.jpeg\n",
            "coral_patches_2009/5284.jpeg\n",
            "coral_patches_2009/71476.jpeg\n",
            "coral_patches_2009/39099.jpeg\n",
            "coral_patches_2009/38121.jpeg\n",
            "coral_patches_2009/61532.jpeg\n",
            "coral_patches_2009/18332.jpeg\n",
            "coral_patches_2009/10415.jpeg\n",
            "coral_patches_2009/33841.jpeg\n",
            "coral_patches_2009/61456.jpeg\n",
            "coral_patches_2009/24470.jpeg\n",
            "coral_patches_2009/22939.jpeg\n",
            "coral_patches_2009/46190.jpeg\n",
            "coral_patches_2009/68648.jpeg\n",
            "coral_patches_2009/56703.jpeg\n",
            "coral_patches_2009/15628.jpeg\n",
            "coral_patches_2009/40398.jpeg\n",
            "coral_patches_2009/51378.jpeg\n",
            "coral_patches_2009/56261.jpeg\n",
            "coral_patches_2009/53215.jpeg\n",
            "coral_patches_2009/12385.jpeg\n",
            "coral_patches_2009/17650.jpeg\n",
            "coral_patches_2009/25594.jpeg\n",
            "coral_patches_2009/1328.jpeg\n",
            "coral_patches_2009/57991.jpeg\n",
            "coral_patches_2009/8652.jpeg\n",
            "coral_patches_2009/61821.jpeg\n",
            "coral_patches_2009/45413.jpeg\n",
            "coral_patches_2009/50147.jpeg\n",
            "coral_patches_2009/67490.jpeg\n",
            "coral_patches_2009/3523.jpeg\n",
            "coral_patches_2009/70806.jpeg\n",
            "coral_patches_2009/59802.jpeg\n",
            "coral_patches_2009/25804.jpeg\n",
            "coral_patches_2009/71670.jpeg\n",
            "coral_patches_2009/27880.jpeg\n",
            "coral_patches_2009/55909.jpeg\n",
            "coral_patches_2009/14095.jpeg\n",
            "coral_patches_2009/53381.jpeg\n",
            "coral_patches_2009/25116.jpeg\n",
            "coral_patches_2009/14826.jpeg\n",
            "coral_patches_2009/4618.jpeg\n",
            "coral_patches_2009/1643.jpeg\n",
            "coral_patches_2009/1064.jpeg\n",
            "coral_patches_2009/5828.jpeg\n",
            "coral_patches_2009/57845.jpeg\n",
            "coral_patches_2009/42204.jpeg\n",
            "coral_patches_2009/35372.jpeg\n",
            "coral_patches_2009/3232.jpeg\n",
            "coral_patches_2009/50285.jpeg\n",
            "coral_patches_2009/5445.jpeg\n",
            "coral_patches_2009/59725.jpeg\n",
            "coral_patches_2009/62680.jpeg\n",
            "coral_patches_2009/38594.jpeg\n",
            "coral_patches_2009/10989.jpeg\n",
            "coral_patches_2009/56011.jpeg\n",
            "coral_patches_2009/41520.jpeg\n",
            "coral_patches_2009/16417.jpeg\n",
            "coral_patches_2009/59376.jpeg\n",
            "coral_patches_2009/58283.jpeg\n",
            "coral_patches_2009/53524.jpeg\n",
            "coral_patches_2009/26603.jpeg\n",
            "coral_patches_2009/25793.jpeg\n",
            "coral_patches_2009/17504.jpeg\n",
            "coral_patches_2009/41755.jpeg\n",
            "coral_patches_2009/45687.jpeg\n",
            "coral_patches_2009/57889.jpeg\n",
            "coral_patches_2009/59051.jpeg\n",
            "coral_patches_2009/67119.jpeg\n",
            "coral_patches_2009/70811.jpeg\n",
            "coral_patches_2009/13143.jpeg\n",
            "coral_patches_2009/54237.jpeg\n",
            "coral_patches_2009/47394.jpeg\n",
            "coral_patches_2009/25039.jpeg\n",
            "coral_patches_2009/8060.jpeg\n",
            "coral_patches_2009/34945.jpeg\n",
            "coral_patches_2009/6293.jpeg\n",
            "coral_patches_2009/46568.jpeg\n",
            "coral_patches_2009/48258.jpeg\n",
            "coral_patches_2009/15246.jpeg\n",
            "coral_patches_2009/10128.jpeg\n",
            "coral_patches_2009/23969.jpeg\n",
            "coral_patches_2009/38206.jpeg\n",
            "coral_patches_2009/28103.jpeg\n",
            "coral_patches_2009/12990.jpeg\n",
            "coral_patches_2009/66242.jpeg\n",
            "coral_patches_2009/30828.jpeg\n",
            "coral_patches_2009/61932.jpeg\n",
            "coral_patches_2009/32258.jpeg\n",
            "coral_patches_2009/64812.jpeg\n",
            "coral_patches_2009/13179.jpeg\n",
            "coral_patches_2009/2469.jpeg\n",
            "coral_patches_2009/39056.jpeg\n",
            "coral_patches_2009/66094.jpeg\n",
            "coral_patches_2009/66093.jpeg\n",
            "coral_patches_2009/36048.jpeg\n",
            "coral_patches_2009/40665.jpeg\n",
            "coral_patches_2009/21333.jpeg\n",
            "coral_patches_2009/37718.jpeg\n",
            "coral_patches_2009/18467.jpeg\n",
            "coral_patches_2009/22378.jpeg\n",
            "coral_patches_2009/25114.jpeg\n",
            "coral_patches_2009/63063.jpeg\n",
            "coral_patches_2009/41060.jpeg\n",
            "coral_patches_2009/34824.jpeg\n",
            "coral_patches_2009/12212.jpeg\n",
            "coral_patches_2009/26418.jpeg\n",
            "coral_patches_2009/6357.jpeg\n",
            "coral_patches_2009/2817.jpeg\n",
            "coral_patches_2009/14223.jpeg\n",
            "coral_patches_2009/57674.jpeg\n",
            "coral_patches_2009/14406.jpeg\n",
            "coral_patches_2009/19898.jpeg\n",
            "coral_patches_2009/23827.jpeg\n",
            "coral_patches_2009/65428.jpeg\n",
            "coral_patches_2009/31620.jpeg\n",
            "coral_patches_2009/64401.jpeg\n",
            "coral_patches_2009/53736.jpeg\n",
            "coral_patches_2009/9012.jpeg\n",
            "coral_patches_2009/58526.jpeg\n",
            "coral_patches_2009/49467.jpeg\n",
            "coral_patches_2009/19864.jpeg\n",
            "coral_patches_2009/20199.jpeg\n",
            "coral_patches_2009/62037.jpeg\n",
            "coral_patches_2009/9684.jpeg\n",
            "coral_patches_2009/47139.jpeg\n",
            "coral_patches_2009/16069.jpeg\n",
            "coral_patches_2009/22736.jpeg\n",
            "coral_patches_2009/15379.jpeg\n",
            "coral_patches_2009/68059.jpeg\n",
            "coral_patches_2009/42643.jpeg\n",
            "coral_patches_2009/42819.jpeg\n",
            "coral_patches_2009/57860.jpeg\n",
            "coral_patches_2009/3550.jpeg\n",
            "coral_patches_2009/4451.jpeg\n",
            "coral_patches_2009/30747.jpeg\n",
            "coral_patches_2009/56495.jpeg\n",
            "coral_patches_2009/62757.jpeg\n",
            "coral_patches_2009/46208.jpeg\n",
            "coral_patches_2009/53365.jpeg\n",
            "coral_patches_2009/31881.jpeg\n",
            "coral_patches_2009/57748.jpeg\n",
            "coral_patches_2009/57542.jpeg\n",
            "coral_patches_2009/9795.jpeg\n",
            "coral_patches_2009/24088.jpeg\n",
            "coral_patches_2009/55214.jpeg\n",
            "coral_patches_2009/49607.jpeg\n",
            "coral_patches_2009/8345.jpeg\n",
            "coral_patches_2009/61381.jpeg\n",
            "coral_patches_2009/2130.jpeg\n",
            "coral_patches_2009/13113.jpeg\n",
            "coral_patches_2009/53463.jpeg\n",
            "coral_patches_2009/45857.jpeg\n",
            "coral_patches_2009/25186.jpeg\n",
            "coral_patches_2009/16326.jpeg\n",
            "coral_patches_2009/12562.jpeg\n",
            "coral_patches_2009/208.jpeg\n",
            "coral_patches_2009/40291.jpeg\n",
            "coral_patches_2009/1090.jpeg\n",
            "coral_patches_2009/14563.jpeg\n",
            "coral_patches_2009/53411.jpeg\n",
            "coral_patches_2009/32161.jpeg\n",
            "coral_patches_2009/68112.jpeg\n",
            "coral_patches_2009/11170.jpeg\n",
            "coral_patches_2009/43956.jpeg\n",
            "coral_patches_2009/61520.jpeg\n",
            "coral_patches_2009/32190.jpeg\n",
            "coral_patches_2009/23262.jpeg\n",
            "coral_patches_2009/7203.jpeg\n",
            "coral_patches_2009/47667.jpeg\n",
            "coral_patches_2009/66971.jpeg\n",
            "coral_patches_2009/21221.jpeg\n",
            "coral_patches_2009/35642.jpeg\n",
            "coral_patches_2009/19604.jpeg\n",
            "coral_patches_2009/47226.jpeg\n",
            "coral_patches_2009/49257.jpeg\n",
            "coral_patches_2009/66980.jpeg\n",
            "coral_patches_2009/23302.jpeg\n",
            "coral_patches_2009/35444.jpeg\n",
            "coral_patches_2009/19735.jpeg\n",
            "coral_patches_2009/152.jpeg\n",
            "coral_patches_2009/31394.jpeg\n",
            "coral_patches_2009/19665.jpeg\n",
            "coral_patches_2009/71633.jpeg\n",
            "coral_patches_2009/26138.jpeg\n",
            "coral_patches_2009/16825.jpeg\n",
            "coral_patches_2009/51108.jpeg\n",
            "coral_patches_2009/99.jpeg\n",
            "coral_patches_2009/46066.jpeg\n",
            "coral_patches_2009/450.jpeg\n",
            "coral_patches_2009/37092.jpeg\n",
            "coral_patches_2009/3551.jpeg\n",
            "coral_patches_2009/16278.jpeg\n",
            "coral_patches_2009/31000.jpeg\n",
            "coral_patches_2009/13417.jpeg\n",
            "coral_patches_2009/66308.jpeg\n",
            "coral_patches_2009/6315.jpeg\n",
            "coral_patches_2009/38766.jpeg\n",
            "coral_patches_2009/15865.jpeg\n",
            "coral_patches_2009/24567.jpeg\n",
            "coral_patches_2009/57710.jpeg\n",
            "coral_patches_2009/6187.jpeg\n",
            "coral_patches_2009/35215.jpeg\n",
            "coral_patches_2009/15162.jpeg\n",
            "coral_patches_2009/21598.jpeg\n",
            "coral_patches_2009/3829.jpeg\n",
            "coral_patches_2009/24142.jpeg\n",
            "coral_patches_2009/69571.jpeg\n",
            "coral_patches_2009/13255.jpeg\n",
            "coral_patches_2009/17594.jpeg\n",
            "coral_patches_2009/13032.jpeg\n",
            "coral_patches_2009/21663.jpeg\n",
            "coral_patches_2009/42251.jpeg\n",
            "coral_patches_2009/1725.jpeg\n",
            "coral_patches_2009/28957.jpeg\n",
            "coral_patches_2009/13787.jpeg\n",
            "coral_patches_2009/640.jpeg\n",
            "coral_patches_2009/67169.jpeg\n",
            "coral_patches_2009/14618.jpeg\n",
            "coral_patches_2009/67112.jpeg\n",
            "coral_patches_2009/68277.jpeg\n",
            "coral_patches_2009/17354.jpeg\n",
            "coral_patches_2009/2666.jpeg\n",
            "coral_patches_2009/7373.jpeg\n",
            "coral_patches_2009/27060.jpeg\n",
            "coral_patches_2009/70171.jpeg\n",
            "coral_patches_2009/10175.jpeg\n",
            "coral_patches_2009/1076.jpeg\n",
            "coral_patches_2009/53968.jpeg\n",
            "coral_patches_2009/69736.jpeg\n",
            "coral_patches_2009/17644.jpeg\n",
            "coral_patches_2009/33648.jpeg\n",
            "coral_patches_2009/40233.jpeg\n",
            "coral_patches_2009/40227.jpeg\n",
            "coral_patches_2009/14497.jpeg\n",
            "coral_patches_2009/69766.jpeg\n",
            "coral_patches_2009/66461.jpeg\n",
            "coral_patches_2009/61991.jpeg\n",
            "coral_patches_2009/41667.jpeg\n",
            "coral_patches_2009/13291.jpeg\n",
            "coral_patches_2009/23536.jpeg\n",
            "coral_patches_2009/30770.jpeg\n",
            "coral_patches_2009/7837.jpeg\n",
            "coral_patches_2009/42811.jpeg\n",
            "coral_patches_2009/6555.jpeg\n",
            "coral_patches_2009/17003.jpeg\n",
            "coral_patches_2009/51253.jpeg\n",
            "coral_patches_2009/56042.jpeg\n",
            "coral_patches_2009/33270.jpeg\n",
            "coral_patches_2009/15718.jpeg\n",
            "coral_patches_2009/13069.jpeg\n",
            "coral_patches_2009/30921.jpeg\n",
            "coral_patches_2009/24353.jpeg\n",
            "coral_patches_2009/38277.jpeg\n",
            "coral_patches_2009/33037.jpeg\n",
            "coral_patches_2009/20957.jpeg\n",
            "coral_patches_2009/34681.jpeg\n",
            "coral_patches_2009/18352.jpeg\n",
            "coral_patches_2009/49542.jpeg\n",
            "coral_patches_2009/52044.jpeg\n",
            "coral_patches_2009/50117.jpeg\n",
            "coral_patches_2009/6138.jpeg\n",
            "coral_patches_2009/20356.jpeg\n",
            "coral_patches_2009/16715.jpeg\n",
            "coral_patches_2009/62594.jpeg\n",
            "coral_patches_2009/28180.jpeg\n",
            "coral_patches_2009/17326.jpeg\n",
            "coral_patches_2009/37696.jpeg\n",
            "coral_patches_2009/57763.jpeg\n",
            "coral_patches_2009/17375.jpeg\n",
            "coral_patches_2009/14194.jpeg\n",
            "coral_patches_2009/24316.jpeg\n",
            "coral_patches_2009/2233.jpeg\n",
            "coral_patches_2009/55090.jpeg\n",
            "coral_patches_2009/67670.jpeg\n",
            "coral_patches_2009/5357.jpeg\n",
            "coral_patches_2009/12858.jpeg\n",
            "coral_patches_2009/24425.jpeg\n",
            "coral_patches_2009/59056.jpeg\n",
            "coral_patches_2009/21973.jpeg\n",
            "coral_patches_2009/12064.jpeg\n",
            "coral_patches_2009/70510.jpeg\n",
            "coral_patches_2009/60912.jpeg\n",
            "coral_patches_2009/52894.jpeg\n",
            "coral_patches_2009/12780.jpeg\n",
            "coral_patches_2009/12628.jpeg\n",
            "coral_patches_2009/11131.jpeg\n",
            "coral_patches_2009/51929.jpeg\n",
            "coral_patches_2009/63655.jpeg\n",
            "coral_patches_2009/45340.jpeg\n",
            "coral_patches_2009/11806.jpeg\n",
            "coral_patches_2009/49227.jpeg\n",
            "coral_patches_2009/51239.jpeg\n",
            "coral_patches_2009/15358.jpeg\n",
            "coral_patches_2009/38269.jpeg\n",
            "coral_patches_2009/60593.jpeg\n",
            "coral_patches_2009/25618.jpeg\n",
            "coral_patches_2009/20960.jpeg\n",
            "coral_patches_2009/36856.jpeg\n",
            "coral_patches_2009/2861.jpeg\n",
            "coral_patches_2009/29574.jpeg\n",
            "coral_patches_2009/26248.jpeg\n",
            "coral_patches_2009/34045.jpeg\n",
            "coral_patches_2009/18592.jpeg\n",
            "coral_patches_2009/48434.jpeg\n",
            "coral_patches_2009/43858.jpeg\n",
            "coral_patches_2009/35699.jpeg\n",
            "coral_patches_2009/13757.jpeg\n",
            "coral_patches_2009/52040.jpeg\n",
            "coral_patches_2009/65704.jpeg\n",
            "coral_patches_2009/49387.jpeg\n",
            "coral_patches_2009/71361.jpeg\n",
            "coral_patches_2009/34814.jpeg\n",
            "coral_patches_2009/42032.jpeg\n",
            "coral_patches_2009/34435.jpeg\n",
            "coral_patches_2009/3077.jpeg\n",
            "coral_patches_2009/47633.jpeg\n",
            "coral_patches_2009/2161.jpeg\n",
            "coral_patches_2009/32189.jpeg\n",
            "coral_patches_2009/6542.jpeg\n",
            "coral_patches_2009/19555.jpeg\n",
            "coral_patches_2009/56258.jpeg\n",
            "coral_patches_2009/68934.jpeg\n",
            "coral_patches_2009/24642.jpeg\n",
            "coral_patches_2009/5808.jpeg\n",
            "coral_patches_2009/4055.jpeg\n",
            "coral_patches_2009/54898.jpeg\n",
            "coral_patches_2009/25240.jpeg\n",
            "coral_patches_2009/44783.jpeg\n",
            "coral_patches_2009/20462.jpeg\n",
            "coral_patches_2009/31581.jpeg\n",
            "coral_patches_2009/43317.jpeg\n",
            "coral_patches_2009/21304.jpeg\n",
            "coral_patches_2009/736.jpeg\n",
            "coral_patches_2009/28188.jpeg\n",
            "coral_patches_2009/13207.jpeg\n",
            "coral_patches_2009/28150.jpeg\n",
            "coral_patches_2009/31228.jpeg\n",
            "coral_patches_2009/42668.jpeg\n",
            "coral_patches_2009/34988.jpeg\n",
            "coral_patches_2009/1396.jpeg\n",
            "coral_patches_2009/66269.jpeg\n",
            "coral_patches_2009/66773.jpeg\n",
            "coral_patches_2009/24162.jpeg\n",
            "coral_patches_2009/25493.jpeg\n",
            "coral_patches_2009/28346.jpeg\n",
            "coral_patches_2009/37845.jpeg\n",
            "coral_patches_2009/44338.jpeg\n",
            "coral_patches_2009/57062.jpeg\n",
            "coral_patches_2009/57604.jpeg\n",
            "coral_patches_2009/16318.jpeg\n",
            "coral_patches_2009/66165.jpeg\n",
            "coral_patches_2009/59139.jpeg\n",
            "coral_patches_2009/50269.jpeg\n",
            "coral_patches_2009/45114.jpeg\n",
            "coral_patches_2009/37751.jpeg\n",
            "coral_patches_2009/53690.jpeg\n",
            "coral_patches_2009/4137.jpeg\n",
            "coral_patches_2009/62988.jpeg\n",
            "coral_patches_2009/20571.jpeg\n",
            "coral_patches_2009/70354.jpeg\n",
            "coral_patches_2009/43565.jpeg\n",
            "coral_patches_2009/20791.jpeg\n",
            "coral_patches_2009/43862.jpeg\n",
            "coral_patches_2009/25527.jpeg\n",
            "coral_patches_2009/68158.jpeg\n",
            "coral_patches_2009/39345.jpeg\n",
            "coral_patches_2009/65637.jpeg\n",
            "coral_patches_2009/2593.jpeg\n",
            "coral_patches_2009/19680.jpeg\n",
            "coral_patches_2009/28908.jpeg\n",
            "coral_patches_2009/45434.jpeg\n",
            "coral_patches_2009/33020.jpeg\n",
            "coral_patches_2009/48387.jpeg\n",
            "coral_patches_2009/71184.jpeg\n",
            "coral_patches_2009/28234.jpeg\n",
            "coral_patches_2009/61965.jpeg\n",
            "coral_patches_2009/63295.jpeg\n",
            "coral_patches_2009/14289.jpeg\n",
            "coral_patches_2009/715.jpeg\n",
            "coral_patches_2009/22432.jpeg\n",
            "coral_patches_2009/19292.jpeg\n",
            "coral_patches_2009/12906.jpeg\n",
            "coral_patches_2009/18211.jpeg\n",
            "coral_patches_2009/50545.jpeg\n",
            "coral_patches_2009/48210.jpeg\n",
            "coral_patches_2009/34635.jpeg\n",
            "coral_patches_2009/63847.jpeg\n",
            "coral_patches_2009/15663.jpeg\n",
            "coral_patches_2009/35671.jpeg\n",
            "coral_patches_2009/9381.jpeg\n",
            "coral_patches_2009/44456.jpeg\n",
            "coral_patches_2009/7023.jpeg\n",
            "coral_patches_2009/45602.jpeg\n",
            "coral_patches_2009/49841.jpeg\n",
            "coral_patches_2009/42967.jpeg\n",
            "coral_patches_2009/40252.jpeg\n",
            "coral_patches_2009/64361.jpeg\n",
            "coral_patches_2009/11554.jpeg\n",
            "coral_patches_2009/11607.jpeg\n",
            "coral_patches_2009/60735.jpeg\n",
            "coral_patches_2009/44142.jpeg\n",
            "coral_patches_2009/41617.jpeg\n",
            "coral_patches_2009/33171.jpeg\n",
            "coral_patches_2009/31532.jpeg\n",
            "coral_patches_2009/71606.jpeg\n",
            "coral_patches_2009/10390.jpeg\n",
            "coral_patches_2009/34116.jpeg\n",
            "coral_patches_2009/4896.jpeg\n",
            "coral_patches_2009/44452.jpeg\n",
            "coral_patches_2009/66622.jpeg\n",
            "coral_patches_2009/58000.jpeg\n",
            "coral_patches_2009/51373.jpeg\n",
            "coral_patches_2009/27320.jpeg\n",
            "coral_patches_2009/9247.jpeg\n",
            "coral_patches_2009/345.jpeg\n",
            "coral_patches_2009/46926.jpeg\n",
            "coral_patches_2009/43211.jpeg\n",
            "coral_patches_2009/47295.jpeg\n",
            "coral_patches_2009/52242.jpeg\n",
            "coral_patches_2009/66450.jpeg\n",
            "coral_patches_2009/55957.jpeg\n",
            "coral_patches_2009/44339.jpeg\n",
            "coral_patches_2009/31539.jpeg\n",
            "coral_patches_2009/68681.jpeg\n",
            "coral_patches_2009/58382.jpeg\n",
            "coral_patches_2009/37526.jpeg\n",
            "coral_patches_2009/49773.jpeg\n",
            "coral_patches_2009/67273.jpeg\n",
            "coral_patches_2009/67837.jpeg\n",
            "coral_patches_2009/19565.jpeg\n",
            "coral_patches_2009/37891.jpeg\n",
            "coral_patches_2009/66319.jpeg\n",
            "coral_patches_2009/13234.jpeg\n",
            "coral_patches_2009/499.jpeg\n",
            "coral_patches_2009/7858.jpeg\n",
            "coral_patches_2009/59280.jpeg\n",
            "coral_patches_2009/11800.jpeg\n",
            "coral_patches_2009/10604.jpeg\n",
            "coral_patches_2009/6156.jpeg\n",
            "coral_patches_2009/21904.jpeg\n",
            "coral_patches_2009/57800.jpeg\n",
            "coral_patches_2009/22086.jpeg\n",
            "coral_patches_2009/38815.jpeg\n",
            "coral_patches_2009/26024.jpeg\n",
            "coral_patches_2009/50875.jpeg\n",
            "coral_patches_2009/63043.jpeg\n",
            "coral_patches_2009/48041.jpeg\n",
            "coral_patches_2009/66597.jpeg\n",
            "coral_patches_2009/38244.jpeg\n",
            "coral_patches_2009/11365.jpeg\n",
            "coral_patches_2009/2245.jpeg\n",
            "coral_patches_2009/56826.jpeg\n",
            "coral_patches_2009/38113.jpeg\n",
            "coral_patches_2009/38829.jpeg\n",
            "coral_patches_2009/54066.jpeg\n",
            "coral_patches_2009/11772.jpeg\n",
            "coral_patches_2009/21582.jpeg\n",
            "coral_patches_2009/39867.jpeg\n",
            "coral_patches_2009/1856.jpeg\n",
            "coral_patches_2009/51058.jpeg\n",
            "coral_patches_2009/39299.jpeg\n",
            "coral_patches_2009/20627.jpeg\n",
            "coral_patches_2009/11069.jpeg\n",
            "coral_patches_2009/41733.jpeg\n",
            "coral_patches_2009/40389.jpeg\n",
            "coral_patches_2009/61613.jpeg\n",
            "coral_patches_2009/55781.jpeg\n",
            "coral_patches_2009/67970.jpeg\n",
            "coral_patches_2009/27866.jpeg\n",
            "coral_patches_2009/63644.jpeg\n",
            "coral_patches_2009/3326.jpeg\n",
            "coral_patches_2009/38347.jpeg\n",
            "coral_patches_2009/37550.jpeg\n",
            "coral_patches_2009/42054.jpeg\n",
            "coral_patches_2009/32177.jpeg\n",
            "coral_patches_2009/34473.jpeg\n",
            "coral_patches_2009/6531.jpeg\n",
            "coral_patches_2009/3189.jpeg\n",
            "coral_patches_2009/12102.jpeg\n",
            "coral_patches_2009/25537.jpeg\n",
            "coral_patches_2009/343.jpeg\n",
            "coral_patches_2009/59702.jpeg\n",
            "coral_patches_2009/9821.jpeg\n",
            "coral_patches_2009/20873.jpeg\n",
            "coral_patches_2009/20089.jpeg\n",
            "coral_patches_2009/21220.jpeg\n",
            "coral_patches_2009/1623.jpeg\n",
            "coral_patches_2009/3341.jpeg\n",
            "coral_patches_2009/12346.jpeg\n",
            "coral_patches_2009/68611.jpeg\n",
            "coral_patches_2009/13165.jpeg\n",
            "coral_patches_2009/57336.jpeg\n",
            "coral_patches_2009/45779.jpeg\n",
            "coral_patches_2009/59881.jpeg\n",
            "coral_patches_2009/38159.jpeg\n",
            "coral_patches_2009/65206.jpeg\n",
            "coral_patches_2009/57963.jpeg\n",
            "coral_patches_2009/11883.jpeg\n",
            "coral_patches_2009/13325.jpeg\n",
            "coral_patches_2009/63855.jpeg\n",
            "coral_patches_2009/12796.jpeg\n",
            "coral_patches_2009/3373.jpeg\n",
            "coral_patches_2009/42173.jpeg\n",
            "coral_patches_2009/40236.jpeg\n",
            "coral_patches_2009/31459.jpeg\n",
            "coral_patches_2009/10893.jpeg\n",
            "coral_patches_2009/5764.jpeg\n",
            "coral_patches_2009/33756.jpeg\n",
            "coral_patches_2009/26184.jpeg\n",
            "coral_patches_2009/48421.jpeg\n",
            "coral_patches_2009/19372.jpeg\n",
            "coral_patches_2009/61186.jpeg\n",
            "coral_patches_2009/41611.jpeg\n",
            "coral_patches_2009/21119.jpeg\n",
            "coral_patches_2009/28355.jpeg\n",
            "coral_patches_2009/37484.jpeg\n",
            "coral_patches_2009/3342.jpeg\n",
            "coral_patches_2009/24621.jpeg\n",
            "coral_patches_2009/25460.jpeg\n",
            "coral_patches_2009/57477.jpeg\n",
            "coral_patches_2009/53691.jpeg\n",
            "coral_patches_2009/34119.jpeg\n",
            "coral_patches_2009/26580.jpeg\n",
            "coral_patches_2009/43977.jpeg\n",
            "coral_patches_2009/52412.jpeg\n",
            "coral_patches_2009/71365.jpeg\n",
            "coral_patches_2009/68755.jpeg\n",
            "coral_patches_2009/8406.jpeg\n",
            "coral_patches_2009/15489.jpeg\n",
            "coral_patches_2009/69952.jpeg\n",
            "coral_patches_2009/49216.jpeg\n",
            "coral_patches_2009/15014.jpeg\n",
            "coral_patches_2009/55758.jpeg\n",
            "coral_patches_2009/63298.jpeg\n",
            "coral_patches_2009/66353.jpeg\n",
            "coral_patches_2009/45181.jpeg\n",
            "coral_patches_2009/63215.jpeg\n",
            "coral_patches_2009/32476.jpeg\n",
            "coral_patches_2009/12017.jpeg\n",
            "coral_patches_2009/61083.jpeg\n",
            "coral_patches_2009/10431.jpeg\n",
            "coral_patches_2009/51227.jpeg\n",
            "coral_patches_2009/32181.jpeg\n",
            "coral_patches_2009/52488.jpeg\n",
            "coral_patches_2009/24292.jpeg\n",
            "coral_patches_2009/29359.jpeg\n",
            "coral_patches_2009/61769.jpeg\n",
            "coral_patches_2009/13257.jpeg\n",
            "coral_patches_2009/48019.jpeg\n",
            "coral_patches_2009/37897.jpeg\n",
            "coral_patches_2009/68616.jpeg\n",
            "coral_patches_2009/22303.jpeg\n",
            "coral_patches_2009/33862.jpeg\n",
            "coral_patches_2009/30543.jpeg\n",
            "coral_patches_2009/16555.jpeg\n",
            "coral_patches_2009/58326.jpeg\n",
            "coral_patches_2009/56901.jpeg\n",
            "coral_patches_2009/61720.jpeg\n",
            "coral_patches_2009/59814.jpeg\n",
            "coral_patches_2009/43005.jpeg\n",
            "coral_patches_2009/52347.jpeg\n",
            "coral_patches_2009/71650.jpeg\n",
            "coral_patches_2009/41215.jpeg\n",
            "coral_patches_2009/71445.jpeg\n",
            "coral_patches_2009/69972.jpeg\n",
            "coral_patches_2009/3843.jpeg\n",
            "coral_patches_2009/63405.jpeg\n",
            "coral_patches_2009/28095.jpeg\n",
            "coral_patches_2009/9162.jpeg\n",
            "coral_patches_2009/24722.jpeg\n",
            "coral_patches_2009/42150.jpeg\n",
            "coral_patches_2009/61454.jpeg\n",
            "coral_patches_2009/65873.jpeg\n",
            "coral_patches_2009/3772.jpeg\n",
            "coral_patches_2009/47822.jpeg\n",
            "coral_patches_2009/54609.jpeg\n",
            "coral_patches_2009/43572.jpeg\n",
            "coral_patches_2009/34674.jpeg\n",
            "coral_patches_2009/31246.jpeg\n",
            "coral_patches_2009/39976.jpeg\n",
            "coral_patches_2009/3664.jpeg\n",
            "coral_patches_2009/60575.jpeg\n",
            "coral_patches_2009/14756.jpeg\n",
            "coral_patches_2009/52415.jpeg\n",
            "coral_patches_2009/39225.jpeg\n",
            "coral_patches_2009/18213.jpeg\n",
            "coral_patches_2009/10463.jpeg\n",
            "coral_patches_2009/60748.jpeg\n",
            "coral_patches_2009/12526.jpeg\n",
            "coral_patches_2009/15346.jpeg\n",
            "coral_patches_2009/52785.jpeg\n",
            "coral_patches_2009/68315.jpeg\n",
            "coral_patches_2009/39930.jpeg\n",
            "coral_patches_2009/24341.jpeg\n",
            "coral_patches_2009/8609.jpeg\n",
            "coral_patches_2009/1308.jpeg\n",
            "coral_patches_2009/1258.jpeg\n",
            "coral_patches_2009/30393.jpeg\n",
            "coral_patches_2009/54741.jpeg\n",
            "coral_patches_2009/20437.jpeg\n",
            "coral_patches_2009/23683.jpeg\n",
            "coral_patches_2009/60957.jpeg\n",
            "coral_patches_2009/38083.jpeg\n",
            "coral_patches_2009/61734.jpeg\n",
            "coral_patches_2009/62016.jpeg\n",
            "coral_patches_2009/57870.jpeg\n",
            "coral_patches_2009/18460.jpeg\n",
            "coral_patches_2009/17152.jpeg\n",
            "coral_patches_2009/70960.jpeg\n",
            "coral_patches_2009/23298.jpeg\n",
            "coral_patches_2009/31883.jpeg\n",
            "coral_patches_2009/26154.jpeg\n",
            "coral_patches_2009/22926.jpeg\n",
            "coral_patches_2009/52480.jpeg\n",
            "coral_patches_2009/54432.jpeg\n",
            "coral_patches_2009/39723.jpeg\n",
            "coral_patches_2009/59875.jpeg\n",
            "coral_patches_2009/54575.jpeg\n",
            "coral_patches_2009/36756.jpeg\n",
            "coral_patches_2009/36863.jpeg\n",
            "coral_patches_2009/61928.jpeg\n",
            "coral_patches_2009/2578.jpeg\n",
            "coral_patches_2009/69023.jpeg\n",
            "coral_patches_2009/45964.jpeg\n",
            "coral_patches_2009/920.jpeg\n",
            "coral_patches_2009/16058.jpeg\n",
            "coral_patches_2009/3947.jpeg\n",
            "coral_patches_2009/6329.jpeg\n",
            "coral_patches_2009/18148.jpeg\n",
            "coral_patches_2009/37120.jpeg\n",
            "coral_patches_2009/31333.jpeg\n",
            "coral_patches_2009/2409.jpeg\n",
            "coral_patches_2009/33964.jpeg\n",
            "coral_patches_2009/55926.jpeg\n",
            "coral_patches_2009/64665.jpeg\n",
            "coral_patches_2009/30451.jpeg\n",
            "coral_patches_2009/2062.jpeg\n",
            "coral_patches_2009/70145.jpeg\n",
            "coral_patches_2009/17561.jpeg\n",
            "coral_patches_2009/45994.jpeg\n",
            "coral_patches_2009/33878.jpeg\n",
            "coral_patches_2009/24709.jpeg\n",
            "coral_patches_2009/56626.jpeg\n",
            "coral_patches_2009/67693.jpeg\n",
            "coral_patches_2009/47287.jpeg\n",
            "coral_patches_2009/16503.jpeg\n",
            "coral_patches_2009/15398.jpeg\n",
            "coral_patches_2009/37287.jpeg\n",
            "coral_patches_2009/12438.jpeg\n",
            "coral_patches_2009/30777.jpeg\n",
            "coral_patches_2009/35686.jpeg\n",
            "coral_patches_2009/9130.jpeg\n",
            "coral_patches_2009/45893.jpeg\n",
            "coral_patches_2009/40653.jpeg\n",
            "coral_patches_2009/18565.jpeg\n",
            "coral_patches_2009/57453.jpeg\n",
            "coral_patches_2009/12208.jpeg\n",
            "coral_patches_2009/50003.jpeg\n",
            "coral_patches_2009/33025.jpeg\n",
            "coral_patches_2009/65285.jpeg\n",
            "coral_patches_2009/29376.jpeg\n",
            "coral_patches_2009/8782.jpeg\n",
            "coral_patches_2009/53176.jpeg\n",
            "coral_patches_2009/28295.jpeg\n",
            "coral_patches_2009/39141.jpeg\n",
            "coral_patches_2009/42850.jpeg\n",
            "coral_patches_2009/14760.jpeg\n",
            "coral_patches_2009/36841.jpeg\n",
            "coral_patches_2009/13918.jpeg\n",
            "coral_patches_2009/64422.jpeg\n",
            "coral_patches_2009/56602.jpeg\n",
            "coral_patches_2009/9884.jpeg\n",
            "coral_patches_2009/18958.jpeg\n",
            "coral_patches_2009/54245.jpeg\n",
            "coral_patches_2009/53886.jpeg\n",
            "coral_patches_2009/4439.jpeg\n",
            "coral_patches_2009/20993.jpeg\n",
            "coral_patches_2009/54601.jpeg\n",
            "coral_patches_2009/69372.jpeg\n",
            "coral_patches_2009/26872.jpeg\n",
            "coral_patches_2009/6668.jpeg\n",
            "coral_patches_2009/70957.jpeg\n",
            "coral_patches_2009/3775.jpeg\n",
            "coral_patches_2009/38547.jpeg\n",
            "coral_patches_2009/61289.jpeg\n",
            "coral_patches_2009/37773.jpeg\n",
            "coral_patches_2009/13027.jpeg\n",
            "coral_patches_2009/3171.jpeg\n",
            "coral_patches_2009/55763.jpeg\n",
            "coral_patches_2009/32946.jpeg\n",
            "coral_patches_2009/56338.jpeg\n",
            "coral_patches_2009/50752.jpeg\n",
            "coral_patches_2009/51856.jpeg\n",
            "coral_patches_2009/38016.jpeg\n",
            "coral_patches_2009/16060.jpeg\n",
            "coral_patches_2009/32566.jpeg\n",
            "coral_patches_2009/41659.jpeg\n",
            "coral_patches_2009/50914.jpeg\n",
            "coral_patches_2009/46576.jpeg\n",
            "coral_patches_2009/30527.jpeg\n",
            "coral_patches_2009/37722.jpeg\n",
            "coral_patches_2009/40115.jpeg\n",
            "coral_patches_2009/29832.jpeg\n",
            "coral_patches_2009/12810.jpeg\n",
            "coral_patches_2009/60010.jpeg\n",
            "coral_patches_2009/36289.jpeg\n",
            "coral_patches_2009/57056.jpeg\n",
            "coral_patches_2009/58850.jpeg\n",
            "coral_patches_2009/54839.jpeg\n",
            "coral_patches_2009/18773.jpeg\n",
            "coral_patches_2009/4938.jpeg\n",
            "coral_patches_2009/53140.jpeg\n",
            "coral_patches_2009/47966.jpeg\n",
            "coral_patches_2009/58396.jpeg\n",
            "coral_patches_2009/55299.jpeg\n",
            "coral_patches_2009/47734.jpeg\n",
            "coral_patches_2009/27495.jpeg\n",
            "coral_patches_2009/64587.jpeg\n",
            "coral_patches_2009/22541.jpeg\n",
            "coral_patches_2009/47381.jpeg\n",
            "coral_patches_2009/28795.jpeg\n",
            "coral_patches_2009/68164.jpeg\n",
            "coral_patches_2009/34917.jpeg\n",
            "coral_patches_2009/20380.jpeg\n",
            "coral_patches_2009/54180.jpeg\n",
            "coral_patches_2009/19971.jpeg\n",
            "coral_patches_2009/40522.jpeg\n",
            "coral_patches_2009/2955.jpeg\n",
            "coral_patches_2009/32536.jpeg\n",
            "coral_patches_2009/32352.jpeg\n",
            "coral_patches_2009/6032.jpeg\n",
            "coral_patches_2009/14039.jpeg\n",
            "coral_patches_2009/27061.jpeg\n",
            "coral_patches_2009/51749.jpeg\n",
            "coral_patches_2009/68134.jpeg\n",
            "coral_patches_2009/8989.jpeg\n",
            "coral_patches_2009/70828.jpeg\n",
            "coral_patches_2009/19838.jpeg\n",
            "coral_patches_2009/16916.jpeg\n",
            "coral_patches_2009/61899.jpeg\n",
            "coral_patches_2009/13788.jpeg\n",
            "coral_patches_2009/65797.jpeg\n",
            "coral_patches_2009/44563.jpeg\n",
            "coral_patches_2009/55063.jpeg\n",
            "coral_patches_2009/66108.jpeg\n",
            "coral_patches_2009/53317.jpeg\n",
            "coral_patches_2009/67367.jpeg\n",
            "coral_patches_2009/38889.jpeg\n",
            "coral_patches_2009/44865.jpeg\n",
            "coral_patches_2009/4219.jpeg\n",
            "coral_patches_2009/45860.jpeg\n",
            "coral_patches_2009/38017.jpeg\n",
            "coral_patches_2009/8591.jpeg\n",
            "coral_patches_2009/27671.jpeg\n",
            "coral_patches_2009/22637.jpeg\n",
            "coral_patches_2009/40382.jpeg\n",
            "coral_patches_2009/13457.jpeg\n",
            "coral_patches_2009/18836.jpeg\n",
            "coral_patches_2009/2586.jpeg\n",
            "coral_patches_2009/1147.jpeg\n",
            "coral_patches_2009/14600.jpeg\n",
            "coral_patches_2009/42504.jpeg\n",
            "coral_patches_2009/28893.jpeg\n",
            "coral_patches_2009/23497.jpeg\n",
            "coral_patches_2009/2538.jpeg\n",
            "coral_patches_2009/44893.jpeg\n",
            "coral_patches_2009/39646.jpeg\n",
            "coral_patches_2009/49034.jpeg\n",
            "coral_patches_2009/5967.jpeg\n",
            "coral_patches_2009/34997.jpeg\n",
            "coral_patches_2009/17104.jpeg\n",
            "coral_patches_2009/29464.jpeg\n",
            "coral_patches_2009/53975.jpeg\n",
            "coral_patches_2009/62129.jpeg\n",
            "coral_patches_2009/24583.jpeg\n",
            "coral_patches_2009/46582.jpeg\n",
            "coral_patches_2009/2414.jpeg\n",
            "coral_patches_2009/54728.jpeg\n",
            "coral_patches_2009/70668.jpeg\n",
            "coral_patches_2009/70089.jpeg\n",
            "coral_patches_2009/69996.jpeg\n",
            "coral_patches_2009/110.jpeg\n",
            "coral_patches_2009/37191.jpeg\n",
            "coral_patches_2009/10916.jpeg\n",
            "coral_patches_2009/56591.jpeg\n",
            "coral_patches_2009/37912.jpeg\n",
            "coral_patches_2009/46864.jpeg\n",
            "coral_patches_2009/6813.jpeg\n",
            "coral_patches_2009/11227.jpeg\n",
            "coral_patches_2009/63172.jpeg\n",
            "coral_patches_2009/27269.jpeg\n",
            "coral_patches_2009/55082.jpeg\n",
            "coral_patches_2009/58927.jpeg\n",
            "coral_patches_2009/44575.jpeg\n",
            "coral_patches_2009/56077.jpeg\n",
            "coral_patches_2009/35048.jpeg\n",
            "coral_patches_2009/44608.jpeg\n",
            "coral_patches_2009/48476.jpeg\n",
            "coral_patches_2009/44347.jpeg\n",
            "coral_patches_2009/24467.jpeg\n",
            "coral_patches_2009/32191.jpeg\n",
            "coral_patches_2009/50414.jpeg\n",
            "coral_patches_2009/35514.jpeg\n",
            "coral_patches_2009/49071.jpeg\n",
            "coral_patches_2009/66408.jpeg\n",
            "coral_patches_2009/38433.jpeg\n",
            "coral_patches_2009/20381.jpeg\n",
            "coral_patches_2009/7784.jpeg\n",
            "coral_patches_2009/16804.jpeg\n",
            "coral_patches_2009/21386.jpeg\n",
            "coral_patches_2009/45228.jpeg\n",
            "coral_patches_2009/34205.jpeg\n",
            "coral_patches_2009/43882.jpeg\n",
            "coral_patches_2009/71621.jpeg\n",
            "coral_patches_2009/47034.jpeg\n",
            "coral_patches_2009/64744.jpeg\n",
            "coral_patches_2009/44927.jpeg\n",
            "coral_patches_2009/21266.jpeg\n",
            "coral_patches_2009/27963.jpeg\n",
            "coral_patches_2009/58307.jpeg\n",
            "coral_patches_2009/59687.jpeg\n",
            "coral_patches_2009/12901.jpeg\n",
            "coral_patches_2009/50786.jpeg\n",
            "coral_patches_2009/45380.jpeg\n",
            "coral_patches_2009/70438.jpeg\n",
            "coral_patches_2009/67611.jpeg\n",
            "coral_patches_2009/52200.jpeg\n",
            "coral_patches_2009/60734.jpeg\n",
            "coral_patches_2009/59763.jpeg\n",
            "coral_patches_2009/4090.jpeg\n",
            "coral_patches_2009/40794.jpeg\n",
            "coral_patches_2009/9425.jpeg\n",
            "coral_patches_2009/69229.jpeg\n",
            "coral_patches_2009/7078.jpeg\n",
            "coral_patches_2009/61038.jpeg\n",
            "coral_patches_2009/48270.jpeg\n",
            "coral_patches_2009/9226.jpeg\n",
            "coral_patches_2009/56354.jpeg\n",
            "coral_patches_2009/53094.jpeg\n",
            "coral_patches_2009/27084.jpeg\n",
            "coral_patches_2009/15253.jpeg\n",
            "coral_patches_2009/43250.jpeg\n",
            "coral_patches_2009/32019.jpeg\n",
            "coral_patches_2009/58563.jpeg\n",
            "coral_patches_2009/30521.jpeg\n",
            "coral_patches_2009/356.jpeg\n",
            "coral_patches_2009/53404.jpeg\n",
            "coral_patches_2009/62590.jpeg\n",
            "coral_patches_2009/9998.jpeg\n",
            "coral_patches_2009/16426.jpeg\n",
            "coral_patches_2009/35823.jpeg\n",
            "coral_patches_2009/38163.jpeg\n",
            "coral_patches_2009/66735.jpeg\n",
            "coral_patches_2009/18106.jpeg\n",
            "coral_patches_2009/35605.jpeg\n",
            "coral_patches_2009/34572.jpeg\n",
            "coral_patches_2009/6500.jpeg\n",
            "coral_patches_2009/59669.jpeg\n",
            "coral_patches_2009/67831.jpeg\n",
            "coral_patches_2009/34924.jpeg\n",
            "coral_patches_2009/14595.jpeg\n",
            "coral_patches_2009/53704.jpeg\n",
            "coral_patches_2009/64231.jpeg\n",
            "coral_patches_2009/25630.jpeg\n",
            "coral_patches_2009/8020.jpeg\n",
            "coral_patches_2009/5670.jpeg\n",
            "coral_patches_2009/13731.jpeg\n",
            "coral_patches_2009/70306.jpeg\n",
            "coral_patches_2009/9174.jpeg\n",
            "coral_patches_2009/57217.jpeg\n",
            "coral_patches_2009/26810.jpeg\n",
            "coral_patches_2009/37228.jpeg\n",
            "coral_patches_2009/43760.jpeg\n",
            "coral_patches_2009/13409.jpeg\n",
            "coral_patches_2009/55183.jpeg\n",
            "coral_patches_2009/42515.jpeg\n",
            "coral_patches_2009/55938.jpeg\n",
            "coral_patches_2009/40043.jpeg\n",
            "coral_patches_2009/52299.jpeg\n",
            "coral_patches_2009/2029.jpeg\n",
            "coral_patches_2009/39760.jpeg\n",
            "coral_patches_2009/58508.jpeg\n",
            "coral_patches_2009/1487.jpeg\n",
            "coral_patches_2009/12366.jpeg\n",
            "coral_patches_2009/32054.jpeg\n",
            "coral_patches_2009/26460.jpeg\n",
            "coral_patches_2009/62123.jpeg\n",
            "coral_patches_2009/25374.jpeg\n",
            "coral_patches_2009/54611.jpeg\n",
            "coral_patches_2009/55441.jpeg\n",
            "coral_patches_2009/34523.jpeg\n",
            "coral_patches_2009/50007.jpeg\n",
            "coral_patches_2009/58225.jpeg\n",
            "coral_patches_2009/13462.jpeg\n",
            "coral_patches_2009/29895.jpeg\n",
            "coral_patches_2009/10020.jpeg\n",
            "coral_patches_2009/63289.jpeg\n",
            "coral_patches_2009/59177.jpeg\n",
            "coral_patches_2009/14686.jpeg\n",
            "coral_patches_2009/67489.jpeg\n",
            "coral_patches_2009/6387.jpeg\n",
            "coral_patches_2009/22125.jpeg\n",
            "coral_patches_2009/60025.jpeg\n",
            "coral_patches_2009/54025.jpeg\n",
            "coral_patches_2009/67107.jpeg\n",
            "coral_patches_2009/61770.jpeg\n",
            "coral_patches_2009/47000.jpeg\n",
            "coral_patches_2009/68644.jpeg\n",
            "coral_patches_2009/1978.jpeg\n",
            "coral_patches_2009/4868.jpeg\n",
            "coral_patches_2009/10353.jpeg\n",
            "coral_patches_2009/39460.jpeg\n",
            "coral_patches_2009/18108.jpeg\n",
            "coral_patches_2009/23362.jpeg\n",
            "coral_patches_2009/39593.jpeg\n",
            "coral_patches_2009/71495.jpeg\n",
            "coral_patches_2009/34668.jpeg\n",
            "coral_patches_2009/58217.jpeg\n",
            "coral_patches_2009/17196.jpeg\n",
            "coral_patches_2009/23835.jpeg\n",
            "coral_patches_2009/62991.jpeg\n",
            "coral_patches_2009/4468.jpeg\n",
            "coral_patches_2009/27054.jpeg\n",
            "coral_patches_2009/8654.jpeg\n",
            "coral_patches_2009/1137.jpeg\n",
            "coral_patches_2009/9443.jpeg\n",
            "coral_patches_2009/37705.jpeg\n",
            "coral_patches_2009/70671.jpeg\n",
            "coral_patches_2009/29811.jpeg\n",
            "coral_patches_2009/51033.jpeg\n",
            "coral_patches_2009/25397.jpeg\n",
            "coral_patches_2009/25037.jpeg\n",
            "coral_patches_2009/11212.jpeg\n",
            "coral_patches_2009/36181.jpeg\n",
            "coral_patches_2009/44690.jpeg\n",
            "coral_patches_2009/29599.jpeg\n",
            "coral_patches_2009/53788.jpeg\n",
            "coral_patches_2009/20696.jpeg\n",
            "coral_patches_2009/9377.jpeg\n",
            "coral_patches_2009/57690.jpeg\n",
            "coral_patches_2009/31908.jpeg\n",
            "coral_patches_2009/58839.jpeg\n",
            "coral_patches_2009/2464.jpeg\n",
            "coral_patches_2009/62789.jpeg\n",
            "coral_patches_2009/8244.jpeg\n",
            "coral_patches_2009/36569.jpeg\n",
            "coral_patches_2009/62392.jpeg\n",
            "coral_patches_2009/41823.jpeg\n",
            "coral_patches_2009/33305.jpeg\n",
            "coral_patches_2009/32644.jpeg\n",
            "coral_patches_2009/45818.jpeg\n",
            "coral_patches_2009/44026.jpeg\n",
            "coral_patches_2009/28840.jpeg\n",
            "coral_patches_2009/57116.jpeg\n",
            "coral_patches_2009/27047.jpeg\n",
            "coral_patches_2009/5398.jpeg\n",
            "coral_patches_2009/9344.jpeg\n",
            "coral_patches_2009/53177.jpeg\n",
            "coral_patches_2009/63745.jpeg\n",
            "coral_patches_2009/27740.jpeg\n",
            "coral_patches_2009/47179.jpeg\n",
            "coral_patches_2009/65816.jpeg\n",
            "coral_patches_2009/7826.jpeg\n",
            "coral_patches_2009/48848.jpeg\n",
            "coral_patches_2009/19350.jpeg\n",
            "coral_patches_2009/50781.jpeg\n",
            "coral_patches_2009/48231.jpeg\n",
            "coral_patches_2009/623.jpeg\n",
            "coral_patches_2009/3851.jpeg\n",
            "coral_patches_2009/70978.jpeg\n",
            "coral_patches_2009/59691.jpeg\n",
            "coral_patches_2009/58997.jpeg\n",
            "coral_patches_2009/5529.jpeg\n",
            "coral_patches_2009/47427.jpeg\n",
            "coral_patches_2009/38027.jpeg\n",
            "coral_patches_2009/39626.jpeg\n",
            "coral_patches_2009/39948.jpeg\n",
            "coral_patches_2009/61189.jpeg\n",
            "coral_patches_2009/5734.jpeg\n",
            "coral_patches_2009/20309.jpeg\n",
            "coral_patches_2009/40322.jpeg\n",
            "coral_patches_2009/67308.jpeg\n",
            "coral_patches_2009/22721.jpeg\n",
            "coral_patches_2009/34519.jpeg\n",
            "coral_patches_2009/64102.jpeg\n",
            "coral_patches_2009/29261.jpeg\n",
            "coral_patches_2009/18114.jpeg\n",
            "coral_patches_2009/28934.jpeg\n",
            "coral_patches_2009/60849.jpeg\n",
            "coral_patches_2009/45341.jpeg\n",
            "coral_patches_2009/19392.jpeg\n",
            "coral_patches_2009/23621.jpeg\n",
            "coral_patches_2009/69518.jpeg\n",
            "coral_patches_2009/24187.jpeg\n",
            "coral_patches_2009/20584.jpeg\n",
            "coral_patches_2009/13745.jpeg\n",
            "coral_patches_2009/6215.jpeg\n",
            "coral_patches_2009/10022.jpeg\n",
            "coral_patches_2009/26496.jpeg\n",
            "coral_patches_2009/9863.jpeg\n",
            "coral_patches_2009/47252.jpeg\n",
            "coral_patches_2009/995.jpeg\n",
            "coral_patches_2009/33945.jpeg\n",
            "coral_patches_2009/70143.jpeg\n",
            "coral_patches_2009/39931.jpeg\n",
            "coral_patches_2009/38218.jpeg\n",
            "coral_patches_2009/28831.jpeg\n",
            "coral_patches_2009/53654.jpeg\n",
            "coral_patches_2009/41339.jpeg\n",
            "coral_patches_2009/55248.jpeg\n",
            "coral_patches_2009/22417.jpeg\n",
            "coral_patches_2009/64700.jpeg\n",
            "coral_patches_2009/24040.jpeg\n",
            "coral_patches_2009/55911.jpeg\n",
            "coral_patches_2009/16013.jpeg\n",
            "coral_patches_2009/12947.jpeg\n",
            "coral_patches_2009/28675.jpeg\n",
            "coral_patches_2009/29591.jpeg\n",
            "coral_patches_2009/6585.jpeg\n",
            "coral_patches_2009/5647.jpeg\n",
            "coral_patches_2009/391.jpeg\n",
            "coral_patches_2009/54531.jpeg\n",
            "coral_patches_2009/44149.jpeg\n",
            "coral_patches_2009/23782.jpeg\n",
            "coral_patches_2009/32297.jpeg\n",
            "coral_patches_2009/27680.jpeg\n",
            "coral_patches_2009/60175.jpeg\n",
            "coral_patches_2009/15070.jpeg\n",
            "coral_patches_2009/40311.jpeg\n",
            "coral_patches_2009/58525.jpeg\n",
            "coral_patches_2009/49381.jpeg\n",
            "coral_patches_2009/54204.jpeg\n",
            "coral_patches_2009/9576.jpeg\n",
            "coral_patches_2009/4474.jpeg\n",
            "coral_patches_2009/42672.jpeg\n",
            "coral_patches_2009/6937.jpeg\n",
            "coral_patches_2009/45990.jpeg\n",
            "coral_patches_2009/65980.jpeg\n",
            "coral_patches_2009/2879.jpeg\n",
            "coral_patches_2009/70956.jpeg\n",
            "coral_patches_2009/32329.jpeg\n",
            "coral_patches_2009/39449.jpeg\n",
            "coral_patches_2009/31484.jpeg\n",
            "coral_patches_2009/36074.jpeg\n",
            "coral_patches_2009/66080.jpeg\n",
            "coral_patches_2009/11608.jpeg\n",
            "coral_patches_2009/20153.jpeg\n",
            "coral_patches_2009/21990.jpeg\n",
            "coral_patches_2009/39550.jpeg\n",
            "coral_patches_2009/9089.jpeg\n",
            "coral_patches_2009/21903.jpeg\n",
            "coral_patches_2009/15720.jpeg\n",
            "coral_patches_2009/23433.jpeg\n",
            "coral_patches_2009/16576.jpeg\n",
            "coral_patches_2009/71259.jpeg\n",
            "coral_patches_2009/68383.jpeg\n",
            "coral_patches_2009/5244.jpeg\n",
            "coral_patches_2009/46361.jpeg\n",
            "coral_patches_2009/61957.jpeg\n",
            "coral_patches_2009/27089.jpeg\n",
            "coral_patches_2009/69802.jpeg\n",
            "coral_patches_2009/19118.jpeg\n",
            "coral_patches_2009/39010.jpeg\n",
            "coral_patches_2009/69211.jpeg\n",
            "coral_patches_2009/39291.jpeg\n",
            "coral_patches_2009/62627.jpeg\n",
            "coral_patches_2009/55975.jpeg\n",
            "coral_patches_2009/55004.jpeg\n",
            "coral_patches_2009/68452.jpeg\n",
            "coral_patches_2009/53531.jpeg\n",
            "coral_patches_2009/27067.jpeg\n",
            "coral_patches_2009/64922.jpeg\n",
            "coral_patches_2009/43990.jpeg\n",
            "coral_patches_2009/30804.jpeg\n",
            "coral_patches_2009/66209.jpeg\n",
            "coral_patches_2009/10736.jpeg\n",
            "coral_patches_2009/64113.jpeg\n",
            "coral_patches_2009/27741.jpeg\n",
            "coral_patches_2009/27179.jpeg\n",
            "coral_patches_2009/2897.jpeg\n",
            "coral_patches_2009/36561.jpeg\n",
            "coral_patches_2009/24657.jpeg\n",
            "coral_patches_2009/27052.jpeg\n",
            "coral_patches_2009/65585.jpeg\n",
            "coral_patches_2009/54868.jpeg\n",
            "coral_patches_2009/25496.jpeg\n",
            "coral_patches_2009/34150.jpeg\n",
            "coral_patches_2009/55232.jpeg\n",
            "coral_patches_2009/41029.jpeg\n",
            "coral_patches_2009/8879.jpeg\n",
            "coral_patches_2009/30300.jpeg\n",
            "coral_patches_2009/2482.jpeg\n",
            "coral_patches_2009/51778.jpeg\n",
            "coral_patches_2009/34400.jpeg\n",
            "coral_patches_2009/63734.jpeg\n",
            "coral_patches_2009/61901.jpeg\n",
            "coral_patches_2009/45595.jpeg\n",
            "coral_patches_2009/46193.jpeg\n",
            "coral_patches_2009/51675.jpeg\n",
            "coral_patches_2009/27124.jpeg\n",
            "coral_patches_2009/45217.jpeg\n",
            "coral_patches_2009/15297.jpeg\n",
            "coral_patches_2009/30298.jpeg\n",
            "coral_patches_2009/52495.jpeg\n",
            "coral_patches_2009/517.jpeg\n",
            "coral_patches_2009/60238.jpeg\n",
            "coral_patches_2009/34207.jpeg\n",
            "coral_patches_2009/59060.jpeg\n",
            "coral_patches_2009/7357.jpeg\n",
            "coral_patches_2009/52554.jpeg\n",
            "coral_patches_2009/14710.jpeg\n",
            "coral_patches_2009/1069.jpeg\n",
            "coral_patches_2009/48196.jpeg\n",
            "coral_patches_2009/16131.jpeg\n",
            "coral_patches_2009/69136.jpeg\n",
            "coral_patches_2009/39473.jpeg\n",
            "coral_patches_2009/55711.jpeg\n",
            "coral_patches_2009/31414.jpeg\n",
            "coral_patches_2009/30409.jpeg\n",
            "coral_patches_2009/36877.jpeg\n",
            "coral_patches_2009/65133.jpeg\n",
            "coral_patches_2009/11964.jpeg\n",
            "coral_patches_2009/34768.jpeg\n",
            "coral_patches_2009/21203.jpeg\n",
            "coral_patches_2009/66085.jpeg\n",
            "coral_patches_2009/5638.jpeg\n",
            "coral_patches_2009/44746.jpeg\n",
            "coral_patches_2009/10779.jpeg\n",
            "coral_patches_2009/32234.jpeg\n",
            "coral_patches_2009/64045.jpeg\n",
            "coral_patches_2009/14.jpeg\n",
            "coral_patches_2009/58255.jpeg\n",
            "coral_patches_2009/28426.jpeg\n",
            "coral_patches_2009/55959.jpeg\n",
            "coral_patches_2009/70093.jpeg\n",
            "coral_patches_2009/44824.jpeg\n",
            "coral_patches_2009/17741.jpeg\n",
            "coral_patches_2009/50838.jpeg\n",
            "coral_patches_2009/26571.jpeg\n",
            "coral_patches_2009/20432.jpeg\n",
            "coral_patches_2009/64429.jpeg\n",
            "coral_patches_2009/61945.jpeg\n",
            "coral_patches_2009/37007.jpeg\n",
            "coral_patches_2009/59518.jpeg\n",
            "coral_patches_2009/22264.jpeg\n",
            "coral_patches_2009/12468.jpeg\n",
            "coral_patches_2009/14323.jpeg\n",
            "coral_patches_2009/22373.jpeg\n",
            "coral_patches_2009/50505.jpeg\n",
            "coral_patches_2009/31522.jpeg\n",
            "coral_patches_2009/13307.jpeg\n",
            "coral_patches_2009/66086.jpeg\n",
            "coral_patches_2009/34950.jpeg\n",
            "coral_patches_2009/23290.jpeg\n",
            "coral_patches_2009/19888.jpeg\n",
            "coral_patches_2009/41373.jpeg\n",
            "coral_patches_2009/48947.jpeg\n",
            "coral_patches_2009/48797.jpeg\n",
            "coral_patches_2009/13263.jpeg\n",
            "coral_patches_2009/37037.jpeg\n",
            "coral_patches_2009/13180.jpeg\n",
            "coral_patches_2009/63956.jpeg\n",
            "coral_patches_2009/7949.jpeg\n",
            "coral_patches_2009/5153.jpeg\n",
            "coral_patches_2009/54062.jpeg\n",
            "coral_patches_2009/25686.jpeg\n",
            "coral_patches_2009/58749.jpeg\n",
            "coral_patches_2009/51469.jpeg\n",
            "coral_patches_2009/38464.jpeg\n",
            "coral_patches_2009/60487.jpeg\n",
            "coral_patches_2009/65709.jpeg\n",
            "coral_patches_2009/59444.jpeg\n",
            "coral_patches_2009/64054.jpeg\n",
            "coral_patches_2009/25004.jpeg\n",
            "coral_patches_2009/10847.jpeg\n",
            "coral_patches_2009/49082.jpeg\n",
            "coral_patches_2009/29915.jpeg\n",
            "coral_patches_2009/43633.jpeg\n",
            "coral_patches_2009/53857.jpeg\n",
            "coral_patches_2009/28605.jpeg\n",
            "coral_patches_2009/18927.jpeg\n",
            "coral_patches_2009/20265.jpeg\n",
            "coral_patches_2009/26756.jpeg\n",
            "coral_patches_2009/70346.jpeg\n",
            "coral_patches_2009/38101.jpeg\n",
            "coral_patches_2009/46159.jpeg\n",
            "coral_patches_2009/13565.jpeg\n",
            "coral_patches_2009/39749.jpeg\n",
            "coral_patches_2009/26182.jpeg\n",
            "coral_patches_2009/14539.jpeg\n",
            "coral_patches_2009/41847.jpeg\n",
            "coral_patches_2009/2816.jpeg\n",
            "coral_patches_2009/59170.jpeg\n",
            "coral_patches_2009/18854.jpeg\n",
            "coral_patches_2009/28770.jpeg\n",
            "coral_patches_2009/41365.jpeg\n",
            "coral_patches_2009/52047.jpeg\n",
            "coral_patches_2009/66452.jpeg\n",
            "coral_patches_2009/16572.jpeg\n",
            "coral_patches_2009/37437.jpeg\n",
            "coral_patches_2009/56228.jpeg\n",
            "coral_patches_2009/25551.jpeg\n",
            "coral_patches_2009/28563.jpeg\n",
            "coral_patches_2009/27139.jpeg\n",
            "coral_patches_2009/53672.jpeg\n",
            "coral_patches_2009/70184.jpeg\n",
            "coral_patches_2009/48113.jpeg\n",
            "coral_patches_2009/41171.jpeg\n",
            "coral_patches_2009/56922.jpeg\n",
            "coral_patches_2009/49404.jpeg\n",
            "coral_patches_2009/31052.jpeg\n",
            "coral_patches_2009/31494.jpeg\n",
            "coral_patches_2009/12725.jpeg\n",
            "coral_patches_2009/42737.jpeg\n",
            "coral_patches_2009/12909.jpeg\n",
            "coral_patches_2009/3172.jpeg\n",
            "coral_patches_2009/49902.jpeg\n",
            "coral_patches_2009/36701.jpeg\n",
            "coral_patches_2009/35850.jpeg\n",
            "coral_patches_2009/11377.jpeg\n",
            "coral_patches_2009/37127.jpeg\n",
            "coral_patches_2009/13432.jpeg\n",
            "coral_patches_2009/6020.jpeg\n",
            "coral_patches_2009/67191.jpeg\n",
            "coral_patches_2009/38308.jpeg\n",
            "coral_patches_2009/11146.jpeg\n",
            "coral_patches_2009/21962.jpeg\n",
            "coral_patches_2009/33510.jpeg\n",
            "coral_patches_2009/18764.jpeg\n",
            "coral_patches_2009/22068.jpeg\n",
            "coral_patches_2009/64852.jpeg\n",
            "coral_patches_2009/61291.jpeg\n",
            "coral_patches_2009/41058.jpeg\n",
            "coral_patches_2009/63881.jpeg\n",
            "coral_patches_2009/32688.jpeg\n",
            "coral_patches_2009/31999.jpeg\n",
            "coral_patches_2009/12089.jpeg\n",
            "coral_patches_2009/53141.jpeg\n",
            "coral_patches_2009/280.jpeg\n",
            "coral_patches_2009/45971.jpeg\n",
            "coral_patches_2009/55433.jpeg\n",
            "coral_patches_2009/64887.jpeg\n",
            "coral_patches_2009/17545.jpeg\n",
            "coral_patches_2009/16265.jpeg\n",
            "coral_patches_2009/28520.jpeg\n",
            "coral_patches_2009/38595.jpeg\n",
            "coral_patches_2009/32006.jpeg\n",
            "coral_patches_2009/35418.jpeg\n",
            "coral_patches_2009/21191.jpeg\n",
            "coral_patches_2009/2536.jpeg\n",
            "coral_patches_2009/35721.jpeg\n",
            "coral_patches_2009/32600.jpeg\n",
            "coral_patches_2009/61866.jpeg\n",
            "coral_patches_2009/67524.jpeg\n",
            "coral_patches_2009/57616.jpeg\n",
            "coral_patches_2009/67152.jpeg\n",
            "coral_patches_2009/45885.jpeg\n",
            "coral_patches_2009/54605.jpeg\n",
            "coral_patches_2009/4013.jpeg\n",
            "coral_patches_2009/20487.jpeg\n",
            "coral_patches_2009/53553.jpeg\n",
            "coral_patches_2009/38450.jpeg\n",
            "coral_patches_2009/33461.jpeg\n",
            "coral_patches_2009/19440.jpeg\n",
            "coral_patches_2009/37289.jpeg\n",
            "coral_patches_2009/15332.jpeg\n",
            "coral_patches_2009/66346.jpeg\n",
            "coral_patches_2009/45532.jpeg\n",
            "coral_patches_2009/31821.jpeg\n",
            "coral_patches_2009/59746.jpeg\n",
            "coral_patches_2009/32994.jpeg\n",
            "coral_patches_2009/71443.jpeg\n",
            "coral_patches_2009/12575.jpeg\n",
            "coral_patches_2009/59508.jpeg\n",
            "coral_patches_2009/40764.jpeg\n",
            "coral_patches_2009/36973.jpeg\n",
            "coral_patches_2009/44346.jpeg\n",
            "coral_patches_2009/49010.jpeg\n",
            "coral_patches_2009/2319.jpeg\n",
            "coral_patches_2009/49313.jpeg\n",
            "coral_patches_2009/31986.jpeg\n",
            "coral_patches_2009/18195.jpeg\n",
            "coral_patches_2009/35090.jpeg\n",
            "coral_patches_2009/61912.jpeg\n",
            "coral_patches_2009/54468.jpeg\n",
            "coral_patches_2009/58263.jpeg\n",
            "coral_patches_2009/46432.jpeg\n",
            "coral_patches_2009/23406.jpeg\n",
            "coral_patches_2009/68246.jpeg\n",
            "coral_patches_2009/34604.jpeg\n",
            "coral_patches_2009/3097.jpeg\n",
            "coral_patches_2009/39565.jpeg\n",
            "coral_patches_2009/10079.jpeg\n",
            "coral_patches_2009/4508.jpeg\n",
            "coral_patches_2009/69732.jpeg\n",
            "coral_patches_2009/39128.jpeg\n",
            "coral_patches_2009/34718.jpeg\n",
            "coral_patches_2009/5961.jpeg\n",
            "coral_patches_2009/33072.jpeg\n",
            "coral_patches_2009/47067.jpeg\n",
            "coral_patches_2009/5782.jpeg\n",
            "coral_patches_2009/53307.jpeg\n",
            "coral_patches_2009/37471.jpeg\n",
            "coral_patches_2009/46011.jpeg\n",
            "coral_patches_2009/35228.jpeg\n",
            "coral_patches_2009/40127.jpeg\n",
            "coral_patches_2009/37449.jpeg\n",
            "coral_patches_2009/65439.jpeg\n",
            "coral_patches_2009/17087.jpeg\n",
            "coral_patches_2009/51709.jpeg\n",
            "coral_patches_2009/47788.jpeg\n",
            "coral_patches_2009/65474.jpeg\n",
            "coral_patches_2009/34176.jpeg\n",
            "coral_patches_2009/6610.jpeg\n",
            "coral_patches_2009/63500.jpeg\n",
            "coral_patches_2009/11916.jpeg\n",
            "coral_patches_2009/46774.jpeg\n",
            "coral_patches_2009/23377.jpeg\n",
            "coral_patches_2009/56813.jpeg\n",
            "coral_patches_2009/67473.jpeg\n",
            "coral_patches_2009/9082.jpeg\n",
            "coral_patches_2009/27800.jpeg\n",
            "coral_patches_2009/5350.jpeg\n",
            "coral_patches_2009/6774.jpeg\n",
            "coral_patches_2009/57318.jpeg\n",
            "coral_patches_2009/63075.jpeg\n",
            "coral_patches_2009/33055.jpeg\n",
            "coral_patches_2009/56265.jpeg\n",
            "coral_patches_2009/3588.jpeg\n",
            "coral_patches_2009/35844.jpeg\n",
            "coral_patches_2009/61506.jpeg\n",
            "coral_patches_2009/67849.jpeg\n",
            "coral_patches_2009/22561.jpeg\n",
            "coral_patches_2009/35643.jpeg\n",
            "coral_patches_2009/14654.jpeg\n",
            "coral_patches_2009/25130.jpeg\n",
            "coral_patches_2009/20562.jpeg\n",
            "coral_patches_2009/57507.jpeg\n",
            "coral_patches_2009/69275.jpeg\n",
            "coral_patches_2009/39279.jpeg\n",
            "coral_patches_2009/25475.jpeg\n",
            "coral_patches_2009/64766.jpeg\n",
            "coral_patches_2009/54956.jpeg\n",
            "coral_patches_2009/69707.jpeg\n",
            "coral_patches_2009/44984.jpeg\n",
            "coral_patches_2009/41812.jpeg\n",
            "coral_patches_2009/32135.jpeg\n",
            "coral_patches_2009/56945.jpeg\n",
            "coral_patches_2009/57401.jpeg\n",
            "coral_patches_2009/37468.jpeg\n",
            "coral_patches_2009/48227.jpeg\n",
            "coral_patches_2009/20577.jpeg\n",
            "coral_patches_2009/15527.jpeg\n",
            "coral_patches_2009/35374.jpeg\n",
            "coral_patches_2009/25847.jpeg\n",
            "coral_patches_2009/34683.jpeg\n",
            "coral_patches_2009/61270.jpeg\n",
            "coral_patches_2009/57877.jpeg\n",
            "coral_patches_2009/57812.jpeg\n",
            "coral_patches_2009/42545.jpeg\n",
            "coral_patches_2009/55727.jpeg\n",
            "coral_patches_2009/48493.jpeg\n",
            "coral_patches_2009/7177.jpeg\n",
            "coral_patches_2009/19436.jpeg\n",
            "coral_patches_2009/47032.jpeg\n",
            "coral_patches_2009/6082.jpeg\n",
            "coral_patches_2009/1828.jpeg\n",
            "coral_patches_2009/15733.jpeg\n",
            "coral_patches_2009/58413.jpeg\n",
            "coral_patches_2009/32633.jpeg\n",
            "coral_patches_2009/57855.jpeg\n",
            "coral_patches_2009/51893.jpeg\n",
            "coral_patches_2009/42343.jpeg\n",
            "coral_patches_2009/7074.jpeg\n",
            "coral_patches_2009/69564.jpeg\n",
            "coral_patches_2009/8121.jpeg\n",
            "coral_patches_2009/30666.jpeg\n",
            "coral_patches_2009/27130.jpeg\n",
            "coral_patches_2009/17418.jpeg\n",
            "coral_patches_2009/67994.jpeg\n",
            "coral_patches_2009/19805.jpeg\n",
            "coral_patches_2009/59879.jpeg\n",
            "coral_patches_2009/47838.jpeg\n",
            "coral_patches_2009/29393.jpeg\n",
            "coral_patches_2009/1331.jpeg\n",
            "coral_patches_2009/25104.jpeg\n",
            "coral_patches_2009/41777.jpeg\n",
            "coral_patches_2009/51073.jpeg\n",
            "coral_patches_2009/295.jpeg\n",
            "coral_patches_2009/14937.jpeg\n",
            "coral_patches_2009/17164.jpeg\n",
            "coral_patches_2009/35398.jpeg\n",
            "coral_patches_2009/36917.jpeg\n",
            "coral_patches_2009/33834.jpeg\n",
            "coral_patches_2009/10179.jpeg\n",
            "coral_patches_2009/54808.jpeg\n",
            "coral_patches_2009/62159.jpeg\n",
            "coral_patches_2009/13298.jpeg\n",
            "coral_patches_2009/60198.jpeg\n",
            "coral_patches_2009/68274.jpeg\n",
            "coral_patches_2009/57234.jpeg\n",
            "coral_patches_2009/12598.jpeg\n",
            "coral_patches_2009/49602.jpeg\n",
            "coral_patches_2009/62965.jpeg\n",
            "coral_patches_2009/43530.jpeg\n",
            "coral_patches_2009/6973.jpeg\n",
            "coral_patches_2009/27459.jpeg\n",
            "coral_patches_2009/12104.jpeg\n",
            "coral_patches_2009/36674.jpeg\n",
            "coral_patches_2009/34789.jpeg\n",
            "coral_patches_2009/71689.jpeg\n",
            "coral_patches_2009/41549.jpeg\n",
            "coral_patches_2009/52259.jpeg\n",
            "coral_patches_2009/32110.jpeg\n",
            "coral_patches_2009/36637.jpeg\n",
            "coral_patches_2009/4472.jpeg\n",
            "coral_patches_2009/13347.jpeg\n",
            "coral_patches_2009/41237.jpeg\n",
            "coral_patches_2009/12758.jpeg\n",
            "coral_patches_2009/30867.jpeg\n",
            "coral_patches_2009/50095.jpeg\n",
            "coral_patches_2009/12050.jpeg\n",
            "coral_patches_2009/52590.jpeg\n",
            "coral_patches_2009/54340.jpeg\n",
            "coral_patches_2009/32574.jpeg\n",
            "coral_patches_2009/26859.jpeg\n",
            "coral_patches_2009/15710.jpeg\n",
            "coral_patches_2009/15002.jpeg\n",
            "coral_patches_2009/56949.jpeg\n",
            "coral_patches_2009/50616.jpeg\n",
            "coral_patches_2009/21432.jpeg\n",
            "coral_patches_2009/39359.jpeg\n",
            "coral_patches_2009/41902.jpeg\n",
            "coral_patches_2009/65368.jpeg\n",
            "coral_patches_2009/13707.jpeg\n",
            "coral_patches_2009/58536.jpeg\n",
            "coral_patches_2009/28052.jpeg\n",
            "coral_patches_2009/61784.jpeg\n",
            "coral_patches_2009/53234.jpeg\n",
            "coral_patches_2009/28868.jpeg\n",
            "coral_patches_2009/11709.jpeg\n",
            "coral_patches_2009/35243.jpeg\n",
            "coral_patches_2009/23366.jpeg\n",
            "coral_patches_2009/31951.jpeg\n",
            "coral_patches_2009/11452.jpeg\n",
            "coral_patches_2009/66967.jpeg\n",
            "coral_patches_2009/9352.jpeg\n",
            "coral_patches_2009/35759.jpeg\n",
            "coral_patches_2009/32628.jpeg\n",
            "coral_patches_2009/30686.jpeg\n",
            "coral_patches_2009/10280.jpeg\n",
            "coral_patches_2009/50093.jpeg\n",
            "coral_patches_2009/11283.jpeg\n",
            "coral_patches_2009/53449.jpeg\n",
            "coral_patches_2009/56581.jpeg\n",
            "coral_patches_2009/18078.jpeg\n",
            "coral_patches_2009/41871.jpeg\n",
            "coral_patches_2009/22364.jpeg\n",
            "coral_patches_2009/62062.jpeg\n",
            "coral_patches_2009/3861.jpeg\n",
            "coral_patches_2009/38019.jpeg\n",
            "coral_patches_2009/29958.jpeg\n",
            "coral_patches_2009/49959.jpeg\n",
            "coral_patches_2009/40259.jpeg\n",
            "coral_patches_2009/43699.jpeg\n",
            "coral_patches_2009/69507.jpeg\n",
            "coral_patches_2009/50527.jpeg\n",
            "coral_patches_2009/62375.jpeg\n",
            "coral_patches_2009/47541.jpeg\n",
            "coral_patches_2009/60979.jpeg\n",
            "coral_patches_2009/24702.jpeg\n",
            "coral_patches_2009/42100.jpeg\n",
            "coral_patches_2009/12842.jpeg\n",
            "coral_patches_2009/26326.jpeg\n",
            "coral_patches_2009/48857.jpeg\n",
            "coral_patches_2009/46003.jpeg\n",
            "coral_patches_2009/21988.jpeg\n",
            "coral_patches_2009/41387.jpeg\n",
            "coral_patches_2009/22981.jpeg\n",
            "coral_patches_2009/51122.jpeg\n",
            "coral_patches_2009/22418.jpeg\n",
            "coral_patches_2009/31703.jpeg\n",
            "coral_patches_2009/50652.jpeg\n",
            "coral_patches_2009/6869.jpeg\n",
            "coral_patches_2009/41433.jpeg\n",
            "coral_patches_2009/67737.jpeg\n",
            "coral_patches_2009/55040.jpeg\n",
            "coral_patches_2009/17338.jpeg\n",
            "coral_patches_2009/46410.jpeg\n",
            "coral_patches_2009/56909.jpeg\n",
            "coral_patches_2009/50482.jpeg\n",
            "coral_patches_2009/36423.jpeg\n",
            "coral_patches_2009/68871.jpeg\n",
            "coral_patches_2009/63247.jpeg\n",
            "coral_patches_2009/45199.jpeg\n",
            "coral_patches_2009/59964.jpeg\n",
            "coral_patches_2009/15145.jpeg\n",
            "coral_patches_2009/47293.jpeg\n",
            "coral_patches_2009/15097.jpeg\n",
            "coral_patches_2009/13663.jpeg\n",
            "coral_patches_2009/53685.jpeg\n",
            "coral_patches_2009/68404.jpeg\n",
            "coral_patches_2009/49076.jpeg\n",
            "coral_patches_2009/52022.jpeg\n",
            "coral_patches_2009/61875.jpeg\n",
            "coral_patches_2009/52399.jpeg\n",
            "coral_patches_2009/37512.jpeg\n",
            "coral_patches_2009/56385.jpeg\n",
            "coral_patches_2009/31343.jpeg\n",
            "coral_patches_2009/38575.jpeg\n",
            "coral_patches_2009/58978.jpeg\n",
            "coral_patches_2009/6847.jpeg\n",
            "coral_patches_2009/31565.jpeg\n",
            "coral_patches_2009/692.jpeg\n",
            "coral_patches_2009/45076.jpeg\n",
            "coral_patches_2009/13813.jpeg\n",
            "coral_patches_2009/35621.jpeg\n",
            "coral_patches_2009/57714.jpeg\n",
            "coral_patches_2009/55947.jpeg\n",
            "coral_patches_2009/33814.jpeg\n",
            "coral_patches_2009/69075.jpeg\n",
            "coral_patches_2009/46157.jpeg\n",
            "coral_patches_2009/43043.jpeg\n",
            "coral_patches_2009/59334.jpeg\n",
            "coral_patches_2009/7312.jpeg\n",
            "coral_patches_2009/70807.jpeg\n",
            "coral_patches_2009/53020.jpeg\n",
            "coral_patches_2009/60213.jpeg\n",
            "coral_patches_2009/37337.jpeg\n",
            "coral_patches_2009/11505.jpeg\n",
            "coral_patches_2009/19560.jpeg\n",
            "coral_patches_2009/65472.jpeg\n",
            "coral_patches_2009/67812.jpeg\n",
            "coral_patches_2009/9047.jpeg\n",
            "coral_patches_2009/43964.jpeg\n",
            "coral_patches_2009/47497.jpeg\n",
            "coral_patches_2009/36032.jpeg\n",
            "coral_patches_2009/40890.jpeg\n",
            "coral_patches_2009/41955.jpeg\n",
            "coral_patches_2009/31492.jpeg\n",
            "coral_patches_2009/68751.jpeg\n",
            "coral_patches_2009/46130.jpeg\n",
            "coral_patches_2009/52020.jpeg\n",
            "coral_patches_2009/35226.jpeg\n",
            "coral_patches_2009/53108.jpeg\n",
            "coral_patches_2009/57726.jpeg\n",
            "coral_patches_2009/20345.jpeg\n",
            "coral_patches_2009/34883.jpeg\n",
            "coral_patches_2009/19136.jpeg\n",
            "coral_patches_2009/47057.jpeg\n",
            "coral_patches_2009/40550.jpeg\n",
            "coral_patches_2009/34198.jpeg\n",
            "coral_patches_2009/32091.jpeg\n",
            "coral_patches_2009/58540.jpeg\n",
            "coral_patches_2009/70402.jpeg\n",
            "coral_patches_2009/17264.jpeg\n",
            "coral_patches_2009/9948.jpeg\n",
            "coral_patches_2009/14432.jpeg\n",
            "coral_patches_2009/69306.jpeg\n",
            "coral_patches_2009/70037.jpeg\n",
            "coral_patches_2009/49432.jpeg\n",
            "coral_patches_2009/62263.jpeg\n",
            "coral_patches_2009/62962.jpeg\n",
            "coral_patches_2009/70465.jpeg\n",
            "coral_patches_2009/33393.jpeg\n",
            "coral_patches_2009/45414.jpeg\n",
            "coral_patches_2009/18214.jpeg\n",
            "coral_patches_2009/14132.jpeg\n",
            "coral_patches_2009/22628.jpeg\n",
            "coral_patches_2009/64362.jpeg\n",
            "coral_patches_2009/13657.jpeg\n",
            "coral_patches_2009/24851.jpeg\n",
            "coral_patches_2009/58802.jpeg\n",
            "coral_patches_2009/48443.jpeg\n",
            "coral_patches_2009/11483.jpeg\n",
            "coral_patches_2009/2502.jpeg\n",
            "coral_patches_2009/5114.jpeg\n",
            "coral_patches_2009/8013.jpeg\n",
            "coral_patches_2009/35313.jpeg\n",
            "coral_patches_2009/54254.jpeg\n",
            "coral_patches_2009/44735.jpeg\n",
            "coral_patches_2009/9316.jpeg\n",
            "coral_patches_2009/64073.jpeg\n",
            "coral_patches_2009/4812.jpeg\n",
            "coral_patches_2009/21827.jpeg\n",
            "coral_patches_2009/42595.jpeg\n",
            "coral_patches_2009/19769.jpeg\n",
            "coral_patches_2009/64580.jpeg\n",
            "coral_patches_2009/68838.jpeg\n",
            "coral_patches_2009/27692.jpeg\n",
            "coral_patches_2009/16111.jpeg\n",
            "coral_patches_2009/14991.jpeg\n",
            "coral_patches_2009/2000.jpeg\n",
            "coral_patches_2009/31082.jpeg\n",
            "coral_patches_2009/61696.jpeg\n",
            "coral_patches_2009/4603.jpeg\n",
            "coral_patches_2009/53806.jpeg\n",
            "coral_patches_2009/22027.jpeg\n",
            "coral_patches_2009/17944.jpeg\n",
            "coral_patches_2009/19950.jpeg\n",
            "coral_patches_2009/65668.jpeg\n",
            "coral_patches_2009/13634.jpeg\n",
            "coral_patches_2009/32009.jpeg\n",
            "coral_patches_2009/11667.jpeg\n",
            "coral_patches_2009/50660.jpeg\n",
            "coral_patches_2009/59372.jpeg\n",
            "coral_patches_2009/49095.jpeg\n",
            "coral_patches_2009/50087.jpeg\n",
            "coral_patches_2009/35625.jpeg\n",
            "coral_patches_2009/58401.jpeg\n",
            "coral_patches_2009/54391.jpeg\n",
            "coral_patches_2009/28584.jpeg\n",
            "coral_patches_2009/46538.jpeg\n",
            "coral_patches_2009/39557.jpeg\n",
            "coral_patches_2009/55071.jpeg\n",
            "coral_patches_2009/60486.jpeg\n",
            "coral_patches_2009/66140.jpeg\n",
            "coral_patches_2009/60767.jpeg\n",
            "coral_patches_2009/50540.jpeg\n",
            "coral_patches_2009/5272.jpeg\n",
            "coral_patches_2009/32213.jpeg\n",
            "coral_patches_2009/66349.jpeg\n",
            "coral_patches_2009/49829.jpeg\n",
            "coral_patches_2009/48352.jpeg\n",
            "coral_patches_2009/30989.jpeg\n",
            "coral_patches_2009/11487.jpeg\n",
            "coral_patches_2009/69043.jpeg\n",
            "coral_patches_2009/23570.jpeg\n",
            "coral_patches_2009/6792.jpeg\n",
            "coral_patches_2009/66196.jpeg\n",
            "coral_patches_2009/60284.jpeg\n",
            "coral_patches_2009/9428.jpeg\n",
            "coral_patches_2009/52261.jpeg\n",
            "coral_patches_2009/14812.jpeg\n",
            "coral_patches_2009/44891.jpeg\n",
            "coral_patches_2009/19821.jpeg\n",
            "coral_patches_2009/27116.jpeg\n",
            "coral_patches_2009/55088.jpeg\n",
            "coral_patches_2009/1977.jpeg\n",
            "coral_patches_2009/63319.jpeg\n",
            "coral_patches_2009/14947.jpeg\n",
            "coral_patches_2009/36015.jpeg\n",
            "coral_patches_2009/63828.jpeg\n",
            "coral_patches_2009/27747.jpeg\n",
            "coral_patches_2009/28469.jpeg\n",
            "coral_patches_2009/15655.jpeg\n",
            "coral_patches_2009/19645.jpeg\n",
            "coral_patches_2009/122.jpeg\n",
            "coral_patches_2009/19751.jpeg\n",
            "coral_patches_2009/32233.jpeg\n",
            "coral_patches_2009/23511.jpeg\n",
            "coral_patches_2009/52614.jpeg\n",
            "coral_patches_2009/47047.jpeg\n",
            "coral_patches_2009/26885.jpeg\n",
            "coral_patches_2009/46809.jpeg\n",
            "coral_patches_2009/12214.jpeg\n",
            "coral_patches_2009/65573.jpeg\n",
            "coral_patches_2009/66523.jpeg\n",
            "coral_patches_2009/53750.jpeg\n",
            "coral_patches_2009/17866.jpeg\n",
            "coral_patches_2009/40795.jpeg\n",
            "coral_patches_2009/52575.jpeg\n",
            "coral_patches_2009/5158.jpeg\n",
            "coral_patches_2009/1600.jpeg\n",
            "coral_patches_2009/23080.jpeg\n",
            "coral_patches_2009/13231.jpeg\n",
            "coral_patches_2009/20157.jpeg\n",
            "coral_patches_2009/39325.jpeg\n",
            "coral_patches_2009/15841.jpeg\n",
            "coral_patches_2009/69011.jpeg\n",
            "coral_patches_2009/70836.jpeg\n",
            "coral_patches_2009/23645.jpeg\n",
            "coral_patches_2009/45107.jpeg\n",
            "coral_patches_2009/61831.jpeg\n",
            "coral_patches_2009/5170.jpeg\n",
            "coral_patches_2009/43444.jpeg\n",
            "coral_patches_2009/39497.jpeg\n",
            "coral_patches_2009/28687.jpeg\n",
            "coral_patches_2009/6192.jpeg\n",
            "coral_patches_2009/62876.jpeg\n",
            "coral_patches_2009/47800.jpeg\n",
            "coral_patches_2009/39752.jpeg\n",
            "coral_patches_2009/23066.jpeg\n",
            "coral_patches_2009/27792.jpeg\n",
            "coral_patches_2009/10289.jpeg\n",
            "coral_patches_2009/8252.jpeg\n",
            "coral_patches_2009/21388.jpeg\n",
            "coral_patches_2009/31953.jpeg\n",
            "coral_patches_2009/62013.jpeg\n",
            "coral_patches_2009/70820.jpeg\n",
            "coral_patches_2009/67427.jpeg\n",
            "coral_patches_2009/32632.jpeg\n",
            "coral_patches_2009/25317.jpeg\n",
            "coral_patches_2009/53470.jpeg\n",
            "coral_patches_2009/4635.jpeg\n",
            "coral_patches_2009/57366.jpeg\n",
            "coral_patches_2009/8659.jpeg\n",
            "coral_patches_2009/14304.jpeg\n",
            "coral_patches_2009/36781.jpeg\n",
            "coral_patches_2009/40641.jpeg\n",
            "coral_patches_2009/71235.jpeg\n",
            "coral_patches_2009/8570.jpeg\n",
            "coral_patches_2009/35521.jpeg\n",
            "coral_patches_2009/47589.jpeg\n",
            "coral_patches_2009/22804.jpeg\n",
            "coral_patches_2009/68735.jpeg\n",
            "coral_patches_2009/1109.jpeg\n",
            "coral_patches_2009/40471.jpeg\n",
            "coral_patches_2009/39901.jpeg\n",
            "coral_patches_2009/7518.jpeg\n",
            "coral_patches_2009/14002.jpeg\n",
            "coral_patches_2009/3951.jpeg\n",
            "coral_patches_2009/42646.jpeg\n",
            "coral_patches_2009/37659.jpeg\n",
            "coral_patches_2009/52764.jpeg\n",
            "coral_patches_2009/24922.jpeg\n",
            "coral_patches_2009/67798.jpeg\n",
            "coral_patches_2009/11683.jpeg\n",
            "coral_patches_2009/41408.jpeg\n",
            "coral_patches_2009/55473.jpeg\n",
            "coral_patches_2009/18884.jpeg\n",
            "coral_patches_2009/7018.jpeg\n",
            "coral_patches_2009/40457.jpeg\n",
            "coral_patches_2009/52536.jpeg\n",
            "coral_patches_2009/51689.jpeg\n",
            "coral_patches_2009/20850.jpeg\n",
            "coral_patches_2009/28324.jpeg\n",
            "coral_patches_2009/703.jpeg\n",
            "coral_patches_2009/10575.jpeg\n",
            "coral_patches_2009/39520.jpeg\n",
            "coral_patches_2009/1158.jpeg\n",
            "coral_patches_2009/47580.jpeg\n",
            "coral_patches_2009/47869.jpeg\n",
            "coral_patches_2009/70544.jpeg\n",
            "coral_patches_2009/33694.jpeg\n",
            "coral_patches_2009/55268.jpeg\n",
            "coral_patches_2009/24594.jpeg\n",
            "coral_patches_2009/37957.jpeg\n",
            "coral_patches_2009/69401.jpeg\n",
            "coral_patches_2009/48856.jpeg\n",
            "coral_patches_2009/39499.jpeg\n",
            "coral_patches_2009/67716.jpeg\n",
            "coral_patches_2009/51570.jpeg\n",
            "coral_patches_2009/47118.jpeg\n",
            "coral_patches_2009/35491.jpeg\n",
            "coral_patches_2009/35705.jpeg\n",
            "coral_patches_2009/7913.jpeg\n",
            "coral_patches_2009/9113.jpeg\n",
            "coral_patches_2009/55359.jpeg\n",
            "coral_patches_2009/51739.jpeg\n",
            "coral_patches_2009/27425.jpeg\n",
            "coral_patches_2009/4254.jpeg\n",
            "coral_patches_2009/4574.jpeg\n",
            "coral_patches_2009/726.jpeg\n",
            "coral_patches_2009/20105.jpeg\n",
            "coral_patches_2009/60918.jpeg\n",
            "coral_patches_2009/58879.jpeg\n",
            "coral_patches_2009/17435.jpeg\n",
            "coral_patches_2009/45467.jpeg\n",
            "coral_patches_2009/46325.jpeg\n",
            "coral_patches_2009/43891.jpeg\n",
            "coral_patches_2009/4333.jpeg\n",
            "coral_patches_2009/2868.jpeg\n",
            "coral_patches_2009/15701.jpeg\n",
            "coral_patches_2009/56276.jpeg\n",
            "coral_patches_2009/18879.jpeg\n",
            "coral_patches_2009/19271.jpeg\n",
            "coral_patches_2009/67023.jpeg\n",
            "coral_patches_2009/31185.jpeg\n",
            "coral_patches_2009/12833.jpeg\n",
            "coral_patches_2009/8581.jpeg\n",
            "coral_patches_2009/47443.jpeg\n",
            "coral_patches_2009/52305.jpeg\n",
            "coral_patches_2009/37291.jpeg\n",
            "coral_patches_2009/4027.jpeg\n",
            "coral_patches_2009/8051.jpeg\n",
            "coral_patches_2009/20688.jpeg\n",
            "coral_patches_2009/24127.jpeg\n",
            "coral_patches_2009/43627.jpeg\n",
            "coral_patches_2009/53046.jpeg\n",
            "coral_patches_2009/44753.jpeg\n",
            "coral_patches_2009/39507.jpeg\n",
            "coral_patches_2009/14221.jpeg\n",
            "coral_patches_2009/46638.jpeg\n",
            "coral_patches_2009/21655.jpeg\n",
            "coral_patches_2009/9270.jpeg\n",
            "coral_patches_2009/54578.jpeg\n",
            "coral_patches_2009/44693.jpeg\n",
            "coral_patches_2009/41698.jpeg\n",
            "coral_patches_2009/805.jpeg\n",
            "coral_patches_2009/3215.jpeg\n",
            "coral_patches_2009/34612.jpeg\n",
            "coral_patches_2009/11065.jpeg\n",
            "coral_patches_2009/60351.jpeg\n",
            "coral_patches_2009/35839.jpeg\n",
            "coral_patches_2009/53342.jpeg\n",
            "coral_patches_2009/16518.jpeg\n",
            "coral_patches_2009/21298.jpeg\n",
            "coral_patches_2009/20351.jpeg\n",
            "coral_patches_2009/25214.jpeg\n",
            "coral_patches_2009/9037.jpeg\n",
            "coral_patches_2009/1427.jpeg\n",
            "coral_patches_2009/66808.jpeg\n",
            "coral_patches_2009/22933.jpeg\n",
            "coral_patches_2009/64013.jpeg\n",
            "coral_patches_2009/7655.jpeg\n",
            "coral_patches_2009/37865.jpeg\n",
            "coral_patches_2009/55181.jpeg\n",
            "coral_patches_2009/35513.jpeg\n",
            "coral_patches_2009/36925.jpeg\n",
            "coral_patches_2009/49297.jpeg\n",
            "coral_patches_2009/48694.jpeg\n",
            "coral_patches_2009/33353.jpeg\n",
            "coral_patches_2009/59801.jpeg\n",
            "coral_patches_2009/34129.jpeg\n",
            "coral_patches_2009/25553.jpeg\n",
            "coral_patches_2009/4215.jpeg\n",
            "coral_patches_2009/4406.jpeg\n",
            "coral_patches_2009/58242.jpeg\n",
            "coral_patches_2009/59011.jpeg\n",
            "coral_patches_2009/45741.jpeg\n",
            "coral_patches_2009/33039.jpeg\n",
            "coral_patches_2009/41528.jpeg\n",
            "coral_patches_2009/22664.jpeg\n",
            "coral_patches_2009/70636.jpeg\n",
            "coral_patches_2009/62736.jpeg\n",
            "coral_patches_2009/19804.jpeg\n",
            "coral_patches_2009/1777.jpeg\n",
            "coral_patches_2009/873.jpeg\n",
            "coral_patches_2009/66721.jpeg\n",
            "coral_patches_2009/66167.jpeg\n",
            "coral_patches_2009/49014.jpeg\n",
            "coral_patches_2009/53523.jpeg\n",
            "coral_patches_2009/32701.jpeg\n",
            "coral_patches_2009/2309.jpeg\n",
            "coral_patches_2009/20071.jpeg\n",
            "coral_patches_2009/50614.jpeg\n",
            "coral_patches_2009/2019.jpeg\n",
            "coral_patches_2009/12074.jpeg\n",
            "coral_patches_2009/340.jpeg\n",
            "coral_patches_2009/18294.jpeg\n",
            "coral_patches_2009/13635.jpeg\n",
            "coral_patches_2009/52423.jpeg\n",
            "coral_patches_2009/51337.jpeg\n",
            "coral_patches_2009/53077.jpeg\n",
            "coral_patches_2009/32237.jpeg\n",
            "coral_patches_2009/3108.jpeg\n",
            "coral_patches_2009/62015.jpeg\n",
            "coral_patches_2009/38411.jpeg\n",
            "coral_patches_2009/56398.jpeg\n",
            "coral_patches_2009/70971.jpeg\n",
            "coral_patches_2009/7783.jpeg\n",
            "coral_patches_2009/51740.jpeg\n",
            "coral_patches_2009/47951.jpeg\n",
            "coral_patches_2009/70383.jpeg\n",
            "coral_patches_2009/66901.jpeg\n",
            "coral_patches_2009/15263.jpeg\n",
            "coral_patches_2009/40081.jpeg\n",
            "coral_patches_2009/9625.jpeg\n",
            "coral_patches_2009/30570.jpeg\n",
            "coral_patches_2009/38299.jpeg\n",
            "coral_patches_2009/3387.jpeg\n",
            "coral_patches_2009/6919.jpeg\n",
            "coral_patches_2009/45714.jpeg\n",
            "coral_patches_2009/39027.jpeg\n",
            "coral_patches_2009/16355.jpeg\n",
            "coral_patches_2009/29198.jpeg\n",
            "coral_patches_2009/21408.jpeg\n",
            "coral_patches_2009/20099.jpeg\n",
            "coral_patches_2009/4114.jpeg\n",
            "coral_patches_2009/56999.jpeg\n",
            "coral_patches_2009/66665.jpeg\n",
            "coral_patches_2009/55730.jpeg\n",
            "coral_patches_2009/58202.jpeg\n",
            "coral_patches_2009/24831.jpeg\n",
            "coral_patches_2009/910.jpeg\n",
            "coral_patches_2009/52108.jpeg\n",
            "coral_patches_2009/46398.jpeg\n",
            "coral_patches_2009/58719.jpeg\n",
            "coral_patches_2009/20956.jpeg\n",
            "coral_patches_2009/66698.jpeg\n",
            "coral_patches_2009/48878.jpeg\n",
            "coral_patches_2009/3015.jpeg\n",
            "coral_patches_2009/5143.jpeg\n",
            "coral_patches_2009/3176.jpeg\n",
            "coral_patches_2009/19755.jpeg\n",
            "coral_patches_2009/69861.jpeg\n",
            "coral_patches_2009/4985.jpeg\n",
            "coral_patches_2009/9114.jpeg\n",
            "coral_patches_2009/45504.jpeg\n",
            "coral_patches_2009/26084.jpeg\n",
            "coral_patches_2009/12472.jpeg\n",
            "coral_patches_2009/59967.jpeg\n",
            "coral_patches_2009/35141.jpeg\n",
            "coral_patches_2009/5770.jpeg\n",
            "coral_patches_2009/44263.jpeg\n",
            "coral_patches_2009/13721.jpeg\n",
            "coral_patches_2009/52216.jpeg\n",
            "coral_patches_2009/5767.jpeg\n",
            "coral_patches_2009/50677.jpeg\n",
            "coral_patches_2009/68706.jpeg\n",
            "coral_patches_2009/30586.jpeg\n",
            "coral_patches_2009/24987.jpeg\n",
            "coral_patches_2009/52961.jpeg\n",
            "coral_patches_2009/20007.jpeg\n",
            "coral_patches_2009/48403.jpeg\n",
            "coral_patches_2009/23573.jpeg\n",
            "coral_patches_2009/50713.jpeg\n",
            "coral_patches_2009/67803.jpeg\n",
            "coral_patches_2009/23831.jpeg\n",
            "coral_patches_2009/9201.jpeg\n",
            "coral_patches_2009/6778.jpeg\n",
            "coral_patches_2009/16739.jpeg\n",
            "coral_patches_2009/34254.jpeg\n",
            "coral_patches_2009/22463.jpeg\n",
            "coral_patches_2009/60212.jpeg\n",
            "coral_patches_2009/49397.jpeg\n",
            "coral_patches_2009/62440.jpeg\n",
            "coral_patches_2009/55761.jpeg\n",
            "coral_patches_2009/44517.jpeg\n",
            "coral_patches_2009/16511.jpeg\n",
            "coral_patches_2009/29346.jpeg\n",
            "coral_patches_2009/42407.jpeg\n",
            "coral_patches_2009/20579.jpeg\n",
            "coral_patches_2009/40701.jpeg\n",
            "coral_patches_2009/11181.jpeg\n",
            "coral_patches_2009/64549.jpeg\n",
            "coral_patches_2009/54602.jpeg\n",
            "coral_patches_2009/35252.jpeg\n",
            "coral_patches_2009/5927.jpeg\n",
            "coral_patches_2009/13876.jpeg\n",
            "coral_patches_2009/45201.jpeg\n",
            "coral_patches_2009/47860.jpeg\n",
            "coral_patches_2009/51512.jpeg\n",
            "coral_patches_2009/10337.jpeg\n",
            "coral_patches_2009/22348.jpeg\n",
            "coral_patches_2009/65727.jpeg\n",
            "coral_patches_2009/1418.jpeg\n",
            "coral_patches_2009/1238.jpeg\n",
            "coral_patches_2009/46187.jpeg\n",
            "coral_patches_2009/7098.jpeg\n",
            "coral_patches_2009/42302.jpeg\n",
            "coral_patches_2009/28405.jpeg\n",
            "coral_patches_2009/9641.jpeg\n",
            "coral_patches_2009/18422.jpeg\n",
            "coral_patches_2009/389.jpeg\n",
            "coral_patches_2009/50386.jpeg\n",
            "coral_patches_2009/59732.jpeg\n",
            "coral_patches_2009/4080.jpeg\n",
            "coral_patches_2009/5096.jpeg\n",
            "coral_patches_2009/24870.jpeg\n",
            "coral_patches_2009/45113.jpeg\n",
            "coral_patches_2009/39724.jpeg\n",
            "coral_patches_2009/20567.jpeg\n",
            "coral_patches_2009/64009.jpeg\n",
            "coral_patches_2009/10894.jpeg\n",
            "coral_patches_2009/16890.jpeg\n",
            "coral_patches_2009/34145.jpeg\n",
            "coral_patches_2009/49396.jpeg\n",
            "coral_patches_2009/69690.jpeg\n",
            "coral_patches_2009/66555.jpeg\n",
            "coral_patches_2009/35429.jpeg\n",
            "coral_patches_2009/41397.jpeg\n",
            "coral_patches_2009/36325.jpeg\n",
            "coral_patches_2009/63914.jpeg\n",
            "coral_patches_2009/32463.jpeg\n",
            "coral_patches_2009/66670.jpeg\n",
            "coral_patches_2009/39082.jpeg\n",
            "coral_patches_2009/51247.jpeg\n",
            "coral_patches_2009/29983.jpeg\n",
            "coral_patches_2009/22903.jpeg\n",
            "coral_patches_2009/2781.jpeg\n",
            "coral_patches_2009/31716.jpeg\n",
            "coral_patches_2009/34311.jpeg\n",
            "coral_patches_2009/3027.jpeg\n",
            "coral_patches_2009/29097.jpeg\n",
            "coral_patches_2009/16307.jpeg\n",
            "coral_patches_2009/24176.jpeg\n",
            "coral_patches_2009/2508.jpeg\n",
            "coral_patches_2009/60419.jpeg\n",
            "coral_patches_2009/51488.jpeg\n",
            "coral_patches_2009/44516.jpeg\n",
            "coral_patches_2009/61601.jpeg\n",
            "coral_patches_2009/57193.jpeg\n",
            "coral_patches_2009/16615.jpeg\n",
            "coral_patches_2009/64204.jpeg\n",
            "coral_patches_2009/66233.jpeg\n",
            "coral_patches_2009/63.jpeg\n",
            "coral_patches_2009/33755.jpeg\n",
            "coral_patches_2009/26514.jpeg\n",
            "coral_patches_2009/32812.jpeg\n",
            "coral_patches_2009/68895.jpeg\n",
            "coral_patches_2009/48062.jpeg\n",
            "coral_patches_2009/14026.jpeg\n",
            "coral_patches_2009/44605.jpeg\n",
            "coral_patches_2009/68615.jpeg\n",
            "coral_patches_2009/44150.jpeg\n",
            "coral_patches_2009/1209.jpeg\n",
            "coral_patches_2009/54628.jpeg\n",
            "coral_patches_2009/24216.jpeg\n",
            "coral_patches_2009/39330.jpeg\n",
            "coral_patches_2009/8246.jpeg\n",
            "coral_patches_2009/15401.jpeg\n",
            "coral_patches_2009/26953.jpeg\n",
            "coral_patches_2009/7326.jpeg\n",
            "coral_patches_2009/1949.jpeg\n",
            "coral_patches_2009/49051.jpeg\n",
            "coral_patches_2009/49296.jpeg\n",
            "coral_patches_2009/44968.jpeg\n",
            "coral_patches_2009/30644.jpeg\n",
            "coral_patches_2009/15981.jpeg\n",
            "coral_patches_2009/21174.jpeg\n",
            "coral_patches_2009/69607.jpeg\n",
            "coral_patches_2009/8936.jpeg\n",
            "coral_patches_2009/24407.jpeg\n",
            "coral_patches_2009/70976.jpeg\n",
            "coral_patches_2009/18337.jpeg\n",
            "coral_patches_2009/21489.jpeg\n",
            "coral_patches_2009/17687.jpeg\n",
            "coral_patches_2009/65260.jpeg\n",
            "coral_patches_2009/50217.jpeg\n",
            "coral_patches_2009/20724.jpeg\n",
            "coral_patches_2009/1376.jpeg\n",
            "coral_patches_2009/31972.jpeg\n",
            "coral_patches_2009/46801.jpeg\n",
            "coral_patches_2009/42244.jpeg\n",
            "coral_patches_2009/66037.jpeg\n",
            "coral_patches_2009/67480.jpeg\n",
            "coral_patches_2009/66811.jpeg\n",
            "coral_patches_2009/40788.jpeg\n",
            "coral_patches_2009/25347.jpeg\n",
            "coral_patches_2009/23633.jpeg\n",
            "coral_patches_2009/42191.jpeg\n",
            "coral_patches_2009/8183.jpeg\n",
            "coral_patches_2009/30758.jpeg\n",
            "coral_patches_2009/70573.jpeg\n",
            "coral_patches_2009/22853.jpeg\n",
            "coral_patches_2009/70211.jpeg\n",
            "coral_patches_2009/54359.jpeg\n",
            "coral_patches_2009/51662.jpeg\n",
            "coral_patches_2009/67359.jpeg\n",
            "coral_patches_2009/12449.jpeg\n",
            "coral_patches_2009/9498.jpeg\n",
            "coral_patches_2009/70335.jpeg\n",
            "coral_patches_2009/41204.jpeg\n",
            "coral_patches_2009/32986.jpeg\n",
            "coral_patches_2009/12025.jpeg\n",
            "coral_patches_2009/52939.jpeg\n",
            "coral_patches_2009/41629.jpeg\n",
            "coral_patches_2009/9333.jpeg\n",
            "coral_patches_2009/1998.jpeg\n",
            "coral_patches_2009/58710.jpeg\n",
            "coral_patches_2009/31842.jpeg\n",
            "coral_patches_2009/33691.jpeg\n",
            "coral_patches_2009/43797.jpeg\n",
            "coral_patches_2009/53706.jpeg\n",
            "coral_patches_2009/15976.jpeg\n",
            "coral_patches_2009/70169.jpeg\n",
            "coral_patches_2009/49369.jpeg\n",
            "coral_patches_2009/46952.jpeg\n",
            "coral_patches_2009/16710.jpeg\n",
            "coral_patches_2009/11461.jpeg\n",
            "coral_patches_2009/21720.jpeg\n",
            "coral_patches_2009/3756.jpeg\n",
            "coral_patches_2009/11104.jpeg\n",
            "coral_patches_2009/14655.jpeg\n",
            "coral_patches_2009/42255.jpeg\n",
            "coral_patches_2009/56288.jpeg\n",
            "coral_patches_2009/1747.jpeg\n",
            "coral_patches_2009/71248.jpeg\n",
            "coral_patches_2009/35889.jpeg\n",
            "coral_patches_2009/43765.jpeg\n",
            "coral_patches_2009/57305.jpeg\n",
            "coral_patches_2009/69741.jpeg\n",
            "coral_patches_2009/7311.jpeg\n",
            "coral_patches_2009/1290.jpeg\n",
            "coral_patches_2009/8835.jpeg\n",
            "coral_patches_2009/18542.jpeg\n",
            "coral_patches_2009/7795.jpeg\n",
            "coral_patches_2009/53282.jpeg\n",
            "coral_patches_2009/4804.jpeg\n",
            "coral_patches_2009/23203.jpeg\n",
            "coral_patches_2009/68906.jpeg\n",
            "coral_patches_2009/49585.jpeg\n",
            "coral_patches_2009/65552.jpeg\n",
            "coral_patches_2009/3402.jpeg\n",
            "coral_patches_2009/49932.jpeg\n",
            "coral_patches_2009/62922.jpeg\n",
            "coral_patches_2009/286.jpeg\n",
            "coral_patches_2009/3715.jpeg\n",
            "coral_patches_2009/24375.jpeg\n",
            "coral_patches_2009/6229.jpeg\n",
            "coral_patches_2009/40277.jpeg\n",
            "coral_patches_2009/10249.jpeg\n",
            "coral_patches_2009/67596.jpeg\n",
            "coral_patches_2009/32400.jpeg\n",
            "coral_patches_2009/1621.jpeg\n",
            "coral_patches_2009/45938.jpeg\n",
            "coral_patches_2009/69307.jpeg\n",
            "coral_patches_2009/71497.jpeg\n",
            "coral_patches_2009/29586.jpeg\n",
            "coral_patches_2009/33482.jpeg\n",
            "coral_patches_2009/9246.jpeg\n",
            "coral_patches_2009/53300.jpeg\n",
            "coral_patches_2009/62143.jpeg\n",
            "coral_patches_2009/50834.jpeg\n",
            "coral_patches_2009/63673.jpeg\n",
            "coral_patches_2009/71733.jpeg\n",
            "coral_patches_2009/12675.jpeg\n",
            "coral_patches_2009/69423.jpeg\n",
            "coral_patches_2009/53767.jpeg\n",
            "coral_patches_2009/14531.jpeg\n",
            "coral_patches_2009/50243.jpeg\n",
            "coral_patches_2009/55668.jpeg\n",
            "coral_patches_2009/35948.jpeg\n",
            "coral_patches_2009/16604.jpeg\n",
            "coral_patches_2009/20527.jpeg\n",
            "coral_patches_2009/36164.jpeg\n",
            "coral_patches_2009/44308.jpeg\n",
            "coral_patches_2009/49952.jpeg\n",
            "coral_patches_2009/43959.jpeg\n",
            "coral_patches_2009/46998.jpeg\n",
            "coral_patches_2009/29176.jpeg\n",
            "coral_patches_2009/8900.jpeg\n",
            "coral_patches_2009/1790.jpeg\n",
            "coral_patches_2009/70324.jpeg\n",
            "coral_patches_2009/41085.jpeg\n",
            "coral_patches_2009/1284.jpeg\n",
            "coral_patches_2009/61606.jpeg\n",
            "coral_patches_2009/69359.jpeg\n",
            "coral_patches_2009/21261.jpeg\n",
            "coral_patches_2009/44992.jpeg\n",
            "coral_patches_2009/25649.jpeg\n",
            "coral_patches_2009/66016.jpeg\n",
            "coral_patches_2009/17876.jpeg\n",
            "coral_patches_2009/44433.jpeg\n",
            "coral_patches_2009/66250.jpeg\n",
            "coral_patches_2009/33692.jpeg\n",
            "coral_patches_2009/70922.jpeg\n",
            "coral_patches_2009/28514.jpeg\n",
            "coral_patches_2009/18768.jpeg\n",
            "coral_patches_2009/63352.jpeg\n",
            "coral_patches_2009/34395.jpeg\n",
            "coral_patches_2009/33924.jpeg\n",
            "coral_patches_2009/15566.jpeg\n",
            "coral_patches_2009/52796.jpeg\n",
            "coral_patches_2009/4330.jpeg\n",
            "coral_patches_2009/324.jpeg\n",
            "coral_patches_2009/29498.jpeg\n",
            "coral_patches_2009/37276.jpeg\n",
            "coral_patches_2009/54992.jpeg\n",
            "coral_patches_2009/23268.jpeg\n",
            "coral_patches_2009/30173.jpeg\n",
            "coral_patches_2009/49592.jpeg\n",
            "coral_patches_2009/19676.jpeg\n",
            "coral_patches_2009/45548.jpeg\n",
            "coral_patches_2009/64750.jpeg\n",
            "coral_patches_2009/42898.jpeg\n",
            "coral_patches_2009/3375.jpeg\n",
            "coral_patches_2009/29766.jpeg\n",
            "coral_patches_2009/10596.jpeg\n",
            "coral_patches_2009/48569.jpeg\n",
            "coral_patches_2009/56249.jpeg\n",
            "coral_patches_2009/829.jpeg\n",
            "coral_patches_2009/70384.jpeg\n",
            "coral_patches_2009/67759.jpeg\n",
            "coral_patches_2009/24255.jpeg\n",
            "coral_patches_2009/22089.jpeg\n",
            "coral_patches_2009/55488.jpeg\n",
            "coral_patches_2009/5210.jpeg\n",
            "coral_patches_2009/49074.jpeg\n",
            "coral_patches_2009/42264.jpeg\n",
            "coral_patches_2009/23761.jpeg\n",
            "coral_patches_2009/13016.jpeg\n",
            "coral_patches_2009/38906.jpeg\n",
            "coral_patches_2009/15943.jpeg\n",
            "coral_patches_2009/19175.jpeg\n",
            "coral_patches_2009/28428.jpeg\n",
            "coral_patches_2009/19846.jpeg\n",
            "coral_patches_2009/35903.jpeg\n",
            "coral_patches_2009/13341.jpeg\n",
            "coral_patches_2009/27277.jpeg\n",
            "coral_patches_2009/51445.jpeg\n",
            "coral_patches_2009/3921.jpeg\n",
            "coral_patches_2009/56643.jpeg\n",
            "coral_patches_2009/34840.jpeg\n",
            "coral_patches_2009/6447.jpeg\n",
            "coral_patches_2009/21563.jpeg\n",
            "coral_patches_2009/9765.jpeg\n",
            "coral_patches_2009/57737.jpeg\n",
            "coral_patches_2009/4988.jpeg\n",
            "coral_patches_2009/54144.jpeg\n",
            "coral_patches_2009/11086.jpeg\n",
            "coral_patches_2009/49430.jpeg\n",
            "coral_patches_2009/45794.jpeg\n",
            "coral_patches_2009/9983.jpeg\n",
            "coral_patches_2009/8615.jpeg\n",
            "coral_patches_2009/10706.jpeg\n",
            "coral_patches_2009/16791.jpeg\n",
            "coral_patches_2009/9709.jpeg\n",
            "coral_patches_2009/53895.jpeg\n",
            "coral_patches_2009/17267.jpeg\n",
            "coral_patches_2009/47937.jpeg\n",
            "coral_patches_2009/33142.jpeg\n",
            "coral_patches_2009/19493.jpeg\n",
            "coral_patches_2009/24414.jpeg\n",
            "coral_patches_2009/19188.jpeg\n",
            "coral_patches_2009/2609.jpeg\n",
            "coral_patches_2009/17155.jpeg\n",
            "coral_patches_2009/5854.jpeg\n",
            "coral_patches_2009/32696.jpeg\n",
            "coral_patches_2009/31616.jpeg\n",
            "coral_patches_2009/24123.jpeg\n",
            "coral_patches_2009/34755.jpeg\n",
            "coral_patches_2009/70824.jpeg\n",
            "coral_patches_2009/10523.jpeg\n",
            "coral_patches_2009/66470.jpeg\n",
            "coral_patches_2009/53751.jpeg\n",
            "coral_patches_2009/58289.jpeg\n",
            "coral_patches_2009/2772.jpeg\n",
            "coral_patches_2009/17532.jpeg\n",
            "coral_patches_2009/70456.jpeg\n",
            "coral_patches_2009/49891.jpeg\n",
            "coral_patches_2009/43354.jpeg\n",
            "coral_patches_2009/26384.jpeg\n",
            "coral_patches_2009/6147.jpeg\n",
            "coral_patches_2009/53955.jpeg\n",
            "coral_patches_2009/48229.jpeg\n",
            "coral_patches_2009/26605.jpeg\n",
            "coral_patches_2009/19802.jpeg\n",
            "coral_patches_2009/58588.jpeg\n",
            "coral_patches_2009/2025.jpeg\n",
            "coral_patches_2009/49963.jpeg\n",
            "coral_patches_2009/58176.jpeg\n",
            "coral_patches_2009/67448.jpeg\n",
            "coral_patches_2009/15278.jpeg\n",
            "coral_patches_2009/71680.jpeg\n",
            "coral_patches_2009/18805.jpeg\n",
            "coral_patches_2009/31418.jpeg\n",
            "coral_patches_2009/67232.jpeg\n",
            "coral_patches_2009/25985.jpeg\n",
            "coral_patches_2009/13236.jpeg\n",
            "coral_patches_2009/55422.jpeg\n",
            "coral_patches_2009/49414.jpeg\n",
            "coral_patches_2009/47279.jpeg\n",
            "coral_patches_2009/16599.jpeg\n",
            "coral_patches_2009/58290.jpeg\n",
            "coral_patches_2009/48837.jpeg\n",
            "coral_patches_2009/30380.jpeg\n",
            "coral_patches_2009/5829.jpeg\n",
            "coral_patches_2009/58765.jpeg\n",
            "coral_patches_2009/28.jpeg\n",
            "coral_patches_2009/69989.jpeg\n",
            "coral_patches_2009/51969.jpeg\n",
            "coral_patches_2009/69609.jpeg\n",
            "coral_patches_2009/62959.jpeg\n",
            "coral_patches_2009/22542.jpeg\n",
            "coral_patches_2009/12002.jpeg\n",
            "coral_patches_2009/34540.jpeg\n",
            "coral_patches_2009/46131.jpeg\n",
            "coral_patches_2009/39467.jpeg\n",
            "coral_patches_2009/59945.jpeg\n",
            "coral_patches_2009/37917.jpeg\n",
            "coral_patches_2009/66089.jpeg\n",
            "coral_patches_2009/33992.jpeg\n",
            "coral_patches_2009/35541.jpeg\n",
            "coral_patches_2009/44185.jpeg\n",
            "coral_patches_2009/37489.jpeg\n",
            "coral_patches_2009/1513.jpeg\n",
            "coral_patches_2009/69742.jpeg\n",
            "coral_patches_2009/64007.jpeg\n",
            "coral_patches_2009/59238.jpeg\n",
            "coral_patches_2009/25820.jpeg\n",
            "coral_patches_2009/52651.jpeg\n",
            "coral_patches_2009/21971.jpeg\n",
            "coral_patches_2009/36352.jpeg\n",
            "coral_patches_2009/54136.jpeg\n",
            "coral_patches_2009/57647.jpeg\n",
            "coral_patches_2009/51472.jpeg\n",
            "coral_patches_2009/67041.jpeg\n",
            "coral_patches_2009/53250.jpeg\n",
            "coral_patches_2009/44062.jpeg\n",
            "coral_patches_2009/67439.jpeg\n",
            "coral_patches_2009/64730.jpeg\n",
            "coral_patches_2009/9810.jpeg\n",
            "coral_patches_2009/16357.jpeg\n",
            "coral_patches_2009/4176.jpeg\n",
            "coral_patches_2009/37704.jpeg\n",
            "coral_patches_2009/10546.jpeg\n",
            "coral_patches_2009/12728.jpeg\n",
            "coral_patches_2009/54788.jpeg\n",
            "coral_patches_2009/386.jpeg\n",
            "coral_patches_2009/48713.jpeg\n",
            "coral_patches_2009/22278.jpeg\n",
            "coral_patches_2009/46947.jpeg\n",
            "coral_patches_2009/65449.jpeg\n",
            "coral_patches_2009/26095.jpeg\n",
            "coral_patches_2009/17303.jpeg\n",
            "coral_patches_2009/41371.jpeg\n",
            "coral_patches_2009/19442.jpeg\n",
            "coral_patches_2009/40499.jpeg\n",
            "coral_patches_2009/61468.jpeg\n",
            "coral_patches_2009/64895.jpeg\n",
            "coral_patches_2009/66910.jpeg\n",
            "coral_patches_2009/67536.jpeg\n",
            "coral_patches_2009/8599.jpeg\n",
            "coral_patches_2009/58872.jpeg\n",
            "coral_patches_2009/43120.jpeg\n",
            "coral_patches_2009/24412.jpeg\n",
            "coral_patches_2009/57359.jpeg\n",
            "coral_patches_2009/19580.jpeg\n",
            "coral_patches_2009/46176.jpeg\n",
            "coral_patches_2009/61072.jpeg\n",
            "coral_patches_2009/35179.jpeg\n",
            "coral_patches_2009/65737.jpeg\n",
            "coral_patches_2009/39576.jpeg\n",
            "coral_patches_2009/55939.jpeg\n",
            "coral_patches_2009/14062.jpeg\n",
            "coral_patches_2009/7342.jpeg\n",
            "coral_patches_2009/28130.jpeg\n",
            "coral_patches_2009/8055.jpeg\n",
            "coral_patches_2009/66667.jpeg\n",
            "coral_patches_2009/26533.jpeg\n",
            "coral_patches_2009/10386.jpeg\n",
            "coral_patches_2009/21031.jpeg\n",
            "coral_patches_2009/13425.jpeg\n",
            "coral_patches_2009/53373.jpeg\n",
            "coral_patches_2009/18903.jpeg\n",
            "coral_patches_2009/54114.jpeg\n",
            "coral_patches_2009/41309.jpeg\n",
            "coral_patches_2009/61772.jpeg\n",
            "coral_patches_2009/59679.jpeg\n",
            "coral_patches_2009/39058.jpeg\n",
            "coral_patches_2009/12837.jpeg\n",
            "coral_patches_2009/8799.jpeg\n",
            "coral_patches_2009/23581.jpeg\n",
            "coral_patches_2009/53072.jpeg\n",
            "coral_patches_2009/57512.jpeg\n",
            "coral_patches_2009/8271.jpeg\n",
            "coral_patches_2009/70883.jpeg\n",
            "coral_patches_2009/55724.jpeg\n",
            "coral_patches_2009/56349.jpeg\n",
            "coral_patches_2009/55230.jpeg\n",
            "coral_patches_2009/10404.jpeg\n",
            "coral_patches_2009/18480.jpeg\n",
            "coral_patches_2009/21278.jpeg\n",
            "coral_patches_2009/33434.jpeg\n",
            "coral_patches_2009/14763.jpeg\n",
            "coral_patches_2009/28715.jpeg\n",
            "coral_patches_2009/68272.jpeg\n",
            "coral_patches_2009/42633.jpeg\n",
            "coral_patches_2009/47404.jpeg\n",
            "coral_patches_2009/26453.jpeg\n",
            "coral_patches_2009/26117.jpeg\n",
            "coral_patches_2009/5516.jpeg\n",
            "coral_patches_2009/71217.jpeg\n",
            "coral_patches_2009/15555.jpeg\n",
            "coral_patches_2009/13946.jpeg\n",
            "coral_patches_2009/10972.jpeg\n",
            "coral_patches_2009/53075.jpeg\n",
            "coral_patches_2009/36875.jpeg\n",
            "coral_patches_2009/69033.jpeg\n",
            "coral_patches_2009/21035.jpeg\n",
            "coral_patches_2009/4542.jpeg\n",
            "coral_patches_2009/59865.jpeg\n",
            "coral_patches_2009/9689.jpeg\n",
            "coral_patches_2009/33916.jpeg\n",
            "coral_patches_2009/36510.jpeg\n",
            "coral_patches_2009/46559.jpeg\n",
            "coral_patches_2009/10302.jpeg\n",
            "coral_patches_2009/35782.jpeg\n",
            "coral_patches_2009/61746.jpeg\n",
            "coral_patches_2009/7764.jpeg\n",
            "coral_patches_2009/47719.jpeg\n",
            "coral_patches_2009/14195.jpeg\n",
            "coral_patches_2009/1140.jpeg\n",
            "coral_patches_2009/37567.jpeg\n",
            "coral_patches_2009/13213.jpeg\n",
            "coral_patches_2009/67631.jpeg\n",
            "coral_patches_2009/41257.jpeg\n",
            "coral_patches_2009/36256.jpeg\n",
            "coral_patches_2009/56221.jpeg\n",
            "coral_patches_2009/40945.jpeg\n",
            "coral_patches_2009/64944.jpeg\n",
            "coral_patches_2009/51339.jpeg\n",
            "coral_patches_2009/14637.jpeg\n",
            "coral_patches_2009/38275.jpeg\n",
            "coral_patches_2009/8611.jpeg\n",
            "coral_patches_2009/21828.jpeg\n",
            "coral_patches_2009/29450.jpeg\n",
            "coral_patches_2009/48118.jpeg\n",
            "coral_patches_2009/29012.jpeg\n",
            "coral_patches_2009/35341.jpeg\n",
            "coral_patches_2009/9938.jpeg\n",
            "coral_patches_2009/50075.jpeg\n",
            "coral_patches_2009/33890.jpeg\n",
            "coral_patches_2009/25680.jpeg\n",
            "coral_patches_2009/66753.jpeg\n",
            "coral_patches_2009/65503.jpeg\n",
            "coral_patches_2009/2729.jpeg\n",
            "coral_patches_2009/27629.jpeg\n",
            "coral_patches_2009/54867.jpeg\n",
            "coral_patches_2009/48079.jpeg\n",
            "coral_patches_2009/19754.jpeg\n",
            "coral_patches_2009/18896.jpeg\n",
            "coral_patches_2009/2954.jpeg\n",
            "coral_patches_2009/58393.jpeg\n",
            "coral_patches_2009/54827.jpeg\n",
            "coral_patches_2009/45670.jpeg\n",
            "coral_patches_2009/12319.jpeg\n",
            "coral_patches_2009/64321.jpeg\n",
            "coral_patches_2009/68053.jpeg\n",
            "coral_patches_2009/55449.jpeg\n",
            "coral_patches_2009/24613.jpeg\n",
            "coral_patches_2009/43597.jpeg\n",
            "coral_patches_2009/38187.jpeg\n",
            "coral_patches_2009/1334.jpeg\n",
            "coral_patches_2009/5070.jpeg\n",
            "coral_patches_2009/38793.jpeg\n",
            "coral_patches_2009/5568.jpeg\n",
            "coral_patches_2009/14620.jpeg\n",
            "coral_patches_2009/14273.jpeg\n",
            "coral_patches_2009/22391.jpeg\n",
            "coral_patches_2009/43596.jpeg\n",
            "coral_patches_2009/26473.jpeg\n",
            "coral_patches_2009/33842.jpeg\n",
            "coral_patches_2009/12893.jpeg\n",
            "coral_patches_2009/35230.jpeg\n",
            "coral_patches_2009/16816.jpeg\n",
            "coral_patches_2009/70784.jpeg\n",
            "coral_patches_2009/64192.jpeg\n",
            "coral_patches_2009/59339.jpeg\n",
            "coral_patches_2009/25415.jpeg\n",
            "coral_patches_2009/2894.jpeg\n",
            "coral_patches_2009/51904.jpeg\n",
            "coral_patches_2009/15537.jpeg\n",
            "coral_patches_2009/18695.jpeg\n",
            "coral_patches_2009/30402.jpeg\n",
            "coral_patches_2009/52815.jpeg\n",
            "coral_patches_2009/38046.jpeg\n",
            "coral_patches_2009/14350.jpeg\n",
            "coral_patches_2009/16128.jpeg\n",
            "coral_patches_2009/15024.jpeg\n",
            "coral_patches_2009/22236.jpeg\n",
            "coral_patches_2009/29933.jpeg\n",
            "coral_patches_2009/19542.jpeg\n",
            "coral_patches_2009/40746.jpeg\n",
            "coral_patches_2009/41522.jpeg\n",
            "coral_patches_2009/28045.jpeg\n",
            "coral_patches_2009/8818.jpeg\n",
            "coral_patches_2009/13749.jpeg\n",
            "coral_patches_2009/63702.jpeg\n",
            "coral_patches_2009/33012.jpeg\n",
            "coral_patches_2009/10927.jpeg\n",
            "coral_patches_2009/10694.jpeg\n",
            "coral_patches_2009/34652.jpeg\n",
            "coral_patches_2009/33571.jpeg\n",
            "coral_patches_2009/18739.jpeg\n",
            "coral_patches_2009/19530.jpeg\n",
            "coral_patches_2009/8458.jpeg\n",
            "coral_patches_2009/10293.jpeg\n",
            "coral_patches_2009/53453.jpeg\n",
            "coral_patches_2009/5652.jpeg\n",
            "coral_patches_2009/65292.jpeg\n",
            "coral_patches_2009/62805.jpeg\n",
            "coral_patches_2009/11479.jpeg\n",
            "coral_patches_2009/58888.jpeg\n",
            "coral_patches_2009/24402.jpeg\n",
            "coral_patches_2009/42530.jpeg\n",
            "coral_patches_2009/230.jpeg\n",
            "coral_patches_2009/40017.jpeg\n",
            "coral_patches_2009/55682.jpeg\n",
            "coral_patches_2009/16386.jpeg\n",
            "coral_patches_2009/23751.jpeg\n",
            "coral_patches_2009/11510.jpeg\n",
            "coral_patches_2009/36068.jpeg\n",
            "coral_patches_2009/859.jpeg\n",
            "coral_patches_2009/27539.jpeg\n",
            "coral_patches_2009/28819.jpeg\n",
            "coral_patches_2009/42897.jpeg\n",
            "coral_patches_2009/43070.jpeg\n",
            "coral_patches_2009/6875.jpeg\n",
            "coral_patches_2009/16616.jpeg\n",
            "coral_patches_2009/8973.jpeg\n",
            "coral_patches_2009/5404.jpeg\n",
            "coral_patches_2009/21280.jpeg\n",
            "coral_patches_2009/57882.jpeg\n",
            "coral_patches_2009/7859.jpeg\n",
            "coral_patches_2009/14486.jpeg\n",
            "coral_patches_2009/48086.jpeg\n",
            "coral_patches_2009/58066.jpeg\n",
            "coral_patches_2009/71502.jpeg\n",
            "coral_patches_2009/8800.jpeg\n",
            "coral_patches_2009/67870.jpeg\n",
            "coral_patches_2009/70239.jpeg\n",
            "coral_patches_2009/46210.jpeg\n",
            "coral_patches_2009/5461.jpeg\n",
            "coral_patches_2009/45807.jpeg\n",
            "coral_patches_2009/59659.jpeg\n",
            "coral_patches_2009/71392.jpeg\n",
            "coral_patches_2009/7470.jpeg\n",
            "coral_patches_2009/54838.jpeg\n",
            "coral_patches_2009/19153.jpeg\n",
            "coral_patches_2009/22155.jpeg\n",
            "coral_patches_2009/51831.jpeg\n",
            "coral_patches_2009/71549.jpeg\n",
            "coral_patches_2009/41739.jpeg\n",
            "coral_patches_2009/26630.jpeg\n",
            "coral_patches_2009/22471.jpeg\n",
            "coral_patches_2009/29349.jpeg\n",
            "coral_patches_2009/3157.jpeg\n",
            "coral_patches_2009/14111.jpeg\n",
            "coral_patches_2009/31482.jpeg\n",
            "coral_patches_2009/42133.jpeg\n",
            "coral_patches_2009/69647.jpeg\n",
            "coral_patches_2009/56553.jpeg\n",
            "coral_patches_2009/52641.jpeg\n",
            "coral_patches_2009/35593.jpeg\n",
            "coral_patches_2009/27202.jpeg\n",
            "coral_patches_2009/6553.jpeg\n",
            "coral_patches_2009/14164.jpeg\n",
            "coral_patches_2009/11791.jpeg\n",
            "coral_patches_2009/37020.jpeg\n",
            "coral_patches_2009/64160.jpeg\n",
            "coral_patches_2009/51770.jpeg\n",
            "coral_patches_2009/43997.jpeg\n",
            "coral_patches_2009/60150.jpeg\n",
            "coral_patches_2009/60140.jpeg\n",
            "coral_patches_2009/54538.jpeg\n",
            "coral_patches_2009/45883.jpeg\n",
            "coral_patches_2009/27344.jpeg\n",
            "coral_patches_2009/462.jpeg\n",
            "coral_patches_2009/10002.jpeg\n",
            "coral_patches_2009/65692.jpeg\n",
            "coral_patches_2009/23821.jpeg\n",
            "coral_patches_2009/7215.jpeg\n",
            "coral_patches_2009/45888.jpeg\n",
            "coral_patches_2009/29147.jpeg\n",
            "coral_patches_2009/19490.jpeg\n",
            "coral_patches_2009/54488.jpeg\n",
            "coral_patches_2009/31672.jpeg\n",
            "coral_patches_2009/19730.jpeg\n",
            "coral_patches_2009/1149.jpeg\n",
            "coral_patches_2009/24875.jpeg\n",
            "coral_patches_2009/22716.jpeg\n",
            "coral_patches_2009/28495.jpeg\n",
            "coral_patches_2009/67181.jpeg\n",
            "coral_patches_2009/19801.jpeg\n",
            "coral_patches_2009/24403.jpeg\n",
            "coral_patches_2009/17724.jpeg\n",
            "coral_patches_2009/70842.jpeg\n",
            "coral_patches_2009/5763.jpeg\n",
            "coral_patches_2009/61547.jpeg\n",
            "coral_patches_2009/65054.jpeg\n",
            "coral_patches_2009/2312.jpeg\n",
            "coral_patches_2009/18239.jpeg\n",
            "coral_patches_2009/68040.jpeg\n",
            "coral_patches_2009/36189.jpeg\n",
            "coral_patches_2009/68527.jpeg\n",
            "coral_patches_2009/31446.jpeg\n",
            "coral_patches_2009/564.jpeg\n",
            "coral_patches_2009/60446.jpeg\n",
            "coral_patches_2009/2518.jpeg\n",
            "coral_patches_2009/5803.jpeg\n",
            "coral_patches_2009/24655.jpeg\n",
            "coral_patches_2009/69291.jpeg\n",
            "coral_patches_2009/2739.jpeg\n",
            "coral_patches_2009/49004.jpeg\n",
            "coral_patches_2009/54133.jpeg\n",
            "coral_patches_2009/49026.jpeg\n",
            "coral_patches_2009/39296.jpeg\n",
            "coral_patches_2009/34695.jpeg\n",
            "coral_patches_2009/14269.jpeg\n",
            "coral_patches_2009/14737.jpeg\n",
            "coral_patches_2009/17138.jpeg\n",
            "coral_patches_2009/15193.jpeg\n",
            "coral_patches_2009/64449.jpeg\n",
            "coral_patches_2009/31383.jpeg\n",
            "coral_patches_2009/60782.jpeg\n",
            "coral_patches_2009/28214.jpeg\n",
            "coral_patches_2009/24748.jpeg\n",
            "coral_patches_2009/39883.jpeg\n",
            "coral_patches_2009/30808.jpeg\n",
            "coral_patches_2009/70129.jpeg\n",
            "coral_patches_2009/12914.jpeg\n",
            "coral_patches_2009/36959.jpeg\n",
            "coral_patches_2009/65698.jpeg\n",
            "coral_patches_2009/59552.jpeg\n",
            "coral_patches_2009/30349.jpeg\n",
            "coral_patches_2009/30558.jpeg\n",
            "coral_patches_2009/56531.jpeg\n",
            "coral_patches_2009/22747.jpeg\n",
            "coral_patches_2009/4530.jpeg\n",
            "coral_patches_2009/69621.jpeg\n",
            "coral_patches_2009/42340.jpeg\n",
            "coral_patches_2009/11764.jpeg\n",
            "coral_patches_2009/53041.jpeg\n",
            "coral_patches_2009/9359.jpeg\n",
            "coral_patches_2009/54787.jpeg\n",
            "coral_patches_2009/6480.jpeg\n",
            "coral_patches_2009/7909.jpeg\n",
            "coral_patches_2009/29774.jpeg\n",
            "coral_patches_2009/26894.jpeg\n",
            "coral_patches_2009/24265.jpeg\n",
            "coral_patches_2009/31266.jpeg\n",
            "coral_patches_2009/67540.jpeg\n",
            "coral_patches_2009/39152.jpeg\n",
            "coral_patches_2009/49604.jpeg\n",
            "coral_patches_2009/39112.jpeg\n",
            "coral_patches_2009/12749.jpeg\n",
            "coral_patches_2009/29166.jpeg\n",
            "coral_patches_2009/50098.jpeg\n",
            "coral_patches_2009/50767.jpeg\n",
            "coral_patches_2009/20400.jpeg\n",
            "coral_patches_2009/40407.jpeg\n",
            "coral_patches_2009/8324.jpeg\n",
            "coral_patches_2009/55757.jpeg\n",
            "coral_patches_2009/10757.jpeg\n",
            "coral_patches_2009/745.jpeg\n",
            "coral_patches_2009/47033.jpeg\n",
            "coral_patches_2009/46717.jpeg\n",
            "coral_patches_2009/50550.jpeg\n",
            "coral_patches_2009/19101.jpeg\n",
            "coral_patches_2009/15936.jpeg\n",
            "coral_patches_2009/46936.jpeg\n",
            "coral_patches_2009/36582.jpeg\n",
            "coral_patches_2009/63744.jpeg\n",
            "coral_patches_2009/56904.jpeg\n",
            "coral_patches_2009/54323.jpeg\n",
            "coral_patches_2009/37559.jpeg\n",
            "coral_patches_2009/33836.jpeg\n",
            "coral_patches_2009/12131.jpeg\n",
            "coral_patches_2009/39090.jpeg\n",
            "coral_patches_2009/36543.jpeg\n",
            "coral_patches_2009/12743.jpeg\n",
            "coral_patches_2009/38156.jpeg\n",
            "coral_patches_2009/44742.jpeg\n",
            "coral_patches_2009/22852.jpeg\n",
            "coral_patches_2009/54739.jpeg\n",
            "coral_patches_2009/52718.jpeg\n",
            "coral_patches_2009/8680.jpeg\n",
            "coral_patches_2009/15180.jpeg\n",
            "coral_patches_2009/71137.jpeg\n",
            "coral_patches_2009/33956.jpeg\n",
            "coral_patches_2009/14365.jpeg\n",
            "coral_patches_2009/37175.jpeg\n",
            "coral_patches_2009/45346.jpeg\n",
            "coral_patches_2009/54547.jpeg\n",
            "coral_patches_2009/48413.jpeg\n",
            "coral_patches_2009/47502.jpeg\n",
            "coral_patches_2009/41969.jpeg\n",
            "coral_patches_2009/27751.jpeg\n",
            "coral_patches_2009/55897.jpeg\n",
            "coral_patches_2009/6996.jpeg\n",
            "coral_patches_2009/23070.jpeg\n",
            "coral_patches_2009/42514.jpeg\n",
            "coral_patches_2009/8290.jpeg\n",
            "coral_patches_2009/7516.jpeg\n",
            "coral_patches_2009/27951.jpeg\n",
            "coral_patches_2009/64698.jpeg\n",
            "coral_patches_2009/429.jpeg\n",
            "coral_patches_2009/2768.jpeg\n",
            "coral_patches_2009/12840.jpeg\n",
            "coral_patches_2009/42976.jpeg\n",
            "coral_patches_2009/47843.jpeg\n",
            "coral_patches_2009/25964.jpeg\n",
            "coral_patches_2009/30170.jpeg\n",
            "coral_patches_2009/16742.jpeg\n",
            "coral_patches_2009/61037.jpeg\n",
            "coral_patches_2009/43503.jpeg\n",
            "coral_patches_2009/28286.jpeg\n",
            "coral_patches_2009/46013.jpeg\n",
            "coral_patches_2009/50085.jpeg\n",
            "coral_patches_2009/21673.jpeg\n",
            "coral_patches_2009/48698.jpeg\n",
            "coral_patches_2009/23382.jpeg\n",
            "coral_patches_2009/70747.jpeg\n",
            "coral_patches_2009/23618.jpeg\n",
            "coral_patches_2009/43675.jpeg\n",
            "coral_patches_2009/61030.jpeg\n",
            "coral_patches_2009/68726.jpeg\n",
            "coral_patches_2009/11434.jpeg\n",
            "coral_patches_2009/54319.jpeg\n",
            "coral_patches_2009/17570.jpeg\n",
            "coral_patches_2009/27191.jpeg\n",
            "coral_patches_2009/34712.jpeg\n",
            "coral_patches_2009/51157.jpeg\n",
            "coral_patches_2009/21297.jpeg\n",
            "coral_patches_2009/69222.jpeg\n",
            "coral_patches_2009/71035.jpeg\n",
            "coral_patches_2009/16211.jpeg\n",
            "coral_patches_2009/63678.jpeg\n",
            "coral_patches_2009/64829.jpeg\n",
            "coral_patches_2009/69899.jpeg\n",
            "coral_patches_2009/60134.jpeg\n",
            "coral_patches_2009/1150.jpeg\n",
            "coral_patches_2009/51789.jpeg\n",
            "coral_patches_2009/18692.jpeg\n",
            "coral_patches_2009/46537.jpeg\n",
            "coral_patches_2009/45356.jpeg\n",
            "coral_patches_2009/9002.jpeg\n",
            "coral_patches_2009/50046.jpeg\n",
            "coral_patches_2009/69405.jpeg\n",
            "coral_patches_2009/54046.jpeg\n",
            "coral_patches_2009/33431.jpeg\n",
            "coral_patches_2009/20222.jpeg\n",
            "coral_patches_2009/31695.jpeg\n",
            "coral_patches_2009/10727.jpeg\n",
            "coral_patches_2009/45475.jpeg\n",
            "coral_patches_2009/20170.jpeg\n",
            "coral_patches_2009/47341.jpeg\n",
            "coral_patches_2009/3589.jpeg\n",
            "coral_patches_2009/63210.jpeg\n",
            "coral_patches_2009/6121.jpeg\n",
            "coral_patches_2009/70910.jpeg\n",
            "coral_patches_2009/36345.jpeg\n",
            "coral_patches_2009/39457.jpeg\n",
            "coral_patches_2009/42039.jpeg\n",
            "coral_patches_2009/62183.jpeg\n",
            "coral_patches_2009/36467.jpeg\n",
            "coral_patches_2009/21100.jpeg\n",
            "coral_patches_2009/25919.jpeg\n",
            "coral_patches_2009/41774.jpeg\n",
            "coral_patches_2009/39458.jpeg\n",
            "coral_patches_2009/50128.jpeg\n",
            "coral_patches_2009/11555.jpeg\n",
            "coral_patches_2009/37637.jpeg\n",
            "coral_patches_2009/59240.jpeg\n",
            "coral_patches_2009/18989.jpeg\n",
            "coral_patches_2009/19537.jpeg\n",
            "coral_patches_2009/19837.jpeg\n",
            "coral_patches_2009/15695.jpeg\n",
            "coral_patches_2009/33880.jpeg\n",
            "coral_patches_2009/56245.jpeg\n",
            "coral_patches_2009/8875.jpeg\n",
            "coral_patches_2009/31277.jpeg\n",
            "coral_patches_2009/29016.jpeg\n",
            "coral_patches_2009/32521.jpeg\n",
            "coral_patches_2009/21047.jpeg\n",
            "coral_patches_2009/65886.jpeg\n",
            "coral_patches_2009/63713.jpeg\n",
            "coral_patches_2009/9429.jpeg\n",
            "coral_patches_2009/28765.jpeg\n",
            "coral_patches_2009/29674.jpeg\n",
            "coral_patches_2009/50762.jpeg\n",
            "coral_patches_2009/68790.jpeg\n",
            "coral_patches_2009/60191.jpeg\n",
            "coral_patches_2009/21776.jpeg\n",
            "coral_patches_2009/16514.jpeg\n",
            "coral_patches_2009/65792.jpeg\n",
            "coral_patches_2009/40804.jpeg\n",
            "coral_patches_2009/11818.jpeg\n",
            "coral_patches_2009/18494.jpeg\n",
            "coral_patches_2009/44044.jpeg\n",
            "coral_patches_2009/8482.jpeg\n",
            "coral_patches_2009/19432.jpeg\n",
            "coral_patches_2009/44644.jpeg\n",
            "coral_patches_2009/5998.jpeg\n",
            "coral_patches_2009/8930.jpeg\n",
            "coral_patches_2009/58479.jpeg\n",
            "coral_patches_2009/5087.jpeg\n",
            "coral_patches_2009/65151.jpeg\n",
            "coral_patches_2009/60670.jpeg\n",
            "coral_patches_2009/7631.jpeg\n",
            "coral_patches_2009/53065.jpeg\n",
            "coral_patches_2009/62490.jpeg\n",
            "coral_patches_2009/2410.jpeg\n",
            "coral_patches_2009/4047.jpeg\n",
            "coral_patches_2009/26766.jpeg\n",
            "coral_patches_2009/42009.jpeg\n",
            "coral_patches_2009/58507.jpeg\n",
            "coral_patches_2009/13324.jpeg\n",
            "coral_patches_2009/42725.jpeg\n",
            "coral_patches_2009/19840.jpeg\n",
            "coral_patches_2009/10950.jpeg\n",
            "coral_patches_2009/30420.jpeg\n",
            "coral_patches_2009/29370.jpeg\n",
            "coral_patches_2009/56247.jpeg\n",
            "coral_patches_2009/23479.jpeg\n",
            "coral_patches_2009/48360.jpeg\n",
            "coral_patches_2009/6886.jpeg\n",
            "coral_patches_2009/22496.jpeg\n",
            "coral_patches_2009/52683.jpeg\n",
            "coral_patches_2009/21671.jpeg\n",
            "coral_patches_2009/69753.jpeg\n",
            "coral_patches_2009/17634.jpeg\n",
            "coral_patches_2009/54096.jpeg\n",
            "coral_patches_2009/9267.jpeg\n",
            "coral_patches_2009/730.jpeg\n",
            "coral_patches_2009/65919.jpeg\n",
            "coral_patches_2009/63999.jpeg\n",
            "coral_patches_2009/37517.jpeg\n",
            "coral_patches_2009/47201.jpeg\n",
            "coral_patches_2009/65928.jpeg\n",
            "coral_patches_2009/52553.jpeg\n",
            "coral_patches_2009/48704.jpeg\n",
            "coral_patches_2009/7471.jpeg\n",
            "coral_patches_2009/6095.jpeg\n",
            "coral_patches_2009/63873.jpeg\n",
            "coral_patches_2009/217.jpeg\n",
            "coral_patches_2009/26263.jpeg\n",
            "coral_patches_2009/69857.jpeg\n",
            "coral_patches_2009/9075.jpeg\n",
            "coral_patches_2009/71258.jpeg\n",
            "coral_patches_2009/42221.jpeg\n",
            "coral_patches_2009/26736.jpeg\n",
            "coral_patches_2009/28380.jpeg\n",
            "coral_patches_2009/10197.jpeg\n",
            "coral_patches_2009/4709.jpeg\n",
            "coral_patches_2009/62745.jpeg\n",
            "coral_patches_2009/6218.jpeg\n",
            "coral_patches_2009/68643.jpeg\n",
            "coral_patches_2009/16419.jpeg\n",
            "coral_patches_2009/54875.jpeg\n",
            "coral_patches_2009/8387.jpeg\n",
            "coral_patches_2009/6818.jpeg\n",
            "coral_patches_2009/62287.jpeg\n",
            "coral_patches_2009/12030.jpeg\n",
            "coral_patches_2009/11167.jpeg\n",
            "coral_patches_2009/39041.jpeg\n",
            "coral_patches_2009/25066.jpeg\n",
            "coral_patches_2009/393.jpeg\n",
            "coral_patches_2009/38435.jpeg\n",
            "coral_patches_2009/9516.jpeg\n",
            "coral_patches_2009/32992.jpeg\n",
            "coral_patches_2009/69691.jpeg\n",
            "coral_patches_2009/43730.jpeg\n",
            "coral_patches_2009/9911.jpeg\n",
            "coral_patches_2009/10028.jpeg\n",
            "coral_patches_2009/26530.jpeg\n",
            "coral_patches_2009/60567.jpeg\n",
            "coral_patches_2009/55481.jpeg\n",
            "coral_patches_2009/23949.jpeg\n",
            "coral_patches_2009/65864.jpeg\n",
            "coral_patches_2009/23644.jpeg\n",
            "coral_patches_2009/66816.jpeg\n",
            "coral_patches_2009/24973.jpeg\n",
            "coral_patches_2009/39478.jpeg\n",
            "coral_patches_2009/31751.jpeg\n",
            "coral_patches_2009/47237.jpeg\n",
            "coral_patches_2009/31744.jpeg\n",
            "coral_patches_2009/44671.jpeg\n",
            "coral_patches_2009/426.jpeg\n",
            "coral_patches_2009/62771.jpeg\n",
            "coral_patches_2009/14943.jpeg\n",
            "coral_patches_2009/2395.jpeg\n",
            "coral_patches_2009/12261.jpeg\n",
            "coral_patches_2009/18913.jpeg\n",
            "coral_patches_2009/69443.jpeg\n",
            "coral_patches_2009/35311.jpeg\n",
            "coral_patches_2009/63872.jpeg\n",
            "coral_patches_2009/22728.jpeg\n",
            "coral_patches_2009/21564.jpeg\n",
            "coral_patches_2009/52255.jpeg\n",
            "coral_patches_2009/7294.jpeg\n",
            "coral_patches_2009/43560.jpeg\n",
            "coral_patches_2009/19608.jpeg\n",
            "coral_patches_2009/30612.jpeg\n",
            "coral_patches_2009/34781.jpeg\n",
            "coral_patches_2009/30223.jpeg\n",
            "coral_patches_2009/30326.jpeg\n",
            "coral_patches_2009/4210.jpeg\n",
            "coral_patches_2009/37886.jpeg\n",
            "coral_patches_2009/67026.jpeg\n",
            "coral_patches_2009/41758.jpeg\n",
            "coral_patches_2009/45288.jpeg\n",
            "coral_patches_2009/11865.jpeg\n",
            "coral_patches_2009/69780.jpeg\n",
            "coral_patches_2009/31183.jpeg\n",
            "coral_patches_2009/54518.jpeg\n",
            "coral_patches_2009/25842.jpeg\n",
            "coral_patches_2009/29824.jpeg\n",
            "coral_patches_2009/45904.jpeg\n",
            "coral_patches_2009/23603.jpeg\n",
            "coral_patches_2009/51788.jpeg\n",
            "coral_patches_2009/14207.jpeg\n",
            "coral_patches_2009/19620.jpeg\n",
            "coral_patches_2009/2447.jpeg\n",
            "coral_patches_2009/41203.jpeg\n",
            "coral_patches_2009/12200.jpeg\n",
            "coral_patches_2009/56152.jpeg\n",
            "coral_patches_2009/40692.jpeg\n",
            "coral_patches_2009/56364.jpeg\n",
            "coral_patches_2009/25730.jpeg\n",
            "coral_patches_2009/41356.jpeg\n",
            "coral_patches_2009/68878.jpeg\n",
            "coral_patches_2009/10696.jpeg\n",
            "coral_patches_2009/40483.jpeg\n",
            "coral_patches_2009/44509.jpeg\n",
            "coral_patches_2009/29862.jpeg\n",
            "coral_patches_2009/21387.jpeg\n",
            "coral_patches_2009/59199.jpeg\n",
            "coral_patches_2009/11888.jpeg\n",
            "coral_patches_2009/63057.jpeg\n",
            "coral_patches_2009/52196.jpeg\n",
            "coral_patches_2009/51190.jpeg\n",
            "coral_patches_2009/22457.jpeg\n",
            "coral_patches_2009/36555.jpeg\n",
            "coral_patches_2009/31915.jpeg\n",
            "coral_patches_2009/7475.jpeg\n",
            "coral_patches_2009/55020.jpeg\n",
            "coral_patches_2009/50226.jpeg\n",
            "coral_patches_2009/65998.jpeg\n",
            "coral_patches_2009/68531.jpeg\n",
            "coral_patches_2009/62623.jpeg\n",
            "coral_patches_2009/14189.jpeg\n",
            "coral_patches_2009/44639.jpeg\n",
            "coral_patches_2009/52824.jpeg\n",
            "coral_patches_2009/25657.jpeg\n",
            "coral_patches_2009/20668.jpeg\n",
            "coral_patches_2009/12322.jpeg\n",
            "coral_patches_2009/14399.jpeg\n",
            "coral_patches_2009/38210.jpeg\n",
            "coral_patches_2009/63489.jpeg\n",
            "coral_patches_2009/2379.jpeg\n",
            "coral_patches_2009/40704.jpeg\n",
            "coral_patches_2009/60954.jpeg\n",
            "coral_patches_2009/53977.jpeg\n",
            "coral_patches_2009/69932.jpeg\n",
            "coral_patches_2009/6990.jpeg\n",
            "coral_patches_2009/16080.jpeg\n",
            "coral_patches_2009/26281.jpeg\n",
            "coral_patches_2009/4422.jpeg\n",
            "coral_patches_2009/11026.jpeg\n",
            "coral_patches_2009/19024.jpeg\n",
            "coral_patches_2009/39580.jpeg\n",
            "coral_patches_2009/69034.jpeg\n",
            "coral_patches_2009/69132.jpeg\n",
            "coral_patches_2009/64967.jpeg\n",
            "coral_patches_2009/42536.jpeg\n",
            "coral_patches_2009/46231.jpeg\n",
            "coral_patches_2009/2412.jpeg\n",
            "coral_patches_2009/9995.jpeg\n",
            "coral_patches_2009/65300.jpeg\n",
            "coral_patches_2009/11913.jpeg\n",
            "coral_patches_2009/46040.jpeg\n",
            "coral_patches_2009/58929.jpeg\n",
            "coral_patches_2009/2971.jpeg\n",
            "coral_patches_2009/42096.jpeg\n",
            "coral_patches_2009/32057.jpeg\n",
            "coral_patches_2009/36882.jpeg\n",
            "coral_patches_2009/64837.jpeg\n",
            "coral_patches_2009/41299.jpeg\n",
            "coral_patches_2009/70299.jpeg\n",
            "coral_patches_2009/61044.jpeg\n",
            "coral_patches_2009/26336.jpeg\n",
            "coral_patches_2009/43302.jpeg\n",
            "coral_patches_2009/24832.jpeg\n",
            "coral_patches_2009/14953.jpeg\n",
            "coral_patches_2009/27670.jpeg\n",
            "coral_patches_2009/11837.jpeg\n",
            "coral_patches_2009/57010.jpeg\n",
            "coral_patches_2009/59520.jpeg\n",
            "coral_patches_2009/46846.jpeg\n",
            "coral_patches_2009/63899.jpeg\n",
            "coral_patches_2009/2314.jpeg\n",
            "coral_patches_2009/67750.jpeg\n",
            "coral_patches_2009/3216.jpeg\n",
            "coral_patches_2009/26050.jpeg\n",
            "coral_patches_2009/60230.jpeg\n",
            "coral_patches_2009/17883.jpeg\n",
            "coral_patches_2009/38225.jpeg\n",
            "coral_patches_2009/26763.jpeg\n",
            "coral_patches_2009/30643.jpeg\n",
            "coral_patches_2008.csv\n",
            "coral_patches_2009.csv\n"
          ]
        },
        {
          "output_type": "execute_result",
          "data": {
            "text/plain": [
              ""
            ]
          },
          "metadata": {},
          "execution_count": 19
        }
      ]
    },
    {
      "cell_type": "markdown",
      "source": [
        "Create dataloader class for either 128x128 or stretched 224x224 for classification. "
      ],
      "metadata": {
        "id": "BSgkH7Pu30JR"
      }
    },
    {
      "cell_type": "code",
      "source": [
        "\n",
        "class CoralPatches(Dataset):\n",
        "    \"\"\"Coral dataset.\"\"\"\n",
        "\n",
        "    def __init__(self, csv_file, root_dir, label_list, transform=None):\n",
        "\n",
        "        self.landmarks_frame = pd.read_csv(csv_file)\n",
        "        self.landmarks_frame['label'] = self.landmarks_frame['label'].str.lower()\n",
        "        self.landmarks_frame = self.landmarks_frame[self.landmarks_frame['label'].isin(label_list)]\n",
        "\n",
        "        self.root_dir = root_dir\n",
        "        self.all_labels = label_list\n",
        "        self.label_map = {i:l for l,i in enumerate(label_list)}\n",
        "        self.transform = transform\n",
        "\n",
        "    def __len__(self):\n",
        "        return len(self.landmarks_frame)\n",
        "\n",
        "    def __getitem__(self, idx):\n",
        "        if torch.is_tensor(idx):\n",
        "            idx = idx.tolist()\n",
        "\n",
        "        img_name = os.path.join(self.root_dir,\n",
        "                                str(self.landmarks_frame.iloc[idx, 0])+'.jpeg')\n",
        "        \n",
        "        image = Image.open(img_name).convert('RGB')\n",
        "        label = self.landmarks_frame.iloc[idx,1]\n",
        "\n",
        "        if self.transform is not None:\n",
        "            image = self.transform(image)\n",
        "        \n",
        "        sample = {'image': image, 'label':label, 'label_idx':self.label_map[label] }\n",
        "\n",
        "        return sample"
      ],
      "metadata": {
        "id": "zDXpLQT7g3or"
      },
      "execution_count": 5,
      "outputs": []
    },
    {
      "cell_type": "markdown",
      "source": [
        "Transforms with normalization for pre-trained models. "
      ],
      "metadata": {
        "id": "ny87NuNd4JuD"
      }
    },
    {
      "cell_type": "code",
      "source": [
        "vanilla_transform = transforms.Compose([\n",
        "        transforms.Resize((128,128)),\n",
        "        transforms.ToTensor(),\n",
        "\n",
        "        transforms.Normalize(\n",
        "            [0.485, 0.456, 0.406], \n",
        "            [0.229, 0.224, 0.225])\n",
        "\n",
        "    ]\n",
        ")"
      ],
      "metadata": {
        "id": "_qlP9k2jOzOk"
      },
      "execution_count": 21,
      "outputs": []
    },
    {
      "cell_type": "code",
      "source": [
        "google_net_transform = transforms.Compose([\n",
        "        transforms.Resize((224,224)),\n",
        "        transforms.ToTensor(),\n",
        "        transforms.Normalize(\n",
        "            [0.485, 0.456, 0.406], \n",
        "            [0.229, 0.224, 0.225])\n",
        "    ]\n",
        ")"
      ],
      "metadata": {
        "id": "kv6DqOhwkwEU"
      },
      "execution_count": 3,
      "outputs": []
    },
    {
      "cell_type": "markdown",
      "source": [
        "Training and evaluation functions. Mostly taken from the transfer learning tutorial. "
      ],
      "metadata": {
        "id": "4zhvcXQY5Z0k"
      }
    },
    {
      "cell_type": "code",
      "source": [
        "def accuracy(net, dataloader):\n",
        "  net.to(device)\n",
        "  net.eval()\n",
        "  correct = 0\n",
        "  total = 0\n",
        "  with torch.no_grad():\n",
        "      for batch in dataloader:\n",
        "          images, labels = batch['image'].to(device), batch['label_idx'].to(device)\n",
        "          outputs = net(images)\n",
        "          _, predicted = torch.max(outputs.data, 1)\n",
        "          total += labels.size(0)\n",
        "          correct += (predicted == labels).sum().item()\n",
        "  return correct/total\n",
        "\n",
        "def train(net, dataloader,val_loader, epochs=1, start_epoch=0, lr=0.01, momentum=0.9, decay=0.0005, \n",
        "          verbose=1, print_every=10, state=None, schedule={}, checkpoint_path=None):\n",
        "  net.to(device)\n",
        "  net.train()\n",
        "  losses = []\n",
        "  criterion = nn.CrossEntropyLoss()\n",
        "  optimizer = optim.SGD(net.parameters(), lr=lr, momentum=momentum, weight_decay=decay)\n",
        "\n",
        "  # Load previous training state\n",
        "  if state:\n",
        "      net.load_state_dict(state['net'])\n",
        "      optimizer.load_state_dict(state['optimizer'])\n",
        "      start_epoch = state['epoch']\n",
        "      losses = state['losses']\n",
        "\n",
        "  # Fast forward lr schedule through already trained epochs\n",
        "  for epoch in range(start_epoch):\n",
        "    if epoch in schedule:\n",
        "      print (\"Learning rate: %f\"% schedule[epoch])\n",
        "      for g in optimizer.param_groups:\n",
        "        g['lr'] = schedule[epoch]\n",
        "\n",
        "  for epoch in range(start_epoch, epochs):\n",
        "    sum_loss = 0.0\n",
        "\n",
        "    # Update learning rate when scheduled\n",
        "    if epoch in schedule:\n",
        "      print (\"Learning rate: %f\"% schedule[epoch])\n",
        "      for g in optimizer.param_groups:\n",
        "        g['lr'] = schedule[epoch]\n",
        "\n",
        "    for i, batch in tqdm(enumerate(dataloader, 0), total = len(dataloader)):\n",
        "        inputs, labels = batch['image'].to(device), batch['label_idx'].to(device)\n",
        "\n",
        "        optimizer.zero_grad()\n",
        "\n",
        "        outputs = net(inputs)\n",
        "        loss = criterion(outputs, labels)\n",
        "        loss.backward()  # autograd magic, computes all the partial derivatives\n",
        "        optimizer.step() # takes a step in gradient direction\n",
        "\n",
        "        losses.append(loss.item())\n",
        "        sum_loss += loss.item()\n",
        "        \n",
        "        if i % print_every == print_every-1:    # print every 10 mini-batches\n",
        "            if verbose:\n",
        "              print('[%d, %5d] loss: %.3f' % (epoch, i + 1, sum_loss / print_every))\n",
        "            sum_loss = 0.0\n",
        "    # show val accuracy for every epoch\n",
        "    print(\"val accuracy: \", accuracy(net, val_loader))\n",
        "    if checkpoint_path:\n",
        "      state = {'epoch': epoch+1, 'net': net.state_dict(), 'optimizer': optimizer.state_dict(), 'losses': losses}\n",
        "      torch.save(state, checkpoint_path + 'checkpoint-%d.pkl'%(epoch+1))\n",
        "\n",
        "  return losses\n",
        "\n",
        "def smooth(x, size):\n",
        "  return np.convolve(x, np.ones(size)/size, mode='valid')\n",
        "\n",
        "def predict(net, dataloader):\n",
        "  predictions = []\n",
        "  ground_t = []\n",
        "  net.to(device)\n",
        "  net.eval()\n",
        "  correct = 0\n",
        "  total = 0\n",
        "  with torch.no_grad():\n",
        "      for batch in dataloader:\n",
        "          images, labels = batch['image'].to(device), batch['label_idx'].to(device)\n",
        "          outputs = net(images)\n",
        "          _, predicted = torch.max(outputs.data, 1)\n",
        "          predictions.extend(labels.tolist())\n",
        "          ground_t.extend(predicted.tolist())\n",
        "\n",
        "  return predictions, ground_t\n",
        "  \n",
        "def make_report(truth, preds):\n",
        "  print(classification_report(truth, preds, target_names = label_list))\n",
        "  conf_mat = confusion_matrix(truth, preds)\n",
        "  conf_mat = conf_mat.astype('float') / conf_mat.sum(axis=1)[:, np.newaxis]\n",
        "  conf_mat = np.around(conf_mat, decimals = 3)\n",
        "  sns.heatmap(conf_mat,annot=True, xticklabels=label_list, yticklabels=label_list, cmap=\"YlGnBu\")\n",
        "\n"
      ],
      "metadata": {
        "id": "b_Qv98hFxMgO"
      },
      "execution_count": 11,
      "outputs": []
    },
    {
      "cell_type": "markdown",
      "source": [
        "Labels in the dataset. There are actually more than 9 labels however the baseline from the paper only uses these 9 labels. These labels however cover 96% of the dataset."
      ],
      "metadata": {
        "id": "5GF0xQ_V4SaO"
      }
    },
    {
      "cell_type": "code",
      "source": [
        "label_list = ['acrop','cca',  'macro',  'monti', 'pavon', 'pocill', 'porit',  'sand', 'turf']"
      ],
      "metadata": {
        "id": "vemWqtRGpcK5"
      },
      "execution_count": 7,
      "outputs": []
    },
    {
      "cell_type": "markdown",
      "source": [
        "Split dataset into training and validation. The data comes from pictures taken across 2 years. In this project I attempt to check across years (e.g train on 2008 and test on 2009). This is also one of the experiments from the original paper and system. "
      ],
      "metadata": {
        "id": "4k_0nokd45ay"
      }
    },
    {
      "cell_type": "code",
      "source": [
        "### for 128 image\n",
        "dataset_2008 = CoralPatches('coral_patches_2008.csv','coral_patches_2008', label_list, transform = vanilla_transform)\n",
        "dataset_2009 = CoralPatches('coral_patches_2009.csv','coral_patches_2009', label_list,  transform = vanilla_transform)\n",
        "\n",
        "N = (len(dataset_2008))\n",
        "test_size = int(N * 0.90)\n",
        "val_size = N - test_size\n",
        "val_data_2008, data_2008 = random_split(dataset_2008,[val_size, test_size])\n",
        "dataloader_2008 = DataLoader(data_2008,batch_size=32, shuffle=True)\n",
        "val_loader_2008 = DataLoader(val_data_2008,batch_size=32)\n",
        "\n",
        "N = (len(dataset_2009))\n",
        "test_size = int(N * 0.90)\n",
        "val_size = N - test_size\n",
        "val_data_2009, data_2009 = random_split(dataset_2009,[val_size, test_size])\n",
        "dataloader_2009 = DataLoader(data_2009,batch_size=32, shuffle=True)\n",
        "val_loader_2009 = DataLoader(val_data_2009,batch_size=32)"
      ],
      "metadata": {
        "id": "nq-rfE-9HE5s"
      },
      "execution_count": 25,
      "outputs": []
    },
    {
      "cell_type": "code",
      "source": [
        "# standard simple CNN image classifier\n",
        "\n",
        "class Net(nn.Module):\n",
        "    def __init__(self):\n",
        "        super().__init__()\n",
        "        self.conv1 = nn.Conv2d(3, 6, 5)\n",
        "        self.pool = nn.MaxPool2d(2, 2)\n",
        "        self.conv2 = nn.Conv2d(6, 16, 5)\n",
        "        self.fc1 = nn.Linear(13456, 120)\n",
        "        self.fc2 = nn.Linear(120, 84)\n",
        "        self.fc3 = nn.Linear(84, 9)\n",
        "\n",
        "    def forward(self, x):\n",
        "        x = self.pool(F.relu(self.conv1(x)))\n",
        "        x = self.pool(F.relu(self.conv2(x)))\n",
        "        x = torch.flatten(x, 1) \n",
        "        x = F.relu(self.fc1(x))\n",
        "        x = F.relu(self.fc2(x))\n",
        "        x = self.fc3(x)\n",
        "        return x\n"
      ],
      "metadata": {
        "id": "DvjD40y1HurG"
      },
      "execution_count": null,
      "outputs": []
    },
    {
      "cell_type": "code",
      "source": [
        "simple_net = Net()\n",
        "simple_net.to(device)"
      ],
      "metadata": {
        "colab": {
          "base_uri": "https://localhost:8080/"
        },
        "id": "jAO04VOTG1w9",
        "outputId": "ae54d873-2e91-41ae-ab3b-7e9147581eeb"
      },
      "execution_count": null,
      "outputs": [
        {
          "output_type": "execute_result",
          "data": {
            "text/plain": [
              "Net(\n",
              "  (conv1): Conv2d(3, 6, kernel_size=(5, 5), stride=(1, 1))\n",
              "  (pool): MaxPool2d(kernel_size=2, stride=2, padding=0, dilation=1, ceil_mode=False)\n",
              "  (conv2): Conv2d(6, 16, kernel_size=(5, 5), stride=(1, 1))\n",
              "  (fc1): Linear(in_features=13456, out_features=120, bias=True)\n",
              "  (fc2): Linear(in_features=120, out_features=84, bias=True)\n",
              "  (fc3): Linear(in_features=84, out_features=9, bias=True)\n",
              ")"
            ]
          },
          "metadata": {},
          "execution_count": 154
        }
      ]
    },
    {
      "cell_type": "code",
      "source": [
        "simple_net_losses = train(simple_net, dataloader_2008, val_loader_2008, epochs=10, schedule={0:.01, 1:.001, 3:.0001}, print_every=500)"
      ],
      "metadata": {
        "colab": {
          "base_uri": "https://localhost:8080/"
        },
        "id": "jWSh7BGBHDZF",
        "outputId": "ad425ee1-9664-4f2e-90fe-d63069f2c512"
      },
      "execution_count": null,
      "outputs": [
        {
          "output_type": "stream",
          "name": "stdout",
          "text": [
            "Learning rate: 0.010000\n"
          ]
        },
        {
          "output_type": "stream",
          "name": "stderr",
          "text": [
            " 14%|█▎        | 501/3680 [00:43<04:04, 13.01it/s]"
          ]
        },
        {
          "output_type": "stream",
          "name": "stdout",
          "text": [
            "[0,   500] loss: 1.510\n"
          ]
        },
        {
          "output_type": "stream",
          "name": "stderr",
          "text": [
            " 27%|██▋       | 1001/3680 [01:20<03:14, 13.78it/s]"
          ]
        },
        {
          "output_type": "stream",
          "name": "stdout",
          "text": [
            "[0,  1000] loss: 1.367\n"
          ]
        },
        {
          "output_type": "stream",
          "name": "stderr",
          "text": [
            " 41%|████      | 1503/3680 [01:54<02:24, 15.04it/s]"
          ]
        },
        {
          "output_type": "stream",
          "name": "stdout",
          "text": [
            "[0,  1500] loss: 1.283\n"
          ]
        },
        {
          "output_type": "stream",
          "name": "stderr",
          "text": [
            " 54%|█████▍    | 2003/3680 [02:25<01:37, 17.11it/s]"
          ]
        },
        {
          "output_type": "stream",
          "name": "stdout",
          "text": [
            "[0,  2000] loss: 1.263\n"
          ]
        },
        {
          "output_type": "stream",
          "name": "stderr",
          "text": [
            " 68%|██████▊   | 2503/3680 [02:54<01:04, 18.12it/s]"
          ]
        },
        {
          "output_type": "stream",
          "name": "stdout",
          "text": [
            "[0,  2500] loss: 1.226\n"
          ]
        },
        {
          "output_type": "stream",
          "name": "stderr",
          "text": [
            " 82%|████████▏ | 3003/3680 [03:20<00:35, 19.06it/s]"
          ]
        },
        {
          "output_type": "stream",
          "name": "stdout",
          "text": [
            "[0,  3000] loss: 1.197\n"
          ]
        },
        {
          "output_type": "stream",
          "name": "stderr",
          "text": [
            " 95%|█████████▌| 3502/3680 [03:47<00:09, 19.29it/s]"
          ]
        },
        {
          "output_type": "stream",
          "name": "stdout",
          "text": [
            "[0,  3500] loss: 1.179\n"
          ]
        },
        {
          "output_type": "stream",
          "name": "stderr",
          "text": [
            "100%|██████████| 3680/3680 [03:56<00:00, 15.57it/s]\n"
          ]
        },
        {
          "output_type": "stream",
          "name": "stdout",
          "text": [
            "val accuracy:  0.6175661213881669\n",
            "Learning rate: 0.001000\n"
          ]
        },
        {
          "output_type": "stream",
          "name": "stderr",
          "text": [
            " 14%|█▎        | 503/3680 [00:23<02:31, 20.94it/s]"
          ]
        },
        {
          "output_type": "stream",
          "name": "stdout",
          "text": [
            "[1,   500] loss: 1.040\n"
          ]
        },
        {
          "output_type": "stream",
          "name": "stderr",
          "text": [
            " 27%|██▋       | 1004/3680 [00:47<02:05, 21.26it/s]"
          ]
        },
        {
          "output_type": "stream",
          "name": "stdout",
          "text": [
            "[1,  1000] loss: 1.021\n"
          ]
        },
        {
          "output_type": "stream",
          "name": "stderr",
          "text": [
            " 41%|████      | 1502/3680 [01:11<01:44, 20.83it/s]"
          ]
        },
        {
          "output_type": "stream",
          "name": "stdout",
          "text": [
            "[1,  1500] loss: 1.009\n"
          ]
        },
        {
          "output_type": "stream",
          "name": "stderr",
          "text": [
            " 54%|█████▍    | 2003/3680 [01:34<01:17, 21.54it/s]"
          ]
        },
        {
          "output_type": "stream",
          "name": "stdout",
          "text": [
            "[1,  2000] loss: 1.003\n"
          ]
        },
        {
          "output_type": "stream",
          "name": "stderr",
          "text": [
            " 68%|██████▊   | 2504/3680 [01:57<00:53, 21.85it/s]"
          ]
        },
        {
          "output_type": "stream",
          "name": "stdout",
          "text": [
            "[1,  2500] loss: 1.002\n"
          ]
        },
        {
          "output_type": "stream",
          "name": "stderr",
          "text": [
            " 82%|████████▏ | 3002/3680 [02:20<00:30, 21.99it/s]"
          ]
        },
        {
          "output_type": "stream",
          "name": "stdout",
          "text": [
            "[1,  3000] loss: 1.003\n"
          ]
        },
        {
          "output_type": "stream",
          "name": "stderr",
          "text": [
            " 95%|█████████▌| 3503/3680 [02:44<00:08, 22.09it/s]"
          ]
        },
        {
          "output_type": "stream",
          "name": "stdout",
          "text": [
            "[1,  3500] loss: 0.987\n"
          ]
        },
        {
          "output_type": "stream",
          "name": "stderr",
          "text": [
            "100%|██████████| 3680/3680 [02:52<00:00, 21.37it/s]\n"
          ]
        },
        {
          "output_type": "stream",
          "name": "stdout",
          "text": [
            "val accuracy:  0.6584620088671457\n"
          ]
        },
        {
          "output_type": "stream",
          "name": "stderr",
          "text": [
            " 14%|█▎        | 504/3680 [00:23<02:24, 22.02it/s]"
          ]
        },
        {
          "output_type": "stream",
          "name": "stdout",
          "text": [
            "[2,   500] loss: 0.948\n"
          ]
        },
        {
          "output_type": "stream",
          "name": "stderr",
          "text": [
            " 27%|██▋       | 1002/3680 [00:45<02:03, 21.65it/s]"
          ]
        },
        {
          "output_type": "stream",
          "name": "stdout",
          "text": [
            "[2,  1000] loss: 0.957\n"
          ]
        },
        {
          "output_type": "stream",
          "name": "stderr",
          "text": [
            " 41%|████      | 1503/3680 [01:08<01:41, 21.54it/s]"
          ]
        },
        {
          "output_type": "stream",
          "name": "stdout",
          "text": [
            "[2,  1500] loss: 0.951\n"
          ]
        },
        {
          "output_type": "stream",
          "name": "stderr",
          "text": [
            " 54%|█████▍    | 2004/3680 [01:31<01:20, 20.94it/s]"
          ]
        },
        {
          "output_type": "stream",
          "name": "stdout",
          "text": [
            "[2,  2000] loss: 0.943\n"
          ]
        },
        {
          "output_type": "stream",
          "name": "stderr",
          "text": [
            " 68%|██████▊   | 2504/3680 [01:54<00:55, 21.25it/s]"
          ]
        },
        {
          "output_type": "stream",
          "name": "stdout",
          "text": [
            "[2,  2500] loss: 0.944\n"
          ]
        },
        {
          "output_type": "stream",
          "name": "stderr",
          "text": [
            " 82%|████████▏ | 3002/3680 [02:17<00:32, 20.70it/s]"
          ]
        },
        {
          "output_type": "stream",
          "name": "stdout",
          "text": [
            "[2,  3000] loss: 0.933\n"
          ]
        },
        {
          "output_type": "stream",
          "name": "stderr",
          "text": [
            " 95%|█████████▌| 3503/3680 [02:41<00:08, 21.53it/s]"
          ]
        },
        {
          "output_type": "stream",
          "name": "stdout",
          "text": [
            "[2,  3500] loss: 0.927\n"
          ]
        },
        {
          "output_type": "stream",
          "name": "stderr",
          "text": [
            "100%|██████████| 3680/3680 [02:49<00:00, 21.70it/s]\n"
          ]
        },
        {
          "output_type": "stream",
          "name": "stdout",
          "text": [
            "val accuracy:  0.6666411863629415\n",
            "Learning rate: 0.000100\n"
          ]
        },
        {
          "output_type": "stream",
          "name": "stderr",
          "text": [
            " 14%|█▎        | 504/3680 [00:23<02:28, 21.41it/s]"
          ]
        },
        {
          "output_type": "stream",
          "name": "stdout",
          "text": [
            "[3,   500] loss: 0.846\n"
          ]
        },
        {
          "output_type": "stream",
          "name": "stderr",
          "text": [
            " 27%|██▋       | 1002/3680 [00:45<02:00, 22.24it/s]"
          ]
        },
        {
          "output_type": "stream",
          "name": "stdout",
          "text": [
            "[3,  1000] loss: 0.859\n"
          ]
        },
        {
          "output_type": "stream",
          "name": "stderr",
          "text": [
            " 41%|████      | 1503/3680 [01:08<01:34, 22.92it/s]"
          ]
        },
        {
          "output_type": "stream",
          "name": "stdout",
          "text": [
            "[3,  1500] loss: 0.876\n"
          ]
        },
        {
          "output_type": "stream",
          "name": "stderr",
          "text": [
            " 54%|█████▍    | 2004/3680 [01:31<01:15, 22.05it/s]"
          ]
        },
        {
          "output_type": "stream",
          "name": "stdout",
          "text": [
            "[3,  2000] loss: 0.851\n"
          ]
        },
        {
          "output_type": "stream",
          "name": "stderr",
          "text": [
            " 68%|██████▊   | 2502/3680 [01:54<00:52, 22.38it/s]"
          ]
        },
        {
          "output_type": "stream",
          "name": "stdout",
          "text": [
            "[3,  2500] loss: 0.871\n"
          ]
        },
        {
          "output_type": "stream",
          "name": "stderr",
          "text": [
            " 82%|████████▏ | 3003/3680 [02:17<00:32, 21.07it/s]"
          ]
        },
        {
          "output_type": "stream",
          "name": "stdout",
          "text": [
            "[3,  3000] loss: 0.852\n"
          ]
        },
        {
          "output_type": "stream",
          "name": "stderr",
          "text": [
            " 95%|█████████▌| 3504/3680 [02:39<00:07, 22.68it/s]"
          ]
        },
        {
          "output_type": "stream",
          "name": "stdout",
          "text": [
            "[3,  3500] loss: 0.854\n"
          ]
        },
        {
          "output_type": "stream",
          "name": "stderr",
          "text": [
            "100%|██████████| 3680/3680 [02:47<00:00, 21.93it/s]\n"
          ]
        },
        {
          "output_type": "stream",
          "name": "stdout",
          "text": [
            "val accuracy:  0.6725271365234674\n"
          ]
        },
        {
          "output_type": "stream",
          "name": "stderr",
          "text": [
            " 14%|█▎        | 504/3680 [00:27<02:18, 22.85it/s]"
          ]
        },
        {
          "output_type": "stream",
          "name": "stdout",
          "text": [
            "[4,   500] loss: 0.861\n"
          ]
        },
        {
          "output_type": "stream",
          "name": "stderr",
          "text": [
            " 27%|██▋       | 1004/3680 [00:54<02:01, 22.10it/s]"
          ]
        },
        {
          "output_type": "stream",
          "name": "stdout",
          "text": [
            "[4,  1000] loss: 0.851\n"
          ]
        },
        {
          "output_type": "stream",
          "name": "stderr",
          "text": [
            " 41%|████      | 1502/3680 [01:17<01:40, 21.64it/s]"
          ]
        },
        {
          "output_type": "stream",
          "name": "stdout",
          "text": [
            "[4,  1500] loss: 0.835\n"
          ]
        },
        {
          "output_type": "stream",
          "name": "stderr",
          "text": [
            " 54%|█████▍    | 2003/3680 [01:41<01:14, 22.41it/s]"
          ]
        },
        {
          "output_type": "stream",
          "name": "stdout",
          "text": [
            "[4,  2000] loss: 0.836\n"
          ]
        },
        {
          "output_type": "stream",
          "name": "stderr",
          "text": [
            " 68%|██████▊   | 2501/3680 [02:04<00:54, 21.65it/s]"
          ]
        },
        {
          "output_type": "stream",
          "name": "stdout",
          "text": [
            "[4,  2500] loss: 0.844\n"
          ]
        },
        {
          "output_type": "stream",
          "name": "stderr",
          "text": [
            " 82%|████████▏ | 3002/3680 [02:27<00:30, 22.08it/s]"
          ]
        },
        {
          "output_type": "stream",
          "name": "stdout",
          "text": [
            "[4,  3000] loss: 0.837\n"
          ]
        },
        {
          "output_type": "stream",
          "name": "stderr",
          "text": [
            " 95%|█████████▌| 3503/3680 [02:50<00:07, 22.18it/s]"
          ]
        },
        {
          "output_type": "stream",
          "name": "stdout",
          "text": [
            "[4,  3500] loss: 0.847\n"
          ]
        },
        {
          "output_type": "stream",
          "name": "stderr",
          "text": [
            "100%|██████████| 3680/3680 [02:58<00:00, 20.67it/s]\n"
          ]
        },
        {
          "output_type": "stream",
          "name": "stdout",
          "text": [
            "val accuracy:  0.67283290016817\n"
          ]
        },
        {
          "output_type": "stream",
          "name": "stderr",
          "text": [
            " 14%|█▎        | 504/3680 [00:22<02:26, 21.71it/s]"
          ]
        },
        {
          "output_type": "stream",
          "name": "stdout",
          "text": [
            "[5,   500] loss: 0.836\n"
          ]
        },
        {
          "output_type": "stream",
          "name": "stderr",
          "text": [
            " 27%|██▋       | 1002/3680 [00:45<02:01, 21.97it/s]"
          ]
        },
        {
          "output_type": "stream",
          "name": "stdout",
          "text": [
            "[5,  1000] loss: 0.820\n"
          ]
        },
        {
          "output_type": "stream",
          "name": "stderr",
          "text": [
            " 41%|████      | 1503/3680 [01:08<01:38, 22.02it/s]"
          ]
        },
        {
          "output_type": "stream",
          "name": "stdout",
          "text": [
            "[5,  1500] loss: 0.838\n"
          ]
        },
        {
          "output_type": "stream",
          "name": "stderr",
          "text": [
            " 54%|█████▍    | 2004/3680 [01:30<01:18, 21.33it/s]"
          ]
        },
        {
          "output_type": "stream",
          "name": "stdout",
          "text": [
            "[5,  2000] loss: 0.841\n"
          ]
        },
        {
          "output_type": "stream",
          "name": "stderr",
          "text": [
            " 68%|██████▊   | 2502/3680 [01:53<00:54, 21.78it/s]"
          ]
        },
        {
          "output_type": "stream",
          "name": "stdout",
          "text": [
            "[5,  2500] loss: 0.838\n"
          ]
        },
        {
          "output_type": "stream",
          "name": "stderr",
          "text": [
            " 82%|████████▏ | 3003/3680 [02:16<00:31, 21.22it/s]"
          ]
        },
        {
          "output_type": "stream",
          "name": "stdout",
          "text": [
            "[5,  3000] loss: 0.835\n"
          ]
        },
        {
          "output_type": "stream",
          "name": "stderr",
          "text": [
            " 95%|█████████▌| 3504/3680 [02:38<00:08, 21.85it/s]"
          ]
        },
        {
          "output_type": "stream",
          "name": "stdout",
          "text": [
            "[5,  3500] loss: 0.814\n"
          ]
        },
        {
          "output_type": "stream",
          "name": "stderr",
          "text": [
            "100%|██████████| 3680/3680 [02:46<00:00, 22.10it/s]\n"
          ]
        },
        {
          "output_type": "stream",
          "name": "stdout",
          "text": [
            "val accuracy:  0.6745910411252102\n"
          ]
        },
        {
          "output_type": "stream",
          "name": "stderr",
          "text": [
            " 14%|█▎        | 504/3680 [00:22<02:22, 22.33it/s]"
          ]
        },
        {
          "output_type": "stream",
          "name": "stdout",
          "text": [
            "[6,   500] loss: 0.822\n"
          ]
        },
        {
          "output_type": "stream",
          "name": "stderr",
          "text": [
            " 27%|██▋       | 1002/3680 [00:45<01:59, 22.43it/s]"
          ]
        },
        {
          "output_type": "stream",
          "name": "stdout",
          "text": [
            "[6,  1000] loss: 0.818\n"
          ]
        },
        {
          "output_type": "stream",
          "name": "stderr",
          "text": [
            " 41%|████      | 1503/3680 [01:07<01:38, 22.17it/s]"
          ]
        },
        {
          "output_type": "stream",
          "name": "stdout",
          "text": [
            "[6,  1500] loss: 0.818\n"
          ]
        },
        {
          "output_type": "stream",
          "name": "stderr",
          "text": [
            " 54%|█████▍    | 2004/3680 [01:30<01:11, 23.28it/s]"
          ]
        },
        {
          "output_type": "stream",
          "name": "stdout",
          "text": [
            "[6,  2000] loss: 0.835\n"
          ]
        },
        {
          "output_type": "stream",
          "name": "stderr",
          "text": [
            " 68%|██████▊   | 2502/3680 [01:52<00:52, 22.55it/s]"
          ]
        },
        {
          "output_type": "stream",
          "name": "stdout",
          "text": [
            "[6,  2500] loss: 0.797\n"
          ]
        },
        {
          "output_type": "stream",
          "name": "stderr",
          "text": [
            " 82%|████████▏ | 3003/3680 [02:14<00:30, 22.35it/s]"
          ]
        },
        {
          "output_type": "stream",
          "name": "stdout",
          "text": [
            "[6,  3000] loss: 0.831\n"
          ]
        },
        {
          "output_type": "stream",
          "name": "stderr",
          "text": [
            " 95%|█████████▌| 3504/3680 [02:37<00:07, 22.63it/s]"
          ]
        },
        {
          "output_type": "stream",
          "name": "stdout",
          "text": [
            "[6,  3500] loss: 0.813\n"
          ]
        },
        {
          "output_type": "stream",
          "name": "stderr",
          "text": [
            "100%|██████████| 3680/3680 [02:44<00:00, 22.34it/s]\n"
          ]
        },
        {
          "output_type": "stream",
          "name": "stdout",
          "text": [
            "val accuracy:  0.6763491820822504\n"
          ]
        },
        {
          "output_type": "stream",
          "name": "stderr",
          "text": [
            " 14%|█▎        | 502/3680 [00:23<02:26, 21.76it/s]"
          ]
        },
        {
          "output_type": "stream",
          "name": "stdout",
          "text": [
            "[7,   500] loss: 0.807\n"
          ]
        },
        {
          "output_type": "stream",
          "name": "stderr",
          "text": [
            " 27%|██▋       | 1003/3680 [00:46<01:57, 22.87it/s]"
          ]
        },
        {
          "output_type": "stream",
          "name": "stdout",
          "text": [
            "[7,  1000] loss: 0.815\n"
          ]
        },
        {
          "output_type": "stream",
          "name": "stderr",
          "text": [
            " 41%|████      | 1504/3680 [01:08<01:38, 22.00it/s]"
          ]
        },
        {
          "output_type": "stream",
          "name": "stdout",
          "text": [
            "[7,  1500] loss: 0.799\n"
          ]
        },
        {
          "output_type": "stream",
          "name": "stderr",
          "text": [
            " 54%|█████▍    | 2002/3680 [01:31<01:14, 22.51it/s]"
          ]
        },
        {
          "output_type": "stream",
          "name": "stdout",
          "text": [
            "[7,  2000] loss: 0.810\n"
          ]
        },
        {
          "output_type": "stream",
          "name": "stderr",
          "text": [
            " 68%|██████▊   | 2503/3680 [01:53<00:52, 22.30it/s]"
          ]
        },
        {
          "output_type": "stream",
          "name": "stdout",
          "text": [
            "[7,  2500] loss: 0.792\n"
          ]
        },
        {
          "output_type": "stream",
          "name": "stderr",
          "text": [
            " 82%|████████▏ | 3004/3680 [02:15<00:30, 22.51it/s]"
          ]
        },
        {
          "output_type": "stream",
          "name": "stdout",
          "text": [
            "[7,  3000] loss: 0.796\n"
          ]
        },
        {
          "output_type": "stream",
          "name": "stderr",
          "text": [
            " 95%|█████████▌| 3502/3680 [02:37<00:08, 21.30it/s]"
          ]
        },
        {
          "output_type": "stream",
          "name": "stdout",
          "text": [
            "[7,  3500] loss: 0.808\n"
          ]
        },
        {
          "output_type": "stream",
          "name": "stderr",
          "text": [
            "100%|██████████| 3680/3680 [02:45<00:00, 22.21it/s]\n"
          ]
        },
        {
          "output_type": "stream",
          "name": "stdout",
          "text": [
            "val accuracy:  0.6748203638587372\n"
          ]
        },
        {
          "output_type": "stream",
          "name": "stderr",
          "text": [
            " 14%|█▎        | 504/3680 [00:22<02:21, 22.42it/s]"
          ]
        },
        {
          "output_type": "stream",
          "name": "stdout",
          "text": [
            "[8,   500] loss: 0.797\n"
          ]
        },
        {
          "output_type": "stream",
          "name": "stderr",
          "text": [
            " 27%|██▋       | 1002/3680 [00:45<01:59, 22.41it/s]"
          ]
        },
        {
          "output_type": "stream",
          "name": "stdout",
          "text": [
            "[8,  1000] loss: 0.788\n"
          ]
        },
        {
          "output_type": "stream",
          "name": "stderr",
          "text": [
            " 41%|████      | 1503/3680 [01:07<01:36, 22.67it/s]"
          ]
        },
        {
          "output_type": "stream",
          "name": "stdout",
          "text": [
            "[8,  1500] loss: 0.793\n"
          ]
        },
        {
          "output_type": "stream",
          "name": "stderr",
          "text": [
            " 54%|█████▍    | 2004/3680 [01:29<01:15, 22.26it/s]"
          ]
        },
        {
          "output_type": "stream",
          "name": "stdout",
          "text": [
            "[8,  2000] loss: 0.782\n"
          ]
        },
        {
          "output_type": "stream",
          "name": "stderr",
          "text": [
            " 68%|██████▊   | 2502/3680 [01:52<00:52, 22.36it/s]"
          ]
        },
        {
          "output_type": "stream",
          "name": "stdout",
          "text": [
            "[8,  2500] loss: 0.798\n"
          ]
        },
        {
          "output_type": "stream",
          "name": "stderr",
          "text": [
            " 82%|████████▏ | 3003/3680 [02:14<00:31, 21.61it/s]"
          ]
        },
        {
          "output_type": "stream",
          "name": "stdout",
          "text": [
            "[8,  3000] loss: 0.778\n"
          ]
        },
        {
          "output_type": "stream",
          "name": "stderr",
          "text": [
            " 95%|█████████▌| 3504/3680 [02:36<00:07, 22.51it/s]"
          ]
        },
        {
          "output_type": "stream",
          "name": "stdout",
          "text": [
            "[8,  3500] loss: 0.796\n"
          ]
        },
        {
          "output_type": "stream",
          "name": "stderr",
          "text": [
            "100%|██████████| 3680/3680 [02:44<00:00, 22.37it/s]\n"
          ]
        },
        {
          "output_type": "stream",
          "name": "stdout",
          "text": [
            "val accuracy:  0.6722978137899404\n"
          ]
        },
        {
          "output_type": "stream",
          "name": "stderr",
          "text": [
            " 14%|█▎        | 504/3680 [00:22<02:25, 21.82it/s]"
          ]
        },
        {
          "output_type": "stream",
          "name": "stdout",
          "text": [
            "[9,   500] loss: 0.769\n"
          ]
        },
        {
          "output_type": "stream",
          "name": "stderr",
          "text": [
            " 27%|██▋       | 1002/3680 [00:44<01:55, 23.20it/s]"
          ]
        },
        {
          "output_type": "stream",
          "name": "stdout",
          "text": [
            "[9,  1000] loss: 0.773\n"
          ]
        },
        {
          "output_type": "stream",
          "name": "stderr",
          "text": [
            " 41%|████      | 1503/3680 [01:07<01:34, 23.11it/s]"
          ]
        },
        {
          "output_type": "stream",
          "name": "stdout",
          "text": [
            "[9,  1500] loss: 0.768\n"
          ]
        },
        {
          "output_type": "stream",
          "name": "stderr",
          "text": [
            " 54%|█████▍    | 2004/3680 [01:29<01:17, 21.74it/s]"
          ]
        },
        {
          "output_type": "stream",
          "name": "stdout",
          "text": [
            "[9,  2000] loss: 0.773\n"
          ]
        },
        {
          "output_type": "stream",
          "name": "stderr",
          "text": [
            " 68%|██████▊   | 2502/3680 [01:51<00:54, 21.68it/s]"
          ]
        },
        {
          "output_type": "stream",
          "name": "stdout",
          "text": [
            "[9,  2500] loss: 0.781\n"
          ]
        },
        {
          "output_type": "stream",
          "name": "stderr",
          "text": [
            " 82%|████████▏ | 3003/3680 [02:14<00:30, 22.45it/s]"
          ]
        },
        {
          "output_type": "stream",
          "name": "stdout",
          "text": [
            "[9,  3000] loss: 0.778\n"
          ]
        },
        {
          "output_type": "stream",
          "name": "stderr",
          "text": [
            " 95%|█████████▌| 3504/3680 [02:36<00:07, 22.10it/s]"
          ]
        },
        {
          "output_type": "stream",
          "name": "stdout",
          "text": [
            "[9,  3500] loss: 0.771\n"
          ]
        },
        {
          "output_type": "stream",
          "name": "stderr",
          "text": [
            "100%|██████████| 3680/3680 [02:44<00:00, 22.40it/s]\n"
          ]
        },
        {
          "output_type": "stream",
          "name": "stdout",
          "text": [
            "val accuracy:  0.6755083320593182\n"
          ]
        }
      ]
    },
    {
      "cell_type": "code",
      "source": [
        "simple_truth, simple_preds = predict(simple_net, dataloader_2009)"
      ],
      "metadata": {
        "id": "cCxP82ElPn7-"
      },
      "execution_count": null,
      "outputs": []
    },
    {
      "cell_type": "code",
      "source": [
        "make_report(simple_truth, simple_preds)"
      ],
      "metadata": {
        "colab": {
          "base_uri": "https://localhost:8080/",
          "height": 578
        },
        "id": "k1Ir0dJOUMm9",
        "outputId": "b370c0d7-eb9f-43e3-b2a7-c5db20cac434"
      },
      "execution_count": null,
      "outputs": [
        {
          "output_type": "stream",
          "name": "stdout",
          "text": [
            "              precision    recall  f1-score   support\n",
            "\n",
            "       acrop       0.11      0.19      0.14       151\n",
            "         cca       0.63      0.80      0.71     30723\n",
            "       macro       0.65      0.48      0.55      5987\n",
            "       monti       0.01      0.00      0.00       699\n",
            "       pavon       0.03      0.02      0.02       535\n",
            "      pocill       0.22      0.34      0.27      1207\n",
            "       porit       0.65      0.57      0.60      6697\n",
            "        sand       0.57      0.51      0.54      4655\n",
            "        turf       0.40      0.22      0.28     11299\n",
            "\n",
            "    accuracy                           0.59     61953\n",
            "   macro avg       0.36      0.35      0.35     61953\n",
            "weighted avg       0.57      0.59      0.57     61953\n",
            "\n"
          ]
        },
        {
          "output_type": "display_data",
          "data": {
            "text/plain": [
              "<Figure size 432x288 with 2 Axes>"
            ],
            "image/png": "[encoded data removed]"
          },
          "metadata": {
            "needs_background": "light"
          }
        }
      ]
    },
    {
      "cell_type": "code",
      "source": [
        "# resnet18 pre-trained classifier\n",
        "resnet18 = torch.hub.load('pytorch/vision:v0.6.0', 'resnet18', pretrained=True)\n",
        "resnet18.fc = torch.nn.Linear(512, 9)\n",
        "resnet18.to(device)"
      ],
      "metadata": {
        "colab": {
          "base_uri": "https://localhost:8080/"
        },
        "id": "u62LkQeuTVsy",
        "outputId": "aa119231-a9a6-4868-b730-dc67a51770a5"
      },
      "execution_count": null,
      "outputs": [
        {
          "output_type": "stream",
          "name": "stderr",
          "text": [
            "Using cache found in /root/.cache/torch/hub/pytorch_vision_v0.6.0\n"
          ]
        },
        {
          "output_type": "execute_result",
          "data": {
            "text/plain": [
              "ResNet(\n",
              "  (conv1): Conv2d(3, 64, kernel_size=(7, 7), stride=(2, 2), padding=(3, 3), bias=False)\n",
              "  (bn1): BatchNorm2d(64, eps=1e-05, momentum=0.1, affine=True, track_running_stats=True)\n",
              "  (relu): ReLU(inplace=True)\n",
              "  (maxpool): MaxPool2d(kernel_size=3, stride=2, padding=1, dilation=1, ceil_mode=False)\n",
              "  (layer1): Sequential(\n",
              "    (0): BasicBlock(\n",
              "      (conv1): Conv2d(64, 64, kernel_size=(3, 3), stride=(1, 1), padding=(1, 1), bias=False)\n",
              "      (bn1): BatchNorm2d(64, eps=1e-05, momentum=0.1, affine=True, track_running_stats=True)\n",
              "      (relu): ReLU(inplace=True)\n",
              "      (conv2): Conv2d(64, 64, kernel_size=(3, 3), stride=(1, 1), padding=(1, 1), bias=False)\n",
              "      (bn2): BatchNorm2d(64, eps=1e-05, momentum=0.1, affine=True, track_running_stats=True)\n",
              "    )\n",
              "    (1): BasicBlock(\n",
              "      (conv1): Conv2d(64, 64, kernel_size=(3, 3), stride=(1, 1), padding=(1, 1), bias=False)\n",
              "      (bn1): BatchNorm2d(64, eps=1e-05, momentum=0.1, affine=True, track_running_stats=True)\n",
              "      (relu): ReLU(inplace=True)\n",
              "      (conv2): Conv2d(64, 64, kernel_size=(3, 3), stride=(1, 1), padding=(1, 1), bias=False)\n",
              "      (bn2): BatchNorm2d(64, eps=1e-05, momentum=0.1, affine=True, track_running_stats=True)\n",
              "    )\n",
              "  )\n",
              "  (layer2): Sequential(\n",
              "    (0): BasicBlock(\n",
              "      (conv1): Conv2d(64, 128, kernel_size=(3, 3), stride=(2, 2), padding=(1, 1), bias=False)\n",
              "      (bn1): BatchNorm2d(128, eps=1e-05, momentum=0.1, affine=True, track_running_stats=True)\n",
              "      (relu): ReLU(inplace=True)\n",
              "      (conv2): Conv2d(128, 128, kernel_size=(3, 3), stride=(1, 1), padding=(1, 1), bias=False)\n",
              "      (bn2): BatchNorm2d(128, eps=1e-05, momentum=0.1, affine=True, track_running_stats=True)\n",
              "      (downsample): Sequential(\n",
              "        (0): Conv2d(64, 128, kernel_size=(1, 1), stride=(2, 2), bias=False)\n",
              "        (1): BatchNorm2d(128, eps=1e-05, momentum=0.1, affine=True, track_running_stats=True)\n",
              "      )\n",
              "    )\n",
              "    (1): BasicBlock(\n",
              "      (conv1): Conv2d(128, 128, kernel_size=(3, 3), stride=(1, 1), padding=(1, 1), bias=False)\n",
              "      (bn1): BatchNorm2d(128, eps=1e-05, momentum=0.1, affine=True, track_running_stats=True)\n",
              "      (relu): ReLU(inplace=True)\n",
              "      (conv2): Conv2d(128, 128, kernel_size=(3, 3), stride=(1, 1), padding=(1, 1), bias=False)\n",
              "      (bn2): BatchNorm2d(128, eps=1e-05, momentum=0.1, affine=True, track_running_stats=True)\n",
              "    )\n",
              "  )\n",
              "  (layer3): Sequential(\n",
              "    (0): BasicBlock(\n",
              "      (conv1): Conv2d(128, 256, kernel_size=(3, 3), stride=(2, 2), padding=(1, 1), bias=False)\n",
              "      (bn1): BatchNorm2d(256, eps=1e-05, momentum=0.1, affine=True, track_running_stats=True)\n",
              "      (relu): ReLU(inplace=True)\n",
              "      (conv2): Conv2d(256, 256, kernel_size=(3, 3), stride=(1, 1), padding=(1, 1), bias=False)\n",
              "      (bn2): BatchNorm2d(256, eps=1e-05, momentum=0.1, affine=True, track_running_stats=True)\n",
              "      (downsample): Sequential(\n",
              "        (0): Conv2d(128, 256, kernel_size=(1, 1), stride=(2, 2), bias=False)\n",
              "        (1): BatchNorm2d(256, eps=1e-05, momentum=0.1, affine=True, track_running_stats=True)\n",
              "      )\n",
              "    )\n",
              "    (1): BasicBlock(\n",
              "      (conv1): Conv2d(256, 256, kernel_size=(3, 3), stride=(1, 1), padding=(1, 1), bias=False)\n",
              "      (bn1): BatchNorm2d(256, eps=1e-05, momentum=0.1, affine=True, track_running_stats=True)\n",
              "      (relu): ReLU(inplace=True)\n",
              "      (conv2): Conv2d(256, 256, kernel_size=(3, 3), stride=(1, 1), padding=(1, 1), bias=False)\n",
              "      (bn2): BatchNorm2d(256, eps=1e-05, momentum=0.1, affine=True, track_running_stats=True)\n",
              "    )\n",
              "  )\n",
              "  (layer4): Sequential(\n",
              "    (0): BasicBlock(\n",
              "      (conv1): Conv2d(256, 512, kernel_size=(3, 3), stride=(2, 2), padding=(1, 1), bias=False)\n",
              "      (bn1): BatchNorm2d(512, eps=1e-05, momentum=0.1, affine=True, track_running_stats=True)\n",
              "      (relu): ReLU(inplace=True)\n",
              "      (conv2): Conv2d(512, 512, kernel_size=(3, 3), stride=(1, 1), padding=(1, 1), bias=False)\n",
              "      (bn2): BatchNorm2d(512, eps=1e-05, momentum=0.1, affine=True, track_running_stats=True)\n",
              "      (downsample): Sequential(\n",
              "        (0): Conv2d(256, 512, kernel_size=(1, 1), stride=(2, 2), bias=False)\n",
              "        (1): BatchNorm2d(512, eps=1e-05, momentum=0.1, affine=True, track_running_stats=True)\n",
              "      )\n",
              "    )\n",
              "    (1): BasicBlock(\n",
              "      (conv1): Conv2d(512, 512, kernel_size=(3, 3), stride=(1, 1), padding=(1, 1), bias=False)\n",
              "      (bn1): BatchNorm2d(512, eps=1e-05, momentum=0.1, affine=True, track_running_stats=True)\n",
              "      (relu): ReLU(inplace=True)\n",
              "      (conv2): Conv2d(512, 512, kernel_size=(3, 3), stride=(1, 1), padding=(1, 1), bias=False)\n",
              "      (bn2): BatchNorm2d(512, eps=1e-05, momentum=0.1, affine=True, track_running_stats=True)\n",
              "    )\n",
              "  )\n",
              "  (avgpool): AdaptiveAvgPool2d(output_size=(1, 1))\n",
              "  (fc): Linear(in_features=512, out_features=9, bias=True)\n",
              ")"
            ]
          },
          "metadata": {},
          "execution_count": 64
        }
      ]
    },
    {
      "cell_type": "code",
      "source": [
        "resnet_losses = train(resnet18, dataloader_2008, val_loader_2008, epochs=5, schedule={0:.01, 1:.001, 3:.0001}, print_every=500)"
      ],
      "metadata": {
        "colab": {
          "base_uri": "https://localhost:8080/"
        },
        "id": "YUoxlKJVJeru",
        "outputId": "5c02df28-a4b2-4f9f-c07c-3e282c1e9291"
      },
      "execution_count": null,
      "outputs": [
        {
          "output_type": "stream",
          "name": "stdout",
          "text": [
            "Learning rate: 0.010000\n"
          ]
        },
        {
          "output_type": "stream",
          "name": "stderr",
          "text": [
            " 14%|█▎        | 501/3680 [00:37<03:55, 13.50it/s]"
          ]
        },
        {
          "output_type": "stream",
          "name": "stdout",
          "text": [
            "[0,   500] loss: 1.197\n"
          ]
        },
        {
          "output_type": "stream",
          "name": "stderr",
          "text": [
            " 27%|██▋       | 1001/3680 [01:14<03:20, 13.36it/s]"
          ]
        },
        {
          "output_type": "stream",
          "name": "stdout",
          "text": [
            "[0,  1000] loss: 0.873\n"
          ]
        },
        {
          "output_type": "stream",
          "name": "stderr",
          "text": [
            " 41%|████      | 1501/3680 [01:51<02:41, 13.53it/s]"
          ]
        },
        {
          "output_type": "stream",
          "name": "stdout",
          "text": [
            "[0,  1500] loss: 0.791\n"
          ]
        },
        {
          "output_type": "stream",
          "name": "stderr",
          "text": [
            " 54%|█████▍    | 2001/3680 [02:27<02:03, 13.56it/s]"
          ]
        },
        {
          "output_type": "stream",
          "name": "stdout",
          "text": [
            "[0,  2000] loss: 0.746\n"
          ]
        },
        {
          "output_type": "stream",
          "name": "stderr",
          "text": [
            " 68%|██████▊   | 2501/3680 [03:04<01:27, 13.41it/s]"
          ]
        },
        {
          "output_type": "stream",
          "name": "stdout",
          "text": [
            "[0,  2500] loss: 0.706\n"
          ]
        },
        {
          "output_type": "stream",
          "name": "stderr",
          "text": [
            " 82%|████████▏ | 3001/3680 [03:41<00:50, 13.46it/s]"
          ]
        },
        {
          "output_type": "stream",
          "name": "stdout",
          "text": [
            "[0,  3000] loss: 0.721\n"
          ]
        },
        {
          "output_type": "stream",
          "name": "stderr",
          "text": [
            " 95%|█████████▌| 3501/3680 [04:18<00:13, 13.32it/s]"
          ]
        },
        {
          "output_type": "stream",
          "name": "stdout",
          "text": [
            "[0,  3500] loss: 0.692\n"
          ]
        },
        {
          "output_type": "stream",
          "name": "stderr",
          "text": [
            "100%|██████████| 3680/3680 [04:31<00:00, 13.55it/s]\n"
          ]
        },
        {
          "output_type": "stream",
          "name": "stdout",
          "text": [
            "val accuracy:  0.6718391683228864\n",
            "Learning rate: 0.010000\n"
          ]
        },
        {
          "output_type": "stream",
          "name": "stderr",
          "text": [
            " 14%|█▎        | 502/3680 [00:36<03:53, 13.61it/s]"
          ]
        },
        {
          "output_type": "stream",
          "name": "stdout",
          "text": [
            "[1,   500] loss: 1.381\n"
          ]
        },
        {
          "output_type": "stream",
          "name": "stderr",
          "text": [
            " 27%|██▋       | 1002/3680 [01:13<03:19, 13.46it/s]"
          ]
        },
        {
          "output_type": "stream",
          "name": "stdout",
          "text": [
            "[1,  1000] loss: 0.993\n"
          ]
        },
        {
          "output_type": "stream",
          "name": "stderr",
          "text": [
            " 41%|████      | 1502/3680 [01:50<02:40, 13.58it/s]"
          ]
        },
        {
          "output_type": "stream",
          "name": "stdout",
          "text": [
            "[1,  1500] loss: 0.868\n"
          ]
        },
        {
          "output_type": "stream",
          "name": "stderr",
          "text": [
            " 54%|█████▍    | 2002/3680 [02:27<02:07, 13.13it/s]"
          ]
        },
        {
          "output_type": "stream",
          "name": "stdout",
          "text": [
            "[1,  2000] loss: 0.791\n"
          ]
        },
        {
          "output_type": "stream",
          "name": "stderr",
          "text": [
            " 68%|██████▊   | 2502/3680 [03:04<01:27, 13.48it/s]"
          ]
        },
        {
          "output_type": "stream",
          "name": "stdout",
          "text": [
            "[1,  2500] loss: 0.767\n"
          ]
        },
        {
          "output_type": "stream",
          "name": "stderr",
          "text": [
            " 82%|████████▏ | 3002/3680 [03:40<00:50, 13.49it/s]"
          ]
        },
        {
          "output_type": "stream",
          "name": "stdout",
          "text": [
            "[1,  3000] loss: 0.748\n"
          ]
        },
        {
          "output_type": "stream",
          "name": "stderr",
          "text": [
            " 95%|█████████▌| 3502/3680 [04:17<00:13, 13.60it/s]"
          ]
        },
        {
          "output_type": "stream",
          "name": "stdout",
          "text": [
            "[1,  3500] loss: 0.718\n"
          ]
        },
        {
          "output_type": "stream",
          "name": "stderr",
          "text": [
            "100%|██████████| 3680/3680 [04:30<00:00, 13.59it/s]\n"
          ]
        },
        {
          "output_type": "stream",
          "name": "stdout",
          "text": [
            "val accuracy:  0.7336034245528207\n"
          ]
        },
        {
          "output_type": "stream",
          "name": "stderr",
          "text": [
            " 14%|█▎        | 502/3680 [00:36<03:55, 13.52it/s]"
          ]
        },
        {
          "output_type": "stream",
          "name": "stdout",
          "text": [
            "[2,   500] loss: 0.684\n"
          ]
        },
        {
          "output_type": "stream",
          "name": "stderr",
          "text": [
            " 27%|██▋       | 1002/3680 [01:13<03:18, 13.48it/s]"
          ]
        },
        {
          "output_type": "stream",
          "name": "stdout",
          "text": [
            "[2,  1000] loss: 0.660\n"
          ]
        },
        {
          "output_type": "stream",
          "name": "stderr",
          "text": [
            " 41%|████      | 1502/3680 [01:50<02:41, 13.48it/s]"
          ]
        },
        {
          "output_type": "stream",
          "name": "stdout",
          "text": [
            "[2,  1500] loss: 0.672\n"
          ]
        },
        {
          "output_type": "stream",
          "name": "stderr",
          "text": [
            " 54%|█████▍    | 2002/3680 [02:27<02:03, 13.55it/s]"
          ]
        },
        {
          "output_type": "stream",
          "name": "stdout",
          "text": [
            "[2,  2000] loss: 0.668\n"
          ]
        },
        {
          "output_type": "stream",
          "name": "stderr",
          "text": [
            " 68%|██████▊   | 2502/3680 [03:04<01:27, 13.52it/s]"
          ]
        },
        {
          "output_type": "stream",
          "name": "stdout",
          "text": [
            "[2,  2500] loss: 0.671\n"
          ]
        },
        {
          "output_type": "stream",
          "name": "stderr",
          "text": [
            " 82%|████████▏ | 3002/3680 [03:41<00:52, 12.99it/s]"
          ]
        },
        {
          "output_type": "stream",
          "name": "stdout",
          "text": [
            "[2,  3000] loss: 0.655\n"
          ]
        },
        {
          "output_type": "stream",
          "name": "stderr",
          "text": [
            " 95%|█████████▌| 3502/3680 [04:18<00:12, 13.70it/s]"
          ]
        },
        {
          "output_type": "stream",
          "name": "stdout",
          "text": [
            "[2,  3500] loss: 0.648\n"
          ]
        },
        {
          "output_type": "stream",
          "name": "stderr",
          "text": [
            "100%|██████████| 3680/3680 [04:31<00:00, 13.55it/s]\n"
          ]
        },
        {
          "output_type": "stream",
          "name": "stdout",
          "text": [
            "val accuracy:  0.7521021250573307\n",
            "Learning rate: 0.000100\n"
          ]
        },
        {
          "output_type": "stream",
          "name": "stderr",
          "text": [
            " 14%|█▎        | 502/3680 [00:37<03:58, 13.33it/s]"
          ]
        },
        {
          "output_type": "stream",
          "name": "stdout",
          "text": [
            "[3,   500] loss: 0.549\n"
          ]
        },
        {
          "output_type": "stream",
          "name": "stderr",
          "text": [
            " 27%|██▋       | 1002/3680 [01:14<03:21, 13.30it/s]"
          ]
        },
        {
          "output_type": "stream",
          "name": "stdout",
          "text": [
            "[3,  1000] loss: 0.502\n"
          ]
        },
        {
          "output_type": "stream",
          "name": "stderr",
          "text": [
            " 41%|████      | 1502/3680 [01:50<02:41, 13.51it/s]"
          ]
        },
        {
          "output_type": "stream",
          "name": "stdout",
          "text": [
            "[3,  1500] loss: 0.501\n"
          ]
        },
        {
          "output_type": "stream",
          "name": "stderr",
          "text": [
            " 54%|█████▍    | 2002/3680 [02:27<02:04, 13.43it/s]"
          ]
        },
        {
          "output_type": "stream",
          "name": "stdout",
          "text": [
            "[3,  2000] loss: 0.501\n"
          ]
        },
        {
          "output_type": "stream",
          "name": "stderr",
          "text": [
            " 68%|██████▊   | 2502/3680 [03:04<01:27, 13.47it/s]"
          ]
        },
        {
          "output_type": "stream",
          "name": "stdout",
          "text": [
            "[3,  2500] loss: 0.480\n"
          ]
        },
        {
          "output_type": "stream",
          "name": "stderr",
          "text": [
            " 82%|████████▏ | 3002/3680 [03:41<00:50, 13.44it/s]"
          ]
        },
        {
          "output_type": "stream",
          "name": "stdout",
          "text": [
            "[3,  3000] loss: 0.475\n"
          ]
        },
        {
          "output_type": "stream",
          "name": "stderr",
          "text": [
            " 95%|█████████▌| 3502/3680 [04:18<00:13, 13.37it/s]"
          ]
        },
        {
          "output_type": "stream",
          "name": "stdout",
          "text": [
            "[3,  3500] loss: 0.469\n"
          ]
        },
        {
          "output_type": "stream",
          "name": "stderr",
          "text": [
            "100%|██████████| 3680/3680 [04:31<00:00, 13.57it/s]\n"
          ]
        },
        {
          "output_type": "stream",
          "name": "stdout",
          "text": [
            "val accuracy:  0.8089741629720226\n"
          ]
        },
        {
          "output_type": "stream",
          "name": "stderr",
          "text": [
            " 14%|█▎        | 502/3680 [00:36<03:43, 14.21it/s]"
          ]
        },
        {
          "output_type": "stream",
          "name": "stdout",
          "text": [
            "[4,   500] loss: 0.477\n"
          ]
        },
        {
          "output_type": "stream",
          "name": "stderr",
          "text": [
            " 27%|██▋       | 1002/3680 [01:12<03:15, 13.69it/s]"
          ]
        },
        {
          "output_type": "stream",
          "name": "stdout",
          "text": [
            "[4,  1000] loss: 0.475\n"
          ]
        },
        {
          "output_type": "stream",
          "name": "stderr",
          "text": [
            " 41%|████      | 1502/3680 [01:48<02:35, 13.98it/s]"
          ]
        },
        {
          "output_type": "stream",
          "name": "stdout",
          "text": [
            "[4,  1500] loss: 0.466\n"
          ]
        },
        {
          "output_type": "stream",
          "name": "stderr",
          "text": [
            " 54%|█████▍    | 2002/3680 [02:23<01:59, 14.07it/s]"
          ]
        },
        {
          "output_type": "stream",
          "name": "stdout",
          "text": [
            "[4,  2000] loss: 0.474\n"
          ]
        },
        {
          "output_type": "stream",
          "name": "stderr",
          "text": [
            " 68%|██████▊   | 2502/3680 [02:59<01:26, 13.60it/s]"
          ]
        },
        {
          "output_type": "stream",
          "name": "stdout",
          "text": [
            "[4,  2500] loss: 0.457\n"
          ]
        },
        {
          "output_type": "stream",
          "name": "stderr",
          "text": [
            " 82%|████████▏ | 3002/3680 [03:35<00:48, 13.90it/s]"
          ]
        },
        {
          "output_type": "stream",
          "name": "stdout",
          "text": [
            "[4,  3000] loss: 0.464\n"
          ]
        },
        {
          "output_type": "stream",
          "name": "stderr",
          "text": [
            " 95%|█████████▌| 3502/3680 [04:10<00:12, 14.25it/s]"
          ]
        },
        {
          "output_type": "stream",
          "name": "stdout",
          "text": [
            "[4,  3500] loss: 0.449\n"
          ]
        },
        {
          "output_type": "stream",
          "name": "stderr",
          "text": [
            "100%|██████████| 3680/3680 [04:22<00:00, 14.00it/s]\n"
          ]
        },
        {
          "output_type": "stream",
          "name": "stdout",
          "text": [
            "val accuracy:  0.8147836722213728\n"
          ]
        }
      ]
    },
    {
      "cell_type": "code",
      "source": [
        "preds, truth = predict(resnet18, dataloader_2009)\n",
        "make_report(truth, preds)"
      ],
      "metadata": {
        "colab": {
          "base_uri": "https://localhost:8080/",
          "height": 578
        },
        "id": "ClLHMNLkpMB_",
        "outputId": "d2be7f65-b2ef-4022-fb28-035799101715"
      },
      "execution_count": null,
      "outputs": [
        {
          "output_type": "stream",
          "name": "stdout",
          "text": [
            "              precision    recall  f1-score   support\n",
            "\n",
            "       acrop       0.64      0.50      0.56       189\n",
            "         cca       0.88      0.70      0.78     38899\n",
            "       macro       0.65      0.73      0.69      5302\n",
            "       monti       0.15      0.19      0.17       544\n",
            "       pavon       0.32      0.79      0.46       223\n",
            "      pocill       0.75      0.86      0.80      1056\n",
            "       porit       0.81      0.82      0.81      6616\n",
            "        sand       0.68      0.74      0.71      4279\n",
            "        turf       0.27      0.63      0.38      4845\n",
            "\n",
            "    accuracy                           0.71     61953\n",
            "   macro avg       0.57      0.66      0.59     61953\n",
            "weighted avg       0.78      0.71      0.73     61953\n",
            "\n"
          ]
        },
        {
          "output_type": "display_data",
          "data": {
            "text/plain": [
              "<Figure size 432x288 with 2 Axes>"
            ],
            "image/png": "[encoded data removed]"
          },
          "metadata": {
            "needs_background": "light"
          }
        }
      ]
    },
    {
      "cell_type": "code",
      "source": [
        "# Loader for 224 image\n",
        "dataset_2008 = CoralPatches('coral_patches_2008.csv','coral_patches_2008', label_list, transform = google_net_transform)\n",
        "dataset_2009 = CoralPatches('coral_patches_2009.csv','coral_patches_2009', label_list,  transform = google_net_transform)\n",
        "\n",
        "N = (len(dataset_2008))\n",
        "test_size = int(N * 0.90)\n",
        "val_size = N - test_size\n",
        "val_data_2008, data_2008 = random_split(dataset_2008,[val_size, test_size])\n",
        "dataloader_2008 = DataLoader(data_2008,batch_size=32, shuffle=True)\n",
        "val_loader_2008 = DataLoader(val_data_2008,batch_size=32)\n",
        "\n",
        "N = (len(dataset_2009))\n",
        "test_size = int(N * 0.90)\n",
        "val_size = N - test_size\n",
        "val_data_2009, data_2009 = random_split(dataset_2009,[val_size, test_size])\n",
        "dataloader_2009 = DataLoader(data_2009,batch_size=32, shuffle=True)\n",
        "val_loader_2009 = DataLoader(val_data_2009,batch_size=32)"
      ],
      "metadata": {
        "id": "1FFCO0RLpPBS"
      },
      "execution_count": 8,
      "outputs": []
    },
    {
      "cell_type": "markdown",
      "source": [
        "Load GoogLeNet pre-trained model and replace final layer to match number of labels. "
      ],
      "metadata": {
        "id": "TOUlKBU25l9O"
      }
    },
    {
      "cell_type": "code",
      "source": [
        "ggnet = torch.hub.load('pytorch/vision:v0.10.0', 'googlenet', pretrained=True)\n",
        "ggnet.fc = torch.nn.Linear(1024, 9)\n"
      ],
      "metadata": {
        "colab": {
          "base_uri": "https://localhost:8080/"
        },
        "id": "Wi2jaMpFsSUh",
        "outputId": "7f83c365-6cfb-43d1-a3e0-8e86168f6e28"
      },
      "execution_count": null,
      "outputs": [
        {
          "output_type": "stream",
          "name": "stderr",
          "text": [
            "Using cache found in /root/.cache/torch/hub/pytorch_vision_v0.10.0\n"
          ]
        }
      ]
    },
    {
      "cell_type": "code",
      "source": [
        "ggnet_losses = train(ggnet, dataloader_2008, val_loader_2008, epochs=5, schedule={0:.01, 1:.001, 3:.0001}, print_every=500)"
      ],
      "metadata": {
        "colab": {
          "base_uri": "https://localhost:8080/"
        },
        "id": "X81WTRMevkiS",
        "outputId": "0c8d0dc6-1f88-451b-977f-dca7abe7709b"
      },
      "execution_count": null,
      "outputs": [
        {
          "output_type": "stream",
          "name": "stdout",
          "text": [
            "Learning rate: 0.010000\n"
          ]
        },
        {
          "output_type": "stream",
          "name": "stderr",
          "text": [
            " 14%|█▎        | 501/3680 [01:26<09:04,  5.84it/s]"
          ]
        },
        {
          "output_type": "stream",
          "name": "stdout",
          "text": [
            "[0,   500] loss: 0.955\n"
          ]
        },
        {
          "output_type": "stream",
          "name": "stderr",
          "text": [
            " 27%|██▋       | 1001/3680 [02:52<07:43,  5.79it/s]"
          ]
        },
        {
          "output_type": "stream",
          "name": "stdout",
          "text": [
            "[0,  1000] loss: 0.738\n"
          ]
        },
        {
          "output_type": "stream",
          "name": "stderr",
          "text": [
            " 41%|████      | 1501/3680 [04:18<06:17,  5.77it/s]"
          ]
        },
        {
          "output_type": "stream",
          "name": "stdout",
          "text": [
            "[0,  1500] loss: 0.681\n"
          ]
        },
        {
          "output_type": "stream",
          "name": "stderr",
          "text": [
            " 54%|█████▍    | 2001/3680 [05:44<04:50,  5.77it/s]"
          ]
        },
        {
          "output_type": "stream",
          "name": "stdout",
          "text": [
            "[0,  2000] loss: 0.645\n"
          ]
        },
        {
          "output_type": "stream",
          "name": "stderr",
          "text": [
            " 68%|██████▊   | 2501/3680 [07:10<03:24,  5.76it/s]"
          ]
        },
        {
          "output_type": "stream",
          "name": "stdout",
          "text": [
            "[0,  2500] loss: 0.633\n"
          ]
        },
        {
          "output_type": "stream",
          "name": "stderr",
          "text": [
            " 82%|████████▏ | 3001/3680 [08:36<01:56,  5.83it/s]"
          ]
        },
        {
          "output_type": "stream",
          "name": "stdout",
          "text": [
            "[0,  3000] loss: 0.608\n"
          ]
        },
        {
          "output_type": "stream",
          "name": "stderr",
          "text": [
            " 95%|█████████▌| 3501/3680 [10:01<00:30,  5.90it/s]"
          ]
        },
        {
          "output_type": "stream",
          "name": "stdout",
          "text": [
            "[0,  3500] loss: 0.586\n"
          ]
        },
        {
          "output_type": "stream",
          "name": "stderr",
          "text": [
            "100%|██████████| 3680/3680 [10:31<00:00,  5.82it/s]\n"
          ]
        },
        {
          "output_type": "stream",
          "name": "stdout",
          "text": [
            "val accuracy:  0.7528665341690873\n",
            "Learning rate: 0.001000\n"
          ]
        },
        {
          "output_type": "stream",
          "name": "stderr",
          "text": [
            " 14%|█▎        | 501/3680 [01:25<09:03,  5.85it/s]"
          ]
        },
        {
          "output_type": "stream",
          "name": "stdout",
          "text": [
            "[1,   500] loss: 0.502\n"
          ]
        },
        {
          "output_type": "stream",
          "name": "stderr",
          "text": [
            " 27%|██▋       | 1001/3680 [02:51<07:40,  5.82it/s]"
          ]
        },
        {
          "output_type": "stream",
          "name": "stdout",
          "text": [
            "[1,  1000] loss: 0.489\n"
          ]
        },
        {
          "output_type": "stream",
          "name": "stderr",
          "text": [
            " 41%|████      | 1501/3680 [04:16<06:13,  5.83it/s]"
          ]
        },
        {
          "output_type": "stream",
          "name": "stdout",
          "text": [
            "[1,  1500] loss: 0.462\n"
          ]
        },
        {
          "output_type": "stream",
          "name": "stderr",
          "text": [
            " 54%|█████▍    | 2001/3680 [05:40<04:41,  5.96it/s]"
          ]
        },
        {
          "output_type": "stream",
          "name": "stdout",
          "text": [
            "[1,  2000] loss: 0.466\n"
          ]
        },
        {
          "output_type": "stream",
          "name": "stderr",
          "text": [
            " 68%|██████▊   | 2501/3680 [07:04<03:16,  6.01it/s]"
          ]
        },
        {
          "output_type": "stream",
          "name": "stdout",
          "text": [
            "[1,  2500] loss: 0.473\n"
          ]
        },
        {
          "output_type": "stream",
          "name": "stderr",
          "text": [
            " 82%|████████▏ | 3001/3680 [08:29<01:55,  5.89it/s]"
          ]
        },
        {
          "output_type": "stream",
          "name": "stdout",
          "text": [
            "[1,  3000] loss: 0.456\n"
          ]
        },
        {
          "output_type": "stream",
          "name": "stderr",
          "text": [
            " 95%|█████████▌| 3501/3680 [09:53<00:30,  5.91it/s]"
          ]
        },
        {
          "output_type": "stream",
          "name": "stdout",
          "text": [
            "[1,  3500] loss: 0.454\n"
          ]
        },
        {
          "output_type": "stream",
          "name": "stderr",
          "text": [
            "100%|██████████| 3680/3680 [10:23<00:00,  5.90it/s]\n"
          ]
        },
        {
          "output_type": "stream",
          "name": "stdout",
          "text": [
            "val accuracy:  0.8238801406512766\n"
          ]
        },
        {
          "output_type": "stream",
          "name": "stderr",
          "text": [
            " 14%|█▎        | 501/3680 [01:26<08:46,  6.04it/s]"
          ]
        },
        {
          "output_type": "stream",
          "name": "stdout",
          "text": [
            "[2,   500] loss: 0.434\n"
          ]
        },
        {
          "output_type": "stream",
          "name": "stderr",
          "text": [
            " 27%|██▋       | 1001/3680 [02:51<07:40,  5.81it/s]"
          ]
        },
        {
          "output_type": "stream",
          "name": "stdout",
          "text": [
            "[2,  1000] loss: 0.427\n"
          ]
        },
        {
          "output_type": "stream",
          "name": "stderr",
          "text": [
            " 41%|████      | 1501/3680 [04:15<06:04,  5.97it/s]"
          ]
        },
        {
          "output_type": "stream",
          "name": "stdout",
          "text": [
            "[2,  1500] loss: 0.442\n"
          ]
        },
        {
          "output_type": "stream",
          "name": "stderr",
          "text": [
            " 54%|█████▍    | 2001/3680 [05:40<04:48,  5.82it/s]"
          ]
        },
        {
          "output_type": "stream",
          "name": "stdout",
          "text": [
            "[2,  2000] loss: 0.433\n"
          ]
        },
        {
          "output_type": "stream",
          "name": "stderr",
          "text": [
            " 68%|██████▊   | 2501/3680 [07:04<03:19,  5.90it/s]"
          ]
        },
        {
          "output_type": "stream",
          "name": "stdout",
          "text": [
            "[2,  2500] loss: 0.427\n"
          ]
        },
        {
          "output_type": "stream",
          "name": "stderr",
          "text": [
            " 82%|████████▏ | 3001/3680 [08:28<01:55,  5.90it/s]"
          ]
        },
        {
          "output_type": "stream",
          "name": "stdout",
          "text": [
            "[2,  3000] loss: 0.438\n"
          ]
        },
        {
          "output_type": "stream",
          "name": "stderr",
          "text": [
            " 95%|█████████▌| 3501/3680 [09:53<00:30,  5.92it/s]"
          ]
        },
        {
          "output_type": "stream",
          "name": "stdout",
          "text": [
            "[2,  3500] loss: 0.426\n"
          ]
        },
        {
          "output_type": "stream",
          "name": "stderr",
          "text": [
            "100%|██████████| 3680/3680 [10:23<00:00,  5.90it/s]\n"
          ]
        },
        {
          "output_type": "stream",
          "name": "stdout",
          "text": [
            "val accuracy:  0.8208989451154258\n",
            "Learning rate: 0.000100\n"
          ]
        },
        {
          "output_type": "stream",
          "name": "stderr",
          "text": [
            " 14%|█▎        | 501/3680 [01:25<09:04,  5.84it/s]"
          ]
        },
        {
          "output_type": "stream",
          "name": "stdout",
          "text": [
            "[3,   500] loss: 0.359\n"
          ]
        },
        {
          "output_type": "stream",
          "name": "stderr",
          "text": [
            " 27%|██▋       | 1001/3680 [02:51<07:30,  5.95it/s]"
          ]
        },
        {
          "output_type": "stream",
          "name": "stdout",
          "text": [
            "[3,  1000] loss: 0.348\n"
          ]
        },
        {
          "output_type": "stream",
          "name": "stderr",
          "text": [
            " 41%|████      | 1501/3680 [04:16<06:08,  5.92it/s]"
          ]
        },
        {
          "output_type": "stream",
          "name": "stdout",
          "text": [
            "[3,  1500] loss: 0.351\n"
          ]
        },
        {
          "output_type": "stream",
          "name": "stderr",
          "text": [
            " 54%|█████▍    | 2001/3680 [05:40<04:39,  6.01it/s]"
          ]
        },
        {
          "output_type": "stream",
          "name": "stdout",
          "text": [
            "[3,  2000] loss: 0.349\n"
          ]
        },
        {
          "output_type": "stream",
          "name": "stderr",
          "text": [
            " 68%|██████▊   | 2501/3680 [07:04<03:19,  5.92it/s]"
          ]
        },
        {
          "output_type": "stream",
          "name": "stdout",
          "text": [
            "[3,  2500] loss: 0.351\n"
          ]
        },
        {
          "output_type": "stream",
          "name": "stderr",
          "text": [
            " 82%|████████▏ | 3001/3680 [08:29<02:09,  5.26it/s]"
          ]
        },
        {
          "output_type": "stream",
          "name": "stdout",
          "text": [
            "[3,  3000] loss: 0.358\n"
          ]
        },
        {
          "output_type": "stream",
          "name": "stderr",
          "text": [
            " 95%|█████████▌| 3501/3680 [09:56<00:31,  5.68it/s]"
          ]
        },
        {
          "output_type": "stream",
          "name": "stdout",
          "text": [
            "[3,  3500] loss: 0.340\n"
          ]
        },
        {
          "output_type": "stream",
          "name": "stderr",
          "text": [
            "100%|██████████| 3680/3680 [10:28<00:00,  5.86it/s]\n"
          ]
        },
        {
          "output_type": "stream",
          "name": "stdout",
          "text": [
            "val accuracy:  0.8350405136829231\n"
          ]
        },
        {
          "output_type": "stream",
          "name": "stderr",
          "text": [
            " 14%|█▎        | 501/3680 [01:26<08:55,  5.94it/s]"
          ]
        },
        {
          "output_type": "stream",
          "name": "stdout",
          "text": [
            "[4,   500] loss: 0.352\n"
          ]
        },
        {
          "output_type": "stream",
          "name": "stderr",
          "text": [
            " 27%|██▋       | 1001/3680 [02:52<08:17,  5.39it/s]"
          ]
        },
        {
          "output_type": "stream",
          "name": "stdout",
          "text": [
            "[4,  1000] loss: 0.340\n"
          ]
        },
        {
          "output_type": "stream",
          "name": "stderr",
          "text": [
            " 41%|████      | 1501/3680 [04:18<06:11,  5.86it/s]"
          ]
        },
        {
          "output_type": "stream",
          "name": "stdout",
          "text": [
            "[4,  1500] loss: 0.334\n"
          ]
        },
        {
          "output_type": "stream",
          "name": "stderr",
          "text": [
            " 54%|█████▍    | 2001/3680 [05:43<04:46,  5.86it/s]"
          ]
        },
        {
          "output_type": "stream",
          "name": "stdout",
          "text": [
            "[4,  2000] loss: 0.342\n"
          ]
        },
        {
          "output_type": "stream",
          "name": "stderr",
          "text": [
            " 68%|██████▊   | 2501/3680 [07:09<03:16,  6.01it/s]"
          ]
        },
        {
          "output_type": "stream",
          "name": "stdout",
          "text": [
            "[4,  2500] loss: 0.339\n"
          ]
        },
        {
          "output_type": "stream",
          "name": "stderr",
          "text": [
            " 82%|████████▏ | 3001/3680 [08:34<02:05,  5.41it/s]"
          ]
        },
        {
          "output_type": "stream",
          "name": "stdout",
          "text": [
            "[4,  3000] loss: 0.335\n"
          ]
        },
        {
          "output_type": "stream",
          "name": "stderr",
          "text": [
            " 95%|█████████▌| 3501/3680 [09:59<00:32,  5.55it/s]"
          ]
        },
        {
          "output_type": "stream",
          "name": "stdout",
          "text": [
            "[4,  3500] loss: 0.341\n"
          ]
        },
        {
          "output_type": "stream",
          "name": "stderr",
          "text": [
            "100%|██████████| 3680/3680 [10:29<00:00,  5.85it/s]\n"
          ]
        },
        {
          "output_type": "stream",
          "name": "stdout",
          "text": [
            "val accuracy:  0.8392447637975845\n"
          ]
        }
      ]
    },
    {
      "cell_type": "code",
      "source": [
        "plt.plot(smooth(ggnet_losses,50), 'r-')"
      ],
      "metadata": {
        "colab": {
          "base_uri": "https://localhost:8080/",
          "height": 286
        },
        "id": "tD0kAqaiHPaY",
        "outputId": "a318891e-1891-487b-ea7b-031b5f40b919"
      },
      "execution_count": null,
      "outputs": [
        {
          "output_type": "execute_result",
          "data": {
            "text/plain": [
              "[<matplotlib.lines.Line2D at 0x7fdcb1e2ed10>]"
            ]
          },
          "metadata": {},
          "execution_count": 146
        },
        {
          "output_type": "display_data",
          "data": {
            "text/plain": [
              "<Figure size 432x288 with 1 Axes>"
            ],
            "image/png": "[encoded data removed]"
          },
          "metadata": {
            "needs_background": "light"
          }
        }
      ]
    },
    {
      "cell_type": "code",
      "source": [
        "# predict on 2009 dataset\n",
        "truth, preds = predict(ggnet, dataloader_2009)"
      ],
      "metadata": {
        "id": "vwfiO7NhyyZw"
      },
      "execution_count": null,
      "outputs": []
    },
    {
      "cell_type": "code",
      "source": [
        "# report for googlenet \n",
        "make_report(truth, preds)"
      ],
      "metadata": {
        "colab": {
          "base_uri": "https://localhost:8080/",
          "height": 578
        },
        "id": "LTuL3UElz7Wo",
        "outputId": "f0bff693-3ff2-4f10-d2f0-6470ff367b32"
      },
      "execution_count": null,
      "outputs": [
        {
          "output_type": "stream",
          "name": "stdout",
          "text": [
            "              precision    recall  f1-score   support\n",
            "\n",
            "       acrop       0.46      0.87      0.60       154\n",
            "         cca       0.73      0.88      0.80     30769\n",
            "       macro       0.77      0.71      0.74      5938\n",
            "       monti       0.34      0.38      0.36       690\n",
            "       pavon       0.91      0.54      0.68       545\n",
            "      pocill       0.85      0.82      0.83      1218\n",
            "       porit       0.89      0.84      0.86      6684\n",
            "        sand       0.75      0.75      0.75      4663\n",
            "        turf       0.70      0.34      0.46     11292\n",
            "\n",
            "    accuracy                           0.74     61953\n",
            "   macro avg       0.71      0.68      0.68     61953\n",
            "weighted avg       0.74      0.74      0.73     61953\n",
            "\n"
          ]
        },
        {
          "output_type": "display_data",
          "data": {
            "text/plain": [
              "<Figure size 432x288 with 2 Axes>"
            ],
            "image/png": "[encoded data removed]"
          },
          "metadata": {
            "needs_background": "light"
          }
        }
      ]
    },
    {
      "cell_type": "markdown",
      "source": [
        ""
      ],
      "metadata": {
        "id": "asWDP_L850SE"
      }
    },
    {
      "cell_type": "code",
      "source": [
        ""
      ],
      "metadata": {
        "id": "gm6Y31quo65_"
      },
      "execution_count": null,
      "outputs": []
    },
    {
      "cell_type": "code",
      "source": [
        "# resnet18 pre-trained classifier\n",
        "resnet152 = torch.hub.load('pytorch/vision:v0.6.0', 'resnet152', pretrained=True)\n",
        "resnet152.fc = torch.nn.Linear(2048, 9)\n",
        "resnet152.to(device)"
      ],
      "metadata": {
        "id": "98MGi4LGHdOC",
        "colab": {
          "base_uri": "https://localhost:8080/"
        },
        "outputId": "fd6c189c-f302-49ff-f16b-b540fab8937f"
      },
      "execution_count": 9,
      "outputs": [
        {
          "output_type": "stream",
          "name": "stderr",
          "text": [
            "Using cache found in /root/.cache/torch/hub/pytorch_vision_v0.6.0\n"
          ]
        },
        {
          "output_type": "execute_result",
          "data": {
            "text/plain": [
              "ResNet(\n",
              "  (conv1): Conv2d(3, 64, kernel_size=(7, 7), stride=(2, 2), padding=(3, 3), bias=False)\n",
              "  (bn1): BatchNorm2d(64, eps=1e-05, momentum=0.1, affine=True, track_running_stats=True)\n",
              "  (relu): ReLU(inplace=True)\n",
              "  (maxpool): MaxPool2d(kernel_size=3, stride=2, padding=1, dilation=1, ceil_mode=False)\n",
              "  (layer1): Sequential(\n",
              "    (0): Bottleneck(\n",
              "      (conv1): Conv2d(64, 64, kernel_size=(1, 1), stride=(1, 1), bias=False)\n",
              "      (bn1): BatchNorm2d(64, eps=1e-05, momentum=0.1, affine=True, track_running_stats=True)\n",
              "      (conv2): Conv2d(64, 64, kernel_size=(3, 3), stride=(1, 1), padding=(1, 1), bias=False)\n",
              "      (bn2): BatchNorm2d(64, eps=1e-05, momentum=0.1, affine=True, track_running_stats=True)\n",
              "      (conv3): Conv2d(64, 256, kernel_size=(1, 1), stride=(1, 1), bias=False)\n",
              "      (bn3): BatchNorm2d(256, eps=1e-05, momentum=0.1, affine=True, track_running_stats=True)\n",
              "      (relu): ReLU(inplace=True)\n",
              "      (downsample): Sequential(\n",
              "        (0): Conv2d(64, 256, kernel_size=(1, 1), stride=(1, 1), bias=False)\n",
              "        (1): BatchNorm2d(256, eps=1e-05, momentum=0.1, affine=True, track_running_stats=True)\n",
              "      )\n",
              "    )\n",
              "    (1): Bottleneck(\n",
              "      (conv1): Conv2d(256, 64, kernel_size=(1, 1), stride=(1, 1), bias=False)\n",
              "      (bn1): BatchNorm2d(64, eps=1e-05, momentum=0.1, affine=True, track_running_stats=True)\n",
              "      (conv2): Conv2d(64, 64, kernel_size=(3, 3), stride=(1, 1), padding=(1, 1), bias=False)\n",
              "      (bn2): BatchNorm2d(64, eps=1e-05, momentum=0.1, affine=True, track_running_stats=True)\n",
              "      (conv3): Conv2d(64, 256, kernel_size=(1, 1), stride=(1, 1), bias=False)\n",
              "      (bn3): BatchNorm2d(256, eps=1e-05, momentum=0.1, affine=True, track_running_stats=True)\n",
              "      (relu): ReLU(inplace=True)\n",
              "    )\n",
              "    (2): Bottleneck(\n",
              "      (conv1): Conv2d(256, 64, kernel_size=(1, 1), stride=(1, 1), bias=False)\n",
              "      (bn1): BatchNorm2d(64, eps=1e-05, momentum=0.1, affine=True, track_running_stats=True)\n",
              "      (conv2): Conv2d(64, 64, kernel_size=(3, 3), stride=(1, 1), padding=(1, 1), bias=False)\n",
              "      (bn2): BatchNorm2d(64, eps=1e-05, momentum=0.1, affine=True, track_running_stats=True)\n",
              "      (conv3): Conv2d(64, 256, kernel_size=(1, 1), stride=(1, 1), bias=False)\n",
              "      (bn3): BatchNorm2d(256, eps=1e-05, momentum=0.1, affine=True, track_running_stats=True)\n",
              "      (relu): ReLU(inplace=True)\n",
              "    )\n",
              "  )\n",
              "  (layer2): Sequential(\n",
              "    (0): Bottleneck(\n",
              "      (conv1): Conv2d(256, 128, kernel_size=(1, 1), stride=(1, 1), bias=False)\n",
              "      (bn1): BatchNorm2d(128, eps=1e-05, momentum=0.1, affine=True, track_running_stats=True)\n",
              "      (conv2): Conv2d(128, 128, kernel_size=(3, 3), stride=(2, 2), padding=(1, 1), bias=False)\n",
              "      (bn2): BatchNorm2d(128, eps=1e-05, momentum=0.1, affine=True, track_running_stats=True)\n",
              "      (conv3): Conv2d(128, 512, kernel_size=(1, 1), stride=(1, 1), bias=False)\n",
              "      (bn3): BatchNorm2d(512, eps=1e-05, momentum=0.1, affine=True, track_running_stats=True)\n",
              "      (relu): ReLU(inplace=True)\n",
              "      (downsample): Sequential(\n",
              "        (0): Conv2d(256, 512, kernel_size=(1, 1), stride=(2, 2), bias=False)\n",
              "        (1): BatchNorm2d(512, eps=1e-05, momentum=0.1, affine=True, track_running_stats=True)\n",
              "      )\n",
              "    )\n",
              "    (1): Bottleneck(\n",
              "      (conv1): Conv2d(512, 128, kernel_size=(1, 1), stride=(1, 1), bias=False)\n",
              "      (bn1): BatchNorm2d(128, eps=1e-05, momentum=0.1, affine=True, track_running_stats=True)\n",
              "      (conv2): Conv2d(128, 128, kernel_size=(3, 3), stride=(1, 1), padding=(1, 1), bias=False)\n",
              "      (bn2): BatchNorm2d(128, eps=1e-05, momentum=0.1, affine=True, track_running_stats=True)\n",
              "      (conv3): Conv2d(128, 512, kernel_size=(1, 1), stride=(1, 1), bias=False)\n",
              "      (bn3): BatchNorm2d(512, eps=1e-05, momentum=0.1, affine=True, track_running_stats=True)\n",
              "      (relu): ReLU(inplace=True)\n",
              "    )\n",
              "    (2): Bottleneck(\n",
              "      (conv1): Conv2d(512, 128, kernel_size=(1, 1), stride=(1, 1), bias=False)\n",
              "      (bn1): BatchNorm2d(128, eps=1e-05, momentum=0.1, affine=True, track_running_stats=True)\n",
              "      (conv2): Conv2d(128, 128, kernel_size=(3, 3), stride=(1, 1), padding=(1, 1), bias=False)\n",
              "      (bn2): BatchNorm2d(128, eps=1e-05, momentum=0.1, affine=True, track_running_stats=True)\n",
              "      (conv3): Conv2d(128, 512, kernel_size=(1, 1), stride=(1, 1), bias=False)\n",
              "      (bn3): BatchNorm2d(512, eps=1e-05, momentum=0.1, affine=True, track_running_stats=True)\n",
              "      (relu): ReLU(inplace=True)\n",
              "    )\n",
              "    (3): Bottleneck(\n",
              "      (conv1): Conv2d(512, 128, kernel_size=(1, 1), stride=(1, 1), bias=False)\n",
              "      (bn1): BatchNorm2d(128, eps=1e-05, momentum=0.1, affine=True, track_running_stats=True)\n",
              "      (conv2): Conv2d(128, 128, kernel_size=(3, 3), stride=(1, 1), padding=(1, 1), bias=False)\n",
              "      (bn2): BatchNorm2d(128, eps=1e-05, momentum=0.1, affine=True, track_running_stats=True)\n",
              "      (conv3): Conv2d(128, 512, kernel_size=(1, 1), stride=(1, 1), bias=False)\n",
              "      (bn3): BatchNorm2d(512, eps=1e-05, momentum=0.1, affine=True, track_running_stats=True)\n",
              "      (relu): ReLU(inplace=True)\n",
              "    )\n",
              "    (4): Bottleneck(\n",
              "      (conv1): Conv2d(512, 128, kernel_size=(1, 1), stride=(1, 1), bias=False)\n",
              "      (bn1): BatchNorm2d(128, eps=1e-05, momentum=0.1, affine=True, track_running_stats=True)\n",
              "      (conv2): Conv2d(128, 128, kernel_size=(3, 3), stride=(1, 1), padding=(1, 1), bias=False)\n",
              "      (bn2): BatchNorm2d(128, eps=1e-05, momentum=0.1, affine=True, track_running_stats=True)\n",
              "      (conv3): Conv2d(128, 512, kernel_size=(1, 1), stride=(1, 1), bias=False)\n",
              "      (bn3): BatchNorm2d(512, eps=1e-05, momentum=0.1, affine=True, track_running_stats=True)\n",
              "      (relu): ReLU(inplace=True)\n",
              "    )\n",
              "    (5): Bottleneck(\n",
              "      (conv1): Conv2d(512, 128, kernel_size=(1, 1), stride=(1, 1), bias=False)\n",
              "      (bn1): BatchNorm2d(128, eps=1e-05, momentum=0.1, affine=True, track_running_stats=True)\n",
              "      (conv2): Conv2d(128, 128, kernel_size=(3, 3), stride=(1, 1), padding=(1, 1), bias=False)\n",
              "      (bn2): BatchNorm2d(128, eps=1e-05, momentum=0.1, affine=True, track_running_stats=True)\n",
              "      (conv3): Conv2d(128, 512, kernel_size=(1, 1), stride=(1, 1), bias=False)\n",
              "      (bn3): BatchNorm2d(512, eps=1e-05, momentum=0.1, affine=True, track_running_stats=True)\n",
              "      (relu): ReLU(inplace=True)\n",
              "    )\n",
              "    (6): Bottleneck(\n",
              "      (conv1): Conv2d(512, 128, kernel_size=(1, 1), stride=(1, 1), bias=False)\n",
              "      (bn1): BatchNorm2d(128, eps=1e-05, momentum=0.1, affine=True, track_running_stats=True)\n",
              "      (conv2): Conv2d(128, 128, kernel_size=(3, 3), stride=(1, 1), padding=(1, 1), bias=False)\n",
              "      (bn2): BatchNorm2d(128, eps=1e-05, momentum=0.1, affine=True, track_running_stats=True)\n",
              "      (conv3): Conv2d(128, 512, kernel_size=(1, 1), stride=(1, 1), bias=False)\n",
              "      (bn3): BatchNorm2d(512, eps=1e-05, momentum=0.1, affine=True, track_running_stats=True)\n",
              "      (relu): ReLU(inplace=True)\n",
              "    )\n",
              "    (7): Bottleneck(\n",
              "      (conv1): Conv2d(512, 128, kernel_size=(1, 1), stride=(1, 1), bias=False)\n",
              "      (bn1): BatchNorm2d(128, eps=1e-05, momentum=0.1, affine=True, track_running_stats=True)\n",
              "      (conv2): Conv2d(128, 128, kernel_size=(3, 3), stride=(1, 1), padding=(1, 1), bias=False)\n",
              "      (bn2): BatchNorm2d(128, eps=1e-05, momentum=0.1, affine=True, track_running_stats=True)\n",
              "      (conv3): Conv2d(128, 512, kernel_size=(1, 1), stride=(1, 1), bias=False)\n",
              "      (bn3): BatchNorm2d(512, eps=1e-05, momentum=0.1, affine=True, track_running_stats=True)\n",
              "      (relu): ReLU(inplace=True)\n",
              "    )\n",
              "  )\n",
              "  (layer3): Sequential(\n",
              "    (0): Bottleneck(\n",
              "      (conv1): Conv2d(512, 256, kernel_size=(1, 1), stride=(1, 1), bias=False)\n",
              "      (bn1): BatchNorm2d(256, eps=1e-05, momentum=0.1, affine=True, track_running_stats=True)\n",
              "      (conv2): Conv2d(256, 256, kernel_size=(3, 3), stride=(2, 2), padding=(1, 1), bias=False)\n",
              "      (bn2): BatchNorm2d(256, eps=1e-05, momentum=0.1, affine=True, track_running_stats=True)\n",
              "      (conv3): Conv2d(256, 1024, kernel_size=(1, 1), stride=(1, 1), bias=False)\n",
              "      (bn3): BatchNorm2d(1024, eps=1e-05, momentum=0.1, affine=True, track_running_stats=True)\n",
              "      (relu): ReLU(inplace=True)\n",
              "      (downsample): Sequential(\n",
              "        (0): Conv2d(512, 1024, kernel_size=(1, 1), stride=(2, 2), bias=False)\n",
              "        (1): BatchNorm2d(1024, eps=1e-05, momentum=0.1, affine=True, track_running_stats=True)\n",
              "      )\n",
              "    )\n",
              "    (1): Bottleneck(\n",
              "      (conv1): Conv2d(1024, 256, kernel_size=(1, 1), stride=(1, 1), bias=False)\n",
              "      (bn1): BatchNorm2d(256, eps=1e-05, momentum=0.1, affine=True, track_running_stats=True)\n",
              "      (conv2): Conv2d(256, 256, kernel_size=(3, 3), stride=(1, 1), padding=(1, 1), bias=False)\n",
              "      (bn2): BatchNorm2d(256, eps=1e-05, momentum=0.1, affine=True, track_running_stats=True)\n",
              "      (conv3): Conv2d(256, 1024, kernel_size=(1, 1), stride=(1, 1), bias=False)\n",
              "      (bn3): BatchNorm2d(1024, eps=1e-05, momentum=0.1, affine=True, track_running_stats=True)\n",
              "      (relu): ReLU(inplace=True)\n",
              "    )\n",
              "    (2): Bottleneck(\n",
              "      (conv1): Conv2d(1024, 256, kernel_size=(1, 1), stride=(1, 1), bias=False)\n",
              "      (bn1): BatchNorm2d(256, eps=1e-05, momentum=0.1, affine=True, track_running_stats=True)\n",
              "      (conv2): Conv2d(256, 256, kernel_size=(3, 3), stride=(1, 1), padding=(1, 1), bias=False)\n",
              "      (bn2): BatchNorm2d(256, eps=1e-05, momentum=0.1, affine=True, track_running_stats=True)\n",
              "      (conv3): Conv2d(256, 1024, kernel_size=(1, 1), stride=(1, 1), bias=False)\n",
              "      (bn3): BatchNorm2d(1024, eps=1e-05, momentum=0.1, affine=True, track_running_stats=True)\n",
              "      (relu): ReLU(inplace=True)\n",
              "    )\n",
              "    (3): Bottleneck(\n",
              "      (conv1): Conv2d(1024, 256, kernel_size=(1, 1), stride=(1, 1), bias=False)\n",
              "      (bn1): BatchNorm2d(256, eps=1e-05, momentum=0.1, affine=True, track_running_stats=True)\n",
              "      (conv2): Conv2d(256, 256, kernel_size=(3, 3), stride=(1, 1), padding=(1, 1), bias=False)\n",
              "      (bn2): BatchNorm2d(256, eps=1e-05, momentum=0.1, affine=True, track_running_stats=True)\n",
              "      (conv3): Conv2d(256, 1024, kernel_size=(1, 1), stride=(1, 1), bias=False)\n",
              "      (bn3): BatchNorm2d(1024, eps=1e-05, momentum=0.1, affine=True, track_running_stats=True)\n",
              "      (relu): ReLU(inplace=True)\n",
              "    )\n",
              "    (4): Bottleneck(\n",
              "      (conv1): Conv2d(1024, 256, kernel_size=(1, 1), stride=(1, 1), bias=False)\n",
              "      (bn1): BatchNorm2d(256, eps=1e-05, momentum=0.1, affine=True, track_running_stats=True)\n",
              "      (conv2): Conv2d(256, 256, kernel_size=(3, 3), stride=(1, 1), padding=(1, 1), bias=False)\n",
              "      (bn2): BatchNorm2d(256, eps=1e-05, momentum=0.1, affine=True, track_running_stats=True)\n",
              "      (conv3): Conv2d(256, 1024, kernel_size=(1, 1), stride=(1, 1), bias=False)\n",
              "      (bn3): BatchNorm2d(1024, eps=1e-05, momentum=0.1, affine=True, track_running_stats=True)\n",
              "      (relu): ReLU(inplace=True)\n",
              "    )\n",
              "    (5): Bottleneck(\n",
              "      (conv1): Conv2d(1024, 256, kernel_size=(1, 1), stride=(1, 1), bias=False)\n",
              "      (bn1): BatchNorm2d(256, eps=1e-05, momentum=0.1, affine=True, track_running_stats=True)\n",
              "      (conv2): Conv2d(256, 256, kernel_size=(3, 3), stride=(1, 1), padding=(1, 1), bias=False)\n",
              "      (bn2): BatchNorm2d(256, eps=1e-05, momentum=0.1, affine=True, track_running_stats=True)\n",
              "      (conv3): Conv2d(256, 1024, kernel_size=(1, 1), stride=(1, 1), bias=False)\n",
              "      (bn3): BatchNorm2d(1024, eps=1e-05, momentum=0.1, affine=True, track_running_stats=True)\n",
              "      (relu): ReLU(inplace=True)\n",
              "    )\n",
              "    (6): Bottleneck(\n",
              "      (conv1): Conv2d(1024, 256, kernel_size=(1, 1), stride=(1, 1), bias=False)\n",
              "      (bn1): BatchNorm2d(256, eps=1e-05, momentum=0.1, affine=True, track_running_stats=True)\n",
              "      (conv2): Conv2d(256, 256, kernel_size=(3, 3), stride=(1, 1), padding=(1, 1), bias=False)\n",
              "      (bn2): BatchNorm2d(256, eps=1e-05, momentum=0.1, affine=True, track_running_stats=True)\n",
              "      (conv3): Conv2d(256, 1024, kernel_size=(1, 1), stride=(1, 1), bias=False)\n",
              "      (bn3): BatchNorm2d(1024, eps=1e-05, momentum=0.1, affine=True, track_running_stats=True)\n",
              "      (relu): ReLU(inplace=True)\n",
              "    )\n",
              "    (7): Bottleneck(\n",
              "      (conv1): Conv2d(1024, 256, kernel_size=(1, 1), stride=(1, 1), bias=False)\n",
              "      (bn1): BatchNorm2d(256, eps=1e-05, momentum=0.1, affine=True, track_running_stats=True)\n",
              "      (conv2): Conv2d(256, 256, kernel_size=(3, 3), stride=(1, 1), padding=(1, 1), bias=False)\n",
              "      (bn2): BatchNorm2d(256, eps=1e-05, momentum=0.1, affine=True, track_running_stats=True)\n",
              "      (conv3): Conv2d(256, 1024, kernel_size=(1, 1), stride=(1, 1), bias=False)\n",
              "      (bn3): BatchNorm2d(1024, eps=1e-05, momentum=0.1, affine=True, track_running_stats=True)\n",
              "      (relu): ReLU(inplace=True)\n",
              "    )\n",
              "    (8): Bottleneck(\n",
              "      (conv1): Conv2d(1024, 256, kernel_size=(1, 1), stride=(1, 1), bias=False)\n",
              "      (bn1): BatchNorm2d(256, eps=1e-05, momentum=0.1, affine=True, track_running_stats=True)\n",
              "      (conv2): Conv2d(256, 256, kernel_size=(3, 3), stride=(1, 1), padding=(1, 1), bias=False)\n",
              "      (bn2): BatchNorm2d(256, eps=1e-05, momentum=0.1, affine=True, track_running_stats=True)\n",
              "      (conv3): Conv2d(256, 1024, kernel_size=(1, 1), stride=(1, 1), bias=False)\n",
              "      (bn3): BatchNorm2d(1024, eps=1e-05, momentum=0.1, affine=True, track_running_stats=True)\n",
              "      (relu): ReLU(inplace=True)\n",
              "    )\n",
              "    (9): Bottleneck(\n",
              "      (conv1): Conv2d(1024, 256, kernel_size=(1, 1), stride=(1, 1), bias=False)\n",
              "      (bn1): BatchNorm2d(256, eps=1e-05, momentum=0.1, affine=True, track_running_stats=True)\n",
              "      (conv2): Conv2d(256, 256, kernel_size=(3, 3), stride=(1, 1), padding=(1, 1), bias=False)\n",
              "      (bn2): BatchNorm2d(256, eps=1e-05, momentum=0.1, affine=True, track_running_stats=True)\n",
              "      (conv3): Conv2d(256, 1024, kernel_size=(1, 1), stride=(1, 1), bias=False)\n",
              "      (bn3): BatchNorm2d(1024, eps=1e-05, momentum=0.1, affine=True, track_running_stats=True)\n",
              "      (relu): ReLU(inplace=True)\n",
              "    )\n",
              "    (10): Bottleneck(\n",
              "      (conv1): Conv2d(1024, 256, kernel_size=(1, 1), stride=(1, 1), bias=False)\n",
              "      (bn1): BatchNorm2d(256, eps=1e-05, momentum=0.1, affine=True, track_running_stats=True)\n",
              "      (conv2): Conv2d(256, 256, kernel_size=(3, 3), stride=(1, 1), padding=(1, 1), bias=False)\n",
              "      (bn2): BatchNorm2d(256, eps=1e-05, momentum=0.1, affine=True, track_running_stats=True)\n",
              "      (conv3): Conv2d(256, 1024, kernel_size=(1, 1), stride=(1, 1), bias=False)\n",
              "      (bn3): BatchNorm2d(1024, eps=1e-05, momentum=0.1, affine=True, track_running_stats=True)\n",
              "      (relu): ReLU(inplace=True)\n",
              "    )\n",
              "    (11): Bottleneck(\n",
              "      (conv1): Conv2d(1024, 256, kernel_size=(1, 1), stride=(1, 1), bias=False)\n",
              "      (bn1): BatchNorm2d(256, eps=1e-05, momentum=0.1, affine=True, track_running_stats=True)\n",
              "      (conv2): Conv2d(256, 256, kernel_size=(3, 3), stride=(1, 1), padding=(1, 1), bias=False)\n",
              "      (bn2): BatchNorm2d(256, eps=1e-05, momentum=0.1, affine=True, track_running_stats=True)\n",
              "      (conv3): Conv2d(256, 1024, kernel_size=(1, 1), stride=(1, 1), bias=False)\n",
              "      (bn3): BatchNorm2d(1024, eps=1e-05, momentum=0.1, affine=True, track_running_stats=True)\n",
              "      (relu): ReLU(inplace=True)\n",
              "    )\n",
              "    (12): Bottleneck(\n",
              "      (conv1): Conv2d(1024, 256, kernel_size=(1, 1), stride=(1, 1), bias=False)\n",
              "      (bn1): BatchNorm2d(256, eps=1e-05, momentum=0.1, affine=True, track_running_stats=True)\n",
              "      (conv2): Conv2d(256, 256, kernel_size=(3, 3), stride=(1, 1), padding=(1, 1), bias=False)\n",
              "      (bn2): BatchNorm2d(256, eps=1e-05, momentum=0.1, affine=True, track_running_stats=True)\n",
              "      (conv3): Conv2d(256, 1024, kernel_size=(1, 1), stride=(1, 1), bias=False)\n",
              "      (bn3): BatchNorm2d(1024, eps=1e-05, momentum=0.1, affine=True, track_running_stats=True)\n",
              "      (relu): ReLU(inplace=True)\n",
              "    )\n",
              "    (13): Bottleneck(\n",
              "      (conv1): Conv2d(1024, 256, kernel_size=(1, 1), stride=(1, 1), bias=False)\n",
              "      (bn1): BatchNorm2d(256, eps=1e-05, momentum=0.1, affine=True, track_running_stats=True)\n",
              "      (conv2): Conv2d(256, 256, kernel_size=(3, 3), stride=(1, 1), padding=(1, 1), bias=False)\n",
              "      (bn2): BatchNorm2d(256, eps=1e-05, momentum=0.1, affine=True, track_running_stats=True)\n",
              "      (conv3): Conv2d(256, 1024, kernel_size=(1, 1), stride=(1, 1), bias=False)\n",
              "      (bn3): BatchNorm2d(1024, eps=1e-05, momentum=0.1, affine=True, track_running_stats=True)\n",
              "      (relu): ReLU(inplace=True)\n",
              "    )\n",
              "    (14): Bottleneck(\n",
              "      (conv1): Conv2d(1024, 256, kernel_size=(1, 1), stride=(1, 1), bias=False)\n",
              "      (bn1): BatchNorm2d(256, eps=1e-05, momentum=0.1, affine=True, track_running_stats=True)\n",
              "      (conv2): Conv2d(256, 256, kernel_size=(3, 3), stride=(1, 1), padding=(1, 1), bias=False)\n",
              "      (bn2): BatchNorm2d(256, eps=1e-05, momentum=0.1, affine=True, track_running_stats=True)\n",
              "      (conv3): Conv2d(256, 1024, kernel_size=(1, 1), stride=(1, 1), bias=False)\n",
              "      (bn3): BatchNorm2d(1024, eps=1e-05, momentum=0.1, affine=True, track_running_stats=True)\n",
              "      (relu): ReLU(inplace=True)\n",
              "    )\n",
              "    (15): Bottleneck(\n",
              "      (conv1): Conv2d(1024, 256, kernel_size=(1, 1), stride=(1, 1), bias=False)\n",
              "      (bn1): BatchNorm2d(256, eps=1e-05, momentum=0.1, affine=True, track_running_stats=True)\n",
              "      (conv2): Conv2d(256, 256, kernel_size=(3, 3), stride=(1, 1), padding=(1, 1), bias=False)\n",
              "      (bn2): BatchNorm2d(256, eps=1e-05, momentum=0.1, affine=True, track_running_stats=True)\n",
              "      (conv3): Conv2d(256, 1024, kernel_size=(1, 1), stride=(1, 1), bias=False)\n",
              "      (bn3): BatchNorm2d(1024, eps=1e-05, momentum=0.1, affine=True, track_running_stats=True)\n",
              "      (relu): ReLU(inplace=True)\n",
              "    )\n",
              "    (16): Bottleneck(\n",
              "      (conv1): Conv2d(1024, 256, kernel_size=(1, 1), stride=(1, 1), bias=False)\n",
              "      (bn1): BatchNorm2d(256, eps=1e-05, momentum=0.1, affine=True, track_running_stats=True)\n",
              "      (conv2): Conv2d(256, 256, kernel_size=(3, 3), stride=(1, 1), padding=(1, 1), bias=False)\n",
              "      (bn2): BatchNorm2d(256, eps=1e-05, momentum=0.1, affine=True, track_running_stats=True)\n",
              "      (conv3): Conv2d(256, 1024, kernel_size=(1, 1), stride=(1, 1), bias=False)\n",
              "      (bn3): BatchNorm2d(1024, eps=1e-05, momentum=0.1, affine=True, track_running_stats=True)\n",
              "      (relu): ReLU(inplace=True)\n",
              "    )\n",
              "    (17): Bottleneck(\n",
              "      (conv1): Conv2d(1024, 256, kernel_size=(1, 1), stride=(1, 1), bias=False)\n",
              "      (bn1): BatchNorm2d(256, eps=1e-05, momentum=0.1, affine=True, track_running_stats=True)\n",
              "      (conv2): Conv2d(256, 256, kernel_size=(3, 3), stride=(1, 1), padding=(1, 1), bias=False)\n",
              "      (bn2): BatchNorm2d(256, eps=1e-05, momentum=0.1, affine=True, track_running_stats=True)\n",
              "      (conv3): Conv2d(256, 1024, kernel_size=(1, 1), stride=(1, 1), bias=False)\n",
              "      (bn3): BatchNorm2d(1024, eps=1e-05, momentum=0.1, affine=True, track_running_stats=True)\n",
              "      (relu): ReLU(inplace=True)\n",
              "    )\n",
              "    (18): Bottleneck(\n",
              "      (conv1): Conv2d(1024, 256, kernel_size=(1, 1), stride=(1, 1), bias=False)\n",
              "      (bn1): BatchNorm2d(256, eps=1e-05, momentum=0.1, affine=True, track_running_stats=True)\n",
              "      (conv2): Conv2d(256, 256, kernel_size=(3, 3), stride=(1, 1), padding=(1, 1), bias=False)\n",
              "      (bn2): BatchNorm2d(256, eps=1e-05, momentum=0.1, affine=True, track_running_stats=True)\n",
              "      (conv3): Conv2d(256, 1024, kernel_size=(1, 1), stride=(1, 1), bias=False)\n",
              "      (bn3): BatchNorm2d(1024, eps=1e-05, momentum=0.1, affine=True, track_running_stats=True)\n",
              "      (relu): ReLU(inplace=True)\n",
              "    )\n",
              "    (19): Bottleneck(\n",
              "      (conv1): Conv2d(1024, 256, kernel_size=(1, 1), stride=(1, 1), bias=False)\n",
              "      (bn1): BatchNorm2d(256, eps=1e-05, momentum=0.1, affine=True, track_running_stats=True)\n",
              "      (conv2): Conv2d(256, 256, kernel_size=(3, 3), stride=(1, 1), padding=(1, 1), bias=False)\n",
              "      (bn2): BatchNorm2d(256, eps=1e-05, momentum=0.1, affine=True, track_running_stats=True)\n",
              "      (conv3): Conv2d(256, 1024, kernel_size=(1, 1), stride=(1, 1), bias=False)\n",
              "      (bn3): BatchNorm2d(1024, eps=1e-05, momentum=0.1, affine=True, track_running_stats=True)\n",
              "      (relu): ReLU(inplace=True)\n",
              "    )\n",
              "    (20): Bottleneck(\n",
              "      (conv1): Conv2d(1024, 256, kernel_size=(1, 1), stride=(1, 1), bias=False)\n",
              "      (bn1): BatchNorm2d(256, eps=1e-05, momentum=0.1, affine=True, track_running_stats=True)\n",
              "      (conv2): Conv2d(256, 256, kernel_size=(3, 3), stride=(1, 1), padding=(1, 1), bias=False)\n",
              "      (bn2): BatchNorm2d(256, eps=1e-05, momentum=0.1, affine=True, track_running_stats=True)\n",
              "      (conv3): Conv2d(256, 1024, kernel_size=(1, 1), stride=(1, 1), bias=False)\n",
              "      (bn3): BatchNorm2d(1024, eps=1e-05, momentum=0.1, affine=True, track_running_stats=True)\n",
              "      (relu): ReLU(inplace=True)\n",
              "    )\n",
              "    (21): Bottleneck(\n",
              "      (conv1): Conv2d(1024, 256, kernel_size=(1, 1), stride=(1, 1), bias=False)\n",
              "      (bn1): BatchNorm2d(256, eps=1e-05, momentum=0.1, affine=True, track_running_stats=True)\n",
              "      (conv2): Conv2d(256, 256, kernel_size=(3, 3), stride=(1, 1), padding=(1, 1), bias=False)\n",
              "      (bn2): BatchNorm2d(256, eps=1e-05, momentum=0.1, affine=True, track_running_stats=True)\n",
              "      (conv3): Conv2d(256, 1024, kernel_size=(1, 1), stride=(1, 1), bias=False)\n",
              "      (bn3): BatchNorm2d(1024, eps=1e-05, momentum=0.1, affine=True, track_running_stats=True)\n",
              "      (relu): ReLU(inplace=True)\n",
              "    )\n",
              "    (22): Bottleneck(\n",
              "      (conv1): Conv2d(1024, 256, kernel_size=(1, 1), stride=(1, 1), bias=False)\n",
              "      (bn1): BatchNorm2d(256, eps=1e-05, momentum=0.1, affine=True, track_running_stats=True)\n",
              "      (conv2): Conv2d(256, 256, kernel_size=(3, 3), stride=(1, 1), padding=(1, 1), bias=False)\n",
              "      (bn2): BatchNorm2d(256, eps=1e-05, momentum=0.1, affine=True, track_running_stats=True)\n",
              "      (conv3): Conv2d(256, 1024, kernel_size=(1, 1), stride=(1, 1), bias=False)\n",
              "      (bn3): BatchNorm2d(1024, eps=1e-05, momentum=0.1, affine=True, track_running_stats=True)\n",
              "      (relu): ReLU(inplace=True)\n",
              "    )\n",
              "    (23): Bottleneck(\n",
              "      (conv1): Conv2d(1024, 256, kernel_size=(1, 1), stride=(1, 1), bias=False)\n",
              "      (bn1): BatchNorm2d(256, eps=1e-05, momentum=0.1, affine=True, track_running_stats=True)\n",
              "      (conv2): Conv2d(256, 256, kernel_size=(3, 3), stride=(1, 1), padding=(1, 1), bias=False)\n",
              "      (bn2): BatchNorm2d(256, eps=1e-05, momentum=0.1, affine=True, track_running_stats=True)\n",
              "      (conv3): Conv2d(256, 1024, kernel_size=(1, 1), stride=(1, 1), bias=False)\n",
              "      (bn3): BatchNorm2d(1024, eps=1e-05, momentum=0.1, affine=True, track_running_stats=True)\n",
              "      (relu): ReLU(inplace=True)\n",
              "    )\n",
              "    (24): Bottleneck(\n",
              "      (conv1): Conv2d(1024, 256, kernel_size=(1, 1), stride=(1, 1), bias=False)\n",
              "      (bn1): BatchNorm2d(256, eps=1e-05, momentum=0.1, affine=True, track_running_stats=True)\n",
              "      (conv2): Conv2d(256, 256, kernel_size=(3, 3), stride=(1, 1), padding=(1, 1), bias=False)\n",
              "      (bn2): BatchNorm2d(256, eps=1e-05, momentum=0.1, affine=True, track_running_stats=True)\n",
              "      (conv3): Conv2d(256, 1024, kernel_size=(1, 1), stride=(1, 1), bias=False)\n",
              "      (bn3): BatchNorm2d(1024, eps=1e-05, momentum=0.1, affine=True, track_running_stats=True)\n",
              "      (relu): ReLU(inplace=True)\n",
              "    )\n",
              "    (25): Bottleneck(\n",
              "      (conv1): Conv2d(1024, 256, kernel_size=(1, 1), stride=(1, 1), bias=False)\n",
              "      (bn1): BatchNorm2d(256, eps=1e-05, momentum=0.1, affine=True, track_running_stats=True)\n",
              "      (conv2): Conv2d(256, 256, kernel_size=(3, 3), stride=(1, 1), padding=(1, 1), bias=False)\n",
              "      (bn2): BatchNorm2d(256, eps=1e-05, momentum=0.1, affine=True, track_running_stats=True)\n",
              "      (conv3): Conv2d(256, 1024, kernel_size=(1, 1), stride=(1, 1), bias=False)\n",
              "      (bn3): BatchNorm2d(1024, eps=1e-05, momentum=0.1, affine=True, track_running_stats=True)\n",
              "      (relu): ReLU(inplace=True)\n",
              "    )\n",
              "    (26): Bottleneck(\n",
              "      (conv1): Conv2d(1024, 256, kernel_size=(1, 1), stride=(1, 1), bias=False)\n",
              "      (bn1): BatchNorm2d(256, eps=1e-05, momentum=0.1, affine=True, track_running_stats=True)\n",
              "      (conv2): Conv2d(256, 256, kernel_size=(3, 3), stride=(1, 1), padding=(1, 1), bias=False)\n",
              "      (bn2): BatchNorm2d(256, eps=1e-05, momentum=0.1, affine=True, track_running_stats=True)\n",
              "      (conv3): Conv2d(256, 1024, kernel_size=(1, 1), stride=(1, 1), bias=False)\n",
              "      (bn3): BatchNorm2d(1024, eps=1e-05, momentum=0.1, affine=True, track_running_stats=True)\n",
              "      (relu): ReLU(inplace=True)\n",
              "    )\n",
              "    (27): Bottleneck(\n",
              "      (conv1): Conv2d(1024, 256, kernel_size=(1, 1), stride=(1, 1), bias=False)\n",
              "      (bn1): BatchNorm2d(256, eps=1e-05, momentum=0.1, affine=True, track_running_stats=True)\n",
              "      (conv2): Conv2d(256, 256, kernel_size=(3, 3), stride=(1, 1), padding=(1, 1), bias=False)\n",
              "      (bn2): BatchNorm2d(256, eps=1e-05, momentum=0.1, affine=True, track_running_stats=True)\n",
              "      (conv3): Conv2d(256, 1024, kernel_size=(1, 1), stride=(1, 1), bias=False)\n",
              "      (bn3): BatchNorm2d(1024, eps=1e-05, momentum=0.1, affine=True, track_running_stats=True)\n",
              "      (relu): ReLU(inplace=True)\n",
              "    )\n",
              "    (28): Bottleneck(\n",
              "      (conv1): Conv2d(1024, 256, kernel_size=(1, 1), stride=(1, 1), bias=False)\n",
              "      (bn1): BatchNorm2d(256, eps=1e-05, momentum=0.1, affine=True, track_running_stats=True)\n",
              "      (conv2): Conv2d(256, 256, kernel_size=(3, 3), stride=(1, 1), padding=(1, 1), bias=False)\n",
              "      (bn2): BatchNorm2d(256, eps=1e-05, momentum=0.1, affine=True, track_running_stats=True)\n",
              "      (conv3): Conv2d(256, 1024, kernel_size=(1, 1), stride=(1, 1), bias=False)\n",
              "      (bn3): BatchNorm2d(1024, eps=1e-05, momentum=0.1, affine=True, track_running_stats=True)\n",
              "      (relu): ReLU(inplace=True)\n",
              "    )\n",
              "    (29): Bottleneck(\n",
              "      (conv1): Conv2d(1024, 256, kernel_size=(1, 1), stride=(1, 1), bias=False)\n",
              "      (bn1): BatchNorm2d(256, eps=1e-05, momentum=0.1, affine=True, track_running_stats=True)\n",
              "      (conv2): Conv2d(256, 256, kernel_size=(3, 3), stride=(1, 1), padding=(1, 1), bias=False)\n",
              "      (bn2): BatchNorm2d(256, eps=1e-05, momentum=0.1, affine=True, track_running_stats=True)\n",
              "      (conv3): Conv2d(256, 1024, kernel_size=(1, 1), stride=(1, 1), bias=False)\n",
              "      (bn3): BatchNorm2d(1024, eps=1e-05, momentum=0.1, affine=True, track_running_stats=True)\n",
              "      (relu): ReLU(inplace=True)\n",
              "    )\n",
              "    (30): Bottleneck(\n",
              "      (conv1): Conv2d(1024, 256, kernel_size=(1, 1), stride=(1, 1), bias=False)\n",
              "      (bn1): BatchNorm2d(256, eps=1e-05, momentum=0.1, affine=True, track_running_stats=True)\n",
              "      (conv2): Conv2d(256, 256, kernel_size=(3, 3), stride=(1, 1), padding=(1, 1), bias=False)\n",
              "      (bn2): BatchNorm2d(256, eps=1e-05, momentum=0.1, affine=True, track_running_stats=True)\n",
              "      (conv3): Conv2d(256, 1024, kernel_size=(1, 1), stride=(1, 1), bias=False)\n",
              "      (bn3): BatchNorm2d(1024, eps=1e-05, momentum=0.1, affine=True, track_running_stats=True)\n",
              "      (relu): ReLU(inplace=True)\n",
              "    )\n",
              "    (31): Bottleneck(\n",
              "      (conv1): Conv2d(1024, 256, kernel_size=(1, 1), stride=(1, 1), bias=False)\n",
              "      (bn1): BatchNorm2d(256, eps=1e-05, momentum=0.1, affine=True, track_running_stats=True)\n",
              "      (conv2): Conv2d(256, 256, kernel_size=(3, 3), stride=(1, 1), padding=(1, 1), bias=False)\n",
              "      (bn2): BatchNorm2d(256, eps=1e-05, momentum=0.1, affine=True, track_running_stats=True)\n",
              "      (conv3): Conv2d(256, 1024, kernel_size=(1, 1), stride=(1, 1), bias=False)\n",
              "      (bn3): BatchNorm2d(1024, eps=1e-05, momentum=0.1, affine=True, track_running_stats=True)\n",
              "      (relu): ReLU(inplace=True)\n",
              "    )\n",
              "    (32): Bottleneck(\n",
              "      (conv1): Conv2d(1024, 256, kernel_size=(1, 1), stride=(1, 1), bias=False)\n",
              "      (bn1): BatchNorm2d(256, eps=1e-05, momentum=0.1, affine=True, track_running_stats=True)\n",
              "      (conv2): Conv2d(256, 256, kernel_size=(3, 3), stride=(1, 1), padding=(1, 1), bias=False)\n",
              "      (bn2): BatchNorm2d(256, eps=1e-05, momentum=0.1, affine=True, track_running_stats=True)\n",
              "      (conv3): Conv2d(256, 1024, kernel_size=(1, 1), stride=(1, 1), bias=False)\n",
              "      (bn3): BatchNorm2d(1024, eps=1e-05, momentum=0.1, affine=True, track_running_stats=True)\n",
              "      (relu): ReLU(inplace=True)\n",
              "    )\n",
              "    (33): Bottleneck(\n",
              "      (conv1): Conv2d(1024, 256, kernel_size=(1, 1), stride=(1, 1), bias=False)\n",
              "      (bn1): BatchNorm2d(256, eps=1e-05, momentum=0.1, affine=True, track_running_stats=True)\n",
              "      (conv2): Conv2d(256, 256, kernel_size=(3, 3), stride=(1, 1), padding=(1, 1), bias=False)\n",
              "      (bn2): BatchNorm2d(256, eps=1e-05, momentum=0.1, affine=True, track_running_stats=True)\n",
              "      (conv3): Conv2d(256, 1024, kernel_size=(1, 1), stride=(1, 1), bias=False)\n",
              "      (bn3): BatchNorm2d(1024, eps=1e-05, momentum=0.1, affine=True, track_running_stats=True)\n",
              "      (relu): ReLU(inplace=True)\n",
              "    )\n",
              "    (34): Bottleneck(\n",
              "      (conv1): Conv2d(1024, 256, kernel_size=(1, 1), stride=(1, 1), bias=False)\n",
              "      (bn1): BatchNorm2d(256, eps=1e-05, momentum=0.1, affine=True, track_running_stats=True)\n",
              "      (conv2): Conv2d(256, 256, kernel_size=(3, 3), stride=(1, 1), padding=(1, 1), bias=False)\n",
              "      (bn2): BatchNorm2d(256, eps=1e-05, momentum=0.1, affine=True, track_running_stats=True)\n",
              "      (conv3): Conv2d(256, 1024, kernel_size=(1, 1), stride=(1, 1), bias=False)\n",
              "      (bn3): BatchNorm2d(1024, eps=1e-05, momentum=0.1, affine=True, track_running_stats=True)\n",
              "      (relu): ReLU(inplace=True)\n",
              "    )\n",
              "    (35): Bottleneck(\n",
              "      (conv1): Conv2d(1024, 256, kernel_size=(1, 1), stride=(1, 1), bias=False)\n",
              "      (bn1): BatchNorm2d(256, eps=1e-05, momentum=0.1, affine=True, track_running_stats=True)\n",
              "      (conv2): Conv2d(256, 256, kernel_size=(3, 3), stride=(1, 1), padding=(1, 1), bias=False)\n",
              "      (bn2): BatchNorm2d(256, eps=1e-05, momentum=0.1, affine=True, track_running_stats=True)\n",
              "      (conv3): Conv2d(256, 1024, kernel_size=(1, 1), stride=(1, 1), bias=False)\n",
              "      (bn3): BatchNorm2d(1024, eps=1e-05, momentum=0.1, affine=True, track_running_stats=True)\n",
              "      (relu): ReLU(inplace=True)\n",
              "    )\n",
              "  )\n",
              "  (layer4): Sequential(\n",
              "    (0): Bottleneck(\n",
              "      (conv1): Conv2d(1024, 512, kernel_size=(1, 1), stride=(1, 1), bias=False)\n",
              "      (bn1): BatchNorm2d(512, eps=1e-05, momentum=0.1, affine=True, track_running_stats=True)\n",
              "      (conv2): Conv2d(512, 512, kernel_size=(3, 3), stride=(2, 2), padding=(1, 1), bias=False)\n",
              "      (bn2): BatchNorm2d(512, eps=1e-05, momentum=0.1, affine=True, track_running_stats=True)\n",
              "      (conv3): Conv2d(512, 2048, kernel_size=(1, 1), stride=(1, 1), bias=False)\n",
              "      (bn3): BatchNorm2d(2048, eps=1e-05, momentum=0.1, affine=True, track_running_stats=True)\n",
              "      (relu): ReLU(inplace=True)\n",
              "      (downsample): Sequential(\n",
              "        (0): Conv2d(1024, 2048, kernel_size=(1, 1), stride=(2, 2), bias=False)\n",
              "        (1): BatchNorm2d(2048, eps=1e-05, momentum=0.1, affine=True, track_running_stats=True)\n",
              "      )\n",
              "    )\n",
              "    (1): Bottleneck(\n",
              "      (conv1): Conv2d(2048, 512, kernel_size=(1, 1), stride=(1, 1), bias=False)\n",
              "      (bn1): BatchNorm2d(512, eps=1e-05, momentum=0.1, affine=True, track_running_stats=True)\n",
              "      (conv2): Conv2d(512, 512, kernel_size=(3, 3), stride=(1, 1), padding=(1, 1), bias=False)\n",
              "      (bn2): BatchNorm2d(512, eps=1e-05, momentum=0.1, affine=True, track_running_stats=True)\n",
              "      (conv3): Conv2d(512, 2048, kernel_size=(1, 1), stride=(1, 1), bias=False)\n",
              "      (bn3): BatchNorm2d(2048, eps=1e-05, momentum=0.1, affine=True, track_running_stats=True)\n",
              "      (relu): ReLU(inplace=True)\n",
              "    )\n",
              "    (2): Bottleneck(\n",
              "      (conv1): Conv2d(2048, 512, kernel_size=(1, 1), stride=(1, 1), bias=False)\n",
              "      (bn1): BatchNorm2d(512, eps=1e-05, momentum=0.1, affine=True, track_running_stats=True)\n",
              "      (conv2): Conv2d(512, 512, kernel_size=(3, 3), stride=(1, 1), padding=(1, 1), bias=False)\n",
              "      (bn2): BatchNorm2d(512, eps=1e-05, momentum=0.1, affine=True, track_running_stats=True)\n",
              "      (conv3): Conv2d(512, 2048, kernel_size=(1, 1), stride=(1, 1), bias=False)\n",
              "      (bn3): BatchNorm2d(2048, eps=1e-05, momentum=0.1, affine=True, track_running_stats=True)\n",
              "      (relu): ReLU(inplace=True)\n",
              "    )\n",
              "  )\n",
              "  (avgpool): AdaptiveAvgPool2d(output_size=(1, 1))\n",
              "  (fc): Linear(in_features=2048, out_features=9, bias=True)\n",
              ")"
            ]
          },
          "metadata": {},
          "execution_count": 9
        }
      ]
    },
    {
      "cell_type": "code",
      "source": [
        "resnet152_losses = train(resnet152, dataloader_2008, val_loader_2008, epochs=5, schedule={0:.01, 1:.001, 3:.0001}, print_every=500)"
      ],
      "metadata": {
        "colab": {
          "base_uri": "https://localhost:8080/"
        },
        "id": "a05k92Fwq_5m",
        "outputId": "71d075d0-de3f-4573-8ab3-e63d00c31a37"
      },
      "execution_count": null,
      "outputs": [
        {
          "output_type": "stream",
          "name": "stdout",
          "text": [
            "Learning rate: 0.010000\n"
          ]
        },
        {
          "output_type": "stream",
          "name": "stderr",
          "text": [
            " 14%|█▎        | 500/3680 [03:38<23:14,  2.28it/s]"
          ]
        },
        {
          "output_type": "stream",
          "name": "stdout",
          "text": [
            "[0,   500] loss: 1.138\n"
          ]
        },
        {
          "output_type": "stream",
          "name": "stderr",
          "text": [
            " 27%|██▋       | 1000/3680 [07:17<19:39,  2.27it/s]"
          ]
        },
        {
          "output_type": "stream",
          "name": "stdout",
          "text": [
            "[0,  1000] loss: 0.812\n"
          ]
        },
        {
          "output_type": "stream",
          "name": "stderr",
          "text": [
            " 41%|████      | 1500/3680 [10:55<15:52,  2.29it/s]"
          ]
        },
        {
          "output_type": "stream",
          "name": "stdout",
          "text": [
            "[0,  1500] loss: 0.730\n"
          ]
        },
        {
          "output_type": "stream",
          "name": "stderr",
          "text": [
            " 54%|█████▍    | 2000/3680 [14:33<12:13,  2.29it/s]"
          ]
        },
        {
          "output_type": "stream",
          "name": "stdout",
          "text": [
            "[0,  2000] loss: 0.665\n"
          ]
        },
        {
          "output_type": "stream",
          "name": "stderr",
          "text": [
            " 68%|██████▊   | 2500/3680 [18:11<08:36,  2.28it/s]"
          ]
        },
        {
          "output_type": "stream",
          "name": "stdout",
          "text": [
            "[0,  2500] loss: 0.652\n"
          ]
        },
        {
          "output_type": "stream",
          "name": "stderr",
          "text": [
            " 82%|████████▏ | 3000/3680 [21:50<04:57,  2.29it/s]"
          ]
        },
        {
          "output_type": "stream",
          "name": "stdout",
          "text": [
            "[0,  3000] loss: 0.690\n"
          ]
        },
        {
          "output_type": "stream",
          "name": "stderr",
          "text": [
            " 95%|█████████▌| 3500/3680 [25:29<01:18,  2.28it/s]"
          ]
        },
        {
          "output_type": "stream",
          "name": "stdout",
          "text": [
            "[0,  3500] loss: 0.652\n"
          ]
        },
        {
          "output_type": "stream",
          "name": "stderr",
          "text": [
            "100%|██████████| 3680/3680 [26:47<00:00,  2.29it/s]\n"
          ]
        },
        {
          "output_type": "stream",
          "name": "stdout",
          "text": [
            "val accuracy:  0.7900168170004587\n",
            "Learning rate: 0.001000\n"
          ]
        },
        {
          "output_type": "stream",
          "name": "stderr",
          "text": [
            " 14%|█▎        | 500/3680 [03:36<22:49,  2.32it/s]"
          ]
        },
        {
          "output_type": "stream",
          "name": "stdout",
          "text": [
            "[1,   500] loss: 0.562\n"
          ]
        },
        {
          "output_type": "stream",
          "name": "stderr",
          "text": [
            " 27%|██▋       | 1000/3680 [07:12<19:16,  2.32it/s]"
          ]
        },
        {
          "output_type": "stream",
          "name": "stdout",
          "text": [
            "[1,  1000] loss: 0.536\n"
          ]
        },
        {
          "output_type": "stream",
          "name": "stderr",
          "text": [
            " 41%|████      | 1500/3680 [10:48<15:40,  2.32it/s]"
          ]
        },
        {
          "output_type": "stream",
          "name": "stdout",
          "text": [
            "[1,  1500] loss: 0.499\n"
          ]
        },
        {
          "output_type": "stream",
          "name": "stderr",
          "text": [
            " 54%|█████▍    | 2000/3680 [14:24<12:05,  2.32it/s]"
          ]
        },
        {
          "output_type": "stream",
          "name": "stdout",
          "text": [
            "[1,  2000] loss: 0.503\n"
          ]
        },
        {
          "output_type": "stream",
          "name": "stderr",
          "text": [
            " 68%|██████▊   | 2500/3680 [18:00<08:29,  2.32it/s]"
          ]
        },
        {
          "output_type": "stream",
          "name": "stdout",
          "text": [
            "[1,  2500] loss: 0.466\n"
          ]
        },
        {
          "output_type": "stream",
          "name": "stderr",
          "text": [
            " 82%|████████▏ | 3000/3680 [21:37<04:53,  2.32it/s]"
          ]
        },
        {
          "output_type": "stream",
          "name": "stdout",
          "text": [
            "[1,  3000] loss: 0.487\n"
          ]
        },
        {
          "output_type": "stream",
          "name": "stderr",
          "text": [
            " 95%|█████████▌| 3500/3680 [25:13<01:17,  2.31it/s]"
          ]
        },
        {
          "output_type": "stream",
          "name": "stdout",
          "text": [
            "[1,  3500] loss: 0.493\n"
          ]
        },
        {
          "output_type": "stream",
          "name": "stderr",
          "text": [
            "100%|██████████| 3680/3680 [26:30<00:00,  2.31it/s]\n"
          ]
        },
        {
          "output_type": "stream",
          "name": "stdout",
          "text": [
            "val accuracy:  0.8290016817000458\n"
          ]
        },
        {
          "output_type": "stream",
          "name": "stderr",
          "text": [
            " 14%|█▎        | 500/3680 [03:35<22:44,  2.33it/s]"
          ]
        },
        {
          "output_type": "stream",
          "name": "stdout",
          "text": [
            "[2,   500] loss: 0.448\n"
          ]
        },
        {
          "output_type": "stream",
          "name": "stderr",
          "text": [
            " 27%|██▋       | 1000/3680 [07:10<19:22,  2.31it/s]"
          ]
        },
        {
          "output_type": "stream",
          "name": "stdout",
          "text": [
            "[2,  1000] loss: 0.441\n"
          ]
        },
        {
          "output_type": "stream",
          "name": "stderr",
          "text": [
            " 41%|████      | 1500/3680 [10:46<15:35,  2.33it/s]"
          ]
        },
        {
          "output_type": "stream",
          "name": "stdout",
          "text": [
            "[2,  1500] loss: 0.448\n"
          ]
        },
        {
          "output_type": "stream",
          "name": "stderr",
          "text": [
            " 54%|█████▍    | 2000/3680 [14:21<12:04,  2.32it/s]"
          ]
        },
        {
          "output_type": "stream",
          "name": "stdout",
          "text": [
            "[2,  2000] loss: 0.443\n"
          ]
        },
        {
          "output_type": "stream",
          "name": "stderr",
          "text": [
            " 68%|██████▊   | 2500/3680 [17:57<08:27,  2.32it/s]"
          ]
        },
        {
          "output_type": "stream",
          "name": "stdout",
          "text": [
            "[2,  2500] loss: 0.437\n"
          ]
        },
        {
          "output_type": "stream",
          "name": "stderr",
          "text": [
            " 82%|████████▏ | 3000/3680 [21:33<04:52,  2.32it/s]"
          ]
        },
        {
          "output_type": "stream",
          "name": "stdout",
          "text": [
            "[2,  3000] loss: 0.448\n"
          ]
        },
        {
          "output_type": "stream",
          "name": "stderr",
          "text": [
            " 95%|█████████▌| 3500/3680 [25:09<01:17,  2.32it/s]"
          ]
        },
        {
          "output_type": "stream",
          "name": "stdout",
          "text": [
            "[2,  3500] loss: 0.451\n"
          ]
        },
        {
          "output_type": "stream",
          "name": "stderr",
          "text": [
            "100%|██████████| 3680/3680 [26:26<00:00,  2.32it/s]\n"
          ]
        },
        {
          "output_type": "stream",
          "name": "stdout",
          "text": [
            "val accuracy:  0.8297660908118025\n",
            "Learning rate: 0.000100\n"
          ]
        },
        {
          "output_type": "stream",
          "name": "stderr",
          "text": [
            " 14%|█▎        | 500/3680 [03:35<22:45,  2.33it/s]"
          ]
        },
        {
          "output_type": "stream",
          "name": "stdout",
          "text": [
            "[3,   500] loss: 0.348\n"
          ]
        },
        {
          "output_type": "stream",
          "name": "stderr",
          "text": [
            " 27%|██▋       | 1000/3680 [07:11<19:15,  2.32it/s]"
          ]
        },
        {
          "output_type": "stream",
          "name": "stdout",
          "text": [
            "[3,  1000] loss: 0.347\n"
          ]
        },
        {
          "output_type": "stream",
          "name": "stderr",
          "text": [
            " 38%|███▊      | 1400/3680 [10:03<16:19,  2.33it/s]"
          ]
        }
      ]
    },
    {
      "cell_type": "code",
      "source": [
        ""
      ],
      "metadata": {
        "colab": {
          "base_uri": "https://localhost:8080/"
        },
        "id": "IYbum0-EmiqI",
        "outputId": "92779a45-6ac1-44e6-8a29-60b5d8b62a3b"
      },
      "execution_count": null,
      "outputs": [
        {
          "output_type": "stream",
          "name": "stdout",
          "text": [
            "              precision    recall  f1-score   support\n",
            "\n",
            "       acrop       0.47      0.41      0.44        22\n",
            "         cca       0.88      0.69      0.77      4346\n",
            "       macro       0.64      0.73      0.68       579\n",
            "       monti       0.12      0.20      0.15        49\n",
            "       pavon       0.24      0.59      0.34        22\n",
            "      pocill       0.75      0.82      0.79       119\n",
            "       porit       0.83      0.82      0.82       753\n",
            "        sand       0.66      0.73      0.69       457\n",
            "        turf       0.26      0.63      0.37       537\n",
            "\n",
            "    accuracy                           0.70      6884\n",
            "   macro avg       0.54      0.62      0.56      6884\n",
            "weighted avg       0.78      0.70      0.73      6884\n",
            "\n"
          ]
        }
      ]
    },
    {
      "cell_type": "code",
      "source": [
        "\n"
      ],
      "metadata": {
        "id": "7lqIU8SplAYs"
      },
      "execution_count": null,
      "outputs": []
    },
    {
      "cell_type": "code",
      "source": [
        "conf_mat = confusion_matrix(truth, preds)\n",
        "conf_mat = conf_mat.astype('float') / conf_mat.sum(axis=1)[:, np.newaxis]\n",
        "\n",
        "sns.heatmap(conf_mat,annot=True, xticklabels=label_list, yticklabels=label_list, cmap=\"YlGnBu\")"
      ],
      "metadata": {
        "colab": {
          "base_uri": "https://localhost:8080/",
          "height": 305
        },
        "id": "PEGJdTkinA7O",
        "outputId": "10fe760e-40df-4f4c-c1a1-f18dc27d32e8"
      },
      "execution_count": null,
      "outputs": [
        {
          "output_type": "execute_result",
          "data": {
            "text/plain": [
              "<matplotlib.axes._subplots.AxesSubplot at 0x7fdcb1fda390>"
            ]
          },
          "metadata": {},
          "execution_count": 92
        },
        {
          "output_type": "display_data",
          "data": {
            "text/plain": [
              "<Figure size 432x288 with 2 Axes>"
            ],
            "image/png": "[encoded data removed]"
          },
          "metadata": {
            "needs_background": "light"
          }
        }
      ]
    },
    {
      "cell_type": "code",
      "source": [
        "plt.plot(smooth(losses,50), 'r-')\n"
      ],
      "metadata": {
        "colab": {
          "base_uri": "https://localhost:8080/",
          "height": 284
        },
        "id": "lPct3EzATUzS",
        "outputId": "c0ac86ae-12bf-4836-cd8d-97256def20ab"
      },
      "execution_count": null,
      "outputs": [
        {
          "output_type": "execute_result",
          "data": {
            "text/plain": [
              "[<matplotlib.lines.Line2D at 0x7fdc5d920890>]"
            ]
          },
          "metadata": {},
          "execution_count": 71
        },
        {
          "output_type": "display_data",
          "data": {
            "text/plain": [
              "<Figure size 432x288 with 1 Axes>"
            ],
            "image/png": "[encoded data removed]"
          },
          "metadata": {
            "needs_background": "light"
          }
        }
      ]
    },
    {
      "cell_type": "code",
      "source": [
        "accuracy(resnet_18, dataloader_2009)"
      ],
      "metadata": {
        "colab": {
          "base_uri": "https://localhost:8080/"
        },
        "id": "xzFU4ZI5Xw-Y",
        "outputId": "c4d44e48-2e2b-49ca-8e6a-c9fe7f5449c0"
      },
      "execution_count": null,
      "outputs": [
        {
          "output_type": "execute_result",
          "data": {
            "text/plain": [
              "0.7067131535196036"
            ]
          },
          "metadata": {},
          "execution_count": 66
        }
      ]
    }
  ]
}